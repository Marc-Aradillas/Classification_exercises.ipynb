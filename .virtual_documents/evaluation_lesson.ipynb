%autosave 0


import pandas as pd

from sklearn.metrics import classification_report


df = pd.DataFrame({'glasses': ['yes', 'no', 'yes', 'yes', 'yes', 'no', 'yes', 'yes', 'no'],
                   'preds': ['yes', 'no', 'yes', 'no', 'yes', 'yes', 'no', 'yes', 'yes']})


df





df.glasses.mode()


df['baseline'] = 'yes'
df





pd.crosstab(df.glasses, df.preds)





pd.crosstab(df.glasses, df.baseline)









