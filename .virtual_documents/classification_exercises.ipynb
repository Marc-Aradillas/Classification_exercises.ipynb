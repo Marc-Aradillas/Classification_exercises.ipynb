


import pandas as pd
import numpy as np
import matplotlib.pyplot as plt
import seaborn as sns

from pydataset import data
from scipy import stats
from env import get_connection


print(sns.get_dataset_names())








df_iris= sns.load_dataset('iris')
df_iris.info()


# this is how to display data from pydataset lib
data('iris').head()


df_iris.head(3)


df_iris.shape


df_iris.columns


df_iris.dtypes


df_iris.describe().T








url = 'https://docs.google.com/spreadsheets/d/1Uhtml8KY19LILuZsrDtlsHHDC9wuDGUSe8LTEwvdI5g/edit?usp=sharing'

export_url = url.replace('/edit?usp=sharing', '/export?format=csv')

df_google = pd.read_csv(export_url)


df_google.head(3)


df_google.shape


df_google.columns.to_list()


df_google.dtypes


df_google.describe().T


df_google.nunique()





# I could get a count of unique values for each variable with an object data type.
for col in df_google.columns:
#     print(col)
    if df_google[col].dtypes == 'object':
        print(f'{col} has {df_google[col].nunique()} unique values.')











df_excel = pd.read_excel('train.xlsx')
df_excel.head()


df_excel_sample = df_excel[:100]
df_excel_sample.head()


df_excel.shape[0]


df_excel.columns[:5]


df_excel.columns.astype('object')


df_excel.dtypes





# PassengerId range
df_excel.PassengerId.max() - df_excel.PassengerId.min()


# Survived range
df_excel.Survived.max() - df_excel.Survived.min()


# Pclass range
df_excel.Pclass.max() - df_excel.Pclass.min()


# Age range
df_excel.Age.max() - df_excel.Age.min()


# SibSp range
df_excel.SibSp.max() - df_excel.SibSp.min()


# Parch range
df_excel.Parch.max() - df_excel.Parch.min()


# Fare range
df_excel.Fare.max() - df_excel.Fare.min()
