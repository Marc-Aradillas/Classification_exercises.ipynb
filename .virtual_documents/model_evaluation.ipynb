





import pandas as pd
from sklearn.metrics import confusion_matrix











tp = 34
tn = 46
fp = 7
fn = 13





accuracy = (tp + tn) / (tp + tn + fp + fn)
recall = tp / (tp + fn)
precision = tp / (tp + fp)


print(accuracy) 
print(recall)
print(precision)


round(recall, 2)


round(precision, 2)








# read in a csv file from lesson using pandas
c3 = pd.read_csv('c3.csv')
c3.actual.value_counts()


#info 
c3.info()


c3.head()





# used columns from actual and model1 assigned to eachother and found the mean
model1_accuracy = (c3.actual == c3.model1).mean()


# used columns from actual and model2 assigned to eachother and found the mean
model2_accuracy = (c3.actual == c3.model2).mean()


# used columns from actual and model3 assigned to eachother and found the mean
model3_accuracy = (c3.actual == c3.model3).mean()


print('model1:', model1_accuracy, '\nmodel2:', model2_accuracy, '\nmodel3:',  model3_accuracy)
print('\n\nAfter finding the mean of values from actual and models, we can determine that Model 1 was most accurate with a 0.95 value return.')








# Reference
'''
accuracy = (tp + tn) / (tp + tn + fp + fn)
recall = tp / (tp + fn)
precision = tp / (tp + fp)
'''


# baseline will be a column of 'Defect' since it was is what the company needs to identify
c3['baseline'] = 'Defect'


# crosstab actual with model1
pd.crosstab(c3.actual, c3.model1)


confusion_matrix(c3.actual, c3.model1,
                 labels = ('No Defect', 'Defect'))


model_accuracy = (c3.model1 == c3.actual).mean()
baseline_accuracy = (c3.baseline == c3.actual).mean()

print(f'   model 1 accuracy: {model_accuracy:.2%}')
print(f'baseline accuracy: {baseline_accuracy:.2%}')


subset = c3[c3.actual == 'Defect']

model_recall = (subset.model1 == subset.actual).mean()
baseline_recall = (subset.baseline == subset.actual).mean()

print(f'   model 1 recall: {model_recall:.2%}')
print(f'baseline recall: {baseline_recall:.2%}')


subset = c3[c3.model1 == 'Defect']
model_precision = (subset.model1 == subset.actual).mean()

subset = c3[c3.baseline == 'Defect']
baseline_precision = (subset.baseline == subset.actual).mean()

print(f'model 1 precision: {model_precision:.2%}')
print(f'baseline precision: {baseline_precision:.2%}')









# crosstab actual with model2
pd.crosstab(c3.actual, c3.model2)


confusion_matrix(c3.actual, c3.model2,
                 labels = ('No Defect', 'Defect'))


model_accuracy = (c3.model2 == c3.actual).mean()
baseline_accuracy = (c3.baseline == c3.actual).mean()

print(f'   model 2 accuracy: {model_accuracy:.2%}')
print(f'baseline accuracy: {baseline_accuracy:.2%}')


subset = c3[c3.actual == 'Defect']

model_recall = (subset.model2 == subset.actual).mean()
baseline_recall = (subset.baseline == subset.actual).mean()

print(f'   model 2 recall: {model_recall:.2%}')
print(f'baseline recall: {baseline_recall:.2%}')


subset = c3[c3.model2 == 'Defect']
model_precision = (subset.model2 == subset.actual).mean()

subset = c3[c3.baseline == 'Defect']
baseline_precision = (subset.baseline == subset.actual).mean()

print(f'model 2 precision: {model_precision:.2%}')
print(f'baseline precision: {baseline_precision:.2%}')









# crosstab actual with model3
pd.crosstab(c3.actual, c3.model3)


confusion_matrix(c3.actual, c3.model3,
                 labels = ('No Defect', 'Defect'))


model_accuracy = (c3.model3 == c3.actual).mean()
baseline_accuracy = (c3.baseline == c3.actual).mean()

print(f'   model 3 accuracy: {model_accuracy:.2%}')
print(f'baseline accuracy: {baseline_accuracy:.2%}')


subset = c3[c3.actual == 'Defect']

model_recall = (subset.model3 == subset.actual).mean()
baseline_recall = (subset.baseline == subset.actual).mean()

print(f'   model 3 recall: {model_recall:.2%}')
print(f'baseline recall: {baseline_recall:.2%}')


subset = c3[c3.model2 == 'Defect']
model_precision = (subset.model2 == subset.actual).mean()

subset = c3[c3.baseline == 'Defect']
baseline_precision = (subset.baseline == subset.actual).mean()

print(f'model 3 precision: {model_precision:.2%}')
print(f'baseline precision: {baseline_precision:.2%}')









df = pd.read_csv('gives_you_paws.csv')
df.info()


df.actual.value_counts()


df['baseline'] = 'dog'








model_accuracy = (df.model1 == df.actual).mean()
baseline_accuracy = (df.baseline == df.actual).mean()

print(f'   model 1 accuracy: {model_accuracy:.2%}')
print(f'baseline accuracy: {baseline_accuracy:.2%}')


subset = df[df.actual == 'dog']

model_recall = (subset.model1 == subset.actual).mean()
baseline_recall = (subset.baseline == subset.actual).mean()

print(f'   model 1 recall: {model_recall:.2%}')
print(f'baseline recall: {baseline_recall:.2%}')


subset = df[df.model1 == 'dog']
model_precision = (subset.model1 == subset.actual).mean()

subset = df[df.baseline == 'dog']
baseline_precision = (subset.baseline == subset.actual).mean()

print(f'model 1 precision: {model_precision:.2%}')
print(f'baseline precision: {baseline_precision:.2%}')






model_accuracy = (df.model2 == df.actual).mean()
baseline_accuracy = (df.baseline == df.actual).mean()

print(f'   model 2 accuracy: {model_accuracy:.2%}')
print(f'baseline accuracy: {baseline_accuracy:.2%}')


subset = df[df.actual == 'dog']

model_recall = (subset.model2 == subset.actual).mean()
baseline_recall = (subset.baseline == subset.actual).mean()

print(f'   model 2 recall: {model_recall:.2%}')
print(f'baseline recall: {baseline_recall:.2%}')


subset = df[df.model2 == 'dog']
model_precision = (subset.model1 == subset.actual).mean()

subset = df[df.baseline == 'dog']
baseline_precision = (subset.baseline == subset.actual).mean()

print(f'model 2 precision: {model_precision:.2%}')
print(f'baseline precision: {baseline_precision:.2%}')





model_accuracy = (df.model3 == df.actual).mean()
baseline_accuracy = (df.baseline == df.actual).mean()

print(f'   model 3 accuracy: {model_accuracy:.2%}')
print(f'baseline accuracy: {baseline_accuracy:.2%}')


subset = df[df.actual == 'dog']

model_recall = (subset.model3 == subset.actual).mean()
baseline_recall = (subset.baseline == subset.actual).mean()

print(f'   model 3 recall: {model_recall:.2%}')
print(f'baseline recall: {baseline_recall:.2%}')


subset = df[df.model3 == 'dog']
model_precision = (subset.model3 == subset.actual).mean()

subset = df[df.baseline == 'dog']
baseline_precision = (subset.baseline == subset.actual).mean()

print(f'model 3 precision: {model_precision:.2%}')
print(f'baseline precision: {baseline_precision:.2%}')





model_accuracy = (df.model4 == df.actual).mean()
baseline_accuracy = (df.baseline == df.actual).mean()

print(f'   model 4 accuracy: {model_accuracy:.2%}')
print(f'baseline accuracy: {baseline_accuracy:.2%}')


subset = df[df.actual == 'dog']

model_recall = (subset.model4 == subset.actual).mean()
baseline_recall = (subset.baseline == subset.actual).mean()

print(f'   model 4 recall: {model_recall:.2%}')
print(f'baseline recall: {baseline_recall:.2%}')


subset = df[df.model4 == 'dog']
model_precision = (subset.model4 == subset.actual).mean()

subset = df[df.baseline == 'dog']
baseline_precision = (subset.baseline == subset.actual).mean()

print(f'model 4 precision: {model_precision:.2%}')
print(f'baseline precision: {baseline_precision:.2%}')






