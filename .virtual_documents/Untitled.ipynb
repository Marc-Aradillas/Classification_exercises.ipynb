import pandas as pd
import numpy as np
import matplotlib.pyplot as plt
import seaborn as sns
import os

from pydataset import data
from scipy import stats
from env import get_connection

# import splitting and imputing functions
from sklearn.model_selection import train_test_split
from sklearn.impute import SimpleImputer

# turn off pink boxes forb demo
import warnings
warnings.filterwarnings("ignore")

# import our own acquire module
import acquire


titanic_df = get_titanic_data()


# rows & columns

titanic_df.shape


# first n rows

titanic_df.head(2)


# Get information about the dataframe: column names, rows, datatypes, non-missing values.

titanic_df.info()


# Get summary statistics for numeric columns.

titanic_df.describe()



# Check out distributions of numeric columns.

num_cols = titanic_df.columns[[titanic_df[col].dtype == 'int64' for col in titanic_df.columns]]
for col in num_cols:
    plt.hist(titanic_df[col])
    plt.title(col)
    plt.show()













