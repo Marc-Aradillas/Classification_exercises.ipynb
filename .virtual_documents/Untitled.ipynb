





import pandas as pd
# from sklearn.metrics import confusion_matrix











tp = 34
tn = 46
fp = 7
fn = 13





accuracy = (tp + tn) / (tp + tn + fp + fn)
recall = tp / (tp + fn)
precision = tp / (tp + fp)


print(accuracy) 
print(recall).round()
print(precision)
















































