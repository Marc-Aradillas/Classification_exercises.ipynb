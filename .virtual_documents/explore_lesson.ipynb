%autosave 0


import pandas as pd
import matplotlib.pyplot as plt
import seaborn as sns

from scipy import stats
from adam_prepare import titanic_pipeline


train, val, test = titanic_pipeline()
train.shape, val.shape, test.shape


train.head()








sns.histplot(data = train, x = 'age', hue ='survived', alpha=0.4)
plt.show()





# we have the distribution of ages for everyone who passed away.
train[train.survived == 0].age 


t_age, p_age = stats.ttest_ind(train[train.survived == 0].age, train[train.survived == 1].age)
t_age, p_age


# we are not going to consider t-value, we are going to evaluate the p-value to continue


def eval_p(p, a =0.05):

    if p < a:

        print(f'The result is significant, we reject the null hypothesis with a p-value of {round(p, 2)}.')

    else:

        print(f'We failed to reject the null hypothesis with a p-value of {round(p, 2)}.')


eval_p(p_age)








train.head()








sns.countplot(data = train, x = 'sex', hue = 'survived')
plt.show()





ss_ct = pd.crosstab(train.sex, train.survived)
ss_ct


sns.heatmap(ss_ct)
plt.show()


chi2, p_ss, degf, expected = stats.chi2_contingency(ss_ct)
eval_p(p_ss)






