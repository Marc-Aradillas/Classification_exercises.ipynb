%autosave 0


import os

import pandas as pd

from env import get_connection





url = 'https://docs.google.com/spreadsheets/d/1_9HqVfodBuR6rJfVb4d36zDesEv4O9GwPI3M7MgX7So/edit?usp=sharing'

export_url = url.replace('/edit?usp=sharing', '/export?format=csv')

pd.read_csv(export_url)





pd.read_excel('stock_performance.xlsx')





db_url = get_connection('chipotle')

query = '''
        SELECT *
        FROM orders
        '''


chip = pd.read_sql(query, db_url)
chip.head()





chip.to_csv('chip.csv', index = 0)





chip_local = pd.read_csv('chip.csv')
chip_local.head()


# Develop a function for saving in your machine

def get_chip():

    filename = 'chip.csv'

    if os.path.isfile(filename):
    
        print('Found your sauce dawg!')
        
        return pd.read_csv(filename)
        
    else:
        
        print('Retieving da sauce!!!')

        url = get_connection('chipotle')
    
        query = '''
                SELECT *
                FROM orders
                '''
        
        chip = pd.read_sql(query, url)
        chip.to_csv(filename, index = 0)
    
        return chip


first_chip = get_chip()
first_chip.head()


second_chip = get_chip()
second_chip.head()





# Use at your own risk!!!
pd.read_clipboard()


!pip install html5lib


# ensure source url is correct for referenced table when using htis method to read in data.

pd.read_html('https://nssdc.gsfc.nasa.gov/planetary/factsheet/')[0]
