{
 "cells": [
  {
   "cell_type": "markdown",
   "id": "5a3cb635-76cb-4886-94e4-cf276dd99883",
   "metadata": {},
   "source": [
    "# Random Forests Exercises"
   ]
  },
  {
   "cell_type": "code",
   "execution_count": 2,
   "id": "36d56f71-d33e-4ace-887f-77fdf0229e33",
   "metadata": {},
   "outputs": [],
   "source": [
    "### libs/mods\n",
    "import numpy as np\n",
    "\n",
    "from sklearn.model_selection import train_test_split\n",
    "from sklearn.ensemble import RandomForestClassifier\n",
    "from sklearn.metrics import classification_report\n",
    "from sklearn.metrics import confusion_matrix\n",
    "\n",
    "\n",
    "import matplotlib.pyplot as plt\n",
    "%matplotlib inline\n",
    "import seaborn as sns"
   ]
  },
  {
   "attachments": {},
   "cell_type": "markdown",
   "id": "b39375c6-d53a-4641-b485-6456e53d1d31",
   "metadata": {},
   "source": [
    "- Fit the Random Forest classifier to your training sample and transform (i.e. make predictions on the training sample) setting the random_state accordingly and setting min_samples_leaf = 1 and max_depth = 10.\n",
    "\n",
    "- Evaluate your results using the model score, confusion matrix, and classification report.\n",
    "\n",
    "- Print and clearly label the following: Accuracy, true positive rate, false positive rate, true negative rate, false negative rate, precision, recall, f1-score, and support.\n",
    "\n",
    "- Run through steps increasing your min_samples_leaf and decreasing your max_depth.\n",
    "\n",
    "- What are the differences in the evaluation metrics? Which performs better on your in-sample data? Why?\n",
    "\n",
    "- After making a few models, which one has the best performance (or closest metrics) on both train and validate?"
   ]
  }
 ],
 "metadata": {
  "kernelspec": {
   "display_name": "Python 3 (ipykernel)",
   "language": "python",
   "name": "python3"
  },
  "language_info": {
   "codemirror_mode": {
    "name": "ipython",
    "version": 3
   },
   "file_extension": ".py",
   "mimetype": "text/x-python",
   "name": "python",
   "nbconvert_exporter": "python",
   "pygments_lexer": "ipython3",
   "version": "3.10.9"
  }
 },
 "nbformat": 4,
 "nbformat_minor": 5
}
