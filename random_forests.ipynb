{
 "cells": [
  {
   "cell_type": "markdown",
   "id": "5a3cb635-76cb-4886-94e4-cf276dd99883",
   "metadata": {},
   "source": [
    "# Random Forests Exercises"
   ]
  },
  {
   "cell_type": "code",
   "execution_count": 1,
   "id": "36d56f71-d33e-4ace-887f-77fdf0229e33",
   "metadata": {},
   "outputs": [
    {
     "name": "stdout",
     "output_type": "stream",
     "text": [
      "Found your sauce my bro\n",
      "Found your sauce my bro\n",
      "Found your sauce my bro\n"
     ]
    }
   ],
   "source": [
    "### libs/mods\n",
    "import numpy as np\n",
    "import pandas as pd\n",
    "\n",
    "from sklearn.model_selection import train_test_split, GridSearchCV \n",
    "from sklearn.ensemble import RandomForestClassifier\n",
    "from sklearn.metrics import classification_report\n",
    "from sklearn.metrics import confusion_matrix\n",
    "from prepare import titanic_pipeline\n",
    "\n",
    "import matplotlib.pyplot as plt\n",
    "%matplotlib inline\n",
    "import seaborn as sns"
   ]
  },
  {
   "cell_type": "code",
   "execution_count": 2,
   "id": "36e0e7d7-9b3a-42ca-90a6-e06c7884a54c",
   "metadata": {},
   "outputs": [],
   "source": [
    "seed = 42"
   ]
  },
  {
   "cell_type": "code",
   "execution_count": 3,
   "id": "c4903ada-5bd3-4fb9-9f58-b0a241a55490",
   "metadata": {},
   "outputs": [
    {
     "name": "stdout",
     "output_type": "stream",
     "text": [
      "Found your sauce my bro\n"
     ]
    },
    {
     "data": {
      "text/plain": [
       "(     survived     sex   age  sibsp  parch     fare  class  embark_town  alone\n",
       " 748         0    male  19.0      1      0  53.1000  First  Southampton      0\n",
       " 45          0    male  29.0      0      0   8.0500  Third  Southampton      1\n",
       " 28          1  female  29.0      0      0   7.8792  Third   Queenstown      1\n",
       " 633         0    male  29.0      0      0   0.0000  First  Southampton      1\n",
       " 403         0    male  28.0      1      0  15.8500  Third  Southampton      0,\n",
       "      survived   sex   age  sibsp  parch     fare   class  embark_town  alone\n",
       " 377         0  male  27.0      0      2  211.500   First    Cherbourg      0\n",
       " 244         0  male  30.0      0      0    7.225   Third    Cherbourg      1\n",
       " 72          0  male  21.0      0      0   73.500  Second  Southampton      1\n",
       " 815         0  male  29.0      0      0    0.000   First  Southampton      1\n",
       " 841         0  male  16.0      0      0   10.500  Second  Southampton      1)"
      ]
     },
     "execution_count": 3,
     "metadata": {},
     "output_type": "execute_result"
    }
   ],
   "source": [
    "train, val, test = titanic_pipeline()\n",
    "train.head(), val.head()"
   ]
  },
  {
   "cell_type": "markdown",
   "id": "636a89f7-0fda-474c-88ba-7593a1783e5f",
   "metadata": {},
   "source": [
    "1. Fit the Random Forest classifier to your training sample and transform (i.e. make predictions on the training sample) setting the random_state accordingly and setting min_samples_leaf = 1 and max_depth = 10."
   ]
  },
  {
   "cell_type": "code",
   "execution_count": 4,
   "id": "42bb38a7-92fb-4130-b1a1-159a000692e8",
   "metadata": {},
   "outputs": [
    {
     "name": "stdin",
     "output_type": "stream",
     "text": [
      " survived\n",
      " survived\n"
     ]
    }
   ],
   "source": [
    "def create_subset(df):\n",
    "    \n",
    "    X = df.drop(columns=input())\n",
    "\n",
    "    y = df.survived\n",
    "\n",
    "    return X, y\n",
    "\n",
    "X_train, y_train = create_subset(train)\n",
    "X_val, y_val = create_subset(val)"
   ]
  },
  {
   "cell_type": "code",
   "execution_count": 5,
   "id": "69a7dd73-4ca9-4541-a2c7-e786bd98ada9",
   "metadata": {},
   "outputs": [
    {
     "data": {
      "text/html": [
       "<div>\n",
       "<style scoped>\n",
       "    .dataframe tbody tr th:only-of-type {\n",
       "        vertical-align: middle;\n",
       "    }\n",
       "\n",
       "    .dataframe tbody tr th {\n",
       "        vertical-align: top;\n",
       "    }\n",
       "\n",
       "    .dataframe thead th {\n",
       "        text-align: right;\n",
       "    }\n",
       "</style>\n",
       "<table border=\"1\" class=\"dataframe\">\n",
       "  <thead>\n",
       "    <tr style=\"text-align: right;\">\n",
       "      <th></th>\n",
       "      <th>sex</th>\n",
       "      <th>age</th>\n",
       "      <th>sibsp</th>\n",
       "      <th>parch</th>\n",
       "      <th>fare</th>\n",
       "      <th>class</th>\n",
       "      <th>embark_town</th>\n",
       "      <th>alone</th>\n",
       "    </tr>\n",
       "  </thead>\n",
       "  <tbody>\n",
       "    <tr>\n",
       "      <th>748</th>\n",
       "      <td>male</td>\n",
       "      <td>19.0</td>\n",
       "      <td>1</td>\n",
       "      <td>0</td>\n",
       "      <td>53.1</td>\n",
       "      <td>First</td>\n",
       "      <td>Southampton</td>\n",
       "      <td>0</td>\n",
       "    </tr>\n",
       "  </tbody>\n",
       "</table>\n",
       "</div>"
      ],
      "text/plain": [
       "      sex   age  sibsp  parch  fare  class  embark_town  alone\n",
       "748  male  19.0      1      0  53.1  First  Southampton      0"
      ]
     },
     "execution_count": 5,
     "metadata": {},
     "output_type": "execute_result"
    }
   ],
   "source": [
    "X_train.head(1)"
   ]
  },
  {
   "cell_type": "code",
   "execution_count": 6,
   "id": "1b5e24e9-6af2-42f5-b733-c3bb2662a5d9",
   "metadata": {},
   "outputs": [
    {
     "data": {
      "text/html": [
       "<div>\n",
       "<style scoped>\n",
       "    .dataframe tbody tr th:only-of-type {\n",
       "        vertical-align: middle;\n",
       "    }\n",
       "\n",
       "    .dataframe tbody tr th {\n",
       "        vertical-align: top;\n",
       "    }\n",
       "\n",
       "    .dataframe thead th {\n",
       "        text-align: right;\n",
       "    }\n",
       "</style>\n",
       "<table border=\"1\" class=\"dataframe\">\n",
       "  <thead>\n",
       "    <tr style=\"text-align: right;\">\n",
       "      <th></th>\n",
       "      <th>sex</th>\n",
       "      <th>age</th>\n",
       "      <th>sibsp</th>\n",
       "      <th>parch</th>\n",
       "      <th>fare</th>\n",
       "      <th>class</th>\n",
       "      <th>embark_town</th>\n",
       "      <th>alone</th>\n",
       "    </tr>\n",
       "  </thead>\n",
       "  <tbody>\n",
       "    <tr>\n",
       "      <th>377</th>\n",
       "      <td>male</td>\n",
       "      <td>27.0</td>\n",
       "      <td>0</td>\n",
       "      <td>2</td>\n",
       "      <td>211.5</td>\n",
       "      <td>First</td>\n",
       "      <td>Cherbourg</td>\n",
       "      <td>0</td>\n",
       "    </tr>\n",
       "  </tbody>\n",
       "</table>\n",
       "</div>"
      ],
      "text/plain": [
       "      sex   age  sibsp  parch   fare  class embark_town  alone\n",
       "377  male  27.0      0      2  211.5  First   Cherbourg      0"
      ]
     },
     "execution_count": 6,
     "metadata": {},
     "output_type": "execute_result"
    }
   ],
   "source": [
    "X_val.head(1)"
   ]
  },
  {
   "cell_type": "code",
   "execution_count": 7,
   "id": "241de803-d288-411f-877b-95b03b740d68",
   "metadata": {},
   "outputs": [
    {
     "data": {
      "text/plain": [
       "748    0\n",
       "Name: survived, dtype: int64"
      ]
     },
     "execution_count": 7,
     "metadata": {},
     "output_type": "execute_result"
    }
   ],
   "source": [
    "y_train.head(1)"
   ]
  },
  {
   "cell_type": "code",
   "execution_count": 8,
   "id": "46122b62-4b6f-4a7e-a9c3-16d4ae74d48e",
   "metadata": {},
   "outputs": [
    {
     "data": {
      "text/plain": [
       "377    0\n",
       "Name: survived, dtype: int64"
      ]
     },
     "execution_count": 8,
     "metadata": {},
     "output_type": "execute_result"
    }
   ],
   "source": [
    "y_val.head(1)"
   ]
  },
  {
   "cell_type": "code",
   "execution_count": 9,
   "id": "a9e6cbcb-bf2b-4404-abd6-a3ba7c95b112",
   "metadata": {},
   "outputs": [
    {
     "data": {
      "text/html": [
       "<div>\n",
       "<style scoped>\n",
       "    .dataframe tbody tr th:only-of-type {\n",
       "        vertical-align: middle;\n",
       "    }\n",
       "\n",
       "    .dataframe tbody tr th {\n",
       "        vertical-align: top;\n",
       "    }\n",
       "\n",
       "    .dataframe thead th {\n",
       "        text-align: right;\n",
       "    }\n",
       "</style>\n",
       "<table border=\"1\" class=\"dataframe\">\n",
       "  <thead>\n",
       "    <tr style=\"text-align: right;\">\n",
       "      <th></th>\n",
       "      <th>age</th>\n",
       "      <th>sibsp</th>\n",
       "      <th>parch</th>\n",
       "      <th>fare</th>\n",
       "      <th>alone</th>\n",
       "      <th>sex_female</th>\n",
       "      <th>sex_male</th>\n",
       "      <th>class_First</th>\n",
       "      <th>class_Second</th>\n",
       "      <th>class_Third</th>\n",
       "      <th>embark_town_Cherbourg</th>\n",
       "      <th>embark_town_Queenstown</th>\n",
       "      <th>embark_town_Southampton</th>\n",
       "    </tr>\n",
       "  </thead>\n",
       "  <tbody>\n",
       "    <tr>\n",
       "      <th>748</th>\n",
       "      <td>19.0</td>\n",
       "      <td>1</td>\n",
       "      <td>0</td>\n",
       "      <td>53.1000</td>\n",
       "      <td>0</td>\n",
       "      <td>0</td>\n",
       "      <td>1</td>\n",
       "      <td>1</td>\n",
       "      <td>0</td>\n",
       "      <td>0</td>\n",
       "      <td>0</td>\n",
       "      <td>0</td>\n",
       "      <td>1</td>\n",
       "    </tr>\n",
       "    <tr>\n",
       "      <th>45</th>\n",
       "      <td>29.0</td>\n",
       "      <td>0</td>\n",
       "      <td>0</td>\n",
       "      <td>8.0500</td>\n",
       "      <td>1</td>\n",
       "      <td>0</td>\n",
       "      <td>1</td>\n",
       "      <td>0</td>\n",
       "      <td>0</td>\n",
       "      <td>1</td>\n",
       "      <td>0</td>\n",
       "      <td>0</td>\n",
       "      <td>1</td>\n",
       "    </tr>\n",
       "    <tr>\n",
       "      <th>28</th>\n",
       "      <td>29.0</td>\n",
       "      <td>0</td>\n",
       "      <td>0</td>\n",
       "      <td>7.8792</td>\n",
       "      <td>1</td>\n",
       "      <td>1</td>\n",
       "      <td>0</td>\n",
       "      <td>0</td>\n",
       "      <td>0</td>\n",
       "      <td>1</td>\n",
       "      <td>0</td>\n",
       "      <td>1</td>\n",
       "      <td>0</td>\n",
       "    </tr>\n",
       "    <tr>\n",
       "      <th>633</th>\n",
       "      <td>29.0</td>\n",
       "      <td>0</td>\n",
       "      <td>0</td>\n",
       "      <td>0.0000</td>\n",
       "      <td>1</td>\n",
       "      <td>0</td>\n",
       "      <td>1</td>\n",
       "      <td>1</td>\n",
       "      <td>0</td>\n",
       "      <td>0</td>\n",
       "      <td>0</td>\n",
       "      <td>0</td>\n",
       "      <td>1</td>\n",
       "    </tr>\n",
       "    <tr>\n",
       "      <th>403</th>\n",
       "      <td>28.0</td>\n",
       "      <td>1</td>\n",
       "      <td>0</td>\n",
       "      <td>15.8500</td>\n",
       "      <td>0</td>\n",
       "      <td>0</td>\n",
       "      <td>1</td>\n",
       "      <td>0</td>\n",
       "      <td>0</td>\n",
       "      <td>1</td>\n",
       "      <td>0</td>\n",
       "      <td>0</td>\n",
       "      <td>1</td>\n",
       "    </tr>\n",
       "  </tbody>\n",
       "</table>\n",
       "</div>"
      ],
      "text/plain": [
       "      age  sibsp  parch     fare  alone  sex_female  sex_male  class_First  \\\n",
       "748  19.0      1      0  53.1000      0           0         1            1   \n",
       "45   29.0      0      0   8.0500      1           0         1            0   \n",
       "28   29.0      0      0   7.8792      1           1         0            0   \n",
       "633  29.0      0      0   0.0000      1           0         1            1   \n",
       "403  28.0      1      0  15.8500      0           0         1            0   \n",
       "\n",
       "     class_Second  class_Third  embark_town_Cherbourg  embark_town_Queenstown  \\\n",
       "748             0            0                      0                       0   \n",
       "45              0            1                      0                       0   \n",
       "28              0            1                      0                       1   \n",
       "633             0            0                      0                       0   \n",
       "403             0            1                      0                       0   \n",
       "\n",
       "     embark_town_Southampton  \n",
       "748                        1  \n",
       "45                         1  \n",
       "28                         0  \n",
       "633                        1  \n",
       "403                        1  "
      ]
     },
     "execution_count": 9,
     "metadata": {},
     "output_type": "execute_result"
    }
   ],
   "source": [
    "X_train = pd.get_dummies(X_train)\n",
    "X_val = pd.get_dummies(X_val)\n",
    "\n",
    "X_train.head()"
   ]
  },
  {
   "cell_type": "code",
   "execution_count": 10,
   "id": "7437cff9-b9e2-4fae-84e3-4bd792f07d32",
   "metadata": {},
   "outputs": [],
   "source": [
    "b = y_train.mode()"
   ]
  },
  {
   "cell_type": "code",
   "execution_count": 11,
   "id": "2fc6932b-0818-42fc-860a-ebf42bfba977",
   "metadata": {},
   "outputs": [
    {
     "data": {
      "text/plain": [
       "0.6163723916532905"
      ]
     },
     "execution_count": 11,
     "metadata": {},
     "output_type": "execute_result"
    }
   ],
   "source": [
    "(y_train == 0).mean()"
   ]
  },
  {
   "cell_type": "code",
   "execution_count": 12,
   "id": "d62c9c5f-749f-490e-a894-16709aa62944",
   "metadata": {},
   "outputs": [
    {
     "data": {
      "text/html": [
       "<style>#sk-container-id-1 {color: black;background-color: white;}#sk-container-id-1 pre{padding: 0;}#sk-container-id-1 div.sk-toggleable {background-color: white;}#sk-container-id-1 label.sk-toggleable__label {cursor: pointer;display: block;width: 100%;margin-bottom: 0;padding: 0.3em;box-sizing: border-box;text-align: center;}#sk-container-id-1 label.sk-toggleable__label-arrow:before {content: \"▸\";float: left;margin-right: 0.25em;color: #696969;}#sk-container-id-1 label.sk-toggleable__label-arrow:hover:before {color: black;}#sk-container-id-1 div.sk-estimator:hover label.sk-toggleable__label-arrow:before {color: black;}#sk-container-id-1 div.sk-toggleable__content {max-height: 0;max-width: 0;overflow: hidden;text-align: left;background-color: #f0f8ff;}#sk-container-id-1 div.sk-toggleable__content pre {margin: 0.2em;color: black;border-radius: 0.25em;background-color: #f0f8ff;}#sk-container-id-1 input.sk-toggleable__control:checked~div.sk-toggleable__content {max-height: 200px;max-width: 100%;overflow: auto;}#sk-container-id-1 input.sk-toggleable__control:checked~label.sk-toggleable__label-arrow:before {content: \"▾\";}#sk-container-id-1 div.sk-estimator input.sk-toggleable__control:checked~label.sk-toggleable__label {background-color: #d4ebff;}#sk-container-id-1 div.sk-label input.sk-toggleable__control:checked~label.sk-toggleable__label {background-color: #d4ebff;}#sk-container-id-1 input.sk-hidden--visually {border: 0;clip: rect(1px 1px 1px 1px);clip: rect(1px, 1px, 1px, 1px);height: 1px;margin: -1px;overflow: hidden;padding: 0;position: absolute;width: 1px;}#sk-container-id-1 div.sk-estimator {font-family: monospace;background-color: #f0f8ff;border: 1px dotted black;border-radius: 0.25em;box-sizing: border-box;margin-bottom: 0.5em;}#sk-container-id-1 div.sk-estimator:hover {background-color: #d4ebff;}#sk-container-id-1 div.sk-parallel-item::after {content: \"\";width: 100%;border-bottom: 1px solid gray;flex-grow: 1;}#sk-container-id-1 div.sk-label:hover label.sk-toggleable__label {background-color: #d4ebff;}#sk-container-id-1 div.sk-serial::before {content: \"\";position: absolute;border-left: 1px solid gray;box-sizing: border-box;top: 0;bottom: 0;left: 50%;z-index: 0;}#sk-container-id-1 div.sk-serial {display: flex;flex-direction: column;align-items: center;background-color: white;padding-right: 0.2em;padding-left: 0.2em;position: relative;}#sk-container-id-1 div.sk-item {position: relative;z-index: 1;}#sk-container-id-1 div.sk-parallel {display: flex;align-items: stretch;justify-content: center;background-color: white;position: relative;}#sk-container-id-1 div.sk-item::before, #sk-container-id-1 div.sk-parallel-item::before {content: \"\";position: absolute;border-left: 1px solid gray;box-sizing: border-box;top: 0;bottom: 0;left: 50%;z-index: -1;}#sk-container-id-1 div.sk-parallel-item {display: flex;flex-direction: column;z-index: 1;position: relative;background-color: white;}#sk-container-id-1 div.sk-parallel-item:first-child::after {align-self: flex-end;width: 50%;}#sk-container-id-1 div.sk-parallel-item:last-child::after {align-self: flex-start;width: 50%;}#sk-container-id-1 div.sk-parallel-item:only-child::after {width: 0;}#sk-container-id-1 div.sk-dashed-wrapped {border: 1px dashed gray;margin: 0 0.4em 0.5em 0.4em;box-sizing: border-box;padding-bottom: 0.4em;background-color: white;}#sk-container-id-1 div.sk-label label {font-family: monospace;font-weight: bold;display: inline-block;line-height: 1.2em;}#sk-container-id-1 div.sk-label-container {text-align: center;}#sk-container-id-1 div.sk-container {/* jupyter's `normalize.less` sets `[hidden] { display: none; }` but bootstrap.min.css set `[hidden] { display: none !important; }` so we also need the `!important` here to be able to override the default hidden behavior on the sphinx rendered scikit-learn.org. See: https://github.com/scikit-learn/scikit-learn/issues/21755 */display: inline-block !important;position: relative;}#sk-container-id-1 div.sk-text-repr-fallback {display: none;}</style><div id=\"sk-container-id-1\" class=\"sk-top-container\"><div class=\"sk-text-repr-fallback\"><pre>RandomForestClassifier(max_depth=10, random_state=42)</pre><b>In a Jupyter environment, please rerun this cell to show the HTML representation or trust the notebook. <br />On GitHub, the HTML representation is unable to render, please try loading this page with nbviewer.org.</b></div><div class=\"sk-container\" hidden><div class=\"sk-item\"><div class=\"sk-estimator sk-toggleable\"><input class=\"sk-toggleable__control sk-hidden--visually\" id=\"sk-estimator-id-1\" type=\"checkbox\" checked><label for=\"sk-estimator-id-1\" class=\"sk-toggleable__label sk-toggleable__label-arrow\">RandomForestClassifier</label><div class=\"sk-toggleable__content\"><pre>RandomForestClassifier(max_depth=10, random_state=42)</pre></div></div></div></div></div>"
      ],
      "text/plain": [
       "RandomForestClassifier(max_depth=10, random_state=42)"
      ]
     },
     "execution_count": 12,
     "metadata": {},
     "output_type": "execute_result"
    }
   ],
   "source": [
    "rf = RandomForestClassifier(min_samples_leaf = 1, max_depth = 10, random_state=42)\n",
    "\n",
    "rf.fit(X_train, y_train)"
   ]
  },
  {
   "cell_type": "code",
   "execution_count": 13,
   "id": "866ff278-3fb0-4d7d-a945-db08ca16a88c",
   "metadata": {},
   "outputs": [
    {
     "data": {
      "text/plain": [
       "array([0, 0, 1, 0, 0])"
      ]
     },
     "execution_count": 13,
     "metadata": {},
     "output_type": "execute_result"
    }
   ],
   "source": [
    "# make prediction on train obeservations\n",
    "y_pred = rf.predict(X_train)\n",
    "y_pred[:5]"
   ]
  },
  {
   "cell_type": "code",
   "execution_count": 14,
   "id": "b51c5663-faf4-4d6e-8ede-1584a2589efc",
   "metadata": {},
   "outputs": [
    {
     "data": {
      "text/plain": [
       "0.9534510433386838"
      ]
     },
     "execution_count": 14,
     "metadata": {},
     "output_type": "execute_result"
    }
   ],
   "source": [
    "rf.score(X_train, y_train)"
   ]
  },
  {
   "cell_type": "code",
   "execution_count": 15,
   "id": "1a1ca3cb-3eaa-40ba-8723-f53754529e1b",
   "metadata": {},
   "outputs": [
    {
     "data": {
      "text/plain": [
       "0.8507462686567164"
      ]
     },
     "execution_count": 15,
     "metadata": {},
     "output_type": "execute_result"
    }
   ],
   "source": [
    "rf.score(X_val, y_val)"
   ]
  },
  {
   "cell_type": "code",
   "execution_count": 16,
   "id": "32362ab8-c390-474c-ba2e-5a77e07ce0d8",
   "metadata": {},
   "outputs": [
    {
     "data": {
      "text/plain": [
       "array([0.20389338, 0.0405496 , 0.04136837, 0.22309533, 0.01848827,\n",
       "       0.15315337, 0.17900005, 0.03284527, 0.01810089, 0.05069173,\n",
       "       0.0153856 , 0.00812321, 0.01530492])"
      ]
     },
     "execution_count": 16,
     "metadata": {},
     "output_type": "execute_result"
    }
   ],
   "source": [
    "rf.feature_importances_"
   ]
  },
  {
   "cell_type": "code",
   "execution_count": 17,
   "id": "9169920b-978e-4d45-b2a6-bcc583e369d2",
   "metadata": {},
   "outputs": [
    {
     "data": {
      "text/html": [
       "<div>\n",
       "<style scoped>\n",
       "    .dataframe tbody tr th:only-of-type {\n",
       "        vertical-align: middle;\n",
       "    }\n",
       "\n",
       "    .dataframe tbody tr th {\n",
       "        vertical-align: top;\n",
       "    }\n",
       "\n",
       "    .dataframe thead th {\n",
       "        text-align: right;\n",
       "    }\n",
       "</style>\n",
       "<table border=\"1\" class=\"dataframe\">\n",
       "  <thead>\n",
       "    <tr style=\"text-align: right;\">\n",
       "      <th></th>\n",
       "      <th>feature</th>\n",
       "      <th>importance</th>\n",
       "    </tr>\n",
       "  </thead>\n",
       "  <tbody>\n",
       "    <tr>\n",
       "      <th>3</th>\n",
       "      <td>fare</td>\n",
       "      <td>0.223095</td>\n",
       "    </tr>\n",
       "    <tr>\n",
       "      <th>0</th>\n",
       "      <td>age</td>\n",
       "      <td>0.203893</td>\n",
       "    </tr>\n",
       "    <tr>\n",
       "      <th>6</th>\n",
       "      <td>sex_male</td>\n",
       "      <td>0.179000</td>\n",
       "    </tr>\n",
       "    <tr>\n",
       "      <th>5</th>\n",
       "      <td>sex_female</td>\n",
       "      <td>0.153153</td>\n",
       "    </tr>\n",
       "    <tr>\n",
       "      <th>9</th>\n",
       "      <td>class_Third</td>\n",
       "      <td>0.050692</td>\n",
       "    </tr>\n",
       "    <tr>\n",
       "      <th>2</th>\n",
       "      <td>parch</td>\n",
       "      <td>0.041368</td>\n",
       "    </tr>\n",
       "    <tr>\n",
       "      <th>1</th>\n",
       "      <td>sibsp</td>\n",
       "      <td>0.040550</td>\n",
       "    </tr>\n",
       "    <tr>\n",
       "      <th>7</th>\n",
       "      <td>class_First</td>\n",
       "      <td>0.032845</td>\n",
       "    </tr>\n",
       "    <tr>\n",
       "      <th>4</th>\n",
       "      <td>alone</td>\n",
       "      <td>0.018488</td>\n",
       "    </tr>\n",
       "    <tr>\n",
       "      <th>8</th>\n",
       "      <td>class_Second</td>\n",
       "      <td>0.018101</td>\n",
       "    </tr>\n",
       "    <tr>\n",
       "      <th>10</th>\n",
       "      <td>embark_town_Cherbourg</td>\n",
       "      <td>0.015386</td>\n",
       "    </tr>\n",
       "    <tr>\n",
       "      <th>12</th>\n",
       "      <td>embark_town_Southampton</td>\n",
       "      <td>0.015305</td>\n",
       "    </tr>\n",
       "    <tr>\n",
       "      <th>11</th>\n",
       "      <td>embark_town_Queenstown</td>\n",
       "      <td>0.008123</td>\n",
       "    </tr>\n",
       "  </tbody>\n",
       "</table>\n",
       "</div>"
      ],
      "text/plain": [
       "                    feature  importance\n",
       "3                      fare    0.223095\n",
       "0                       age    0.203893\n",
       "6                  sex_male    0.179000\n",
       "5                sex_female    0.153153\n",
       "9               class_Third    0.050692\n",
       "2                     parch    0.041368\n",
       "1                     sibsp    0.040550\n",
       "7               class_First    0.032845\n",
       "4                     alone    0.018488\n",
       "8              class_Second    0.018101\n",
       "10    embark_town_Cherbourg    0.015386\n",
       "12  embark_town_Southampton    0.015305\n",
       "11   embark_town_Queenstown    0.008123"
      ]
     },
     "execution_count": 17,
     "metadata": {},
     "output_type": "execute_result"
    }
   ],
   "source": [
    "fi = pd.DataFrame({'feature': X_train.columns,\n",
    "              'importance': rf.feature_importances_})\n",
    "\n",
    "fi.sort_values(by = 'importance', ascending = False)"
   ]
  },
  {
   "cell_type": "markdown",
   "id": "bee2bf17-3c3e-409d-b70c-d59d4fa82d38",
   "metadata": {},
   "source": [
    "2. Evaluate your results using the model score, confusion matrix, and classification report."
   ]
  },
  {
   "cell_type": "code",
   "execution_count": 18,
   "id": "9a3c5952-c336-4a5c-a2e2-0a8dd048ca22",
   "metadata": {},
   "outputs": [
    {
     "name": "stdout",
     "output_type": "stream",
     "text": [
      "Accuracy of Random Forest classifier on training set: 0.95\n",
      "Accuracy of Random Forest classifier on validation set: 0.85\n"
     ]
    }
   ],
   "source": [
    "print('Accuracy of Random Forest classifier on training set: {:.2f}'\n",
    "      .format(rf.score(X_train, y_train)))\n",
    "\n",
    "print('Accuracy of Random Forest classifier on validation set: {:.2f}'\n",
    "      .format(rf.score(X_val, y_val)))"
   ]
  },
  {
   "cell_type": "code",
   "execution_count": 19,
   "id": "cd2fd827-b348-4687-95e5-534f60e5acbc",
   "metadata": {},
   "outputs": [
    {
     "data": {
      "text/html": [
       "<div>\n",
       "<style scoped>\n",
       "    .dataframe tbody tr th:only-of-type {\n",
       "        vertical-align: middle;\n",
       "    }\n",
       "\n",
       "    .dataframe tbody tr th {\n",
       "        vertical-align: top;\n",
       "    }\n",
       "\n",
       "    .dataframe thead th {\n",
       "        text-align: right;\n",
       "    }\n",
       "</style>\n",
       "<table border=\"1\" class=\"dataframe\">\n",
       "  <thead>\n",
       "    <tr style=\"text-align: right;\">\n",
       "      <th></th>\n",
       "      <th>Dead</th>\n",
       "      <th>Survived</th>\n",
       "    </tr>\n",
       "  </thead>\n",
       "  <tbody>\n",
       "    <tr>\n",
       "      <th>Dead</th>\n",
       "      <td>379</td>\n",
       "      <td>5</td>\n",
       "    </tr>\n",
       "    <tr>\n",
       "      <th>Survived</th>\n",
       "      <td>24</td>\n",
       "      <td>215</td>\n",
       "    </tr>\n",
       "  </tbody>\n",
       "</table>\n",
       "</div>"
      ],
      "text/plain": [
       "          Dead  Survived\n",
       "Dead       379         5\n",
       "Survived    24       215"
      ]
     },
     "execution_count": 19,
     "metadata": {},
     "output_type": "execute_result"
    }
   ],
   "source": [
    "y_train = train.survived\n",
    "\n",
    "import pandas as pd\n",
    "\n",
    "labels = sorted(y_train.unique())\n",
    "\n",
    "model = pd.DataFrame(confusion_matrix(y_train, y_pred), index=labels, columns=labels)\n",
    "\n",
    "model.rename(\n",
    "    columns={0: 'Dead', 1: 'Survived'}, index={0: 'Dead', 1: 'Survived'}, inplace=True,)\n",
    "\n",
    "model"
   ]
  },
  {
   "cell_type": "code",
   "execution_count": 20,
   "id": "1bd1b180-88d9-43d5-8f73-69e59131b6d5",
   "metadata": {},
   "outputs": [
    {
     "name": "stdout",
     "output_type": "stream",
     "text": [
      "              precision    recall  f1-score   support\n",
      "\n",
      "           0       0.94      0.99      0.96       384\n",
      "           1       0.98      0.90      0.94       239\n",
      "\n",
      "    accuracy                           0.95       623\n",
      "   macro avg       0.96      0.94      0.95       623\n",
      "weighted avg       0.95      0.95      0.95       623\n",
      "\n"
     ]
    }
   ],
   "source": [
    "print(classification_report(y_train, y_pred))"
   ]
  },
  {
   "cell_type": "markdown",
   "id": "855e9c46-9281-4f60-9554-d6b229382198",
   "metadata": {},
   "source": [
    "3. Print and clearly label the following: Accuracy, true positive rate, false positive rate, true negative rate, false negative rate, precision, recall, f1-score, and support."
   ]
  },
  {
   "cell_type": "code",
   "execution_count": 21,
   "id": "df8e3a57-2c95-4475-a03e-d1975a912450",
   "metadata": {},
   "outputs": [
    {
     "data": {
      "text/html": [
       "<div>\n",
       "<style scoped>\n",
       "    .dataframe tbody tr th:only-of-type {\n",
       "        vertical-align: middle;\n",
       "    }\n",
       "\n",
       "    .dataframe tbody tr th {\n",
       "        vertical-align: top;\n",
       "    }\n",
       "\n",
       "    .dataframe thead th {\n",
       "        text-align: right;\n",
       "    }\n",
       "</style>\n",
       "<table border=\"1\" class=\"dataframe\">\n",
       "  <thead>\n",
       "    <tr style=\"text-align: right;\">\n",
       "      <th></th>\n",
       "      <th>Predicted Positive</th>\n",
       "      <th>Predicted Negative</th>\n",
       "    </tr>\n",
       "    <tr>\n",
       "      <th></th>\n",
       "      <th></th>\n",
       "      <th></th>\n",
       "    </tr>\n",
       "  </thead>\n",
       "  <tbody>\n",
       "    <tr>\n",
       "      <th>Actual Positive</th>\n",
       "      <td>True Positive (TP)</td>\n",
       "      <td>False Negative (FN)</td>\n",
       "    </tr>\n",
       "    <tr>\n",
       "      <th>Actual Negative</th>\n",
       "      <td>False Positive (FP)</td>\n",
       "      <td>True Negative (TN)</td>\n",
       "    </tr>\n",
       "  </tbody>\n",
       "</table>\n",
       "</div>"
      ],
      "text/plain": [
       "                  Predicted Positive   Predicted Negative\n",
       "                                                         \n",
       "Actual Positive   True Positive (TP)  False Negative (FN)\n",
       "Actual Negative  False Positive (FP)   True Negative (TN)"
      ]
     },
     "execution_count": 21,
     "metadata": {},
     "output_type": "execute_result"
    }
   ],
   "source": [
    "data = {\n",
    "    '': ['Actual Positive', 'Actual Negative'] ,\n",
    "    'Predicted Positive': ['True Positive (TP)', 'False Positive (FP)'],\n",
    "    'Predicted Negative': ['False Negative (FN)', 'True Negative (TN)'],\n",
    "}\n",
    "rubric = pd.DataFrame(data)\n",
    "rubric.set_index('', inplace=True)\n",
    "\n",
    "rubric"
   ]
  },
  {
   "cell_type": "code",
   "execution_count": 22,
   "id": "ec8bf26f-9244-46c3-94c0-aa437c109c32",
   "metadata": {},
   "outputs": [
    {
     "data": {
      "text/html": [
       "<div>\n",
       "<style scoped>\n",
       "    .dataframe tbody tr th:only-of-type {\n",
       "        vertical-align: middle;\n",
       "    }\n",
       "\n",
       "    .dataframe tbody tr th {\n",
       "        vertical-align: top;\n",
       "    }\n",
       "\n",
       "    .dataframe thead th {\n",
       "        text-align: right;\n",
       "    }\n",
       "</style>\n",
       "<table border=\"1\" class=\"dataframe\">\n",
       "  <thead>\n",
       "    <tr style=\"text-align: right;\">\n",
       "      <th></th>\n",
       "      <th>Metric</th>\n",
       "      <th>Value</th>\n",
       "    </tr>\n",
       "  </thead>\n",
       "  <tbody>\n",
       "    <tr>\n",
       "      <th>0</th>\n",
       "      <td>Accuracy</td>\n",
       "      <td>(TP + TN) /\\t(TP + TN + FP + FN)</td>\n",
       "    </tr>\n",
       "    <tr>\n",
       "      <th>1</th>\n",
       "      <td>Recall</td>\n",
       "      <td>TP / (TP + FN)</td>\n",
       "    </tr>\n",
       "    <tr>\n",
       "      <th>2</th>\n",
       "      <td>True positive Rate</td>\n",
       "      <td>TP / (TP + FN)</td>\n",
       "    </tr>\n",
       "    <tr>\n",
       "      <th>3</th>\n",
       "      <td>False Positive Rate</td>\n",
       "      <td>FP / (FP + TN)</td>\n",
       "    </tr>\n",
       "    <tr>\n",
       "      <th>4</th>\n",
       "      <td>True Negative Rate</td>\n",
       "      <td>TN / (TN + FP)</td>\n",
       "    </tr>\n",
       "    <tr>\n",
       "      <th>5</th>\n",
       "      <td>False Negative Rate</td>\n",
       "      <td>FN / (FN + TP)</td>\n",
       "    </tr>\n",
       "    <tr>\n",
       "      <th>6</th>\n",
       "      <td>Precision</td>\n",
       "      <td>TP / (TP + FP)</td>\n",
       "    </tr>\n",
       "    <tr>\n",
       "      <th>7</th>\n",
       "      <td>F1-Score</td>\n",
       "      <td>2 * (precision * recall) / (precision + recall)</td>\n",
       "    </tr>\n",
       "    <tr>\n",
       "      <th>8</th>\n",
       "      <td>Support</td>\n",
       "      <td>TP + FN</td>\n",
       "    </tr>\n",
       "  </tbody>\n",
       "</table>\n",
       "</div>"
      ],
      "text/plain": [
       "                Metric                                            Value\n",
       "0             Accuracy                 (TP + TN) /\\t(TP + TN + FP + FN)\n",
       "1               Recall                                   TP / (TP + FN)\n",
       "2   True positive Rate                                   TP / (TP + FN)\n",
       "3  False Positive Rate                                   FP / (FP + TN)\n",
       "4   True Negative Rate                                   TN / (TN + FP)\n",
       "5  False Negative Rate                                   FN / (FN + TP)\n",
       "6            Precision                                   TP / (TP + FP)\n",
       "7             F1-Score  2 * (precision * recall) / (precision + recall)\n",
       "8              Support                                          TP + FN"
      ]
     },
     "execution_count": 22,
     "metadata": {},
     "output_type": "execute_result"
    }
   ],
   "source": [
    "accuracy = '(TP + TN) /\t(TP + TN + FP + FN)'\n",
    "recall = 'TP / (TP + FN)'\n",
    "true_positive_rate = 'TP / (TP + FN)'\n",
    "false_positive_rate = 'FP / (FP + TN)'\n",
    "true_negative_rate = 'TN / (TN + FP)'\n",
    "false_negative_rate = 'FN / (FN + TP)'\n",
    "precision = 'TP / (TP + FP)'\n",
    "f1_score = '2 * (precision * recall) / (precision + recall)'\n",
    "support = 'TP + FN'\n",
    "# Create a pandas DataFrame for the metrics\n",
    "data = {\n",
    "    'Metric': ['Accuracy', 'Recall', 'True positive Rate' ,'False Positive Rate', 'True Negative Rate', 'False Negative Rate', 'Precision', 'F1-Score', 'Support'],\n",
    "    'Value': [accuracy, recall, true_positive_rate ,false_positive_rate, true_negative_rate, false_negative_rate, precision, f1_score, support]\n",
    "}\n",
    "metrics = pd.DataFrame(data)\n",
    "\n",
    "metrics"
   ]
  },
  {
   "cell_type": "code",
   "execution_count": 23,
   "id": "3bd4ea24-2c15-4aee-91de-7c888126db79",
   "metadata": {},
   "outputs": [
    {
     "data": {
      "text/html": [
       "<div>\n",
       "<style scoped>\n",
       "    .dataframe tbody tr th:only-of-type {\n",
       "        vertical-align: middle;\n",
       "    }\n",
       "\n",
       "    .dataframe tbody tr th {\n",
       "        vertical-align: top;\n",
       "    }\n",
       "\n",
       "    .dataframe thead th {\n",
       "        text-align: right;\n",
       "    }\n",
       "</style>\n",
       "<table border=\"1\" class=\"dataframe\">\n",
       "  <thead>\n",
       "    <tr style=\"text-align: right;\">\n",
       "      <th></th>\n",
       "      <th>Dead</th>\n",
       "      <th>Survived</th>\n",
       "    </tr>\n",
       "  </thead>\n",
       "  <tbody>\n",
       "    <tr>\n",
       "      <th>Dead</th>\n",
       "      <td>379</td>\n",
       "      <td>5</td>\n",
       "    </tr>\n",
       "    <tr>\n",
       "      <th>Survived</th>\n",
       "      <td>24</td>\n",
       "      <td>215</td>\n",
       "    </tr>\n",
       "  </tbody>\n",
       "</table>\n",
       "</div>"
      ],
      "text/plain": [
       "          Dead  Survived\n",
       "Dead       379         5\n",
       "Survived    24       215"
      ]
     },
     "execution_count": 23,
     "metadata": {},
     "output_type": "execute_result"
    }
   ],
   "source": [
    "model"
   ]
  },
  {
   "cell_type": "code",
   "execution_count": 24,
   "id": "b5bfa262-0b19-4564-b8f7-dddeae50a443",
   "metadata": {},
   "outputs": [],
   "source": [
    "accuracy = np.round((215 + 379) / (215 + 379 + 5 + 24), 2)\n",
    "\n",
    "recall = np.round(215 / (215 + 24), 4)\n",
    "\n",
    "true_positive_rate = np.round(215 / (215 + 24), 2)\n",
    "\n",
    "false_positive_rate = np.round(5 / (5 + 379), 3)\n",
    "\n",
    "true_negative_rate = np.round(379 / (379 + 5), 2)\n",
    "\n",
    "false_negative_rate = np.round(24 / (24 + 215), 4)\n",
    "\n",
    "precision = np.round(215 / (215 + 5), 2)\n",
    "\n",
    "f1_score = np.round(2 * (precision * recall) / (precision + recall), 2)\n",
    "\n",
    "support_pos = 215 + 379\n",
    "\n",
    "support_neg = 215 - 379"
   ]
  },
  {
   "cell_type": "code",
   "execution_count": 25,
   "id": "880ffe3f-85b7-4fec-b5b6-1b774f74ab41",
   "metadata": {},
   "outputs": [
    {
     "name": "stdout",
     "output_type": "stream",
     "text": [
      "accuracy: 0.95 \n",
      "recall: 0.8996 \n",
      "true_positive_rate: 0.9 \n",
      "false_positive_rate: 0.013 \n",
      "true_negative_rate 0.99 \n",
      "false_negative_rate: 0.1004 \n",
      "precision: 0.98 \n",
      "f1_score: 0.94 \n",
      "support (0): 594 \n",
      "support (-): -164\n"
     ]
    }
   ],
   "source": [
    "print(f'accuracy:', accuracy, '\\nrecall:', recall, '\\ntrue_positive_rate:', true_positive_rate, '\\nfalse_positive_rate:', false_positive_rate, '\\ntrue_negative_rate', true_negative_rate, '\\nfalse_negative_rate:', false_negative_rate, '\\nprecision:', precision, '\\nf1_score:', f1_score, '\\nsupport (0):', support_pos, '\\nsupport (-):', support_neg)\n",
    "      "
   ]
  },
  {
   "cell_type": "markdown",
   "id": "631eea42-8562-4aae-9a8b-fe3cd60d94b4",
   "metadata": {},
   "source": [
    "4. Run through steps increasing your min_samples_leaf and decreasing your max_depth.\n",
    "\n",
    "    -   use a for loop"
   ]
  },
  {
   "cell_type": "code",
   "execution_count": 26,
   "id": "57e201bf-9ddd-415e-af8e-8a78d7b8cd0a",
   "metadata": {},
   "outputs": [
    {
     "name": "stdout",
     "output_type": "stream",
     "text": [
      "Tree with max depth of 5 \n",
      "\n",
      "\n",
      "\n",
      "Minimum samples leaf of 1 \n",
      "\n",
      "              precision    recall  f1-score     support\n",
      "0              0.840749  0.934896  0.885327  384.000000\n",
      "1              0.872449  0.715481  0.786207  239.000000\n",
      "accuracy       0.850722  0.850722  0.850722    0.850722\n",
      "macro avg      0.856599  0.825189  0.835767  623.000000\n",
      "weighted avg   0.852910  0.850722  0.847302  623.000000\n",
      "\n",
      "\n",
      "\n",
      "Tree with max depth of 5 \n",
      "\n",
      "\n",
      "\n",
      "Minimum samples leaf of 2 \n",
      "\n",
      "              precision    recall  f1-score     support\n",
      "0              0.840749  0.934896  0.885327  384.000000\n",
      "1              0.872449  0.715481  0.786207  239.000000\n",
      "accuracy       0.850722  0.850722  0.850722    0.850722\n",
      "macro avg      0.856599  0.825189  0.835767  623.000000\n",
      "weighted avg   0.852910  0.850722  0.847302  623.000000\n",
      "\n",
      "\n",
      "\n",
      "Tree with max depth of 5 \n",
      "\n",
      "\n",
      "\n",
      "Minimum samples leaf of 3 \n",
      "\n",
      "              precision    recall  f1-score     support\n",
      "0              0.838785  0.934896  0.884236  384.000000\n",
      "1              0.871795  0.711297  0.783410  239.000000\n",
      "accuracy       0.849117  0.849117  0.849117    0.849117\n",
      "macro avg      0.855290  0.823096  0.833823  623.000000\n",
      "weighted avg   0.851449  0.849117  0.845557  623.000000\n",
      "\n",
      "\n",
      "\n",
      "Tree with max depth of 5 \n",
      "\n",
      "\n",
      "\n",
      "Minimum samples leaf of 4 \n",
      "\n",
      "              precision    recall  f1-score     support\n",
      "0              0.838785  0.934896  0.884236  384.000000\n",
      "1              0.871795  0.711297  0.783410  239.000000\n",
      "accuracy       0.849117  0.849117  0.849117    0.849117\n",
      "macro avg      0.855290  0.823096  0.833823  623.000000\n",
      "weighted avg   0.851449  0.849117  0.845557  623.000000\n",
      "\n",
      "\n",
      "\n",
      "Tree with max depth of 5 \n",
      "\n",
      "\n",
      "\n",
      "Minimum samples leaf of 5 \n",
      "\n",
      "              precision    recall  f1-score     support\n",
      "0              0.838028  0.929688  0.881481  384.000000\n",
      "1              0.862944  0.711297  0.779817  239.000000\n",
      "accuracy       0.845907  0.845907  0.845907    0.845907\n",
      "macro avg      0.850486  0.820492  0.830649  623.000000\n",
      "weighted avg   0.847587  0.845907  0.842480  623.000000\n",
      "\n",
      "\n",
      "\n",
      "Tree with max depth of 4 \n",
      "\n",
      "\n",
      "\n",
      "Minimum samples leaf of 1 \n",
      "\n",
      "              precision    recall  f1-score     support\n",
      "0              0.838095  0.916667  0.875622  384.000000\n",
      "1              0.842365  0.715481  0.773756  239.000000\n",
      "accuracy       0.839486  0.839486  0.839486    0.839486\n",
      "macro avg      0.840230  0.816074  0.824689  623.000000\n",
      "weighted avg   0.839733  0.839486  0.836543  623.000000\n",
      "\n",
      "\n",
      "\n",
      "Tree with max depth of 4 \n",
      "\n",
      "\n",
      "\n",
      "Minimum samples leaf of 2 \n",
      "\n",
      "              precision    recall  f1-score     support\n",
      "0              0.838095  0.916667  0.875622  384.000000\n",
      "1              0.842365  0.715481  0.773756  239.000000\n",
      "accuracy       0.839486  0.839486  0.839486    0.839486\n",
      "macro avg      0.840230  0.816074  0.824689  623.000000\n",
      "weighted avg   0.839733  0.839486  0.836543  623.000000\n",
      "\n",
      "\n",
      "\n",
      "Tree with max depth of 4 \n",
      "\n",
      "\n",
      "\n",
      "Minimum samples leaf of 3 \n",
      "\n",
      "              precision    recall  f1-score     support\n",
      "0              0.834906  0.921875  0.876238  384.000000\n",
      "1              0.849246  0.707113  0.771689  239.000000\n",
      "accuracy       0.839486  0.839486  0.839486    0.839486\n",
      "macro avg      0.842076  0.814494  0.823964  623.000000\n",
      "weighted avg   0.840407  0.839486  0.836130  623.000000\n",
      "\n",
      "\n",
      "\n",
      "Tree with max depth of 4 \n",
      "\n",
      "\n",
      "\n",
      "Minimum samples leaf of 4 \n",
      "\n",
      "              precision    recall  f1-score     support\n",
      "0              0.833729  0.914062  0.872050  384.000000\n",
      "1              0.836634  0.707113  0.766440  239.000000\n",
      "accuracy       0.834671  0.834671  0.834671    0.834671\n",
      "macro avg      0.835181  0.810588  0.819245  623.000000\n",
      "weighted avg   0.834843  0.834671  0.831535  623.000000\n",
      "\n",
      "\n",
      "\n",
      "Tree with max depth of 4 \n",
      "\n",
      "\n",
      "\n",
      "Minimum samples leaf of 5 \n",
      "\n",
      "              precision    recall  f1-score     support\n",
      "0              0.835714  0.914062  0.873134  384.000000\n",
      "1              0.837438  0.711297  0.769231  239.000000\n",
      "accuracy       0.836276  0.836276  0.836276    0.836276\n",
      "macro avg      0.836576  0.812680  0.821183  623.000000\n",
      "weighted avg   0.836376  0.836276  0.833274  623.000000\n",
      "\n",
      "\n",
      "\n",
      "Tree with max depth of 3 \n",
      "\n",
      "\n",
      "\n",
      "Minimum samples leaf of 1 \n",
      "\n",
      "              precision    recall  f1-score     support\n",
      "0              0.829327  0.898438  0.862500  384.000000\n",
      "1              0.811594  0.702929  0.753363  239.000000\n",
      "accuracy       0.823435  0.823435  0.823435    0.823435\n",
      "macro avg      0.820461  0.800683  0.807932  623.000000\n",
      "weighted avg   0.822524  0.823435  0.820632  623.000000\n",
      "\n",
      "\n",
      "\n",
      "Tree with max depth of 3 \n",
      "\n",
      "\n",
      "\n",
      "Minimum samples leaf of 2 \n",
      "\n",
      "              precision    recall  f1-score    support\n",
      "0              0.829736  0.901042  0.863920  384.00000\n",
      "1              0.815534  0.702929  0.755056  239.00000\n",
      "accuracy       0.825040  0.825040  0.825040    0.82504\n",
      "macro avg      0.822635  0.801985  0.809488  623.00000\n",
      "weighted avg   0.824288  0.825040  0.822157  623.00000\n",
      "\n",
      "\n",
      "\n",
      "Tree with max depth of 3 \n",
      "\n",
      "\n",
      "\n",
      "Minimum samples leaf of 3 \n",
      "\n",
      "              precision    recall  f1-score     support\n",
      "0              0.830144  0.903646  0.865337  384.000000\n",
      "1              0.819512  0.702929  0.756757  239.000000\n",
      "accuracy       0.826645  0.826645  0.826645    0.826645\n",
      "macro avg      0.824828  0.803287  0.811047  623.000000\n",
      "weighted avg   0.826065  0.826645  0.823682  623.000000\n",
      "\n",
      "\n",
      "\n",
      "Tree with max depth of 3 \n",
      "\n",
      "\n",
      "\n",
      "Minimum samples leaf of 4 \n",
      "\n",
      "              precision    recall  f1-score     support\n",
      "0              0.827751  0.901042  0.862843  384.000000\n",
      "1              0.814634  0.698745  0.752252  239.000000\n",
      "accuracy       0.823435  0.823435  0.823435    0.823435\n",
      "macro avg      0.821193  0.799893  0.807548  623.000000\n",
      "weighted avg   0.822719  0.823435  0.820417  623.000000\n",
      "\n",
      "\n",
      "\n",
      "Tree with max depth of 3 \n",
      "\n",
      "\n",
      "\n",
      "Minimum samples leaf of 5 \n",
      "\n",
      "              precision    recall  f1-score    support\n",
      "0              0.826603  0.906250  0.864596  384.00000\n",
      "1              0.821782  0.694561  0.752834  239.00000\n",
      "accuracy       0.825040  0.825040  0.825040    0.82504\n",
      "macro avg      0.824193  0.800405  0.808715  623.00000\n",
      "weighted avg   0.824754  0.825040  0.821721  623.00000\n",
      "\n",
      "\n",
      "\n",
      "Tree with max depth of 2 \n",
      "\n",
      "\n",
      "\n",
      "Minimum samples leaf of 1 \n",
      "\n",
      "              precision    recall  f1-score     support\n",
      "0              0.814815  0.859375  0.836502  384.000000\n",
      "1              0.752294  0.686192  0.717724  239.000000\n",
      "accuracy       0.792937  0.792937  0.792937    0.792937\n",
      "macro avg      0.783554  0.772784  0.777113  623.000000\n",
      "weighted avg   0.790830  0.792937  0.790936  623.000000\n",
      "\n",
      "\n",
      "\n",
      "Tree with max depth of 2 \n",
      "\n",
      "\n",
      "\n",
      "Minimum samples leaf of 2 \n",
      "\n",
      "              precision    recall  f1-score     support\n",
      "0              0.814815  0.859375  0.836502  384.000000\n",
      "1              0.752294  0.686192  0.717724  239.000000\n",
      "accuracy       0.792937  0.792937  0.792937    0.792937\n",
      "macro avg      0.783554  0.772784  0.777113  623.000000\n",
      "weighted avg   0.790830  0.792937  0.790936  623.000000\n",
      "\n",
      "\n",
      "\n",
      "Tree with max depth of 2 \n",
      "\n",
      "\n",
      "\n",
      "Minimum samples leaf of 3 \n",
      "\n",
      "              precision    recall  f1-score     support\n",
      "0              0.814815  0.859375  0.836502  384.000000\n",
      "1              0.752294  0.686192  0.717724  239.000000\n",
      "accuracy       0.792937  0.792937  0.792937    0.792937\n",
      "macro avg      0.783554  0.772784  0.777113  623.000000\n",
      "weighted avg   0.790830  0.792937  0.790936  623.000000\n",
      "\n",
      "\n",
      "\n",
      "Tree with max depth of 2 \n",
      "\n",
      "\n",
      "\n",
      "Minimum samples leaf of 4 \n",
      "\n",
      "              precision    recall  f1-score     support\n",
      "0              0.814815  0.859375  0.836502  384.000000\n",
      "1              0.752294  0.686192  0.717724  239.000000\n",
      "accuracy       0.792937  0.792937  0.792937    0.792937\n",
      "macro avg      0.783554  0.772784  0.777113  623.000000\n",
      "weighted avg   0.790830  0.792937  0.790936  623.000000\n",
      "\n",
      "\n",
      "\n",
      "Tree with max depth of 2 \n",
      "\n",
      "\n",
      "\n",
      "Minimum samples leaf of 5 \n",
      "\n",
      "              precision    recall  f1-score     support\n",
      "0              0.814815  0.859375  0.836502  384.000000\n",
      "1              0.752294  0.686192  0.717724  239.000000\n",
      "accuracy       0.792937  0.792937  0.792937    0.792937\n",
      "macro avg      0.783554  0.772784  0.777113  623.000000\n",
      "weighted avg   0.790830  0.792937  0.790936  623.000000\n",
      "\n",
      "\n",
      "\n"
     ]
    }
   ],
   "source": [
    "for i in reversed(range(2, 6)):\n",
    "    \n",
    "    for n in (range(1, 6)):\n",
    "        \n",
    "        forest = RandomForestClassifier(min_samples_leaf=n, max_depth=i, random_state=42)\n",
    "        forest = forest.fit(X_train, y_train)\n",
    "        y_predictions = forest.predict(X_train)\n",
    "        report = classification_report(y_train, y_predictions, output_dict=True)\n",
    "\n",
    "        print(f'Tree with max depth of {i}', '\\n\\n\\n')\n",
    "        print(f'Minimum samples leaf of {n}', '\\n')\n",
    "        print(pd.DataFrame(report).T)\n",
    "        print('\\n\\n')"
   ]
  },
  {
   "cell_type": "code",
   "execution_count": 27,
   "id": "bc6a4e2f-b3fb-4c49-a10e-f2190920e1d1",
   "metadata": {},
   "outputs": [],
   "source": [
    "seed = 42\n",
    "train_accuracy = []\n",
    "val_accuracy = []\n",
    "depth = []\n",
    "samples = []\n",
    "\n",
    "for i in reversed(range(2, 6)):\n",
    "\n",
    "    for n in range(1, 6):\n",
    "\n",
    "        rf = RandomForestClassifier(min_samples_leaf=n, max_depth=i, random_state = seed)\n",
    "    \n",
    "        rf.fit(X_train, y_train)\n",
    "    \n",
    "        depth.append(i)\n",
    "    \n",
    "        samples.append(n)\n",
    "    \n",
    "        train_accuracy.append(rf.score(X_train, y_train))\n",
    "    \n",
    "        val_accuracy.append(rf.score(X_val, y_val))"
   ]
  },
  {
   "cell_type": "code",
   "execution_count": 30,
   "id": "52e89c3f-6433-4206-ae1b-7397fde9ae78",
   "metadata": {},
   "outputs": [
    {
     "data": {
      "text/html": [
       "<div>\n",
       "<style scoped>\n",
       "    .dataframe tbody tr th:only-of-type {\n",
       "        vertical-align: middle;\n",
       "    }\n",
       "\n",
       "    .dataframe tbody tr th {\n",
       "        vertical-align: top;\n",
       "    }\n",
       "\n",
       "    .dataframe thead th {\n",
       "        text-align: right;\n",
       "    }\n",
       "</style>\n",
       "<table border=\"1\" class=\"dataframe\">\n",
       "  <thead>\n",
       "    <tr style=\"text-align: right;\">\n",
       "      <th></th>\n",
       "      <th>min_samples_leaf</th>\n",
       "      <th>train_accuracy</th>\n",
       "      <th>val_accuracy</th>\n",
       "      <th>max_depth</th>\n",
       "    </tr>\n",
       "  </thead>\n",
       "  <tbody>\n",
       "    <tr>\n",
       "      <th>0</th>\n",
       "      <td>1</td>\n",
       "      <td>0.850722</td>\n",
       "      <td>0.858209</td>\n",
       "      <td>5</td>\n",
       "    </tr>\n",
       "    <tr>\n",
       "      <th>1</th>\n",
       "      <td>2</td>\n",
       "      <td>0.850722</td>\n",
       "      <td>0.858209</td>\n",
       "      <td>5</td>\n",
       "    </tr>\n",
       "    <tr>\n",
       "      <th>2</th>\n",
       "      <td>3</td>\n",
       "      <td>0.849117</td>\n",
       "      <td>0.858209</td>\n",
       "      <td>5</td>\n",
       "    </tr>\n",
       "    <tr>\n",
       "      <th>3</th>\n",
       "      <td>4</td>\n",
       "      <td>0.849117</td>\n",
       "      <td>0.850746</td>\n",
       "      <td>5</td>\n",
       "    </tr>\n",
       "    <tr>\n",
       "      <th>4</th>\n",
       "      <td>5</td>\n",
       "      <td>0.845907</td>\n",
       "      <td>0.858209</td>\n",
       "      <td>5</td>\n",
       "    </tr>\n",
       "    <tr>\n",
       "      <th>5</th>\n",
       "      <td>1</td>\n",
       "      <td>0.839486</td>\n",
       "      <td>0.843284</td>\n",
       "      <td>4</td>\n",
       "    </tr>\n",
       "    <tr>\n",
       "      <th>6</th>\n",
       "      <td>2</td>\n",
       "      <td>0.839486</td>\n",
       "      <td>0.843284</td>\n",
       "      <td>4</td>\n",
       "    </tr>\n",
       "    <tr>\n",
       "      <th>7</th>\n",
       "      <td>3</td>\n",
       "      <td>0.839486</td>\n",
       "      <td>0.843284</td>\n",
       "      <td>4</td>\n",
       "    </tr>\n",
       "    <tr>\n",
       "      <th>8</th>\n",
       "      <td>4</td>\n",
       "      <td>0.834671</td>\n",
       "      <td>0.843284</td>\n",
       "      <td>4</td>\n",
       "    </tr>\n",
       "    <tr>\n",
       "      <th>9</th>\n",
       "      <td>5</td>\n",
       "      <td>0.836276</td>\n",
       "      <td>0.843284</td>\n",
       "      <td>4</td>\n",
       "    </tr>\n",
       "    <tr>\n",
       "      <th>10</th>\n",
       "      <td>1</td>\n",
       "      <td>0.823435</td>\n",
       "      <td>0.843284</td>\n",
       "      <td>3</td>\n",
       "    </tr>\n",
       "    <tr>\n",
       "      <th>11</th>\n",
       "      <td>2</td>\n",
       "      <td>0.825040</td>\n",
       "      <td>0.835821</td>\n",
       "      <td>3</td>\n",
       "    </tr>\n",
       "    <tr>\n",
       "      <th>12</th>\n",
       "      <td>3</td>\n",
       "      <td>0.826645</td>\n",
       "      <td>0.828358</td>\n",
       "      <td>3</td>\n",
       "    </tr>\n",
       "    <tr>\n",
       "      <th>13</th>\n",
       "      <td>4</td>\n",
       "      <td>0.823435</td>\n",
       "      <td>0.828358</td>\n",
       "      <td>3</td>\n",
       "    </tr>\n",
       "    <tr>\n",
       "      <th>14</th>\n",
       "      <td>5</td>\n",
       "      <td>0.825040</td>\n",
       "      <td>0.843284</td>\n",
       "      <td>3</td>\n",
       "    </tr>\n",
       "    <tr>\n",
       "      <th>15</th>\n",
       "      <td>1</td>\n",
       "      <td>0.792937</td>\n",
       "      <td>0.813433</td>\n",
       "      <td>2</td>\n",
       "    </tr>\n",
       "    <tr>\n",
       "      <th>16</th>\n",
       "      <td>2</td>\n",
       "      <td>0.792937</td>\n",
       "      <td>0.813433</td>\n",
       "      <td>2</td>\n",
       "    </tr>\n",
       "    <tr>\n",
       "      <th>17</th>\n",
       "      <td>3</td>\n",
       "      <td>0.792937</td>\n",
       "      <td>0.813433</td>\n",
       "      <td>2</td>\n",
       "    </tr>\n",
       "    <tr>\n",
       "      <th>18</th>\n",
       "      <td>4</td>\n",
       "      <td>0.792937</td>\n",
       "      <td>0.813433</td>\n",
       "      <td>2</td>\n",
       "    </tr>\n",
       "    <tr>\n",
       "      <th>19</th>\n",
       "      <td>5</td>\n",
       "      <td>0.792937</td>\n",
       "      <td>0.813433</td>\n",
       "      <td>2</td>\n",
       "    </tr>\n",
       "  </tbody>\n",
       "</table>\n",
       "</div>"
      ],
      "text/plain": [
       "    min_samples_leaf  train_accuracy  val_accuracy  max_depth\n",
       "0                  1        0.850722      0.858209          5\n",
       "1                  2        0.850722      0.858209          5\n",
       "2                  3        0.849117      0.858209          5\n",
       "3                  4        0.849117      0.850746          5\n",
       "4                  5        0.845907      0.858209          5\n",
       "5                  1        0.839486      0.843284          4\n",
       "6                  2        0.839486      0.843284          4\n",
       "7                  3        0.839486      0.843284          4\n",
       "8                  4        0.834671      0.843284          4\n",
       "9                  5        0.836276      0.843284          4\n",
       "10                 1        0.823435      0.843284          3\n",
       "11                 2        0.825040      0.835821          3\n",
       "12                 3        0.826645      0.828358          3\n",
       "13                 4        0.823435      0.828358          3\n",
       "14                 5        0.825040      0.843284          3\n",
       "15                 1        0.792937      0.813433          2\n",
       "16                 2        0.792937      0.813433          2\n",
       "17                 3        0.792937      0.813433          2\n",
       "18                 4        0.792937      0.813433          2\n",
       "19                 5        0.792937      0.813433          2"
      ]
     },
     "execution_count": 30,
     "metadata": {},
     "output_type": "execute_result"
    }
   ],
   "source": [
    "r_forest = pd.DataFrame({'min_samples_leaf' : samples,\n",
    "                        'train_accuracy' : train_accuracy,\n",
    "                        'val_accuracy' : val_accuracy,\n",
    "                        'max_depth' : depth,})\n",
    "r_forest"
   ]
  },
  {
   "cell_type": "markdown",
   "id": "31997b83-d0d7-4555-9660-59b2ac8d02e1",
   "metadata": {},
   "source": [
    "5. What are the differences in the evaluation metrics? Which performs better on your in-sample data? Why?<br>"
   ]
  },
  {
   "cell_type": "code",
   "execution_count": 31,
   "id": "88b0fc35-0b81-479a-b92e-d7181af611ca",
   "metadata": {},
   "outputs": [
    {
     "name": "stdout",
     "output_type": "stream",
     "text": [
      "Accuracy of Random Forest classifier on training set: 0.79\n",
      "Accuracy of Random Forest classifier on validation set: 0.81\n"
     ]
    }
   ],
   "source": [
    "print('Accuracy of Random Forest classifier on training set: {:.2f}'\n",
    "      .format(rf.score(X_train, y_train)))\n",
    "\n",
    "print('Accuracy of Random Forest classifier on validation set: {:.2f}'\n",
    "      .format(rf.score(X_val, y_val)))"
   ]
  },
  {
   "cell_type": "markdown",
   "id": "5d4e96b1-a0f1-490e-ad51-51cb9d52a1f0",
   "metadata": {},
   "source": [
    "## Adam direcetd:"
   ]
  },
  {
   "cell_type": "code",
   "execution_count": null,
   "id": "488bd933-7654-47f8-a029-276a4e638964",
   "metadata": {},
   "outputs": [],
   "source": [
    "param_grid = {\n",
    "    'max_depth': range(2, 22),\n",
    "    'min_samples_split': [2, 5, 10],\n",
    "    'min_samples_leaf': [1, 2, 4]\n",
    "}\n",
    "\n",
    "grid_search = GridSearchCV(RandomForestClassifier(random_state=seed), param_grid, cv=5)\n",
    "grid_search.fit(X_train, y_train)\n",
    "\n",
    "rf = grid_search.best_estimator_\n",
    "\n",
    "print(param_grid, '\\n\\n')\n",
    "print(rf)"
   ]
  },
  {
   "cell_type": "code",
   "execution_count": null,
   "id": "7af34919-64da-426f-ba61-766602b81a60",
   "metadata": {},
   "outputs": [],
   "source": [
    "print('Accuracy of Random Forest classifier on training set: {:.2f}'\n",
    "      .format(rf.score(X_train, y_train)))\n",
    "\n",
    "print('Accuracy of Random Forest classifier on validation set: {:.2f}'\n",
    "      .format(rf.score(X_val, y_val)))"
   ]
  },
  {
   "cell_type": "markdown",
   "id": "bcd2d4eb-1cbb-464d-8def-e60fbc399956",
   "metadata": {},
   "source": [
    "<br>After making a few models, which one has the best performance (or closest metrics) on both train and validate?\n",
    "    - write in markdown"
   ]
  },
  {
   "cell_type": "markdown",
   "id": "22702be5-5ed1-4d81-8e47-1c0f7f44c3c5",
   "metadata": {},
   "source": [
    "###    **Takeaway(Conclusion):**\n",
    "I generated 20 models when i incremented the depth and decremented the min_samples. I found that when the min_sample leaf reached 1 and the max_depth reached 5 the model generalized well and performed best when calling the accuracy rate for both train and validate."
   ]
  }
 ],
 "metadata": {
  "kernelspec": {
   "display_name": "Python 3 (ipykernel)",
   "language": "python",
   "name": "python3"
  },
  "language_info": {
   "codemirror_mode": {
    "name": "ipython",
    "version": 3
   },
   "file_extension": ".py",
   "mimetype": "text/x-python",
   "name": "python",
   "nbconvert_exporter": "python",
   "pygments_lexer": "ipython3",
   "version": "3.10.9"
  }
 },
 "nbformat": 4,
 "nbformat_minor": 5
}
