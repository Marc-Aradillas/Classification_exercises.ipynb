{
 "cells": [
  {
   "cell_type": "markdown",
   "id": "d42d02be-80df-428f-ae3e-01b42c62f3cb",
   "metadata": {},
   "source": [
    "## **Use a python module (pydata or seaborn datasets) containing datasets as a source from the iris data.**\n",
    "## **Create a pandas dataframe, df_iris, from this data.**"
   ]
  },
  {
   "cell_type": "code",
   "execution_count": null,
   "id": "7ded13c2-0abc-4968-9aa8-9abb8d36eca0",
   "metadata": {},
   "outputs": [],
   "source": [
    "import pandas as pd\n",
    "import pydataset as py"
   ]
  }
 ],
 "metadata": {
  "kernelspec": {
   "display_name": "Python 3 (ipykernel)",
   "language": "python",
   "name": "python3"
  },
  "language_info": {
   "codemirror_mode": {
    "name": "ipython",
    "version": 3
   },
   "file_extension": ".py",
   "mimetype": "text/x-python",
   "name": "python",
   "nbconvert_exporter": "python",
   "pygments_lexer": "ipython3",
   "version": "3.10.9"
  }
 },
 "nbformat": 4,
 "nbformat_minor": 5
}
