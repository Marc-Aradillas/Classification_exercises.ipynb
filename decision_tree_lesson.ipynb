{
 "cells": [
  {
   "cell_type": "code",
   "execution_count": 1,
   "id": "9aa5aae8",
   "metadata": {},
   "outputs": [
    {
     "data": {
      "application/javascript": [
       "IPython.notebook.set_autosave_interval(0)"
      ]
     },
     "metadata": {},
     "output_type": "display_data"
    },
    {
     "name": "stdout",
     "output_type": "stream",
     "text": [
      "Autosave disabled\n"
     ]
    }
   ],
   "source": [
    "%autosave 0"
   ]
  },
  {
   "cell_type": "code",
   "execution_count": 2,
   "id": "0d754604",
   "metadata": {},
   "outputs": [],
   "source": [
    "import pandas as pd\n",
    "import matplotlib.pyplot as plt\n",
    "import seaborn as sns\n",
    "\n",
    "from sklearn.tree import DecisionTreeClassifier\n",
    "from sklearn.metrics import classification_report\n",
    "from sklearn.tree import DecisionTreeClassifier, plot_tree\n",
    "from adam_prepare import titanic_pipeline"
   ]
  },
  {
   "cell_type": "markdown",
   "id": "ee807330",
   "metadata": {},
   "source": [
    "**Let's read in our data using the titanic_pipeline function!**"
   ]
  },
  {
   "cell_type": "code",
   "execution_count": 3,
   "id": "562a89d3",
   "metadata": {},
   "outputs": [],
   "source": [
    "train, val, test = titanic_pipeline()"
   ]
  },
  {
   "cell_type": "markdown",
   "id": "2482f494",
   "metadata": {},
   "source": [
    "Let's take a peek at train. Some of my values are strings. Can (most) machine learning models handle strings?"
   ]
  },
  {
   "cell_type": "code",
   "execution_count": 4,
   "id": "caae0513",
   "metadata": {},
   "outputs": [
    {
     "data": {
      "text/html": [
       "<div>\n",
       "<style scoped>\n",
       "    .dataframe tbody tr th:only-of-type {\n",
       "        vertical-align: middle;\n",
       "    }\n",
       "\n",
       "    .dataframe tbody tr th {\n",
       "        vertical-align: top;\n",
       "    }\n",
       "\n",
       "    .dataframe thead th {\n",
       "        text-align: right;\n",
       "    }\n",
       "</style>\n",
       "<table border=\"1\" class=\"dataframe\">\n",
       "  <thead>\n",
       "    <tr style=\"text-align: right;\">\n",
       "      <th></th>\n",
       "      <th>survived</th>\n",
       "      <th>sex</th>\n",
       "      <th>age</th>\n",
       "      <th>sibsp</th>\n",
       "      <th>parch</th>\n",
       "      <th>fare</th>\n",
       "      <th>class</th>\n",
       "      <th>embark_town</th>\n",
       "      <th>alone</th>\n",
       "    </tr>\n",
       "  </thead>\n",
       "  <tbody>\n",
       "    <tr>\n",
       "      <th>748</th>\n",
       "      <td>0</td>\n",
       "      <td>male</td>\n",
       "      <td>19.0</td>\n",
       "      <td>1</td>\n",
       "      <td>0</td>\n",
       "      <td>53.1000</td>\n",
       "      <td>First</td>\n",
       "      <td>Southampton</td>\n",
       "      <td>0</td>\n",
       "    </tr>\n",
       "    <tr>\n",
       "      <th>45</th>\n",
       "      <td>0</td>\n",
       "      <td>male</td>\n",
       "      <td>29.0</td>\n",
       "      <td>0</td>\n",
       "      <td>0</td>\n",
       "      <td>8.0500</td>\n",
       "      <td>Third</td>\n",
       "      <td>Southampton</td>\n",
       "      <td>1</td>\n",
       "    </tr>\n",
       "    <tr>\n",
       "      <th>28</th>\n",
       "      <td>1</td>\n",
       "      <td>female</td>\n",
       "      <td>29.0</td>\n",
       "      <td>0</td>\n",
       "      <td>0</td>\n",
       "      <td>7.8792</td>\n",
       "      <td>Third</td>\n",
       "      <td>Queenstown</td>\n",
       "      <td>1</td>\n",
       "    </tr>\n",
       "    <tr>\n",
       "      <th>633</th>\n",
       "      <td>0</td>\n",
       "      <td>male</td>\n",
       "      <td>29.0</td>\n",
       "      <td>0</td>\n",
       "      <td>0</td>\n",
       "      <td>0.0000</td>\n",
       "      <td>First</td>\n",
       "      <td>Southampton</td>\n",
       "      <td>1</td>\n",
       "    </tr>\n",
       "    <tr>\n",
       "      <th>403</th>\n",
       "      <td>0</td>\n",
       "      <td>male</td>\n",
       "      <td>28.0</td>\n",
       "      <td>1</td>\n",
       "      <td>0</td>\n",
       "      <td>15.8500</td>\n",
       "      <td>Third</td>\n",
       "      <td>Southampton</td>\n",
       "      <td>0</td>\n",
       "    </tr>\n",
       "  </tbody>\n",
       "</table>\n",
       "</div>"
      ],
      "text/plain": [
       "     survived     sex   age  sibsp  parch     fare  class  embark_town  alone\n",
       "748         0    male  19.0      1      0  53.1000  First  Southampton      0\n",
       "45          0    male  29.0      0      0   8.0500  Third  Southampton      1\n",
       "28          1  female  29.0      0      0   7.8792  Third   Queenstown      1\n",
       "633         0    male  29.0      0      0   0.0000  First  Southampton      1\n",
       "403         0    male  28.0      1      0  15.8500  Third  Southampton      0"
      ]
     },
     "execution_count": 4,
     "metadata": {},
     "output_type": "execute_result"
    }
   ],
   "source": [
    "train.head()"
   ]
  },
  {
   "cell_type": "markdown",
   "id": "72d5b057",
   "metadata": {},
   "source": [
    "**We need to determine a way to meaningfully encode our string values.**\n",
    "\n",
    "**We will use** [pd.get_dummies](https://pandas.pydata.org/docs/reference/api/pandas.get_dummies.html) **to** [one-hot encode](https://machinelearningmastery.com/why-one-hot-encode-data-in-machine-learning/) **our categorical columns.**"
   ]
  },
  {
   "cell_type": "code",
   "execution_count": 5,
   "id": "1812c515",
   "metadata": {},
   "outputs": [
    {
     "data": {
      "text/html": [
       "<div>\n",
       "<style scoped>\n",
       "    .dataframe tbody tr th:only-of-type {\n",
       "        vertical-align: middle;\n",
       "    }\n",
       "\n",
       "    .dataframe tbody tr th {\n",
       "        vertical-align: top;\n",
       "    }\n",
       "\n",
       "    .dataframe thead th {\n",
       "        text-align: right;\n",
       "    }\n",
       "</style>\n",
       "<table border=\"1\" class=\"dataframe\">\n",
       "  <thead>\n",
       "    <tr style=\"text-align: right;\">\n",
       "      <th></th>\n",
       "      <th>survived</th>\n",
       "      <th>age</th>\n",
       "      <th>sibsp</th>\n",
       "      <th>parch</th>\n",
       "      <th>fare</th>\n",
       "      <th>alone</th>\n",
       "      <th>sex_male</th>\n",
       "      <th>class_First</th>\n",
       "      <th>class_Second</th>\n",
       "      <th>class_Third</th>\n",
       "      <th>embark_town_Cherbourg</th>\n",
       "      <th>embark_town_Queenstown</th>\n",
       "      <th>embark_town_Southampton</th>\n",
       "    </tr>\n",
       "  </thead>\n",
       "  <tbody>\n",
       "    <tr>\n",
       "      <th>748</th>\n",
       "      <td>0</td>\n",
       "      <td>19.0</td>\n",
       "      <td>1</td>\n",
       "      <td>0</td>\n",
       "      <td>53.1000</td>\n",
       "      <td>0</td>\n",
       "      <td>1</td>\n",
       "      <td>1</td>\n",
       "      <td>0</td>\n",
       "      <td>0</td>\n",
       "      <td>0</td>\n",
       "      <td>0</td>\n",
       "      <td>1</td>\n",
       "    </tr>\n",
       "    <tr>\n",
       "      <th>45</th>\n",
       "      <td>0</td>\n",
       "      <td>29.0</td>\n",
       "      <td>0</td>\n",
       "      <td>0</td>\n",
       "      <td>8.0500</td>\n",
       "      <td>1</td>\n",
       "      <td>1</td>\n",
       "      <td>0</td>\n",
       "      <td>0</td>\n",
       "      <td>1</td>\n",
       "      <td>0</td>\n",
       "      <td>0</td>\n",
       "      <td>1</td>\n",
       "    </tr>\n",
       "    <tr>\n",
       "      <th>28</th>\n",
       "      <td>1</td>\n",
       "      <td>29.0</td>\n",
       "      <td>0</td>\n",
       "      <td>0</td>\n",
       "      <td>7.8792</td>\n",
       "      <td>1</td>\n",
       "      <td>0</td>\n",
       "      <td>0</td>\n",
       "      <td>0</td>\n",
       "      <td>1</td>\n",
       "      <td>0</td>\n",
       "      <td>1</td>\n",
       "      <td>0</td>\n",
       "    </tr>\n",
       "    <tr>\n",
       "      <th>633</th>\n",
       "      <td>0</td>\n",
       "      <td>29.0</td>\n",
       "      <td>0</td>\n",
       "      <td>0</td>\n",
       "      <td>0.0000</td>\n",
       "      <td>1</td>\n",
       "      <td>1</td>\n",
       "      <td>1</td>\n",
       "      <td>0</td>\n",
       "      <td>0</td>\n",
       "      <td>0</td>\n",
       "      <td>0</td>\n",
       "      <td>1</td>\n",
       "    </tr>\n",
       "    <tr>\n",
       "      <th>403</th>\n",
       "      <td>0</td>\n",
       "      <td>28.0</td>\n",
       "      <td>1</td>\n",
       "      <td>0</td>\n",
       "      <td>15.8500</td>\n",
       "      <td>0</td>\n",
       "      <td>1</td>\n",
       "      <td>0</td>\n",
       "      <td>0</td>\n",
       "      <td>1</td>\n",
       "      <td>0</td>\n",
       "      <td>0</td>\n",
       "      <td>1</td>\n",
       "    </tr>\n",
       "  </tbody>\n",
       "</table>\n",
       "</div>"
      ],
      "text/plain": [
       "     survived   age  sibsp  parch     fare  alone  sex_male  class_First  \\\n",
       "748         0  19.0      1      0  53.1000      0         1            1   \n",
       "45          0  29.0      0      0   8.0500      1         1            0   \n",
       "28          1  29.0      0      0   7.8792      1         0            0   \n",
       "633         0  29.0      0      0   0.0000      1         1            1   \n",
       "403         0  28.0      1      0  15.8500      0         1            0   \n",
       "\n",
       "     class_Second  class_Third  embark_town_Cherbourg  embark_town_Queenstown  \\\n",
       "748             0            0                      0                       0   \n",
       "45              0            1                      0                       0   \n",
       "28              0            1                      0                       1   \n",
       "633             0            0                      0                       0   \n",
       "403             0            1                      0                       0   \n",
       "\n",
       "     embark_town_Southampton  \n",
       "748                        1  \n",
       "45                         1  \n",
       "28                         0  \n",
       "633                        1  \n",
       "403                        1  "
      ]
     },
     "execution_count": 5,
     "metadata": {},
     "output_type": "execute_result"
    }
   ],
   "source": [
    "train = pd.get_dummies(train, columns = ['sex'], drop_first = True)\n",
    "train = pd.get_dummies(train, columns = ['class', 'embark_town'])\n",
    "train.head()"
   ]
  },
  {
   "cell_type": "code",
   "execution_count": 6,
   "id": "66f5c25e-6477-4b66-9615-8cae65d6ec79",
   "metadata": {},
   "outputs": [
    {
     "data": {
      "text/plain": [
       "((623, 13), (134, 9))"
      ]
     },
     "execution_count": 6,
     "metadata": {},
     "output_type": "execute_result"
    }
   ],
   "source": [
    "train.shape, val.shape"
   ]
  },
  {
   "cell_type": "code",
   "execution_count": 7,
   "id": "4e9f81a0-675e-4ce5-9075-aefcdc0f436b",
   "metadata": {},
   "outputs": [
    {
     "data": {
      "text/html": [
       "<div>\n",
       "<style scoped>\n",
       "    .dataframe tbody tr th:only-of-type {\n",
       "        vertical-align: middle;\n",
       "    }\n",
       "\n",
       "    .dataframe tbody tr th {\n",
       "        vertical-align: top;\n",
       "    }\n",
       "\n",
       "    .dataframe thead th {\n",
       "        text-align: right;\n",
       "    }\n",
       "</style>\n",
       "<table border=\"1\" class=\"dataframe\">\n",
       "  <thead>\n",
       "    <tr style=\"text-align: right;\">\n",
       "      <th></th>\n",
       "      <th>survived</th>\n",
       "      <th>age</th>\n",
       "      <th>sibsp</th>\n",
       "      <th>parch</th>\n",
       "      <th>fare</th>\n",
       "      <th>alone</th>\n",
       "      <th>sex_male</th>\n",
       "      <th>class_First</th>\n",
       "      <th>class_Second</th>\n",
       "      <th>class_Third</th>\n",
       "      <th>embark_town_Cherbourg</th>\n",
       "      <th>embark_town_Queenstown</th>\n",
       "      <th>embark_town_Southampton</th>\n",
       "    </tr>\n",
       "  </thead>\n",
       "  <tbody>\n",
       "    <tr>\n",
       "      <th>377</th>\n",
       "      <td>0</td>\n",
       "      <td>27.0</td>\n",
       "      <td>0</td>\n",
       "      <td>2</td>\n",
       "      <td>211.500</td>\n",
       "      <td>0</td>\n",
       "      <td>1</td>\n",
       "      <td>1</td>\n",
       "      <td>0</td>\n",
       "      <td>0</td>\n",
       "      <td>1</td>\n",
       "      <td>0</td>\n",
       "      <td>0</td>\n",
       "    </tr>\n",
       "    <tr>\n",
       "      <th>244</th>\n",
       "      <td>0</td>\n",
       "      <td>30.0</td>\n",
       "      <td>0</td>\n",
       "      <td>0</td>\n",
       "      <td>7.225</td>\n",
       "      <td>1</td>\n",
       "      <td>1</td>\n",
       "      <td>0</td>\n",
       "      <td>0</td>\n",
       "      <td>1</td>\n",
       "      <td>1</td>\n",
       "      <td>0</td>\n",
       "      <td>0</td>\n",
       "    </tr>\n",
       "    <tr>\n",
       "      <th>72</th>\n",
       "      <td>0</td>\n",
       "      <td>21.0</td>\n",
       "      <td>0</td>\n",
       "      <td>0</td>\n",
       "      <td>73.500</td>\n",
       "      <td>1</td>\n",
       "      <td>1</td>\n",
       "      <td>0</td>\n",
       "      <td>1</td>\n",
       "      <td>0</td>\n",
       "      <td>0</td>\n",
       "      <td>0</td>\n",
       "      <td>1</td>\n",
       "    </tr>\n",
       "    <tr>\n",
       "      <th>815</th>\n",
       "      <td>0</td>\n",
       "      <td>29.0</td>\n",
       "      <td>0</td>\n",
       "      <td>0</td>\n",
       "      <td>0.000</td>\n",
       "      <td>1</td>\n",
       "      <td>1</td>\n",
       "      <td>1</td>\n",
       "      <td>0</td>\n",
       "      <td>0</td>\n",
       "      <td>0</td>\n",
       "      <td>0</td>\n",
       "      <td>1</td>\n",
       "    </tr>\n",
       "    <tr>\n",
       "      <th>841</th>\n",
       "      <td>0</td>\n",
       "      <td>16.0</td>\n",
       "      <td>0</td>\n",
       "      <td>0</td>\n",
       "      <td>10.500</td>\n",
       "      <td>1</td>\n",
       "      <td>1</td>\n",
       "      <td>0</td>\n",
       "      <td>1</td>\n",
       "      <td>0</td>\n",
       "      <td>0</td>\n",
       "      <td>0</td>\n",
       "      <td>1</td>\n",
       "    </tr>\n",
       "  </tbody>\n",
       "</table>\n",
       "</div>"
      ],
      "text/plain": [
       "     survived   age  sibsp  parch     fare  alone  sex_male  class_First  \\\n",
       "377         0  27.0      0      2  211.500      0         1            1   \n",
       "244         0  30.0      0      0    7.225      1         1            0   \n",
       "72          0  21.0      0      0   73.500      1         1            0   \n",
       "815         0  29.0      0      0    0.000      1         1            1   \n",
       "841         0  16.0      0      0   10.500      1         1            0   \n",
       "\n",
       "     class_Second  class_Third  embark_town_Cherbourg  embark_town_Queenstown  \\\n",
       "377             0            0                      1                       0   \n",
       "244             0            1                      1                       0   \n",
       "72              1            0                      0                       0   \n",
       "815             0            0                      0                       0   \n",
       "841             1            0                      0                       0   \n",
       "\n",
       "     embark_town_Southampton  \n",
       "377                        0  \n",
       "244                        0  \n",
       "72                         1  \n",
       "815                        1  \n",
       "841                        1  "
      ]
     },
     "execution_count": 7,
     "metadata": {},
     "output_type": "execute_result"
    }
   ],
   "source": [
    "val = pd.get_dummies(val, columns = ['sex'], drop_first = True)\n",
    "val = pd.get_dummies(val, columns = ['class', 'embark_town'])\n",
    "val.head()"
   ]
  },
  {
   "cell_type": "markdown",
   "id": "9981fe8f-226c-409a-ad67-e4a6507efdd0",
   "metadata": {},
   "source": [
    "**Let's make sure train and val have the same number of columns!**"
   ]
  },
  {
   "cell_type": "code",
   "execution_count": 8,
   "id": "a4c2cfe0-5b9d-447c-b2d0-8792b50eaa32",
   "metadata": {},
   "outputs": [
    {
     "data": {
      "text/plain": [
       "((623, 13), (134, 13))"
      ]
     },
     "execution_count": 8,
     "metadata": {},
     "output_type": "execute_result"
    }
   ],
   "source": [
    "train.shape, val.shape"
   ]
  },
  {
   "cell_type": "markdown",
   "id": "5c98052e",
   "metadata": {},
   "source": [
    "Let's make sure our three subsets (train, validate, test) all have the same number of columns!"
   ]
  },
  {
   "cell_type": "markdown",
   "id": "753bef79-1afe-4cfa-8d05-22c7b93b2e0d",
   "metadata": {},
   "source": [
    "**- I could most likely implement a function if we're using the same block of code**"
   ]
  },
  {
   "cell_type": "code",
   "execution_count": 9,
   "id": "8adbab3a",
   "metadata": {
    "scrolled": true
   },
   "outputs": [
    {
     "data": {
      "text/html": [
       "<div>\n",
       "<style scoped>\n",
       "    .dataframe tbody tr th:only-of-type {\n",
       "        vertical-align: middle;\n",
       "    }\n",
       "\n",
       "    .dataframe tbody tr th {\n",
       "        vertical-align: top;\n",
       "    }\n",
       "\n",
       "    .dataframe thead th {\n",
       "        text-align: right;\n",
       "    }\n",
       "</style>\n",
       "<table border=\"1\" class=\"dataframe\">\n",
       "  <thead>\n",
       "    <tr style=\"text-align: right;\">\n",
       "      <th></th>\n",
       "      <th>survived</th>\n",
       "      <th>age</th>\n",
       "      <th>sibsp</th>\n",
       "      <th>parch</th>\n",
       "      <th>fare</th>\n",
       "      <th>alone</th>\n",
       "      <th>sex_male</th>\n",
       "      <th>class_First</th>\n",
       "      <th>class_Second</th>\n",
       "      <th>class_Third</th>\n",
       "      <th>embark_town_Cherbourg</th>\n",
       "      <th>embark_town_Queenstown</th>\n",
       "      <th>embark_town_Southampton</th>\n",
       "    </tr>\n",
       "  </thead>\n",
       "  <tbody>\n",
       "    <tr>\n",
       "      <th>455</th>\n",
       "      <td>1</td>\n",
       "      <td>29.0</td>\n",
       "      <td>0</td>\n",
       "      <td>0</td>\n",
       "      <td>7.8958</td>\n",
       "      <td>1</td>\n",
       "      <td>1</td>\n",
       "      <td>0</td>\n",
       "      <td>0</td>\n",
       "      <td>1</td>\n",
       "      <td>1</td>\n",
       "      <td>0</td>\n",
       "      <td>0</td>\n",
       "    </tr>\n",
       "    <tr>\n",
       "      <th>607</th>\n",
       "      <td>1</td>\n",
       "      <td>27.0</td>\n",
       "      <td>0</td>\n",
       "      <td>0</td>\n",
       "      <td>30.5000</td>\n",
       "      <td>1</td>\n",
       "      <td>1</td>\n",
       "      <td>1</td>\n",
       "      <td>0</td>\n",
       "      <td>0</td>\n",
       "      <td>0</td>\n",
       "      <td>0</td>\n",
       "      <td>1</td>\n",
       "    </tr>\n",
       "    <tr>\n",
       "      <th>142</th>\n",
       "      <td>1</td>\n",
       "      <td>24.0</td>\n",
       "      <td>1</td>\n",
       "      <td>0</td>\n",
       "      <td>15.8500</td>\n",
       "      <td>0</td>\n",
       "      <td>0</td>\n",
       "      <td>0</td>\n",
       "      <td>0</td>\n",
       "      <td>1</td>\n",
       "      <td>0</td>\n",
       "      <td>0</td>\n",
       "      <td>1</td>\n",
       "    </tr>\n",
       "    <tr>\n",
       "      <th>883</th>\n",
       "      <td>0</td>\n",
       "      <td>28.0</td>\n",
       "      <td>0</td>\n",
       "      <td>0</td>\n",
       "      <td>10.5000</td>\n",
       "      <td>1</td>\n",
       "      <td>1</td>\n",
       "      <td>0</td>\n",
       "      <td>1</td>\n",
       "      <td>0</td>\n",
       "      <td>0</td>\n",
       "      <td>0</td>\n",
       "      <td>1</td>\n",
       "    </tr>\n",
       "    <tr>\n",
       "      <th>835</th>\n",
       "      <td>1</td>\n",
       "      <td>39.0</td>\n",
       "      <td>1</td>\n",
       "      <td>1</td>\n",
       "      <td>83.1583</td>\n",
       "      <td>0</td>\n",
       "      <td>0</td>\n",
       "      <td>1</td>\n",
       "      <td>0</td>\n",
       "      <td>0</td>\n",
       "      <td>1</td>\n",
       "      <td>0</td>\n",
       "      <td>0</td>\n",
       "    </tr>\n",
       "  </tbody>\n",
       "</table>\n",
       "</div>"
      ],
      "text/plain": [
       "     survived   age  sibsp  parch     fare  alone  sex_male  class_First  \\\n",
       "455         1  29.0      0      0   7.8958      1         1            0   \n",
       "607         1  27.0      0      0  30.5000      1         1            1   \n",
       "142         1  24.0      1      0  15.8500      0         0            0   \n",
       "883         0  28.0      0      0  10.5000      1         1            0   \n",
       "835         1  39.0      1      1  83.1583      0         0            1   \n",
       "\n",
       "     class_Second  class_Third  embark_town_Cherbourg  embark_town_Queenstown  \\\n",
       "455             0            1                      1                       0   \n",
       "607             0            0                      0                       0   \n",
       "142             0            1                      0                       0   \n",
       "883             1            0                      0                       0   \n",
       "835             0            0                      1                       0   \n",
       "\n",
       "     embark_town_Southampton  \n",
       "455                        0  \n",
       "607                        1  \n",
       "142                        1  \n",
       "883                        1  \n",
       "835                        0  "
      ]
     },
     "execution_count": 9,
     "metadata": {},
     "output_type": "execute_result"
    }
   ],
   "source": [
    "test = pd.get_dummies(test, columns = ['sex'], drop_first = True)\n",
    "test = pd.get_dummies(test, columns = ['class', 'embark_town'])\n",
    "test.head()"
   ]
  },
  {
   "cell_type": "code",
   "execution_count": 10,
   "id": "08104895-6fdf-4fa3-9206-e8a2db996dce",
   "metadata": {},
   "outputs": [
    {
     "data": {
      "text/plain": [
       "((623, 13), (134, 13), (134, 13))"
      ]
     },
     "execution_count": 10,
     "metadata": {},
     "output_type": "execute_result"
    }
   ],
   "source": [
    "train.shape, val.shape, test.shape"
   ]
  },
  {
   "cell_type": "markdown",
   "id": "76db2e18",
   "metadata": {},
   "source": [
    "Now that our categorical data is properly encoded, let's make X and y dataframes for model training and evaluation."
   ]
  },
  {
   "cell_type": "code",
   "execution_count": 11,
   "id": "df272431",
   "metadata": {},
   "outputs": [],
   "source": [
    "X_train = train.drop(columns=['survived'])\n",
    "y_train = train.survived\n",
    "\n",
    "X_val = val.drop(columns = ['survived'])\n",
    "y_val = val.survived"
   ]
  },
  {
   "cell_type": "markdown",
   "id": "3c640d5b",
   "metadata": {},
   "source": [
    "We should define a baseline before we get started! Our baseline will be the most likely outcome from the y_train series."
   ]
  },
  {
   "cell_type": "code",
   "execution_count": 12,
   "id": "d9b14ae8",
   "metadata": {},
   "outputs": [
    {
     "data": {
      "text/plain": [
       "0    0\n",
       "Name: survived, dtype: int64"
      ]
     },
     "execution_count": 12,
     "metadata": {},
     "output_type": "execute_result"
    }
   ],
   "source": [
    "y_train.mode() # most likely label is that people died"
   ]
  },
  {
   "cell_type": "code",
   "execution_count": 13,
   "id": "1850a591-bbb6-4499-a0a6-87d5e4eac58b",
   "metadata": {},
   "outputs": [
    {
     "data": {
      "text/plain": [
       "748     True\n",
       "45      True\n",
       "28     False\n",
       "633     True\n",
       "403     True\n",
       "       ...  \n",
       "476     True\n",
       "190    False\n",
       "736     True\n",
       "462     True\n",
       "136    False\n",
       "Name: survived, Length: 623, dtype: bool"
      ]
     },
     "execution_count": 13,
     "metadata": {},
     "output_type": "execute_result"
    }
   ],
   "source": [
    "y_train == 0 # baseline is someone died (True)"
   ]
  },
  {
   "cell_type": "code",
   "execution_count": 14,
   "id": "1b4d3727-653e-413b-a12a-67412f9ac01d",
   "metadata": {},
   "outputs": [
    {
     "data": {
      "text/plain": [
       "0.6163723916532905"
      ]
     },
     "execution_count": 14,
     "metadata": {},
     "output_type": "execute_result"
    }
   ],
   "source": [
    "base_acc = (y_train == 0).mean() # this is going to be our goal\n",
    "base_acc"
   ]
  },
  {
   "cell_type": "markdown",
   "id": "6cf9973c",
   "metadata": {},
   "source": [
    "We're ready to model! Let's create an instance of a [DecisionTreeClassifier](https://scikit-learn.org/stable/modules/generated/sklearn.tree.DecisionTreeClassifier.html) and fit it to our train dataset."
   ]
  },
  {
   "cell_type": "code",
   "execution_count": 15,
   "id": "ce97aa95",
   "metadata": {},
   "outputs": [
    {
     "data": {
      "text/html": [
       "<style>#sk-container-id-1 {color: black;background-color: white;}#sk-container-id-1 pre{padding: 0;}#sk-container-id-1 div.sk-toggleable {background-color: white;}#sk-container-id-1 label.sk-toggleable__label {cursor: pointer;display: block;width: 100%;margin-bottom: 0;padding: 0.3em;box-sizing: border-box;text-align: center;}#sk-container-id-1 label.sk-toggleable__label-arrow:before {content: \"▸\";float: left;margin-right: 0.25em;color: #696969;}#sk-container-id-1 label.sk-toggleable__label-arrow:hover:before {color: black;}#sk-container-id-1 div.sk-estimator:hover label.sk-toggleable__label-arrow:before {color: black;}#sk-container-id-1 div.sk-toggleable__content {max-height: 0;max-width: 0;overflow: hidden;text-align: left;background-color: #f0f8ff;}#sk-container-id-1 div.sk-toggleable__content pre {margin: 0.2em;color: black;border-radius: 0.25em;background-color: #f0f8ff;}#sk-container-id-1 input.sk-toggleable__control:checked~div.sk-toggleable__content {max-height: 200px;max-width: 100%;overflow: auto;}#sk-container-id-1 input.sk-toggleable__control:checked~label.sk-toggleable__label-arrow:before {content: \"▾\";}#sk-container-id-1 div.sk-estimator input.sk-toggleable__control:checked~label.sk-toggleable__label {background-color: #d4ebff;}#sk-container-id-1 div.sk-label input.sk-toggleable__control:checked~label.sk-toggleable__label {background-color: #d4ebff;}#sk-container-id-1 input.sk-hidden--visually {border: 0;clip: rect(1px 1px 1px 1px);clip: rect(1px, 1px, 1px, 1px);height: 1px;margin: -1px;overflow: hidden;padding: 0;position: absolute;width: 1px;}#sk-container-id-1 div.sk-estimator {font-family: monospace;background-color: #f0f8ff;border: 1px dotted black;border-radius: 0.25em;box-sizing: border-box;margin-bottom: 0.5em;}#sk-container-id-1 div.sk-estimator:hover {background-color: #d4ebff;}#sk-container-id-1 div.sk-parallel-item::after {content: \"\";width: 100%;border-bottom: 1px solid gray;flex-grow: 1;}#sk-container-id-1 div.sk-label:hover label.sk-toggleable__label {background-color: #d4ebff;}#sk-container-id-1 div.sk-serial::before {content: \"\";position: absolute;border-left: 1px solid gray;box-sizing: border-box;top: 0;bottom: 0;left: 50%;z-index: 0;}#sk-container-id-1 div.sk-serial {display: flex;flex-direction: column;align-items: center;background-color: white;padding-right: 0.2em;padding-left: 0.2em;position: relative;}#sk-container-id-1 div.sk-item {position: relative;z-index: 1;}#sk-container-id-1 div.sk-parallel {display: flex;align-items: stretch;justify-content: center;background-color: white;position: relative;}#sk-container-id-1 div.sk-item::before, #sk-container-id-1 div.sk-parallel-item::before {content: \"\";position: absolute;border-left: 1px solid gray;box-sizing: border-box;top: 0;bottom: 0;left: 50%;z-index: -1;}#sk-container-id-1 div.sk-parallel-item {display: flex;flex-direction: column;z-index: 1;position: relative;background-color: white;}#sk-container-id-1 div.sk-parallel-item:first-child::after {align-self: flex-end;width: 50%;}#sk-container-id-1 div.sk-parallel-item:last-child::after {align-self: flex-start;width: 50%;}#sk-container-id-1 div.sk-parallel-item:only-child::after {width: 0;}#sk-container-id-1 div.sk-dashed-wrapped {border: 1px dashed gray;margin: 0 0.4em 0.5em 0.4em;box-sizing: border-box;padding-bottom: 0.4em;background-color: white;}#sk-container-id-1 div.sk-label label {font-family: monospace;font-weight: bold;display: inline-block;line-height: 1.2em;}#sk-container-id-1 div.sk-label-container {text-align: center;}#sk-container-id-1 div.sk-container {/* jupyter's `normalize.less` sets `[hidden] { display: none; }` but bootstrap.min.css set `[hidden] { display: none !important; }` so we also need the `!important` here to be able to override the default hidden behavior on the sphinx rendered scikit-learn.org. See: https://github.com/scikit-learn/scikit-learn/issues/21755 */display: inline-block !important;position: relative;}#sk-container-id-1 div.sk-text-repr-fallback {display: none;}</style><div id=\"sk-container-id-1\" class=\"sk-top-container\"><div class=\"sk-text-repr-fallback\"><pre>DecisionTreeClassifier(random_state=42)</pre><b>In a Jupyter environment, please rerun this cell to show the HTML representation or trust the notebook. <br />On GitHub, the HTML representation is unable to render, please try loading this page with nbviewer.org.</b></div><div class=\"sk-container\" hidden><div class=\"sk-item\"><div class=\"sk-estimator sk-toggleable\"><input class=\"sk-toggleable__control sk-hidden--visually\" id=\"sk-estimator-id-1\" type=\"checkbox\" checked><label for=\"sk-estimator-id-1\" class=\"sk-toggleable__label sk-toggleable__label-arrow\">DecisionTreeClassifier</label><div class=\"sk-toggleable__content\"><pre>DecisionTreeClassifier(random_state=42)</pre></div></div></div></div></div>"
      ],
      "text/plain": [
       "DecisionTreeClassifier(random_state=42)"
      ]
     },
     "execution_count": 15,
     "metadata": {},
     "output_type": "execute_result"
    }
   ],
   "source": [
    "seed = 42\n",
    "\n",
    "clf = DecisionTreeClassifier(random_state = seed)\n",
    "\n",
    "clf.fit(X_train, y_train)"
   ]
  },
  {
   "cell_type": "markdown",
   "id": "8a95c48a",
   "metadata": {},
   "source": [
    "Let's check out the .feature_importances_ attribute."
   ]
  },
  {
   "cell_type": "code",
   "execution_count": 16,
   "id": "ec3a14da-1d9f-4558-8afc-82f5bd5cd549",
   "metadata": {},
   "outputs": [
    {
     "data": {
      "text/plain": [
       "array([0.24829184, 0.03593243, 0.02165793, 0.2299886 , 0.01765126,\n",
       "       0.32440375, 0.02824841, 0.00442031, 0.07023397, 0.00777043,\n",
       "       0.00046198, 0.0109391 ])"
      ]
     },
     "execution_count": 16,
     "metadata": {},
     "output_type": "execute_result"
    }
   ],
   "source": [
    "#sharing the relative importance of every feature passed into our dataset\n",
    "#it is weighing how important each feature was for our decision tree.\n",
    "clf.feature_importances_"
   ]
  },
  {
   "cell_type": "code",
   "execution_count": 17,
   "id": "745a738d-52dd-49a0-8fa2-3f182a12cccd",
   "metadata": {},
   "outputs": [
    {
     "data": {
      "text/plain": [
       "Index(['age', 'sibsp', 'parch', 'fare', 'alone', 'sex_male', 'class_First',\n",
       "       'class_Second', 'class_Third', 'embark_town_Cherbourg',\n",
       "       'embark_town_Queenstown', 'embark_town_Southampton'],\n",
       "      dtype='object')"
      ]
     },
     "execution_count": 17,
     "metadata": {},
     "output_type": "execute_result"
    }
   ],
   "source": [
    "X_train.columns"
   ]
  },
  {
   "cell_type": "code",
   "execution_count": 18,
   "id": "31541ee7-a3df-4db6-8116-64d7534fdbb2",
   "metadata": {},
   "outputs": [
    {
     "data": {
      "text/html": [
       "<div>\n",
       "<style scoped>\n",
       "    .dataframe tbody tr th:only-of-type {\n",
       "        vertical-align: middle;\n",
       "    }\n",
       "\n",
       "    .dataframe tbody tr th {\n",
       "        vertical-align: top;\n",
       "    }\n",
       "\n",
       "    .dataframe thead th {\n",
       "        text-align: right;\n",
       "    }\n",
       "</style>\n",
       "<table border=\"1\" class=\"dataframe\">\n",
       "  <thead>\n",
       "    <tr style=\"text-align: right;\">\n",
       "      <th></th>\n",
       "      <th>cols</th>\n",
       "      <th>imps</th>\n",
       "    </tr>\n",
       "  </thead>\n",
       "  <tbody>\n",
       "    <tr>\n",
       "      <th>5</th>\n",
       "      <td>sex_male</td>\n",
       "      <td>0.324404</td>\n",
       "    </tr>\n",
       "    <tr>\n",
       "      <th>0</th>\n",
       "      <td>age</td>\n",
       "      <td>0.248292</td>\n",
       "    </tr>\n",
       "    <tr>\n",
       "      <th>3</th>\n",
       "      <td>fare</td>\n",
       "      <td>0.229989</td>\n",
       "    </tr>\n",
       "    <tr>\n",
       "      <th>8</th>\n",
       "      <td>class_Third</td>\n",
       "      <td>0.070234</td>\n",
       "    </tr>\n",
       "    <tr>\n",
       "      <th>1</th>\n",
       "      <td>sibsp</td>\n",
       "      <td>0.035932</td>\n",
       "    </tr>\n",
       "    <tr>\n",
       "      <th>6</th>\n",
       "      <td>class_First</td>\n",
       "      <td>0.028248</td>\n",
       "    </tr>\n",
       "    <tr>\n",
       "      <th>2</th>\n",
       "      <td>parch</td>\n",
       "      <td>0.021658</td>\n",
       "    </tr>\n",
       "    <tr>\n",
       "      <th>4</th>\n",
       "      <td>alone</td>\n",
       "      <td>0.017651</td>\n",
       "    </tr>\n",
       "    <tr>\n",
       "      <th>11</th>\n",
       "      <td>embark_town_Southampton</td>\n",
       "      <td>0.010939</td>\n",
       "    </tr>\n",
       "    <tr>\n",
       "      <th>9</th>\n",
       "      <td>embark_town_Cherbourg</td>\n",
       "      <td>0.007770</td>\n",
       "    </tr>\n",
       "    <tr>\n",
       "      <th>7</th>\n",
       "      <td>class_Second</td>\n",
       "      <td>0.004420</td>\n",
       "    </tr>\n",
       "    <tr>\n",
       "      <th>10</th>\n",
       "      <td>embark_town_Queenstown</td>\n",
       "      <td>0.000462</td>\n",
       "    </tr>\n",
       "  </tbody>\n",
       "</table>\n",
       "</div>"
      ],
      "text/plain": [
       "                       cols      imps\n",
       "5                  sex_male  0.324404\n",
       "0                       age  0.248292\n",
       "3                      fare  0.229989\n",
       "8               class_Third  0.070234\n",
       "1                     sibsp  0.035932\n",
       "6               class_First  0.028248\n",
       "2                     parch  0.021658\n",
       "4                     alone  0.017651\n",
       "11  embark_town_Southampton  0.010939\n",
       "9     embark_town_Cherbourg  0.007770\n",
       "7              class_Second  0.004420\n",
       "10   embark_town_Queenstown  0.000462"
      ]
     },
     "execution_count": 18,
     "metadata": {},
     "output_type": "execute_result"
    }
   ],
   "source": [
    "imp = pd.DataFrame({'cols': X_train.columns,\n",
    "                    'imps': clf.feature_importances_})\n",
    "\n",
    "imp.sort_values(by = 'imps', ascending = False)"
   ]
  },
  {
   "cell_type": "markdown",
   "id": "50364bec",
   "metadata": {},
   "source": [
    "Let's make some predictions with the .predict() method and save them to a variable."
   ]
  },
  {
   "cell_type": "code",
   "execution_count": 19,
   "id": "cf82ced8",
   "metadata": {},
   "outputs": [
    {
     "data": {
      "text/plain": [
       "array([0, 0, 1, 0, 0])"
      ]
     },
     "execution_count": 19,
     "metadata": {},
     "output_type": "execute_result"
    }
   ],
   "source": [
    "train_preds = clf.predict(X_train)\n",
    "train_preds[:5]"
   ]
  },
  {
   "cell_type": "markdown",
   "id": "60726365",
   "metadata": {},
   "source": [
    "Let's evaluate the accuracy of our model with the .score() method."
   ]
  },
  {
   "cell_type": "code",
   "execution_count": 20,
   "id": "fe1fae9f",
   "metadata": {},
   "outputs": [
    {
     "data": {
      "text/plain": [
       "0.9759229534510433"
      ]
     },
     "execution_count": 20,
     "metadata": {},
     "output_type": "execute_result"
    }
   ],
   "source": [
    "clf.score(X_train, y_train)"
   ]
  },
  {
   "cell_type": "markdown",
   "id": "f88750ef",
   "metadata": {},
   "source": [
    "We can use the classification_report function to return a whole host of metrics about our model!"
   ]
  },
  {
   "cell_type": "code",
   "execution_count": 21,
   "id": "42dbfcbc-9906-49e0-b495-d55dc099af4f",
   "metadata": {},
   "outputs": [
    {
     "name": "stdout",
     "output_type": "stream",
     "text": [
      "              precision    recall  f1-score   support\n",
      "\n",
      "           0       0.96      1.00      0.98       384\n",
      "           1       1.00      0.94      0.97       239\n",
      "\n",
      "    accuracy                           0.98       623\n",
      "   macro avg       0.98      0.97      0.97       623\n",
      "weighted avg       0.98      0.98      0.98       623\n",
      "\n"
     ]
    }
   ],
   "source": [
    "print(classification_report(y_train, train_preds))"
   ]
  },
  {
   "cell_type": "markdown",
   "id": "953b65a9",
   "metadata": {},
   "source": [
    "Wow! My model is incredible! I'm sure it will be equally awesome on the validate dataset!"
   ]
  },
  {
   "cell_type": "code",
   "execution_count": 22,
   "id": "0aac1af1",
   "metadata": {},
   "outputs": [
    {
     "data": {
      "text/plain": [
       "0.7910447761194029"
      ]
     },
     "execution_count": 22,
     "metadata": {},
     "output_type": "execute_result"
    }
   ],
   "source": [
    "clf.score(X_val, y_val)"
   ]
  },
  {
   "cell_type": "markdown",
   "id": "8177e4ca",
   "metadata": {},
   "source": [
    "What does it mean to be overfit?"
   ]
  },
  {
   "cell_type": "markdown",
   "id": "fa2d410f-65fe-464c-924e-49784676487a",
   "metadata": {},
   "source": [
    "My train accuracy is 98% and my validate accuracy is 79%\n",
    "\n",
    "My model is NOT generalizing well to unseen data!"
   ]
  },
  {
   "cell_type": "code",
   "execution_count": 23,
   "id": "a2361eac-f074-4895-b873-450a6ddec4bf",
   "metadata": {},
   "outputs": [],
   "source": [
    "seed = 42\n",
    "train_acc = []\n",
    "val_acc = []\n",
    "depth = []\n",
    "\n",
    "for i in range(2, 6):\n",
    "\n",
    "    clf = DecisionTreeClassifier(max_depth=i, random_state = seed)\n",
    "\n",
    "    clf.fit(X_train, y_train)\n",
    "\n",
    "    depth.append(i)\n",
    "\n",
    "    train_acc.append(clf.score(X_train, y_train))\n",
    "\n",
    "    val_acc.append(clf.score(X_val, y_val))"
   ]
  },
  {
   "cell_type": "code",
   "execution_count": 24,
   "id": "6e172e3c-438d-46d5-8f0c-c4f345cd328e",
   "metadata": {
    "scrolled": true
   },
   "outputs": [
    {
     "data": {
      "text/html": [
       "<div>\n",
       "<style scoped>\n",
       "    .dataframe tbody tr th:only-of-type {\n",
       "        vertical-align: middle;\n",
       "    }\n",
       "\n",
       "    .dataframe tbody tr th {\n",
       "        vertical-align: top;\n",
       "    }\n",
       "\n",
       "    .dataframe thead th {\n",
       "        text-align: right;\n",
       "    }\n",
       "</style>\n",
       "<table border=\"1\" class=\"dataframe\">\n",
       "  <thead>\n",
       "    <tr style=\"text-align: right;\">\n",
       "      <th></th>\n",
       "      <th>max_depth</th>\n",
       "      <th>train_acc</th>\n",
       "      <th>val_acc</th>\n",
       "    </tr>\n",
       "  </thead>\n",
       "  <tbody>\n",
       "    <tr>\n",
       "      <th>0</th>\n",
       "      <td>2</td>\n",
       "      <td>0.807384</td>\n",
       "      <td>0.798507</td>\n",
       "    </tr>\n",
       "    <tr>\n",
       "      <th>1</th>\n",
       "      <td>3</td>\n",
       "      <td>0.829856</td>\n",
       "      <td>0.835821</td>\n",
       "    </tr>\n",
       "    <tr>\n",
       "      <th>2</th>\n",
       "      <td>4</td>\n",
       "      <td>0.845907</td>\n",
       "      <td>0.835821</td>\n",
       "    </tr>\n",
       "    <tr>\n",
       "      <th>3</th>\n",
       "      <td>5</td>\n",
       "      <td>0.863563</td>\n",
       "      <td>0.820896</td>\n",
       "    </tr>\n",
       "  </tbody>\n",
       "</table>\n",
       "</div>"
      ],
      "text/plain": [
       "   max_depth  train_acc   val_acc\n",
       "0          2   0.807384  0.798507\n",
       "1          3   0.829856  0.835821\n",
       "2          4   0.845907  0.835821\n",
       "3          5   0.863563  0.820896"
      ]
     },
     "execution_count": 24,
     "metadata": {},
     "output_type": "execute_result"
    }
   ],
   "source": [
    "trees = pd.DataFrame({'max_depth' : depth,\n",
    "                      'train_acc' : train_acc,\n",
    "                      'val_acc' : val_acc})\n",
    "trees"
   ]
  },
  {
   "cell_type": "code",
   "execution_count": 25,
   "id": "7ce22ed7-d861-4090-823b-ea634135e2a5",
   "metadata": {},
   "outputs": [
    {
     "data": {
      "text/plain": [
       "[Text(0.5294117647058824, 0.9166666666666666, 'sex_male <= 0.5\\ngini = 0.473\\nsamples = 623\\nvalue = [384, 239]\\nclass = 0'),\n",
       " Text(0.3014705882352941, 0.75, 'class_Third <= 0.5\\ngini = 0.374\\nsamples = 217\\nvalue = [54, 163]\\nclass = 1'),\n",
       " Text(0.14705882352941177, 0.5833333333333334, 'fare <= 28.856\\ngini = 0.112\\nsamples = 117\\nvalue = [7, 110]\\nclass = 1'),\n",
       " Text(0.08823529411764706, 0.4166666666666667, 'fare <= 28.231\\ngini = 0.223\\nsamples = 47\\nvalue = [6, 41]\\nclass = 1'),\n",
       " Text(0.058823529411764705, 0.25, 'age <= 56.0\\ngini = 0.194\\nsamples = 46\\nvalue = [5, 41]\\nclass = 1'),\n",
       " Text(0.029411764705882353, 0.08333333333333333, 'gini = 0.162\\nsamples = 45\\nvalue = [4, 41]\\nclass = 1'),\n",
       " Text(0.08823529411764706, 0.08333333333333333, 'gini = 0.0\\nsamples = 1\\nvalue = [1, 0]\\nclass = 0'),\n",
       " Text(0.11764705882352941, 0.25, 'gini = 0.0\\nsamples = 1\\nvalue = [1, 0]\\nclass = 0'),\n",
       " Text(0.20588235294117646, 0.4166666666666667, 'parch <= 1.5\\ngini = 0.028\\nsamples = 70\\nvalue = [1, 69]\\nclass = 1'),\n",
       " Text(0.17647058823529413, 0.25, 'gini = 0.0\\nsamples = 58\\nvalue = [0, 58]\\nclass = 1'),\n",
       " Text(0.23529411764705882, 0.25, 'fare <= 135.775\\ngini = 0.153\\nsamples = 12\\nvalue = [1, 11]\\nclass = 1'),\n",
       " Text(0.20588235294117646, 0.08333333333333333, 'gini = 0.0\\nsamples = 8\\nvalue = [0, 8]\\nclass = 1'),\n",
       " Text(0.2647058823529412, 0.08333333333333333, 'gini = 0.375\\nsamples = 4\\nvalue = [1, 3]\\nclass = 1'),\n",
       " Text(0.45588235294117646, 0.5833333333333334, 'fare <= 7.888\\ngini = 0.498\\nsamples = 100\\nvalue = [47, 53]\\nclass = 1'),\n",
       " Text(0.38235294117647056, 0.4166666666666667, 'age <= 29.75\\ngini = 0.334\\nsamples = 33\\nvalue = [7, 26]\\nclass = 1'),\n",
       " Text(0.35294117647058826, 0.25, 'fare <= 6.987\\ngini = 0.271\\nsamples = 31\\nvalue = [5, 26]\\nclass = 1'),\n",
       " Text(0.3235294117647059, 0.08333333333333333, 'gini = 0.0\\nsamples = 1\\nvalue = [1, 0]\\nclass = 0'),\n",
       " Text(0.38235294117647056, 0.08333333333333333, 'gini = 0.231\\nsamples = 30\\nvalue = [4, 26]\\nclass = 1'),\n",
       " Text(0.4117647058823529, 0.25, 'gini = 0.0\\nsamples = 2\\nvalue = [2, 0]\\nclass = 0'),\n",
       " Text(0.5294117647058824, 0.4166666666666667, 'age <= 5.5\\ngini = 0.481\\nsamples = 67\\nvalue = [40, 27]\\nclass = 0'),\n",
       " Text(0.47058823529411764, 0.25, 'sibsp <= 2.5\\ngini = 0.298\\nsamples = 11\\nvalue = [2, 9]\\nclass = 1'),\n",
       " Text(0.4411764705882353, 0.08333333333333333, 'gini = 0.0\\nsamples = 8\\nvalue = [0, 8]\\nclass = 1'),\n",
       " Text(0.5, 0.08333333333333333, 'gini = 0.444\\nsamples = 3\\nvalue = [2, 1]\\nclass = 0'),\n",
       " Text(0.5882352941176471, 0.25, 'fare <= 24.808\\ngini = 0.436\\nsamples = 56\\nvalue = [38, 18]\\nclass = 0'),\n",
       " Text(0.5588235294117647, 0.08333333333333333, 'gini = 0.478\\nsamples = 43\\nvalue = [26, 17]\\nclass = 0'),\n",
       " Text(0.6176470588235294, 0.08333333333333333, 'gini = 0.142\\nsamples = 13\\nvalue = [12, 1]\\nclass = 0'),\n",
       " Text(0.7573529411764706, 0.75, 'age <= 3.5\\ngini = 0.304\\nsamples = 406\\nvalue = [330, 76]\\nclass = 0'),\n",
       " Text(0.6764705882352942, 0.5833333333333334, 'sibsp <= 3.0\\ngini = 0.153\\nsamples = 12\\nvalue = [1, 11]\\nclass = 1'),\n",
       " Text(0.6470588235294118, 0.4166666666666667, 'gini = 0.0\\nsamples = 11\\nvalue = [0, 11]\\nclass = 1'),\n",
       " Text(0.7058823529411765, 0.4166666666666667, 'gini = 0.0\\nsamples = 1\\nvalue = [1, 0]\\nclass = 0'),\n",
       " Text(0.8382352941176471, 0.5833333333333334, 'class_First <= 0.5\\ngini = 0.276\\nsamples = 394\\nvalue = [329, 65]\\nclass = 0'),\n",
       " Text(0.7647058823529411, 0.4166666666666667, 'fare <= 48.092\\ngini = 0.203\\nsamples = 314\\nvalue = [278, 36]\\nclass = 0'),\n",
       " Text(0.7058823529411765, 0.25, 'embark_town_Cherbourg <= 0.5\\ngini = 0.189\\nsamples = 303\\nvalue = [271, 32]\\nclass = 0'),\n",
       " Text(0.6764705882352942, 0.08333333333333333, 'gini = 0.169\\nsamples = 268\\nvalue = [243, 25]\\nclass = 0'),\n",
       " Text(0.7352941176470589, 0.08333333333333333, 'gini = 0.32\\nsamples = 35\\nvalue = [28, 7]\\nclass = 0'),\n",
       " Text(0.8235294117647058, 0.25, 'fare <= 63.023\\ngini = 0.463\\nsamples = 11\\nvalue = [7, 4]\\nclass = 0'),\n",
       " Text(0.7941176470588235, 0.08333333333333333, 'gini = 0.32\\nsamples = 5\\nvalue = [1, 4]\\nclass = 1'),\n",
       " Text(0.8529411764705882, 0.08333333333333333, 'gini = 0.0\\nsamples = 6\\nvalue = [6, 0]\\nclass = 0'),\n",
       " Text(0.9117647058823529, 0.4166666666666667, 'fare <= 26.144\\ngini = 0.462\\nsamples = 80\\nvalue = [51, 29]\\nclass = 0'),\n",
       " Text(0.8823529411764706, 0.25, 'gini = 0.0\\nsamples = 8\\nvalue = [8, 0]\\nclass = 0'),\n",
       " Text(0.9411764705882353, 0.25, 'fare <= 30.598\\ngini = 0.481\\nsamples = 72\\nvalue = [43, 29]\\nclass = 0'),\n",
       " Text(0.9117647058823529, 0.08333333333333333, 'gini = 0.48\\nsamples = 25\\nvalue = [10, 15]\\nclass = 1'),\n",
       " Text(0.9705882352941176, 0.08333333333333333, 'gini = 0.418\\nsamples = 47\\nvalue = [33, 14]\\nclass = 0')]"
      ]
     },
     "execution_count": 25,
     "metadata": {},
     "output_type": "execute_result"
    },
    {
     "data": {
      "image/png": "[encoded data removed]",
      "text/plain": [
       "<Figure size 1300x700 with 1 Axes>"
      ]
     },
     "metadata": {},
     "output_type": "display_data"
    }
   ],
   "source": [
    "class_names_str = [str(class_name) for class_name in clf.classes_]\n",
    "\n",
    "plt.figure(figsize=(13, 7))\n",
    "plot_tree(clf, feature_names=X_train.columns, class_names=class_names_str, rounded=True)\n"
   ]
  }
 ],
 "metadata": {
  "kernelspec": {
   "display_name": "Python 3 (ipykernel)",
   "language": "python",
   "name": "python3"
  },
  "language_info": {
   "codemirror_mode": {
    "name": "ipython",
    "version": 3
   },
   "file_extension": ".py",
   "mimetype": "text/x-python",
   "name": "python",
   "nbconvert_exporter": "python",
   "pygments_lexer": "ipython3",
   "version": "3.10.9"
  }
 },
 "nbformat": 4,
 "nbformat_minor": 5
}
