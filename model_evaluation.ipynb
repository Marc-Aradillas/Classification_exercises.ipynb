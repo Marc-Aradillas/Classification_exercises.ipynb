{
 "cells": [
  {
   "cell_type": "markdown",
   "id": "9a337b60-aadb-49bc-88be-edac8ad560f3",
   "metadata": {},
   "source": [
    "# MODEL EVALUATION"
   ]
  },
  {
   "cell_type": "markdown",
   "id": "7f53939b-9667-4837-8d1d-ba938f5c4472",
   "metadata": {},
   "source": [
    "## ---------------------------------------"
   ]
  },
  {
   "cell_type": "markdown",
   "id": "f149d643-65ce-494d-9e29-c4b167ed6b0e",
   "metadata": {},
   "source": [
    "### *Classification Model Evaluation*"
   ]
  },
  {
   "cell_type": "markdown",
   "id": "5051a6c4-b58e-4847-9519-697c124d1886",
   "metadata": {},
   "source": [
    "---\n",
    "<div class=\"alert alert-info\">\n",
    "    \n",
    "2. **Given the following confusion matrix, evaluate (by hand) the model's performance.**\n",
    "\n",
    "-------------------------------------------\n",
    "|               | pred dog   | pred cat   |\n",
    "|:------------  |-----------:|-----------:|\n",
    "| actual dog    |         46 |         7  |\n",
    "| actual cat    |         13 |         34 |\n",
    "-------------------------------------------\n",
    "- In the context of this problem, what is a false positive?\n",
    "- In the context of this problem, what is a false negative?\n",
    "- How would you describe this model?\n",
    "</div>"
   ]
  },
  {
   "cell_type": "markdown",
   "id": "3781789b-2b7b-4515-a430-34f793ba8338",
   "metadata": {},
   "source": [
    "---\n",
    "<div class=\"alert alert-info\">\n",
    "    \n",
    "3. **You are working as a datascientist working for Codeup Cody Creator (C3 for short), a rubber-duck manufacturing plant.**\n",
    "\n",
    "Unfortunately, some of the rubber ducks that are produced will have defects. Your team has built several models that try to predict those defects, and the data from their predictions can be found here.\n",
    "\n",
    "Use the predictions dataset and pandas to help answer the following questions:<br>\n",
    "\n",
    "- **An internal team wants to investigate the cause of the manufacturing defects. They tell you that they want to identify as many of the ducks that have a defect as possible. Which evaluation metric would be appropriate here? Which model would be the best fit for this use case?**\n",
    "    \n",
    "- **Recently several stories in the local news have come out highlighting customers who received a rubber duck with a defect, and portraying C3 in a bad light. The PR team has decided to launch a program that gives customers with a defective duck a vacation to Hawaii. They need you to predict which ducks will have defects, but tell you the really don't want to accidentally give out a vacation package when the duck really doesn't have a defect. Which evaluation metric would be appropriate here? Which model would be the best fit for this use case?**\n",
    "</div>"
   ]
  },
  {
   "cell_type": "markdown",
   "id": "8342b7ff-7a29-4d72-a87e-3e07509c56ab",
   "metadata": {},
   "source": [
    "---\n",
    "<div class=\"alert alert-info\">\n",
    "    \n",
    "5. **You are working as a data scientist for Gives You Paws ™, a subscription based service that shows you cute pictures of dogs or cats (or both for an additional fee).**\n",
    "\n",
    "*At Gives You Paws*, anyone can upload pictures of their cats or dogs. The photos are then put through a two step process. First an automated algorithm tags pictures as either a cat or a dog (Phase I). Next, the photos that have been initially identified are put through another round of review, possibly with some human oversight, before being presented to the users (Phase II).\n",
    "\n",
    "Several models have already been developed with the data, and you can find their results here.\n",
    "\n",
    "Given this dataset, use pandas to create a baseline model (i.e. a model that just predicts the most common class) and answer the following questions:\n",
    "\n",
    "a. **In terms of accuracy, how do the various models compare to the baseline model? Are any of the models better than the baseline?**<br>\n",
    "\n",
    "b. **Suppose you are working on a team that solely deals with dog pictures. Which of these models would you recommend?**<br>\n",
    "\n",
    "c. **Suppose you are working on a team that solely deals with cat pictures. Which of these models would you recommend?**<br>\n",
    "</div>"
   ]
  },
  {
   "cell_type": "markdown",
   "id": "1ecba739-b7b9-4c37-bd06-1720d8c38e35",
   "metadata": {},
   "source": [
    "---\n",
    "<div class=\"alert alert-success\">\n",
    "    \n",
    "1. **Follow the links below to read the documentation about each function, then apply those functions to the data from the previous problem.**<br>\n",
    "\n",
    "**sklearn.metrics.accuracy_score**<br>\n",
    "**sklearn.metrics.precision_score**<br>\n",
    "**sklearn.metrics.recall_score**<br>\n",
    "**sklearn.metrics.classification_report**\n",
    "</div>"
   ]
  }
 ],
 "metadata": {
  "kernelspec": {
   "display_name": "Python 3 (ipykernel)",
   "language": "python",
   "name": "python3"
  },
  "language_info": {
   "codemirror_mode": {
    "name": "ipython",
    "version": 3
   },
   "file_extension": ".py",
   "mimetype": "text/x-python",
   "name": "python",
   "nbconvert_exporter": "python",
   "pygments_lexer": "ipython3",
   "version": "3.10.9"
  }
 },
 "nbformat": 4,
 "nbformat_minor": 5
}
