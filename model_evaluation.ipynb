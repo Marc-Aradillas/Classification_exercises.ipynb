{
 "cells": [
  {
   "cell_type": "markdown",
   "id": "9a337b60-aadb-49bc-88be-edac8ad560f3",
   "metadata": {},
   "source": [
    "# MODEL EVALUATION"
   ]
  },
  {
   "cell_type": "markdown",
   "id": "7f53939b-9667-4837-8d1d-ba938f5c4472",
   "metadata": {},
   "source": [
    "## ---------------------------------------"
   ]
  },
  {
   "cell_type": "code",
   "execution_count": 1,
   "id": "7656f61e-117d-4c2d-815a-8413d1f739f3",
   "metadata": {},
   "outputs": [],
   "source": [
    "import pandas as pd\n",
    "from sklearn.metrics import confusion_matrix"
   ]
  },
  {
   "cell_type": "markdown",
   "id": "f149d643-65ce-494d-9e29-c4b167ed6b0e",
   "metadata": {},
   "source": [
    "### *Classification Model Evaluation*"
   ]
  },
  {
   "cell_type": "markdown",
   "id": "5051a6c4-b58e-4847-9519-697c124d1886",
   "metadata": {},
   "source": [
    "---\n",
    "<div class=\"alert alert-info\">\n",
    "    \n",
    "2. **Given the following confusion matrix, evaluate (by hand) the model's performance.**\n",
    "\n",
    "-------------------------------------------\n",
    "|               | pred dog   | pred cat   |\n",
    "|:------------  |-----------:|-----------:|\n",
    "| actual dog    |         46 |         7  |\n",
    "| actual cat    |         13 |         34 |\n",
    "-------------------------------------------\n",
    "- In the context of this problem, what is a false positive?\n",
    "- In the context of this problem, what is a false negative?\n",
    "- How would you describe this model?\n",
    "</div>"
   ]
  },
  {
   "cell_type": "markdown",
   "id": "c02cea4e-31d2-4ed9-ba0b-c40ee8e65d76",
   "metadata": {},
   "source": [
    "cat is a positive class<br>\n",
    "dog is a negative class\n",
    "\n",
    "false positive - predicted cat, but is a dog<br>\n",
    "false negative - predicted dog, but is a cat\n"
   ]
  },
  {
   "cell_type": "code",
   "execution_count": 2,
   "id": "9883a5d9-fe29-4320-a0c2-7ae8090b3c44",
   "metadata": {},
   "outputs": [],
   "source": [
    "tp = 34\n",
    "tn = 46\n",
    "fp = 7\n",
    "fn = 13"
   ]
  },
  {
   "cell_type": "markdown",
   "id": "8c5e67c2-28d6-4589-9f9d-4f78ac7eee6c",
   "metadata": {},
   "source": [
    "**Accuracy:** Shown as **(TP + TN) / ALL GUESSES**<br>\n",
    "**Precision:** Shown as **(TP / (TP + FP)**<br>\n",
    "**Recall:** Shown as **TP / (TP + FN)**"
   ]
  },
  {
   "cell_type": "code",
   "execution_count": 3,
   "id": "396952aa-99e0-4913-afbd-47e8f997f8d9",
   "metadata": {},
   "outputs": [],
   "source": [
    "accuracy = (tp + tn) / (tp + tn + fp + fn)\n",
    "recall = tp / (tp + fn)\n",
    "precision = tp / (tp + fp)"
   ]
  },
  {
   "cell_type": "code",
   "execution_count": 4,
   "id": "32b01ece-c235-43e2-8000-e7a00f9c9b10",
   "metadata": {},
   "outputs": [
    {
     "name": "stdout",
     "output_type": "stream",
     "text": [
      "0.8\n",
      "0.723404255319149\n",
      "0.8292682926829268\n"
     ]
    }
   ],
   "source": [
    "print(accuracy) \n",
    "print(recall)\n",
    "print(precision)"
   ]
  },
  {
   "cell_type": "code",
   "execution_count": 5,
   "id": "18b37e51-600d-4faa-9669-283386dfffdd",
   "metadata": {},
   "outputs": [
    {
     "data": {
      "text/plain": [
       "0.72"
      ]
     },
     "execution_count": 5,
     "metadata": {},
     "output_type": "execute_result"
    }
   ],
   "source": [
    "round(recall, 2)"
   ]
  },
  {
   "cell_type": "code",
   "execution_count": 6,
   "id": "1a5d55d1-be09-457d-88b3-fbc8ac65eb2b",
   "metadata": {},
   "outputs": [
    {
     "data": {
      "text/plain": [
       "0.83"
      ]
     },
     "execution_count": 6,
     "metadata": {},
     "output_type": "execute_result"
    }
   ],
   "source": [
    "round(precision, 2)"
   ]
  },
  {
   "cell_type": "markdown",
   "id": "48cd1547-09c1-4393-98ee-70d2a5237267",
   "metadata": {},
   "source": [
    "The model is prediciting for cats where there are,\n",
    "\n",
    "**34 True Positives**<br>\n",
    "**46 True Negatives**<br>\n",
    "**7 False Positives**<br>\n",
    "**113 False Negatives**\n",
    "\n",
    "The metrics are listed below:\n",
    "\n",
    "**Accuracy is 0.8**.<br>\n",
    "**Recall is 0.72 (rounded)**.<br>\n",
    "**Precision is 0.83 (rounded)**.\n",
    "\n"
   ]
  },
  {
   "cell_type": "markdown",
   "id": "3781789b-2b7b-4515-a430-34f793ba8338",
   "metadata": {},
   "source": [
    "---\n",
    "<div class=\"alert alert-info\">\n",
    "    \n",
    "3. **You are working as a datascientist working for Codeup Cody Creator (C3 for short), a rubber-duck manufacturing plant.**\n",
    "\n",
    "    Unfortunately, some of the rubber ducks that are produced will have defects. Your team has built several models that try to predict those defects, and the data from their predictions can be found here.\n",
    "    \n",
    "    Use the predictions dataset and pandas to help answer the following questions:<br>\n",
    "    \n",
    "    - **An internal team wants to investigate the cause of the manufacturing defects. They tell you that they want to identify as many of the ducks that have a defect as possible. Which evaluation metric would be appropriate here? Which model would be the best fit for this use case?**\n",
    "        \n",
    "    - **Recently several stories in the local news have come out highlighting customers who received a rubber duck with a defect, and portraying C3 in a bad light. The PR team has decided to launch a program that gives customers with a defective duck a vacation to Hawaii. They need you to predict which ducks will have defects, but tell you the really don't want to accidentally give out a vacation package when the duck really doesn't have a defect. Which evaluation metric would be appropriate here? Which model would be the best fit for this use case?**\n",
    "    </div>"
   ]
  },
  {
   "cell_type": "code",
   "execution_count": 7,
   "id": "86271773-e973-47e7-a11b-0fcbb936c6d6",
   "metadata": {},
   "outputs": [
    {
     "data": {
      "text/plain": [
       "No Defect    184\n",
       "Defect        16\n",
       "Name: actual, dtype: int64"
      ]
     },
     "execution_count": 7,
     "metadata": {},
     "output_type": "execute_result"
    }
   ],
   "source": [
    "# read in a csv file from lesson using pandas\n",
    "c3 = pd.read_csv('c3.csv')\n",
    "c3.actual.value_counts()"
   ]
  },
  {
   "cell_type": "code",
   "execution_count": 8,
   "id": "fb054516-a88b-470d-a9b0-5298ad347d89",
   "metadata": {},
   "outputs": [
    {
     "name": "stdout",
     "output_type": "stream",
     "text": [
      "<class 'pandas.core.frame.DataFrame'>\n",
      "RangeIndex: 200 entries, 0 to 199\n",
      "Data columns (total 4 columns):\n",
      " #   Column  Non-Null Count  Dtype \n",
      "---  ------  --------------  ----- \n",
      " 0   actual  200 non-null    object\n",
      " 1   model1  200 non-null    object\n",
      " 2   model2  200 non-null    object\n",
      " 3   model3  200 non-null    object\n",
      "dtypes: object(4)\n",
      "memory usage: 6.4+ KB\n"
     ]
    }
   ],
   "source": [
    "#info \n",
    "c3.info()"
   ]
  },
  {
   "cell_type": "code",
   "execution_count": 9,
   "id": "21694acc-ba4d-4c7d-8bb9-5609ff04c8f8",
   "metadata": {},
   "outputs": [
    {
     "data": {
      "text/html": [
       "<div>\n",
       "<style scoped>\n",
       "    .dataframe tbody tr th:only-of-type {\n",
       "        vertical-align: middle;\n",
       "    }\n",
       "\n",
       "    .dataframe tbody tr th {\n",
       "        vertical-align: top;\n",
       "    }\n",
       "\n",
       "    .dataframe thead th {\n",
       "        text-align: right;\n",
       "    }\n",
       "</style>\n",
       "<table border=\"1\" class=\"dataframe\">\n",
       "  <thead>\n",
       "    <tr style=\"text-align: right;\">\n",
       "      <th></th>\n",
       "      <th>actual</th>\n",
       "      <th>model1</th>\n",
       "      <th>model2</th>\n",
       "      <th>model3</th>\n",
       "    </tr>\n",
       "  </thead>\n",
       "  <tbody>\n",
       "    <tr>\n",
       "      <th>0</th>\n",
       "      <td>No Defect</td>\n",
       "      <td>No Defect</td>\n",
       "      <td>Defect</td>\n",
       "      <td>No Defect</td>\n",
       "    </tr>\n",
       "    <tr>\n",
       "      <th>1</th>\n",
       "      <td>No Defect</td>\n",
       "      <td>No Defect</td>\n",
       "      <td>Defect</td>\n",
       "      <td>Defect</td>\n",
       "    </tr>\n",
       "    <tr>\n",
       "      <th>2</th>\n",
       "      <td>No Defect</td>\n",
       "      <td>No Defect</td>\n",
       "      <td>Defect</td>\n",
       "      <td>No Defect</td>\n",
       "    </tr>\n",
       "    <tr>\n",
       "      <th>3</th>\n",
       "      <td>No Defect</td>\n",
       "      <td>Defect</td>\n",
       "      <td>Defect</td>\n",
       "      <td>Defect</td>\n",
       "    </tr>\n",
       "    <tr>\n",
       "      <th>4</th>\n",
       "      <td>No Defect</td>\n",
       "      <td>No Defect</td>\n",
       "      <td>Defect</td>\n",
       "      <td>No Defect</td>\n",
       "    </tr>\n",
       "  </tbody>\n",
       "</table>\n",
       "</div>"
      ],
      "text/plain": [
       "      actual     model1  model2     model3\n",
       "0  No Defect  No Defect  Defect  No Defect\n",
       "1  No Defect  No Defect  Defect     Defect\n",
       "2  No Defect  No Defect  Defect  No Defect\n",
       "3  No Defect     Defect  Defect     Defect\n",
       "4  No Defect  No Defect  Defect  No Defect"
      ]
     },
     "execution_count": 9,
     "metadata": {},
     "output_type": "execute_result"
    }
   ],
   "source": [
    "c3.head()"
   ]
  },
  {
   "cell_type": "markdown",
   "id": "e0a70a35-e77c-432a-9f3b-644f19ee272b",
   "metadata": {},
   "source": [
    "### Instructor aided work"
   ]
  },
  {
   "cell_type": "code",
   "execution_count": 10,
   "id": "5cccb1a4-ddf6-4603-9a25-f5a7fe564c70",
   "metadata": {},
   "outputs": [],
   "source": [
    "# used columns from actual and model1 assigned to eachother and found the mean\n",
    "model1_accuracy = (c3.actual == c3.model1).mean()"
   ]
  },
  {
   "cell_type": "code",
   "execution_count": 11,
   "id": "2a743da3-034f-4d7e-bf7e-ea111a520609",
   "metadata": {
    "scrolled": true
   },
   "outputs": [],
   "source": [
    "# used columns from actual and model2 assigned to eachother and found the mean\n",
    "model2_accuracy = (c3.actual == c3.model2).mean()"
   ]
  },
  {
   "cell_type": "code",
   "execution_count": 12,
   "id": "3d35e616-0ce8-414b-933d-cb2d99401381",
   "metadata": {},
   "outputs": [],
   "source": [
    "# used columns from actual and model3 assigned to eachother and found the mean\n",
    "model3_accuracy = (c3.actual == c3.model3).mean()"
   ]
  },
  {
   "cell_type": "code",
   "execution_count": 13,
   "id": "f46a609c-016a-4dc5-9638-bbb615225fac",
   "metadata": {
    "scrolled": true
   },
   "outputs": [
    {
     "name": "stdout",
     "output_type": "stream",
     "text": [
      "model1: 0.95 \n",
      "model2: 0.56 \n",
      "model3: 0.555\n",
      "\n",
      "\n",
      "After finding the mean of values from actual and models, we can determine that Model 1 was most accurate with a 0.95 value return.\n"
     ]
    }
   ],
   "source": [
    "print('model1:', model1_accuracy, '\\nmodel2:', model2_accuracy, '\\nmodel3:',  model3_accuracy)\n",
    "print('\\n\\nAfter finding the mean of values from actual and models, we can determine that Model 1 was most accurate with a 0.95 value return.')"
   ]
  },
  {
   "cell_type": "markdown",
   "id": "5586984d-ed9d-4acb-884c-4c7a983c8dc4",
   "metadata": {},
   "source": [
    "### ---------------------------------------"
   ]
  },
  {
   "cell_type": "markdown",
   "id": "70e51822-b6dc-4956-a3f1-51d2f7e9a593",
   "metadata": {},
   "source": [
    "### Model 1:"
   ]
  },
  {
   "cell_type": "code",
   "execution_count": 14,
   "id": "75cbbd10-022e-494e-bf33-30153b4bc8ee",
   "metadata": {},
   "outputs": [
    {
     "data": {
      "text/plain": [
       "'\\naccuracy = (tp + tn) / (tp + tn + fp + fn)\\nrecall = tp / (tp + fn)\\nprecision = tp / (tp + fp)\\n'"
      ]
     },
     "execution_count": 14,
     "metadata": {},
     "output_type": "execute_result"
    }
   ],
   "source": [
    "# Reference\n",
    "'''\n",
    "accuracy = (tp + tn) / (tp + tn + fp + fn)\n",
    "recall = tp / (tp + fn)\n",
    "precision = tp / (tp + fp)\n",
    "'''"
   ]
  },
  {
   "cell_type": "code",
   "execution_count": 15,
   "id": "dd285581-1745-46f8-98c2-29b8e5340e90",
   "metadata": {},
   "outputs": [],
   "source": [
    "# baseline will be a column of 'Defect' since it was is what the company needs to identify\n",
    "c3['baseline'] = 'Defect'"
   ]
  },
  {
   "cell_type": "code",
   "execution_count": 16,
   "id": "e212f565-93b5-483d-bac8-be8df89e9726",
   "metadata": {},
   "outputs": [
    {
     "data": {
      "text/html": [
       "<div>\n",
       "<style scoped>\n",
       "    .dataframe tbody tr th:only-of-type {\n",
       "        vertical-align: middle;\n",
       "    }\n",
       "\n",
       "    .dataframe tbody tr th {\n",
       "        vertical-align: top;\n",
       "    }\n",
       "\n",
       "    .dataframe thead th {\n",
       "        text-align: right;\n",
       "    }\n",
       "</style>\n",
       "<table border=\"1\" class=\"dataframe\">\n",
       "  <thead>\n",
       "    <tr style=\"text-align: right;\">\n",
       "      <th>model1</th>\n",
       "      <th>Defect</th>\n",
       "      <th>No Defect</th>\n",
       "    </tr>\n",
       "    <tr>\n",
       "      <th>actual</th>\n",
       "      <th></th>\n",
       "      <th></th>\n",
       "    </tr>\n",
       "  </thead>\n",
       "  <tbody>\n",
       "    <tr>\n",
       "      <th>Defect</th>\n",
       "      <td>8</td>\n",
       "      <td>8</td>\n",
       "    </tr>\n",
       "    <tr>\n",
       "      <th>No Defect</th>\n",
       "      <td>2</td>\n",
       "      <td>182</td>\n",
       "    </tr>\n",
       "  </tbody>\n",
       "</table>\n",
       "</div>"
      ],
      "text/plain": [
       "model1     Defect  No Defect\n",
       "actual                      \n",
       "Defect          8          8\n",
       "No Defect       2        182"
      ]
     },
     "execution_count": 16,
     "metadata": {},
     "output_type": "execute_result"
    }
   ],
   "source": [
    "# crosstab actual with model1\n",
    "pd.crosstab(c3.actual, c3.model1)"
   ]
  },
  {
   "cell_type": "code",
   "execution_count": 17,
   "id": "2213971b-cf06-46b8-9d3a-12ba5c1366ad",
   "metadata": {
    "scrolled": true
   },
   "outputs": [
    {
     "data": {
      "text/plain": [
       "array([[182,   2],\n",
       "       [  8,   8]])"
      ]
     },
     "execution_count": 17,
     "metadata": {},
     "output_type": "execute_result"
    }
   ],
   "source": [
    "confusion_matrix(c3.actual, c3.model1,\n",
    "                 labels = ('No Defect', 'Defect'))"
   ]
  },
  {
   "cell_type": "code",
   "execution_count": 18,
   "id": "56270d70-0f3e-46d5-93ad-6abd40391fef",
   "metadata": {},
   "outputs": [
    {
     "name": "stdout",
     "output_type": "stream",
     "text": [
      "   model 1 accuracy: 95.00%\n",
      "baseline accuracy: 8.00%\n"
     ]
    }
   ],
   "source": [
    "model_accuracy = (c3.model1 == c3.actual).mean()\n",
    "baseline_accuracy = (c3.baseline == c3.actual).mean()\n",
    "\n",
    "print(f'   model 1 accuracy: {model_accuracy:.2%}')\n",
    "print(f'baseline accuracy: {baseline_accuracy:.2%}')"
   ]
  },
  {
   "cell_type": "code",
   "execution_count": 19,
   "id": "9d6189ef-244d-483f-9ea2-7714e036ca29",
   "metadata": {},
   "outputs": [
    {
     "name": "stdout",
     "output_type": "stream",
     "text": [
      "   model 1 recall: 50.00%\n",
      "baseline recall: 100.00%\n"
     ]
    }
   ],
   "source": [
    "subset = c3[c3.actual == 'Defect']\n",
    "\n",
    "model_recall = (subset.model1 == subset.actual).mean()\n",
    "baseline_recall = (subset.baseline == subset.actual).mean()\n",
    "\n",
    "print(f'   model 1 recall: {model_recall:.2%}')\n",
    "print(f'baseline recall: {baseline_recall:.2%}')"
   ]
  },
  {
   "cell_type": "code",
   "execution_count": 20,
   "id": "3b349876-ce32-4e26-80fe-fa728b6efdba",
   "metadata": {},
   "outputs": [
    {
     "name": "stdout",
     "output_type": "stream",
     "text": [
      "model 1 precision: 80.00%\n",
      "baseline precision: 8.00%\n"
     ]
    }
   ],
   "source": [
    "subset = c3[c3.model1 == 'Defect']\n",
    "model_precision = (subset.model1 == subset.actual).mean()\n",
    "\n",
    "subset = c3[c3.baseline == 'Defect']\n",
    "baseline_precision = (subset.baseline == subset.actual).mean()\n",
    "\n",
    "print(f'model 1 precision: {model_precision:.2%}')\n",
    "print(f'baseline precision: {baseline_precision:.2%}')\n"
   ]
  },
  {
   "cell_type": "markdown",
   "id": "f3ceea90-070c-4902-a1bb-d125fc4aac45",
   "metadata": {
    "jp-MarkdownHeadingCollapsed": true
   },
   "source": [
    "#### ______________________________________"
   ]
  },
  {
   "cell_type": "markdown",
   "id": "46e4ccdf-a0ae-42a2-acbf-8aff2292b597",
   "metadata": {},
   "source": [
    "### Model 2:"
   ]
  },
  {
   "cell_type": "code",
   "execution_count": 21,
   "id": "3d6be9cc-da56-44e7-9fee-6200fee0b0d1",
   "metadata": {
    "scrolled": true
   },
   "outputs": [
    {
     "data": {
      "text/html": [
       "<div>\n",
       "<style scoped>\n",
       "    .dataframe tbody tr th:only-of-type {\n",
       "        vertical-align: middle;\n",
       "    }\n",
       "\n",
       "    .dataframe tbody tr th {\n",
       "        vertical-align: top;\n",
       "    }\n",
       "\n",
       "    .dataframe thead th {\n",
       "        text-align: right;\n",
       "    }\n",
       "</style>\n",
       "<table border=\"1\" class=\"dataframe\">\n",
       "  <thead>\n",
       "    <tr style=\"text-align: right;\">\n",
       "      <th>model2</th>\n",
       "      <th>Defect</th>\n",
       "      <th>No Defect</th>\n",
       "    </tr>\n",
       "    <tr>\n",
       "      <th>actual</th>\n",
       "      <th></th>\n",
       "      <th></th>\n",
       "    </tr>\n",
       "  </thead>\n",
       "  <tbody>\n",
       "    <tr>\n",
       "      <th>Defect</th>\n",
       "      <td>9</td>\n",
       "      <td>7</td>\n",
       "    </tr>\n",
       "    <tr>\n",
       "      <th>No Defect</th>\n",
       "      <td>81</td>\n",
       "      <td>103</td>\n",
       "    </tr>\n",
       "  </tbody>\n",
       "</table>\n",
       "</div>"
      ],
      "text/plain": [
       "model2     Defect  No Defect\n",
       "actual                      \n",
       "Defect          9          7\n",
       "No Defect      81        103"
      ]
     },
     "execution_count": 21,
     "metadata": {},
     "output_type": "execute_result"
    }
   ],
   "source": [
    "# crosstab actual with model2\n",
    "pd.crosstab(c3.actual, c3.model2)"
   ]
  },
  {
   "cell_type": "code",
   "execution_count": 22,
   "id": "b1ea070a-5e49-4bba-8bc5-97252c00cd99",
   "metadata": {},
   "outputs": [
    {
     "data": {
      "text/plain": [
       "array([[103,  81],\n",
       "       [  7,   9]])"
      ]
     },
     "execution_count": 22,
     "metadata": {},
     "output_type": "execute_result"
    }
   ],
   "source": [
    "confusion_matrix(c3.actual, c3.model2,\n",
    "                 labels = ('No Defect', 'Defect'))"
   ]
  },
  {
   "cell_type": "code",
   "execution_count": 23,
   "id": "50e1cc49-3830-4856-9f1d-1122eb0b649a",
   "metadata": {},
   "outputs": [
    {
     "name": "stdout",
     "output_type": "stream",
     "text": [
      "   model 2 accuracy: 56.00%\n",
      "baseline accuracy: 8.00%\n"
     ]
    }
   ],
   "source": [
    "model_accuracy = (c3.model2 == c3.actual).mean()\n",
    "baseline_accuracy = (c3.baseline == c3.actual).mean()\n",
    "\n",
    "print(f'   model 2 accuracy: {model_accuracy:.2%}')\n",
    "print(f'baseline accuracy: {baseline_accuracy:.2%}')"
   ]
  },
  {
   "cell_type": "code",
   "execution_count": 24,
   "id": "dcfd4743-347c-4831-88ff-cf9838b2d5b0",
   "metadata": {},
   "outputs": [
    {
     "name": "stdout",
     "output_type": "stream",
     "text": [
      "   model 2 recall: 56.25%\n",
      "baseline recall: 100.00%\n"
     ]
    }
   ],
   "source": [
    "subset = c3[c3.actual == 'Defect']\n",
    "\n",
    "model_recall = (subset.model2 == subset.actual).mean()\n",
    "baseline_recall = (subset.baseline == subset.actual).mean()\n",
    "\n",
    "print(f'   model 2 recall: {model_recall:.2%}')\n",
    "print(f'baseline recall: {baseline_recall:.2%}')"
   ]
  },
  {
   "cell_type": "code",
   "execution_count": 25,
   "id": "66d8e99c-e4b1-4fc2-b338-40abceed0e4c",
   "metadata": {},
   "outputs": [
    {
     "name": "stdout",
     "output_type": "stream",
     "text": [
      "model 2 precision: 10.00%\n",
      "baseline precision: 8.00%\n"
     ]
    }
   ],
   "source": [
    "subset = c3[c3.model2 == 'Defect']\n",
    "model_precision = (subset.model2 == subset.actual).mean()\n",
    "\n",
    "subset = c3[c3.baseline == 'Defect']\n",
    "baseline_precision = (subset.baseline == subset.actual).mean()\n",
    "\n",
    "print(f'model 2 precision: {model_precision:.2%}')\n",
    "print(f'baseline precision: {baseline_precision:.2%}')\n"
   ]
  },
  {
   "cell_type": "markdown",
   "id": "4f67ddc6-480a-4d47-b372-8d44c5e3e300",
   "metadata": {},
   "source": [
    "#### ______________________________________"
   ]
  },
  {
   "cell_type": "markdown",
   "id": "bc622e5b-b85e-4811-b525-faa774252b3c",
   "metadata": {},
   "source": [
    "### Model 3:"
   ]
  },
  {
   "cell_type": "code",
   "execution_count": 26,
   "id": "a8db48ae-9dae-4c9d-9731-3360dc0c2f1a",
   "metadata": {},
   "outputs": [
    {
     "data": {
      "text/html": [
       "<div>\n",
       "<style scoped>\n",
       "    .dataframe tbody tr th:only-of-type {\n",
       "        vertical-align: middle;\n",
       "    }\n",
       "\n",
       "    .dataframe tbody tr th {\n",
       "        vertical-align: top;\n",
       "    }\n",
       "\n",
       "    .dataframe thead th {\n",
       "        text-align: right;\n",
       "    }\n",
       "</style>\n",
       "<table border=\"1\" class=\"dataframe\">\n",
       "  <thead>\n",
       "    <tr style=\"text-align: right;\">\n",
       "      <th>model3</th>\n",
       "      <th>Defect</th>\n",
       "      <th>No Defect</th>\n",
       "    </tr>\n",
       "    <tr>\n",
       "      <th>actual</th>\n",
       "      <th></th>\n",
       "      <th></th>\n",
       "    </tr>\n",
       "  </thead>\n",
       "  <tbody>\n",
       "    <tr>\n",
       "      <th>Defect</th>\n",
       "      <td>13</td>\n",
       "      <td>3</td>\n",
       "    </tr>\n",
       "    <tr>\n",
       "      <th>No Defect</th>\n",
       "      <td>86</td>\n",
       "      <td>98</td>\n",
       "    </tr>\n",
       "  </tbody>\n",
       "</table>\n",
       "</div>"
      ],
      "text/plain": [
       "model3     Defect  No Defect\n",
       "actual                      \n",
       "Defect         13          3\n",
       "No Defect      86         98"
      ]
     },
     "execution_count": 26,
     "metadata": {},
     "output_type": "execute_result"
    }
   ],
   "source": [
    "# crosstab actual with model3\n",
    "pd.crosstab(c3.actual, c3.model3)"
   ]
  },
  {
   "cell_type": "code",
   "execution_count": 27,
   "id": "723a4e27-03b1-4376-95b4-b8ead3776cbf",
   "metadata": {},
   "outputs": [
    {
     "data": {
      "text/plain": [
       "array([[98, 86],\n",
       "       [ 3, 13]])"
      ]
     },
     "execution_count": 27,
     "metadata": {},
     "output_type": "execute_result"
    }
   ],
   "source": [
    "confusion_matrix(c3.actual, c3.model3,\n",
    "                 labels = ('No Defect', 'Defect'))"
   ]
  },
  {
   "cell_type": "code",
   "execution_count": 28,
   "id": "2961ffd8-03bb-46b5-a106-9ad444a5abc5",
   "metadata": {},
   "outputs": [
    {
     "name": "stdout",
     "output_type": "stream",
     "text": [
      "   model 3 accuracy: 55.50%\n",
      "baseline accuracy: 8.00%\n"
     ]
    }
   ],
   "source": [
    "model_accuracy = (c3.model3 == c3.actual).mean()\n",
    "baseline_accuracy = (c3.baseline == c3.actual).mean()\n",
    "\n",
    "print(f'   model 3 accuracy: {model_accuracy:.2%}')\n",
    "print(f'baseline accuracy: {baseline_accuracy:.2%}')"
   ]
  },
  {
   "cell_type": "code",
   "execution_count": 29,
   "id": "876068e0-e17b-4693-baab-83e4755bafbc",
   "metadata": {},
   "outputs": [
    {
     "name": "stdout",
     "output_type": "stream",
     "text": [
      "   model 3 recall: 81.25%\n",
      "baseline recall: 100.00%\n"
     ]
    }
   ],
   "source": [
    "subset = c3[c3.actual == 'Defect']\n",
    "\n",
    "model_recall = (subset.model3 == subset.actual).mean()\n",
    "baseline_recall = (subset.baseline == subset.actual).mean()\n",
    "\n",
    "print(f'   model 3 recall: {model_recall:.2%}')\n",
    "print(f'baseline recall: {baseline_recall:.2%}')"
   ]
  },
  {
   "cell_type": "code",
   "execution_count": 30,
   "id": "9c429176-94a5-4d05-aa0a-8222b27093db",
   "metadata": {},
   "outputs": [
    {
     "name": "stdout",
     "output_type": "stream",
     "text": [
      "model 3 precision: 10.00%\n",
      "baseline precision: 8.00%\n"
     ]
    }
   ],
   "source": [
    "subset = c3[c3.model2 == 'Defect']\n",
    "model_precision = (subset.model2 == subset.actual).mean()\n",
    "\n",
    "subset = c3[c3.baseline == 'Defect']\n",
    "baseline_precision = (subset.baseline == subset.actual).mean()\n",
    "\n",
    "print(f'model 3 precision: {model_precision:.2%}')\n",
    "print(f'baseline precision: {baseline_precision:.2%}')\n"
   ]
  },
  {
   "cell_type": "markdown",
   "id": "12afbd8a-589d-40fc-8ed7-ae404089f1ac",
   "metadata": {},
   "source": [
    "### Takeaway:\n",
    "\n",
    "**Part 1: From the models we can determine that the recall evaluation metric is best used to identify as many of the ducks that have a defect as possible and model 3 is best fit for this use**\n",
    "\n",
    "**Part 2: From the models displayed above and aving a metric calculated for each we can discern that the precision metric would be the best evaluation metric for predicting ducks with defects**"
   ]
  },
  {
   "cell_type": "markdown",
   "id": "8342b7ff-7a29-4d72-a87e-3e07509c56ab",
   "metadata": {},
   "source": [
    "---\n",
    "<div class=\"alert alert-info\">\n",
    "    \n",
    "4. **You are working as a data scientist for Gives You Paws ™, a subscription based service that shows you cute pictures of dogs or cats (or both for an additional fee).**\n",
    "\n",
    "*At Gives You Paws*, anyone can upload pictures of their cats or dogs. The photos are then put through a two step process. First an automated algorithm tags pictures as either a cat or a dog (Phase I). Next, the photos that have been initially identified are put through another round of review, possibly with some human oversight, before being presented to the users (Phase II).\n",
    "\n",
    "Several models have already been developed with the data, and you can find their results here.\n",
    "\n",
    "Given this dataset, use pandas to create a baseline model (i.e. a model that just predicts the most common class) and answer the following questions:\n",
    "\n",
    "a. **In terms of accuracy, how do the various models compare to the baseline model? Are any of the models better than the baseline?**<br>\n",
    "\n",
    "b. **Suppose you are working on a team that solely deals with dog pictures. Which of these models would you recommend?**<br>\n",
    "\n",
    "c. **Suppose you are working on a team that solely deals with cat pictures. Which of these models would you recommend?**<br>\n",
    "</div>"
   ]
  },
  {
   "cell_type": "code",
   "execution_count": null,
   "id": "d11c787c-a029-4ce1-8405-6907c1869167",
   "metadata": {},
   "outputs": [],
   "source": []
  },
  {
   "cell_type": "code",
   "execution_count": null,
   "id": "e15f9df3-3646-4f2d-bb9f-e436c5b71882",
   "metadata": {},
   "outputs": [],
   "source": []
  },
  {
   "cell_type": "code",
   "execution_count": null,
   "id": "2fc1a0d6-fd3c-4fc5-b706-b303dd0072e8",
   "metadata": {},
   "outputs": [],
   "source": []
  },
  {
   "cell_type": "code",
   "execution_count": null,
   "id": "cf8ad9d6-a4b6-45bf-b346-4c169e6ddfb1",
   "metadata": {},
   "outputs": [],
   "source": []
  },
  {
   "cell_type": "code",
   "execution_count": null,
   "id": "49a5f9dc-9f2d-482b-be53-c8fb34531ef4",
   "metadata": {},
   "outputs": [],
   "source": []
  },
  {
   "cell_type": "markdown",
   "id": "1ecba739-b7b9-4c37-bd06-1720d8c38e35",
   "metadata": {},
   "source": [
    "---\n",
    "<div class=\"alert alert-success\">\n",
    "    \n",
    "5. **Follow the links below to read the documentation about each function, then apply those functions to the data from the previous problem.**<br>\n",
    "\n",
    "**sklearn.metrics.accuracy_score**<br>\n",
    "**sklearn.metrics.precision_score**<br>\n",
    "**sklearn.metrics.recall_score**<br>\n",
    "**sklearn.metrics.classification_report**\n",
    "</div>"
   ]
  }
 ],
 "metadata": {
  "kernelspec": {
   "display_name": "Python 3 (ipykernel)",
   "language": "python",
   "name": "python3"
  },
  "language_info": {
   "codemirror_mode": {
    "name": "ipython",
    "version": 3
   },
   "file_extension": ".py",
   "mimetype": "text/x-python",
   "name": "python",
   "nbconvert_exporter": "python",
   "pygments_lexer": "ipython3",
   "version": "3.10.9"
  }
 },
 "nbformat": 4,
 "nbformat_minor": 5
}
