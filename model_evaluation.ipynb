{
 "cells": [
  {
   "cell_type": "markdown",
   "id": "9a337b60-aadb-49bc-88be-edac8ad560f3",
   "metadata": {},
   "source": [
    "# MODEL EVALUATION"
   ]
  },
  {
   "cell_type": "markdown",
   "id": "7f53939b-9667-4837-8d1d-ba938f5c4472",
   "metadata": {},
   "source": [
    "## ---------------------------------------"
   ]
  },
  {
   "cell_type": "code",
   "execution_count": 61,
   "id": "7656f61e-117d-4c2d-815a-8413d1f739f3",
   "metadata": {},
   "outputs": [],
   "source": [
    "import pandas as pd\n",
    "import numpy as np\n",
    "from sklearn.model_selection import train_test_split\n",
    "from sklearn.metrics import confusion_matrix\n",
    "from sklearn.metrics import accuracy_score\n",
    "from sklearn.metrics import precision_score\n",
    "from sklearn.metrics import recall_score\n",
    "from sklearn.metrics import classification_report"
   ]
  },
  {
   "cell_type": "markdown",
   "id": "f149d643-65ce-494d-9e29-c4b167ed6b0e",
   "metadata": {},
   "source": [
    "### *Classification Model Evaluation*"
   ]
  },
  {
   "cell_type": "markdown",
   "id": "5051a6c4-b58e-4847-9519-697c124d1886",
   "metadata": {},
   "source": [
    "---\n",
    "<div class=\"alert alert-info\">\n",
    "    \n",
    "2. **Given the following confusion matrix, evaluate (by hand) the model's performance.**\n",
    "\n",
    "-------------------------------------------\n",
    "|               | pred dog   | pred cat   |\n",
    "|:------------  |-----------:|-----------:|\n",
    "| actual dog    |         46 |         7  |\n",
    "| actual cat    |         13 |         34 |\n",
    "-------------------------------------------\n",
    "- In the context of this problem, what is a false positive?\n",
    "- In the context of this problem, what is a false negative?\n",
    "- How would you describe this model?\n",
    "</div>"
   ]
  },
  {
   "cell_type": "markdown",
   "id": "c02cea4e-31d2-4ed9-ba0b-c40ee8e65d76",
   "metadata": {},
   "source": [
    "cat is a positive class<br>\n",
    "dog is a negative class\n",
    "\n",
    "false positive - predicted cat, but is a dog<br>\n",
    "false negative - predicted dog, but is a cat\n"
   ]
  },
  {
   "cell_type": "code",
   "execution_count": 2,
   "id": "9883a5d9-fe29-4320-a0c2-7ae8090b3c44",
   "metadata": {},
   "outputs": [],
   "source": [
    "tp = 34\n",
    "tn = 46\n",
    "fp = 7\n",
    "fn = 13"
   ]
  },
  {
   "cell_type": "markdown",
   "id": "8c5e67c2-28d6-4589-9f9d-4f78ac7eee6c",
   "metadata": {},
   "source": [
    "**Accuracy:** Shown as **(TP + TN) / ALL GUESSES**<br>\n",
    "**Precision:** Shown as **(TP / (TP + FP)**<br>\n",
    "**Recall:** Shown as **TP / (TP + FN)**"
   ]
  },
  {
   "cell_type": "code",
   "execution_count": 3,
   "id": "396952aa-99e0-4913-afbd-47e8f997f8d9",
   "metadata": {},
   "outputs": [],
   "source": [
    "accuracy = (tp + tn) / (tp + tn + fp + fn)\n",
    "recall = tp / (tp + fn)\n",
    "precision = tp / (tp + fp)"
   ]
  },
  {
   "cell_type": "code",
   "execution_count": 4,
   "id": "32b01ece-c235-43e2-8000-e7a00f9c9b10",
   "metadata": {},
   "outputs": [
    {
     "name": "stdout",
     "output_type": "stream",
     "text": [
      "0.8\n",
      "0.723404255319149\n",
      "0.8292682926829268\n"
     ]
    }
   ],
   "source": [
    "print(accuracy) \n",
    "print(recall)\n",
    "print(precision)"
   ]
  },
  {
   "cell_type": "code",
   "execution_count": 5,
   "id": "18b37e51-600d-4faa-9669-283386dfffdd",
   "metadata": {},
   "outputs": [
    {
     "data": {
      "text/plain": [
       "0.72"
      ]
     },
     "execution_count": 5,
     "metadata": {},
     "output_type": "execute_result"
    }
   ],
   "source": [
    "round(recall, 2)"
   ]
  },
  {
   "cell_type": "code",
   "execution_count": 6,
   "id": "1a5d55d1-be09-457d-88b3-fbc8ac65eb2b",
   "metadata": {},
   "outputs": [
    {
     "data": {
      "text/plain": [
       "0.83"
      ]
     },
     "execution_count": 6,
     "metadata": {},
     "output_type": "execute_result"
    }
   ],
   "source": [
    "round(precision, 2)"
   ]
  },
  {
   "cell_type": "markdown",
   "id": "48cd1547-09c1-4393-98ee-70d2a5237267",
   "metadata": {},
   "source": [
    "The model is prediciting for cats where there are,\n",
    "\n",
    "**34 True Positives**<br>\n",
    "**46 True Negatives**<br>\n",
    "**7 False Positives**<br>\n",
    "**113 False Negatives**\n",
    "\n",
    "The metrics are listed below:\n",
    "\n",
    "**Accuracy is 0.8**.<br>\n",
    "**Recall is 0.72 (rounded)**.<br>\n",
    "**Precision is 0.83 (rounded)**.\n",
    "\n"
   ]
  },
  {
   "cell_type": "markdown",
   "id": "3781789b-2b7b-4515-a430-34f793ba8338",
   "metadata": {},
   "source": [
    "---\n",
    "<div class=\"alert alert-info\">\n",
    "    \n",
    "3. **You are working as a datascientist working for Codeup Cody Creator (C3 for short), a rubber-duck manufacturing plant.**\n",
    "\n",
    "    Unfortunately, some of the rubber ducks that are produced will have defects. Your team has built several models that try to predict those defects, and the data from their predictions can be found here.\n",
    "    \n",
    "    Use the predictions dataset and pandas to help answer the following questions:<br>\n",
    "    \n",
    "    - **An internal team wants to investigate the cause of the manufacturing defects. They tell you that they want to identify as many of the ducks that have a defect as possible. Which evaluation metric would be appropriate here? Which model would be the best fit for this use case?**\n",
    "        \n",
    "    - **Recently several stories in the local news have come out highlighting customers who received a rubber duck with a defect, and portraying C3 in a bad light. The PR team has decided to launch a program that gives customers with a defective duck a vacation to Hawaii. They need you to predict which ducks will have defects, but tell you the really don't want to accidentally give out a vacation package when the duck really doesn't have a defect. Which evaluation metric would be appropriate here? Which model would be the best fit for this use case?**\n",
    "    </div>"
   ]
  },
  {
   "cell_type": "code",
   "execution_count": 7,
   "id": "86271773-e973-47e7-a11b-0fcbb936c6d6",
   "metadata": {},
   "outputs": [
    {
     "data": {
      "text/plain": [
       "No Defect    184\n",
       "Defect        16\n",
       "Name: actual, dtype: int64"
      ]
     },
     "execution_count": 7,
     "metadata": {},
     "output_type": "execute_result"
    }
   ],
   "source": [
    "# read in a csv file from lesson using pandas\n",
    "c3 = pd.read_csv('c3.csv')\n",
    "c3.actual.value_counts()"
   ]
  },
  {
   "cell_type": "code",
   "execution_count": 8,
   "id": "fb054516-a88b-470d-a9b0-5298ad347d89",
   "metadata": {},
   "outputs": [
    {
     "name": "stdout",
     "output_type": "stream",
     "text": [
      "<class 'pandas.core.frame.DataFrame'>\n",
      "RangeIndex: 200 entries, 0 to 199\n",
      "Data columns (total 4 columns):\n",
      " #   Column  Non-Null Count  Dtype \n",
      "---  ------  --------------  ----- \n",
      " 0   actual  200 non-null    object\n",
      " 1   model1  200 non-null    object\n",
      " 2   model2  200 non-null    object\n",
      " 3   model3  200 non-null    object\n",
      "dtypes: object(4)\n",
      "memory usage: 6.4+ KB\n"
     ]
    }
   ],
   "source": [
    "#info \n",
    "c3.info()"
   ]
  },
  {
   "cell_type": "code",
   "execution_count": 9,
   "id": "21694acc-ba4d-4c7d-8bb9-5609ff04c8f8",
   "metadata": {},
   "outputs": [
    {
     "data": {
      "text/html": [
       "<div>\n",
       "<style scoped>\n",
       "    .dataframe tbody tr th:only-of-type {\n",
       "        vertical-align: middle;\n",
       "    }\n",
       "\n",
       "    .dataframe tbody tr th {\n",
       "        vertical-align: top;\n",
       "    }\n",
       "\n",
       "    .dataframe thead th {\n",
       "        text-align: right;\n",
       "    }\n",
       "</style>\n",
       "<table border=\"1\" class=\"dataframe\">\n",
       "  <thead>\n",
       "    <tr style=\"text-align: right;\">\n",
       "      <th></th>\n",
       "      <th>actual</th>\n",
       "      <th>model1</th>\n",
       "      <th>model2</th>\n",
       "      <th>model3</th>\n",
       "    </tr>\n",
       "  </thead>\n",
       "  <tbody>\n",
       "    <tr>\n",
       "      <th>0</th>\n",
       "      <td>No Defect</td>\n",
       "      <td>No Defect</td>\n",
       "      <td>Defect</td>\n",
       "      <td>No Defect</td>\n",
       "    </tr>\n",
       "    <tr>\n",
       "      <th>1</th>\n",
       "      <td>No Defect</td>\n",
       "      <td>No Defect</td>\n",
       "      <td>Defect</td>\n",
       "      <td>Defect</td>\n",
       "    </tr>\n",
       "    <tr>\n",
       "      <th>2</th>\n",
       "      <td>No Defect</td>\n",
       "      <td>No Defect</td>\n",
       "      <td>Defect</td>\n",
       "      <td>No Defect</td>\n",
       "    </tr>\n",
       "    <tr>\n",
       "      <th>3</th>\n",
       "      <td>No Defect</td>\n",
       "      <td>Defect</td>\n",
       "      <td>Defect</td>\n",
       "      <td>Defect</td>\n",
       "    </tr>\n",
       "    <tr>\n",
       "      <th>4</th>\n",
       "      <td>No Defect</td>\n",
       "      <td>No Defect</td>\n",
       "      <td>Defect</td>\n",
       "      <td>No Defect</td>\n",
       "    </tr>\n",
       "  </tbody>\n",
       "</table>\n",
       "</div>"
      ],
      "text/plain": [
       "      actual     model1  model2     model3\n",
       "0  No Defect  No Defect  Defect  No Defect\n",
       "1  No Defect  No Defect  Defect     Defect\n",
       "2  No Defect  No Defect  Defect  No Defect\n",
       "3  No Defect     Defect  Defect     Defect\n",
       "4  No Defect  No Defect  Defect  No Defect"
      ]
     },
     "execution_count": 9,
     "metadata": {},
     "output_type": "execute_result"
    }
   ],
   "source": [
    "c3.head()"
   ]
  },
  {
   "cell_type": "markdown",
   "id": "e0a70a35-e77c-432a-9f3b-644f19ee272b",
   "metadata": {},
   "source": [
    "### Instructor aided work"
   ]
  },
  {
   "cell_type": "code",
   "execution_count": 10,
   "id": "5cccb1a4-ddf6-4603-9a25-f5a7fe564c70",
   "metadata": {},
   "outputs": [],
   "source": [
    "# used columns from actual and model1 assigned to eachother and found the mean\n",
    "model1_accuracy = (c3.actual == c3.model1).mean()"
   ]
  },
  {
   "cell_type": "code",
   "execution_count": 11,
   "id": "2a743da3-034f-4d7e-bf7e-ea111a520609",
   "metadata": {
    "scrolled": true
   },
   "outputs": [],
   "source": [
    "# used columns from actual and model2 assigned to eachother and found the mean\n",
    "model2_accuracy = (c3.actual == c3.model2).mean()"
   ]
  },
  {
   "cell_type": "code",
   "execution_count": 12,
   "id": "3d35e616-0ce8-414b-933d-cb2d99401381",
   "metadata": {},
   "outputs": [],
   "source": [
    "# used columns from actual and model3 assigned to eachother and found the mean\n",
    "model3_accuracy = (c3.actual == c3.model3).mean()"
   ]
  },
  {
   "cell_type": "code",
   "execution_count": 13,
   "id": "f46a609c-016a-4dc5-9638-bbb615225fac",
   "metadata": {
    "scrolled": true
   },
   "outputs": [
    {
     "name": "stdout",
     "output_type": "stream",
     "text": [
      "model1: 0.95 \n",
      "model2: 0.56 \n",
      "model3: 0.555\n",
      "\n",
      "\n",
      "After finding the mean of values from actual and models, we can determine that Model 1 was most accurate with a 0.95 value return.\n"
     ]
    }
   ],
   "source": [
    "print('model1:', model1_accuracy, '\\nmodel2:', model2_accuracy, '\\nmodel3:',  model3_accuracy)\n",
    "print('\\n\\nAfter finding the mean of values from actual and models, we can determine that Model 1 was most accurate with a 0.95 value return.')"
   ]
  },
  {
   "cell_type": "markdown",
   "id": "5586984d-ed9d-4acb-884c-4c7a983c8dc4",
   "metadata": {},
   "source": [
    "### ---------------------------------------"
   ]
  },
  {
   "cell_type": "markdown",
   "id": "70e51822-b6dc-4956-a3f1-51d2f7e9a593",
   "metadata": {
    "jp-MarkdownHeadingCollapsed": true
   },
   "source": [
    "### Model 1:"
   ]
  },
  {
   "cell_type": "code",
   "execution_count": 14,
   "id": "75cbbd10-022e-494e-bf33-30153b4bc8ee",
   "metadata": {},
   "outputs": [
    {
     "data": {
      "text/plain": [
       "'\\naccuracy = (tp + tn) / (tp + tn + fp + fn)\\nrecall = tp / (tp + fn)\\nprecision = tp / (tp + fp)\\n'"
      ]
     },
     "execution_count": 14,
     "metadata": {},
     "output_type": "execute_result"
    }
   ],
   "source": [
    "# Reference\n",
    "'''\n",
    "accuracy = (tp + tn) / (tp + tn + fp + fn)\n",
    "recall = tp / (tp + fn)\n",
    "precision = tp / (tp + fp)\n",
    "'''"
   ]
  },
  {
   "cell_type": "code",
   "execution_count": 15,
   "id": "dd285581-1745-46f8-98c2-29b8e5340e90",
   "metadata": {},
   "outputs": [],
   "source": [
    "# baseline will be a column of 'Defect' since it was is what the company needs to identify\n",
    "c3['baseline'] = 'Defect'"
   ]
  },
  {
   "cell_type": "code",
   "execution_count": 16,
   "id": "e212f565-93b5-483d-bac8-be8df89e9726",
   "metadata": {},
   "outputs": [
    {
     "data": {
      "text/html": [
       "<div>\n",
       "<style scoped>\n",
       "    .dataframe tbody tr th:only-of-type {\n",
       "        vertical-align: middle;\n",
       "    }\n",
       "\n",
       "    .dataframe tbody tr th {\n",
       "        vertical-align: top;\n",
       "    }\n",
       "\n",
       "    .dataframe thead th {\n",
       "        text-align: right;\n",
       "    }\n",
       "</style>\n",
       "<table border=\"1\" class=\"dataframe\">\n",
       "  <thead>\n",
       "    <tr style=\"text-align: right;\">\n",
       "      <th>model1</th>\n",
       "      <th>Defect</th>\n",
       "      <th>No Defect</th>\n",
       "    </tr>\n",
       "    <tr>\n",
       "      <th>actual</th>\n",
       "      <th></th>\n",
       "      <th></th>\n",
       "    </tr>\n",
       "  </thead>\n",
       "  <tbody>\n",
       "    <tr>\n",
       "      <th>Defect</th>\n",
       "      <td>8</td>\n",
       "      <td>8</td>\n",
       "    </tr>\n",
       "    <tr>\n",
       "      <th>No Defect</th>\n",
       "      <td>2</td>\n",
       "      <td>182</td>\n",
       "    </tr>\n",
       "  </tbody>\n",
       "</table>\n",
       "</div>"
      ],
      "text/plain": [
       "model1     Defect  No Defect\n",
       "actual                      \n",
       "Defect          8          8\n",
       "No Defect       2        182"
      ]
     },
     "execution_count": 16,
     "metadata": {},
     "output_type": "execute_result"
    }
   ],
   "source": [
    "# crosstab actual with model1\n",
    "pd.crosstab(c3.actual, c3.model1)"
   ]
  },
  {
   "cell_type": "code",
   "execution_count": 17,
   "id": "2213971b-cf06-46b8-9d3a-12ba5c1366ad",
   "metadata": {
    "scrolled": true
   },
   "outputs": [
    {
     "data": {
      "text/plain": [
       "array([[182,   2],\n",
       "       [  8,   8]])"
      ]
     },
     "execution_count": 17,
     "metadata": {},
     "output_type": "execute_result"
    }
   ],
   "source": [
    "confusion_matrix(c3.actual, c3.model1,\n",
    "                 labels = ('No Defect', 'Defect'))"
   ]
  },
  {
   "cell_type": "code",
   "execution_count": 18,
   "id": "56270d70-0f3e-46d5-93ad-6abd40391fef",
   "metadata": {},
   "outputs": [
    {
     "name": "stdout",
     "output_type": "stream",
     "text": [
      "   model 1 accuracy: 95.00%\n",
      "baseline accuracy: 8.00%\n"
     ]
    }
   ],
   "source": [
    "model_accuracy = (c3.model1 == c3.actual).mean()\n",
    "baseline_accuracy = (c3.baseline == c3.actual).mean()\n",
    "\n",
    "print(f'   model 1 accuracy: {model_accuracy:.2%}')\n",
    "print(f'baseline accuracy: {baseline_accuracy:.2%}')"
   ]
  },
  {
   "cell_type": "code",
   "execution_count": 19,
   "id": "9d6189ef-244d-483f-9ea2-7714e036ca29",
   "metadata": {},
   "outputs": [
    {
     "name": "stdout",
     "output_type": "stream",
     "text": [
      "   model 1 recall: 50.00%\n",
      "baseline recall: 100.00%\n"
     ]
    }
   ],
   "source": [
    "subset = c3[c3.actual == 'Defect']\n",
    "\n",
    "model_recall = (subset.model1 == subset.actual).mean()\n",
    "baseline_recall = (subset.baseline == subset.actual).mean()\n",
    "\n",
    "print(f'   model 1 recall: {model_recall:.2%}')\n",
    "print(f'baseline recall: {baseline_recall:.2%}')"
   ]
  },
  {
   "cell_type": "code",
   "execution_count": 20,
   "id": "3b349876-ce32-4e26-80fe-fa728b6efdba",
   "metadata": {},
   "outputs": [
    {
     "name": "stdout",
     "output_type": "stream",
     "text": [
      "model 1 precision: 80.00%\n",
      "baseline precision: 8.00%\n"
     ]
    }
   ],
   "source": [
    "subset = c3[c3.model1 == 'Defect']\n",
    "model_precision = (subset.model1 == subset.actual).mean()\n",
    "\n",
    "subset = c3[c3.baseline == 'Defect']\n",
    "baseline_precision = (subset.baseline == subset.actual).mean()\n",
    "\n",
    "print(f'model 1 precision: {model_precision:.2%}')\n",
    "print(f'baseline precision: {baseline_precision:.2%}')\n"
   ]
  },
  {
   "cell_type": "markdown",
   "id": "f3ceea90-070c-4902-a1bb-d125fc4aac45",
   "metadata": {
    "jp-MarkdownHeadingCollapsed": true
   },
   "source": [
    "#### ______________________________________"
   ]
  },
  {
   "cell_type": "markdown",
   "id": "46e4ccdf-a0ae-42a2-acbf-8aff2292b597",
   "metadata": {
    "jp-MarkdownHeadingCollapsed": true
   },
   "source": [
    "### Model 2:"
   ]
  },
  {
   "cell_type": "code",
   "execution_count": 21,
   "id": "3d6be9cc-da56-44e7-9fee-6200fee0b0d1",
   "metadata": {
    "scrolled": true
   },
   "outputs": [
    {
     "data": {
      "text/html": [
       "<div>\n",
       "<style scoped>\n",
       "    .dataframe tbody tr th:only-of-type {\n",
       "        vertical-align: middle;\n",
       "    }\n",
       "\n",
       "    .dataframe tbody tr th {\n",
       "        vertical-align: top;\n",
       "    }\n",
       "\n",
       "    .dataframe thead th {\n",
       "        text-align: right;\n",
       "    }\n",
       "</style>\n",
       "<table border=\"1\" class=\"dataframe\">\n",
       "  <thead>\n",
       "    <tr style=\"text-align: right;\">\n",
       "      <th>model2</th>\n",
       "      <th>Defect</th>\n",
       "      <th>No Defect</th>\n",
       "    </tr>\n",
       "    <tr>\n",
       "      <th>actual</th>\n",
       "      <th></th>\n",
       "      <th></th>\n",
       "    </tr>\n",
       "  </thead>\n",
       "  <tbody>\n",
       "    <tr>\n",
       "      <th>Defect</th>\n",
       "      <td>9</td>\n",
       "      <td>7</td>\n",
       "    </tr>\n",
       "    <tr>\n",
       "      <th>No Defect</th>\n",
       "      <td>81</td>\n",
       "      <td>103</td>\n",
       "    </tr>\n",
       "  </tbody>\n",
       "</table>\n",
       "</div>"
      ],
      "text/plain": [
       "model2     Defect  No Defect\n",
       "actual                      \n",
       "Defect          9          7\n",
       "No Defect      81        103"
      ]
     },
     "execution_count": 21,
     "metadata": {},
     "output_type": "execute_result"
    }
   ],
   "source": [
    "# crosstab actual with model2\n",
    "pd.crosstab(c3.actual, c3.model2)"
   ]
  },
  {
   "cell_type": "code",
   "execution_count": 22,
   "id": "b1ea070a-5e49-4bba-8bc5-97252c00cd99",
   "metadata": {},
   "outputs": [
    {
     "data": {
      "text/plain": [
       "array([[103,  81],\n",
       "       [  7,   9]])"
      ]
     },
     "execution_count": 22,
     "metadata": {},
     "output_type": "execute_result"
    }
   ],
   "source": [
    "confusion_matrix(c3.actual, c3.model2,\n",
    "                 labels = ('No Defect', 'Defect'))"
   ]
  },
  {
   "cell_type": "code",
   "execution_count": 23,
   "id": "50e1cc49-3830-4856-9f1d-1122eb0b649a",
   "metadata": {},
   "outputs": [
    {
     "name": "stdout",
     "output_type": "stream",
     "text": [
      "   model 2 accuracy: 56.00%\n",
      "baseline accuracy: 8.00%\n"
     ]
    }
   ],
   "source": [
    "model_accuracy = (c3.model2 == c3.actual).mean()\n",
    "baseline_accuracy = (c3.baseline == c3.actual).mean()\n",
    "\n",
    "print(f'   model 2 accuracy: {model_accuracy:.2%}')\n",
    "print(f'baseline accuracy: {baseline_accuracy:.2%}')"
   ]
  },
  {
   "cell_type": "code",
   "execution_count": 24,
   "id": "dcfd4743-347c-4831-88ff-cf9838b2d5b0",
   "metadata": {},
   "outputs": [
    {
     "name": "stdout",
     "output_type": "stream",
     "text": [
      "   model 2 recall: 56.25%\n",
      "baseline recall: 100.00%\n"
     ]
    }
   ],
   "source": [
    "subset = c3[c3.actual == 'Defect']\n",
    "\n",
    "model_recall = (subset.model2 == subset.actual).mean()\n",
    "baseline_recall = (subset.baseline == subset.actual).mean()\n",
    "\n",
    "print(f'   model 2 recall: {model_recall:.2%}')\n",
    "print(f'baseline recall: {baseline_recall:.2%}')"
   ]
  },
  {
   "cell_type": "code",
   "execution_count": 25,
   "id": "66d8e99c-e4b1-4fc2-b338-40abceed0e4c",
   "metadata": {},
   "outputs": [
    {
     "name": "stdout",
     "output_type": "stream",
     "text": [
      "model 2 precision: 10.00%\n",
      "baseline precision: 8.00%\n"
     ]
    }
   ],
   "source": [
    "subset = c3[c3.model2 == 'Defect']\n",
    "model_precision = (subset.model2 == subset.actual).mean()\n",
    "\n",
    "subset = c3[c3.baseline == 'Defect']\n",
    "baseline_precision = (subset.baseline == subset.actual).mean()\n",
    "\n",
    "print(f'model 2 precision: {model_precision:.2%}')\n",
    "print(f'baseline precision: {baseline_precision:.2%}')\n"
   ]
  },
  {
   "cell_type": "markdown",
   "id": "4f67ddc6-480a-4d47-b372-8d44c5e3e300",
   "metadata": {},
   "source": [
    "#### ______________________________________"
   ]
  },
  {
   "cell_type": "markdown",
   "id": "bc622e5b-b85e-4811-b525-faa774252b3c",
   "metadata": {
    "jp-MarkdownHeadingCollapsed": true
   },
   "source": [
    "### Model 3:"
   ]
  },
  {
   "cell_type": "code",
   "execution_count": 26,
   "id": "a8db48ae-9dae-4c9d-9731-3360dc0c2f1a",
   "metadata": {},
   "outputs": [
    {
     "data": {
      "text/html": [
       "<div>\n",
       "<style scoped>\n",
       "    .dataframe tbody tr th:only-of-type {\n",
       "        vertical-align: middle;\n",
       "    }\n",
       "\n",
       "    .dataframe tbody tr th {\n",
       "        vertical-align: top;\n",
       "    }\n",
       "\n",
       "    .dataframe thead th {\n",
       "        text-align: right;\n",
       "    }\n",
       "</style>\n",
       "<table border=\"1\" class=\"dataframe\">\n",
       "  <thead>\n",
       "    <tr style=\"text-align: right;\">\n",
       "      <th>model3</th>\n",
       "      <th>Defect</th>\n",
       "      <th>No Defect</th>\n",
       "    </tr>\n",
       "    <tr>\n",
       "      <th>actual</th>\n",
       "      <th></th>\n",
       "      <th></th>\n",
       "    </tr>\n",
       "  </thead>\n",
       "  <tbody>\n",
       "    <tr>\n",
       "      <th>Defect</th>\n",
       "      <td>13</td>\n",
       "      <td>3</td>\n",
       "    </tr>\n",
       "    <tr>\n",
       "      <th>No Defect</th>\n",
       "      <td>86</td>\n",
       "      <td>98</td>\n",
       "    </tr>\n",
       "  </tbody>\n",
       "</table>\n",
       "</div>"
      ],
      "text/plain": [
       "model3     Defect  No Defect\n",
       "actual                      \n",
       "Defect         13          3\n",
       "No Defect      86         98"
      ]
     },
     "execution_count": 26,
     "metadata": {},
     "output_type": "execute_result"
    }
   ],
   "source": [
    "# crosstab actual with model3\n",
    "pd.crosstab(c3.actual, c3.model3)"
   ]
  },
  {
   "cell_type": "code",
   "execution_count": 27,
   "id": "723a4e27-03b1-4376-95b4-b8ead3776cbf",
   "metadata": {},
   "outputs": [
    {
     "data": {
      "text/plain": [
       "array([[98, 86],\n",
       "       [ 3, 13]])"
      ]
     },
     "execution_count": 27,
     "metadata": {},
     "output_type": "execute_result"
    }
   ],
   "source": [
    "confusion_matrix(c3.actual, c3.model3,\n",
    "                 labels = ('No Defect', 'Defect'))"
   ]
  },
  {
   "cell_type": "code",
   "execution_count": 28,
   "id": "2961ffd8-03bb-46b5-a106-9ad444a5abc5",
   "metadata": {},
   "outputs": [
    {
     "name": "stdout",
     "output_type": "stream",
     "text": [
      "   model 3 accuracy: 55.50%\n",
      "baseline accuracy: 8.00%\n"
     ]
    }
   ],
   "source": [
    "model_accuracy = (c3.model3 == c3.actual).mean()\n",
    "baseline_accuracy = (c3.baseline == c3.actual).mean()\n",
    "\n",
    "print(f'   model 3 accuracy: {model_accuracy:.2%}')\n",
    "print(f'baseline accuracy: {baseline_accuracy:.2%}')"
   ]
  },
  {
   "cell_type": "code",
   "execution_count": 29,
   "id": "876068e0-e17b-4693-baab-83e4755bafbc",
   "metadata": {},
   "outputs": [
    {
     "name": "stdout",
     "output_type": "stream",
     "text": [
      "   model 3 recall: 81.25%\n",
      "baseline recall: 100.00%\n"
     ]
    }
   ],
   "source": [
    "subset = c3[c3.actual == 'Defect']\n",
    "\n",
    "model_recall = (subset.model3 == subset.actual).mean()\n",
    "baseline_recall = (subset.baseline == subset.actual).mean()\n",
    "\n",
    "print(f'   model 3 recall: {model_recall:.2%}')\n",
    "print(f'baseline recall: {baseline_recall:.2%}')"
   ]
  },
  {
   "cell_type": "code",
   "execution_count": 30,
   "id": "9c429176-94a5-4d05-aa0a-8222b27093db",
   "metadata": {},
   "outputs": [
    {
     "name": "stdout",
     "output_type": "stream",
     "text": [
      "model 3 precision: 10.00%\n",
      "baseline precision: 8.00%\n"
     ]
    }
   ],
   "source": [
    "subset = c3[c3.model2 == 'Defect']\n",
    "model_precision = (subset.model2 == subset.actual).mean()\n",
    "\n",
    "subset = c3[c3.baseline == 'Defect']\n",
    "baseline_precision = (subset.baseline == subset.actual).mean()\n",
    "\n",
    "print(f'model 3 precision: {model_precision:.2%}')\n",
    "print(f'baseline precision: {baseline_precision:.2%}')\n"
   ]
  },
  {
   "cell_type": "markdown",
   "id": "12afbd8a-589d-40fc-8ed7-ae404089f1ac",
   "metadata": {},
   "source": [
    "### Takeaway:\n",
    "\n",
    "**Part 1: From the models we can determine that the recall evaluation metric is best used to identify as many of the ducks that have a defect as possible and model 3 is best fit for this use**\n",
    "\n",
    "**Part 2: From the models displayed above and aving a metric calculated for each we can discern that the precision metric would be the best evaluation metric for predicting ducks with defects**"
   ]
  },
  {
   "cell_type": "markdown",
   "id": "8342b7ff-7a29-4d72-a87e-3e07509c56ab",
   "metadata": {},
   "source": [
    "---\n",
    "<div class=\"alert alert-info\">\n",
    "    \n",
    "4. **You are working as a data scientist for Gives You Paws ™, a subscription based service that shows you cute pictures of dogs or cats (or both for an additional fee).**\n",
    "\n",
    "*At Gives You Paws*, anyone can upload pictures of their cats or dogs. The photos are then put through a two step process. First an automated algorithm tags pictures as either a cat or a dog (Phase I). Next, the photos that have been initially identified are put through another round of review, possibly with some human oversight, before being presented to the users (Phase II).\n",
    "\n",
    "Several models have already been developed with the data, and you can find their results here.\n",
    "\n",
    "Given this dataset, use pandas to create a baseline model (i.e. a model that just predicts the most common class) and answer the following questions:\n",
    "\n",
    "a. **In terms of accuracy, how do the various models compare to the baseline model? Are any of the models better than the baseline?**<br>\n",
    "\n",
    "b. **Suppose you are working on a team that solely deals with dog pictures. Which of these models would you recommend?**<br>\n",
    "\n",
    "c. **Suppose you are working on a team that solely deals with cat pictures. Which of these models would you recommend?**<br>\n",
    "</div>"
   ]
  },
  {
   "cell_type": "markdown",
   "id": "f74aa337-d108-48af-869b-acb937842a49",
   "metadata": {},
   "source": [
    "**dog is positive**<br>\n",
    "**cat is negative**"
   ]
  },
  {
   "cell_type": "code",
   "execution_count": 31,
   "id": "d11c787c-a029-4ce1-8405-6907c1869167",
   "metadata": {},
   "outputs": [
    {
     "name": "stdout",
     "output_type": "stream",
     "text": [
      "<class 'pandas.core.frame.DataFrame'>\n",
      "RangeIndex: 5000 entries, 0 to 4999\n",
      "Data columns (total 5 columns):\n",
      " #   Column  Non-Null Count  Dtype \n",
      "---  ------  --------------  ----- \n",
      " 0   actual  5000 non-null   object\n",
      " 1   model1  5000 non-null   object\n",
      " 2   model2  5000 non-null   object\n",
      " 3   model3  5000 non-null   object\n",
      " 4   model4  5000 non-null   object\n",
      "dtypes: object(5)\n",
      "memory usage: 195.4+ KB\n"
     ]
    }
   ],
   "source": [
    "df = pd.read_csv('gives_you_paws.csv')\n",
    "df.info()"
   ]
  },
  {
   "cell_type": "code",
   "execution_count": 32,
   "id": "4d7a140b-b833-4ed1-b25b-42abdc03f07d",
   "metadata": {},
   "outputs": [
    {
     "data": {
      "text/plain": [
       "dog    3254\n",
       "cat    1746\n",
       "Name: actual, dtype: int64"
      ]
     },
     "execution_count": 32,
     "metadata": {},
     "output_type": "execute_result"
    }
   ],
   "source": [
    "df.actual.value_counts()"
   ]
  },
  {
   "cell_type": "code",
   "execution_count": 33,
   "id": "0d86ec33-7ce9-49a2-9069-1f9316e2b4ce",
   "metadata": {},
   "outputs": [],
   "source": [
    "df['baseline'] = 'dog'"
   ]
  },
  {
   "cell_type": "markdown",
   "id": "784075be-6202-4384-aed7-2bcb65acf0d8",
   "metadata": {},
   "source": [
    "### Model Evaluation Metrics for Models (1-4)"
   ]
  },
  {
   "attachments": {},
   "cell_type": "markdown",
   "id": "8b858db5-126e-4e4b-8baa-e505eeb894dd",
   "metadata": {},
   "source": [
    "#### ______________________________________\n",
    "\n",
    "##### **Model 1:**"
   ]
  },
  {
   "cell_type": "code",
   "execution_count": 34,
   "id": "b81bb895-b33a-420f-9aa1-a7e783933966",
   "metadata": {},
   "outputs": [
    {
     "data": {
      "text/html": [
       "<div>\n",
       "<style scoped>\n",
       "    .dataframe tbody tr th:only-of-type {\n",
       "        vertical-align: middle;\n",
       "    }\n",
       "\n",
       "    .dataframe tbody tr th {\n",
       "        vertical-align: top;\n",
       "    }\n",
       "\n",
       "    .dataframe thead th {\n",
       "        text-align: right;\n",
       "    }\n",
       "</style>\n",
       "<table border=\"1\" class=\"dataframe\">\n",
       "  <thead>\n",
       "    <tr style=\"text-align: right;\">\n",
       "      <th>model1</th>\n",
       "      <th>cat</th>\n",
       "      <th>dog</th>\n",
       "    </tr>\n",
       "    <tr>\n",
       "      <th>actual</th>\n",
       "      <th></th>\n",
       "      <th></th>\n",
       "    </tr>\n",
       "  </thead>\n",
       "  <tbody>\n",
       "    <tr>\n",
       "      <th>cat</th>\n",
       "      <td>1423</td>\n",
       "      <td>323</td>\n",
       "    </tr>\n",
       "    <tr>\n",
       "      <th>dog</th>\n",
       "      <td>640</td>\n",
       "      <td>2614</td>\n",
       "    </tr>\n",
       "  </tbody>\n",
       "</table>\n",
       "</div>"
      ],
      "text/plain": [
       "model1   cat   dog\n",
       "actual            \n",
       "cat     1423   323\n",
       "dog      640  2614"
      ]
     },
     "execution_count": 34,
     "metadata": {},
     "output_type": "execute_result"
    }
   ],
   "source": [
    "pd.crosstab(df.actual,df.model1)"
   ]
  },
  {
   "cell_type": "code",
   "execution_count": 35,
   "id": "aa8b6587-82b0-4831-8b2f-b56bf5f70b90",
   "metadata": {},
   "outputs": [
    {
     "name": "stdout",
     "output_type": "stream",
     "text": [
      "              precision    recall  f1-score   support\n",
      "\n",
      "         cat       0.69      0.82      0.75      1746\n",
      "         dog       0.89      0.80      0.84      3254\n",
      "\n",
      "    accuracy                           0.81      5000\n",
      "   macro avg       0.79      0.81      0.80      5000\n",
      "weighted avg       0.82      0.81      0.81      5000\n",
      "\n"
     ]
    }
   ],
   "source": [
    "#print classification report for model\n",
    "print(classification_report(df.actual, df.model1))"
   ]
  },
  {
   "cell_type": "code",
   "execution_count": 36,
   "id": "54a4a567-fa72-4ccf-932b-59f44f180085",
   "metadata": {},
   "outputs": [
    {
     "name": "stdout",
     "output_type": "stream",
     "text": [
      "   model 1 accuracy: 80.74%\n",
      "baseline accuracy: 65.08%\n"
     ]
    }
   ],
   "source": [
    "model_accuracy = (df.model1 == df.actual).mean()\n",
    "baseline_accuracy = (df.baseline == df.actual).mean()\n",
    "\n",
    "print(f'   model 1 accuracy: {model_accuracy:.2%}')\n",
    "print(f'baseline accuracy: {baseline_accuracy:.2%}')"
   ]
  },
  {
   "cell_type": "code",
   "execution_count": 37,
   "id": "ec254d0b-5809-4e9d-81f5-35197ffdf992",
   "metadata": {},
   "outputs": [
    {
     "name": "stdout",
     "output_type": "stream",
     "text": [
      "   model 1 recall: 80.33%\n",
      "baseline recall: 100.00%\n"
     ]
    }
   ],
   "source": [
    "subset = df[df.actual == 'dog']\n",
    "\n",
    "model_recall = (subset.model1 == subset.actual).mean()\n",
    "baseline_recall = (subset.baseline == subset.actual).mean()\n",
    "\n",
    "print(f'   model 1 recall: {model_recall:.2%}')\n",
    "print(f'baseline recall: {baseline_recall:.2%}')"
   ]
  },
  {
   "cell_type": "code",
   "execution_count": 38,
   "id": "e446baa3-3357-4f3b-b06f-bb2ad9ce478d",
   "metadata": {},
   "outputs": [
    {
     "name": "stdout",
     "output_type": "stream",
     "text": [
      "model 1 precision: 89.00%\n",
      "baseline precision: 65.08%\n"
     ]
    }
   ],
   "source": [
    "subset = df[df.model1 == 'dog']\n",
    "model_precision = (subset.model1 == subset.actual).mean()\n",
    "\n",
    "subset = df[df.baseline == 'dog']\n",
    "baseline_precision = (subset.baseline == subset.actual).mean()\n",
    "\n",
    "print(f'model 1 precision: {model_precision:.2%}')\n",
    "print(f'baseline precision: {baseline_precision:.2%}')\n"
   ]
  },
  {
   "attachments": {},
   "cell_type": "markdown",
   "id": "09a692b6-385c-4764-b6ae-3fc26f3feafa",
   "metadata": {},
   "source": [
    "#### ______________________________________\n",
    "\n",
    "##### **Model 2:**"
   ]
  },
  {
   "cell_type": "code",
   "execution_count": 39,
   "id": "8bd7fc51-aee3-4c56-943a-b9a7cba5c3ec",
   "metadata": {},
   "outputs": [
    {
     "data": {
      "text/html": [
       "<div>\n",
       "<style scoped>\n",
       "    .dataframe tbody tr th:only-of-type {\n",
       "        vertical-align: middle;\n",
       "    }\n",
       "\n",
       "    .dataframe tbody tr th {\n",
       "        vertical-align: top;\n",
       "    }\n",
       "\n",
       "    .dataframe thead th {\n",
       "        text-align: right;\n",
       "    }\n",
       "</style>\n",
       "<table border=\"1\" class=\"dataframe\">\n",
       "  <thead>\n",
       "    <tr style=\"text-align: right;\">\n",
       "      <th>model2</th>\n",
       "      <th>cat</th>\n",
       "      <th>dog</th>\n",
       "    </tr>\n",
       "    <tr>\n",
       "      <th>actual</th>\n",
       "      <th></th>\n",
       "      <th></th>\n",
       "    </tr>\n",
       "  </thead>\n",
       "  <tbody>\n",
       "    <tr>\n",
       "      <th>cat</th>\n",
       "      <td>1555</td>\n",
       "      <td>191</td>\n",
       "    </tr>\n",
       "    <tr>\n",
       "      <th>dog</th>\n",
       "      <td>1657</td>\n",
       "      <td>1597</td>\n",
       "    </tr>\n",
       "  </tbody>\n",
       "</table>\n",
       "</div>"
      ],
      "text/plain": [
       "model2   cat   dog\n",
       "actual            \n",
       "cat     1555   191\n",
       "dog     1657  1597"
      ]
     },
     "execution_count": 39,
     "metadata": {},
     "output_type": "execute_result"
    }
   ],
   "source": [
    "pd.crosstab(df.actual,df.model2)"
   ]
  },
  {
   "cell_type": "code",
   "execution_count": 40,
   "id": "afa0f2f9-7058-4839-8cf9-0d1050b03c3e",
   "metadata": {},
   "outputs": [
    {
     "name": "stdout",
     "output_type": "stream",
     "text": [
      "              precision    recall  f1-score   support\n",
      "\n",
      "         cat       0.48      0.89      0.63      1746\n",
      "         dog       0.89      0.49      0.63      3254\n",
      "\n",
      "    accuracy                           0.63      5000\n",
      "   macro avg       0.69      0.69      0.63      5000\n",
      "weighted avg       0.75      0.63      0.63      5000\n",
      "\n"
     ]
    }
   ],
   "source": [
    "#print classification report for model\n",
    "print(classification_report(df.actual, df.model2))"
   ]
  },
  {
   "cell_type": "code",
   "execution_count": 41,
   "id": "03afbd9a-d886-4b05-9751-78e7dd9dcbb2",
   "metadata": {},
   "outputs": [
    {
     "name": "stdout",
     "output_type": "stream",
     "text": [
      "   model 2 accuracy: 63.04%\n",
      "baseline accuracy: 65.08%\n"
     ]
    }
   ],
   "source": [
    "model_accuracy = (df.model2 == df.actual).mean()\n",
    "baseline_accuracy = (df.baseline == df.actual).mean()\n",
    "\n",
    "print(f'   model 2 accuracy: {model_accuracy:.2%}')\n",
    "print(f'baseline accuracy: {baseline_accuracy:.2%}')"
   ]
  },
  {
   "cell_type": "code",
   "execution_count": 42,
   "id": "4d6e8661-8ba8-4559-af0d-ce343a455929",
   "metadata": {},
   "outputs": [
    {
     "name": "stdout",
     "output_type": "stream",
     "text": [
      "   model 2 recall: 49.08%\n",
      "baseline recall: 100.00%\n"
     ]
    }
   ],
   "source": [
    "subset = df[df.actual == 'dog']\n",
    "\n",
    "model_recall = (subset.model2 == subset.actual).mean()\n",
    "baseline_recall = (subset.baseline == subset.actual).mean()\n",
    "\n",
    "print(f'   model 2 recall: {model_recall:.2%}')\n",
    "print(f'baseline recall: {baseline_recall:.2%}')"
   ]
  },
  {
   "cell_type": "code",
   "execution_count": 43,
   "id": "8b2eecb4-5799-4c95-822e-4419e9444668",
   "metadata": {},
   "outputs": [
    {
     "name": "stdout",
     "output_type": "stream",
     "text": [
      "model 2 precision: 89.32%\n",
      "baseline precision: 65.08%\n"
     ]
    }
   ],
   "source": [
    "subset = df[df.model2 == 'dog']\n",
    "model_precision = (subset.model2 == subset.actual).mean()\n",
    "\n",
    "subset = df[df.baseline == 'dog']\n",
    "baseline_precision = (subset.baseline == subset.actual).mean()\n",
    "\n",
    "print(f'model 2 precision: {model_precision:.2%}')\n",
    "print(f'baseline precision: {baseline_precision:.2%}')"
   ]
  },
  {
   "attachments": {},
   "cell_type": "markdown",
   "id": "12a17f87-d70f-483e-9308-64984b014a4b",
   "metadata": {},
   "source": [
    "#### ______________________________________\n",
    "\n",
    "##### **Model 3:**"
   ]
  },
  {
   "cell_type": "code",
   "execution_count": 44,
   "id": "8afbce50-4c9b-42ea-ac9f-ecb5e5dfd221",
   "metadata": {},
   "outputs": [
    {
     "data": {
      "text/html": [
       "<div>\n",
       "<style scoped>\n",
       "    .dataframe tbody tr th:only-of-type {\n",
       "        vertical-align: middle;\n",
       "    }\n",
       "\n",
       "    .dataframe tbody tr th {\n",
       "        vertical-align: top;\n",
       "    }\n",
       "\n",
       "    .dataframe thead th {\n",
       "        text-align: right;\n",
       "    }\n",
       "</style>\n",
       "<table border=\"1\" class=\"dataframe\">\n",
       "  <thead>\n",
       "    <tr style=\"text-align: right;\">\n",
       "      <th>model3</th>\n",
       "      <th>cat</th>\n",
       "      <th>dog</th>\n",
       "    </tr>\n",
       "    <tr>\n",
       "      <th>actual</th>\n",
       "      <th></th>\n",
       "      <th></th>\n",
       "    </tr>\n",
       "  </thead>\n",
       "  <tbody>\n",
       "    <tr>\n",
       "      <th>cat</th>\n",
       "      <td>893</td>\n",
       "      <td>853</td>\n",
       "    </tr>\n",
       "    <tr>\n",
       "      <th>dog</th>\n",
       "      <td>1599</td>\n",
       "      <td>1655</td>\n",
       "    </tr>\n",
       "  </tbody>\n",
       "</table>\n",
       "</div>"
      ],
      "text/plain": [
       "model3   cat   dog\n",
       "actual            \n",
       "cat      893   853\n",
       "dog     1599  1655"
      ]
     },
     "execution_count": 44,
     "metadata": {},
     "output_type": "execute_result"
    }
   ],
   "source": [
    "pd.crosstab(df.actual,df.model3)"
   ]
  },
  {
   "cell_type": "code",
   "execution_count": 45,
   "id": "991150a8-3b5a-4770-b220-45ba719583b0",
   "metadata": {},
   "outputs": [
    {
     "name": "stdout",
     "output_type": "stream",
     "text": [
      "              precision    recall  f1-score   support\n",
      "\n",
      "         cat       0.36      0.51      0.42      1746\n",
      "         dog       0.66      0.51      0.57      3254\n",
      "\n",
      "    accuracy                           0.51      5000\n",
      "   macro avg       0.51      0.51      0.50      5000\n",
      "weighted avg       0.55      0.51      0.52      5000\n",
      "\n"
     ]
    }
   ],
   "source": [
    "#print classification report for model\n",
    "print(classification_report(df.actual, df.model3))"
   ]
  },
  {
   "cell_type": "code",
   "execution_count": 46,
   "id": "60f74f34-0acd-4028-9070-8b6a9f03ae6e",
   "metadata": {},
   "outputs": [
    {
     "name": "stdout",
     "output_type": "stream",
     "text": [
      "   model 3 accuracy: 50.96%\n",
      "baseline accuracy: 65.08%\n"
     ]
    }
   ],
   "source": [
    "model_accuracy = (df.model3 == df.actual).mean()\n",
    "baseline_accuracy = (df.baseline == df.actual).mean()\n",
    "\n",
    "print(f'   model 3 accuracy: {model_accuracy:.2%}')\n",
    "print(f'baseline accuracy: {baseline_accuracy:.2%}')"
   ]
  },
  {
   "cell_type": "code",
   "execution_count": 47,
   "id": "ad2a39dd-e9de-437f-8b19-f3495bbf97ea",
   "metadata": {},
   "outputs": [
    {
     "name": "stdout",
     "output_type": "stream",
     "text": [
      "   model 3 recall: 50.86%\n",
      "baseline recall: 100.00%\n"
     ]
    }
   ],
   "source": [
    "subset = df[df.actual == 'dog']\n",
    "\n",
    "model_recall = (subset.model3 == subset.actual).mean()\n",
    "baseline_recall = (subset.baseline == subset.actual).mean()\n",
    "\n",
    "print(f'   model 3 recall: {model_recall:.2%}')\n",
    "print(f'baseline recall: {baseline_recall:.2%}')"
   ]
  },
  {
   "cell_type": "code",
   "execution_count": 48,
   "id": "742b19ba-8349-4bad-bf1d-1f22261553f1",
   "metadata": {},
   "outputs": [
    {
     "name": "stdout",
     "output_type": "stream",
     "text": [
      "model 3 precision: 65.99%\n",
      "baseline precision: 65.08%\n"
     ]
    }
   ],
   "source": [
    "subset = df[df.model3 == 'dog']\n",
    "model_precision = (subset.model3 == subset.actual).mean()\n",
    "\n",
    "subset = df[df.baseline == 'dog']\n",
    "baseline_precision = (subset.baseline == subset.actual).mean()\n",
    "\n",
    "print(f'model 3 precision: {model_precision:.2%}')\n",
    "print(f'baseline precision: {baseline_precision:.2%}')"
   ]
  },
  {
   "attachments": {},
   "cell_type": "markdown",
   "id": "3d2eb13e-6a56-4cc4-aee2-7c5777ea0f02",
   "metadata": {},
   "source": [
    "#### ______________________________________\n",
    "\n",
    "##### **Model 4:**"
   ]
  },
  {
   "cell_type": "code",
   "execution_count": 49,
   "id": "80755243-bdc4-488c-9157-b6762b5d496c",
   "metadata": {},
   "outputs": [
    {
     "data": {
      "text/html": [
       "<div>\n",
       "<style scoped>\n",
       "    .dataframe tbody tr th:only-of-type {\n",
       "        vertical-align: middle;\n",
       "    }\n",
       "\n",
       "    .dataframe tbody tr th {\n",
       "        vertical-align: top;\n",
       "    }\n",
       "\n",
       "    .dataframe thead th {\n",
       "        text-align: right;\n",
       "    }\n",
       "</style>\n",
       "<table border=\"1\" class=\"dataframe\">\n",
       "  <thead>\n",
       "    <tr style=\"text-align: right;\">\n",
       "      <th>model4</th>\n",
       "      <th>cat</th>\n",
       "      <th>dog</th>\n",
       "    </tr>\n",
       "    <tr>\n",
       "      <th>actual</th>\n",
       "      <th></th>\n",
       "      <th></th>\n",
       "    </tr>\n",
       "  </thead>\n",
       "  <tbody>\n",
       "    <tr>\n",
       "      <th>cat</th>\n",
       "      <td>603</td>\n",
       "      <td>1143</td>\n",
       "    </tr>\n",
       "    <tr>\n",
       "      <th>dog</th>\n",
       "      <td>144</td>\n",
       "      <td>3110</td>\n",
       "    </tr>\n",
       "  </tbody>\n",
       "</table>\n",
       "</div>"
      ],
      "text/plain": [
       "model4  cat   dog\n",
       "actual           \n",
       "cat     603  1143\n",
       "dog     144  3110"
      ]
     },
     "execution_count": 49,
     "metadata": {},
     "output_type": "execute_result"
    }
   ],
   "source": [
    "pd.crosstab(df.actual,df.model4)"
   ]
  },
  {
   "cell_type": "code",
   "execution_count": 50,
   "id": "a0b15aa7-3242-4456-b309-3f4847db252c",
   "metadata": {},
   "outputs": [
    {
     "name": "stdout",
     "output_type": "stream",
     "text": [
      "              precision    recall  f1-score   support\n",
      "\n",
      "         cat       0.81      0.35      0.48      1746\n",
      "         dog       0.73      0.96      0.83      3254\n",
      "\n",
      "    accuracy                           0.74      5000\n",
      "   macro avg       0.77      0.65      0.66      5000\n",
      "weighted avg       0.76      0.74      0.71      5000\n",
      "\n"
     ]
    }
   ],
   "source": [
    "#print classification report for model\n",
    "print(classification_report(df.actual, df.model4))"
   ]
  },
  {
   "cell_type": "code",
   "execution_count": 51,
   "id": "a77d7fe4-9b11-4026-9b12-d670ceed06ec",
   "metadata": {},
   "outputs": [
    {
     "name": "stdout",
     "output_type": "stream",
     "text": [
      "   model 4 accuracy: 74.26%\n",
      "baseline accuracy: 65.08%\n"
     ]
    }
   ],
   "source": [
    "model_accuracy = (df.model4 == df.actual).mean()\n",
    "baseline_accuracy = (df.baseline == df.actual).mean()\n",
    "\n",
    "print(f'   model 4 accuracy: {model_accuracy:.2%}')\n",
    "print(f'baseline accuracy: {baseline_accuracy:.2%}')"
   ]
  },
  {
   "cell_type": "code",
   "execution_count": 52,
   "id": "378f7c76-9e01-4f03-9ffd-809fbdcd05f9",
   "metadata": {},
   "outputs": [
    {
     "name": "stdout",
     "output_type": "stream",
     "text": [
      "   model 4 recall: 95.57%\n",
      "baseline recall: 100.00%\n"
     ]
    }
   ],
   "source": [
    "subset = df[df.actual == 'dog']\n",
    "\n",
    "model_recall = (subset.model4 == subset.actual).mean()\n",
    "baseline_recall = (subset.baseline == subset.actual).mean()\n",
    "\n",
    "print(f'   model 4 recall: {model_recall:.2%}')\n",
    "print(f'baseline recall: {baseline_recall:.2%}')"
   ]
  },
  {
   "cell_type": "code",
   "execution_count": 53,
   "id": "02d66ed7-e4ea-4e4a-9c25-c0d6f4d5ab87",
   "metadata": {
    "scrolled": true
   },
   "outputs": [
    {
     "name": "stdout",
     "output_type": "stream",
     "text": [
      "model 4 precision: 73.12%\n",
      "baseline precision: 65.08%\n"
     ]
    }
   ],
   "source": [
    "subset = df[df.model4 == 'dog']\n",
    "model_precision = (subset.model4 == subset.actual).mean()\n",
    "\n",
    "subset = df[df.baseline == 'dog']\n",
    "baseline_precision = (subset.baseline == subset.actual).mean()\n",
    "\n",
    "print(f'model 4 precision: {model_precision:.2%}')\n",
    "print(f'baseline precision: {baseline_precision:.2%}')"
   ]
  },
  {
   "cell_type": "markdown",
   "id": "eb73c124-b52b-4e07-bca7-f9e9a5dc2432",
   "metadata": {},
   "source": [
    "#### ______________________________________\n",
    "\n",
    "**cat is positive**\n",
    "**dog is negative**"
   ]
  },
  {
   "cell_type": "code",
   "execution_count": 54,
   "id": "853f7cce-6997-4c8f-ae8c-20cc3b044eed",
   "metadata": {},
   "outputs": [
    {
     "name": "stdout",
     "output_type": "stream",
     "text": [
      "model1\n"
     ]
    },
    {
     "data": {
      "text/html": [
       "<div>\n",
       "<style scoped>\n",
       "    .dataframe tbody tr th:only-of-type {\n",
       "        vertical-align: middle;\n",
       "    }\n",
       "\n",
       "    .dataframe tbody tr th {\n",
       "        vertical-align: top;\n",
       "    }\n",
       "\n",
       "    .dataframe thead th {\n",
       "        text-align: right;\n",
       "    }\n",
       "</style>\n",
       "<table border=\"1\" class=\"dataframe\">\n",
       "  <thead>\n",
       "    <tr style=\"text-align: right;\">\n",
       "      <th></th>\n",
       "      <th>cat</th>\n",
       "      <th>dog</th>\n",
       "      <th>accuracy</th>\n",
       "      <th>macro avg</th>\n",
       "      <th>weighted avg</th>\n",
       "    </tr>\n",
       "  </thead>\n",
       "  <tbody>\n",
       "    <tr>\n",
       "      <th>precision</th>\n",
       "      <td>0.689772</td>\n",
       "      <td>0.890024</td>\n",
       "      <td>0.8074</td>\n",
       "      <td>0.789898</td>\n",
       "      <td>0.820096</td>\n",
       "    </tr>\n",
       "    <tr>\n",
       "      <th>recall</th>\n",
       "      <td>0.815006</td>\n",
       "      <td>0.803319</td>\n",
       "      <td>0.8074</td>\n",
       "      <td>0.809162</td>\n",
       "      <td>0.807400</td>\n",
       "    </tr>\n",
       "    <tr>\n",
       "      <th>f1-score</th>\n",
       "      <td>0.747178</td>\n",
       "      <td>0.844452</td>\n",
       "      <td>0.8074</td>\n",
       "      <td>0.795815</td>\n",
       "      <td>0.810484</td>\n",
       "    </tr>\n",
       "    <tr>\n",
       "      <th>support</th>\n",
       "      <td>1746.000000</td>\n",
       "      <td>3254.000000</td>\n",
       "      <td>0.8074</td>\n",
       "      <td>5000.000000</td>\n",
       "      <td>5000.000000</td>\n",
       "    </tr>\n",
       "  </tbody>\n",
       "</table>\n",
       "</div>"
      ],
      "text/plain": [
       "                   cat          dog  accuracy    macro avg  weighted avg\n",
       "precision     0.689772     0.890024    0.8074     0.789898      0.820096\n",
       "recall        0.815006     0.803319    0.8074     0.809162      0.807400\n",
       "f1-score      0.747178     0.844452    0.8074     0.795815      0.810484\n",
       "support    1746.000000  3254.000000    0.8074  5000.000000   5000.000000"
      ]
     },
     "execution_count": 54,
     "metadata": {},
     "output_type": "execute_result"
    }
   ],
   "source": [
    "print(\"model1\")\n",
    "pd.DataFrame(classification_report(df.actual, df.model1,\n",
    "                                   labels = ['cat', 'dog'],\n",
    "                                   output_dict=True))"
   ]
  },
  {
   "cell_type": "code",
   "execution_count": 55,
   "id": "8c10f374-2f6e-4f87-88e0-18816c0e368c",
   "metadata": {},
   "outputs": [
    {
     "name": "stdout",
     "output_type": "stream",
     "text": [
      "model2\n"
     ]
    },
    {
     "data": {
      "text/html": [
       "<div>\n",
       "<style scoped>\n",
       "    .dataframe tbody tr th:only-of-type {\n",
       "        vertical-align: middle;\n",
       "    }\n",
       "\n",
       "    .dataframe tbody tr th {\n",
       "        vertical-align: top;\n",
       "    }\n",
       "\n",
       "    .dataframe thead th {\n",
       "        text-align: right;\n",
       "    }\n",
       "</style>\n",
       "<table border=\"1\" class=\"dataframe\">\n",
       "  <thead>\n",
       "    <tr style=\"text-align: right;\">\n",
       "      <th></th>\n",
       "      <th>cat</th>\n",
       "      <th>dog</th>\n",
       "      <th>accuracy</th>\n",
       "      <th>macro avg</th>\n",
       "      <th>weighted avg</th>\n",
       "    </tr>\n",
       "  </thead>\n",
       "  <tbody>\n",
       "    <tr>\n",
       "      <th>precision</th>\n",
       "      <td>0.484122</td>\n",
       "      <td>0.893177</td>\n",
       "      <td>0.6304</td>\n",
       "      <td>0.688649</td>\n",
       "      <td>0.750335</td>\n",
       "    </tr>\n",
       "    <tr>\n",
       "      <th>recall</th>\n",
       "      <td>0.890607</td>\n",
       "      <td>0.490781</td>\n",
       "      <td>0.6304</td>\n",
       "      <td>0.690694</td>\n",
       "      <td>0.630400</td>\n",
       "    </tr>\n",
       "    <tr>\n",
       "      <th>f1-score</th>\n",
       "      <td>0.627269</td>\n",
       "      <td>0.633479</td>\n",
       "      <td>0.6304</td>\n",
       "      <td>0.630374</td>\n",
       "      <td>0.631310</td>\n",
       "    </tr>\n",
       "    <tr>\n",
       "      <th>support</th>\n",
       "      <td>1746.000000</td>\n",
       "      <td>3254.000000</td>\n",
       "      <td>0.6304</td>\n",
       "      <td>5000.000000</td>\n",
       "      <td>5000.000000</td>\n",
       "    </tr>\n",
       "  </tbody>\n",
       "</table>\n",
       "</div>"
      ],
      "text/plain": [
       "                   cat          dog  accuracy    macro avg  weighted avg\n",
       "precision     0.484122     0.893177    0.6304     0.688649      0.750335\n",
       "recall        0.890607     0.490781    0.6304     0.690694      0.630400\n",
       "f1-score      0.627269     0.633479    0.6304     0.630374      0.631310\n",
       "support    1746.000000  3254.000000    0.6304  5000.000000   5000.000000"
      ]
     },
     "execution_count": 55,
     "metadata": {},
     "output_type": "execute_result"
    }
   ],
   "source": [
    "print(\"model2\")\n",
    "pd.DataFrame(classification_report(df.actual, df.model2,\n",
    "                                   labels = ['cat', 'dog'],\n",
    "                                   output_dict=True))"
   ]
  },
  {
   "cell_type": "code",
   "execution_count": 56,
   "id": "49907dbf-e7ef-4dd6-bed2-1da3dfee11de",
   "metadata": {},
   "outputs": [
    {
     "name": "stdout",
     "output_type": "stream",
     "text": [
      "model3\n"
     ]
    },
    {
     "data": {
      "text/html": [
       "<div>\n",
       "<style scoped>\n",
       "    .dataframe tbody tr th:only-of-type {\n",
       "        vertical-align: middle;\n",
       "    }\n",
       "\n",
       "    .dataframe tbody tr th {\n",
       "        vertical-align: top;\n",
       "    }\n",
       "\n",
       "    .dataframe thead th {\n",
       "        text-align: right;\n",
       "    }\n",
       "</style>\n",
       "<table border=\"1\" class=\"dataframe\">\n",
       "  <thead>\n",
       "    <tr style=\"text-align: right;\">\n",
       "      <th></th>\n",
       "      <th>cat</th>\n",
       "      <th>dog</th>\n",
       "      <th>accuracy</th>\n",
       "      <th>macro avg</th>\n",
       "      <th>weighted avg</th>\n",
       "    </tr>\n",
       "  </thead>\n",
       "  <tbody>\n",
       "    <tr>\n",
       "      <th>precision</th>\n",
       "      <td>0.358347</td>\n",
       "      <td>0.659888</td>\n",
       "      <td>0.5096</td>\n",
       "      <td>0.509118</td>\n",
       "      <td>0.554590</td>\n",
       "    </tr>\n",
       "    <tr>\n",
       "      <th>recall</th>\n",
       "      <td>0.511455</td>\n",
       "      <td>0.508605</td>\n",
       "      <td>0.5096</td>\n",
       "      <td>0.510030</td>\n",
       "      <td>0.509600</td>\n",
       "    </tr>\n",
       "    <tr>\n",
       "      <th>f1-score</th>\n",
       "      <td>0.421425</td>\n",
       "      <td>0.574453</td>\n",
       "      <td>0.5096</td>\n",
       "      <td>0.497939</td>\n",
       "      <td>0.521016</td>\n",
       "    </tr>\n",
       "    <tr>\n",
       "      <th>support</th>\n",
       "      <td>1746.000000</td>\n",
       "      <td>3254.000000</td>\n",
       "      <td>0.5096</td>\n",
       "      <td>5000.000000</td>\n",
       "      <td>5000.000000</td>\n",
       "    </tr>\n",
       "  </tbody>\n",
       "</table>\n",
       "</div>"
      ],
      "text/plain": [
       "                   cat          dog  accuracy    macro avg  weighted avg\n",
       "precision     0.358347     0.659888    0.5096     0.509118      0.554590\n",
       "recall        0.511455     0.508605    0.5096     0.510030      0.509600\n",
       "f1-score      0.421425     0.574453    0.5096     0.497939      0.521016\n",
       "support    1746.000000  3254.000000    0.5096  5000.000000   5000.000000"
      ]
     },
     "execution_count": 56,
     "metadata": {},
     "output_type": "execute_result"
    }
   ],
   "source": [
    "print(\"model3\")\n",
    "pd.DataFrame(classification_report(df.actual, df.model3,\n",
    "                                   labels = ['cat', 'dog'],\n",
    "                                   output_dict=True))"
   ]
  },
  {
   "cell_type": "code",
   "execution_count": 57,
   "id": "62133c4b-a282-4422-970c-86ca8eab4763",
   "metadata": {},
   "outputs": [
    {
     "name": "stdout",
     "output_type": "stream",
     "text": [
      "model4\n"
     ]
    },
    {
     "data": {
      "text/html": [
       "<div>\n",
       "<style scoped>\n",
       "    .dataframe tbody tr th:only-of-type {\n",
       "        vertical-align: middle;\n",
       "    }\n",
       "\n",
       "    .dataframe tbody tr th {\n",
       "        vertical-align: top;\n",
       "    }\n",
       "\n",
       "    .dataframe thead th {\n",
       "        text-align: right;\n",
       "    }\n",
       "</style>\n",
       "<table border=\"1\" class=\"dataframe\">\n",
       "  <thead>\n",
       "    <tr style=\"text-align: right;\">\n",
       "      <th></th>\n",
       "      <th>cat</th>\n",
       "      <th>dog</th>\n",
       "      <th>accuracy</th>\n",
       "      <th>macro avg</th>\n",
       "      <th>weighted avg</th>\n",
       "    </tr>\n",
       "  </thead>\n",
       "  <tbody>\n",
       "    <tr>\n",
       "      <th>precision</th>\n",
       "      <td>0.807229</td>\n",
       "      <td>0.731249</td>\n",
       "      <td>0.7426</td>\n",
       "      <td>0.769239</td>\n",
       "      <td>0.757781</td>\n",
       "    </tr>\n",
       "    <tr>\n",
       "      <th>recall</th>\n",
       "      <td>0.345361</td>\n",
       "      <td>0.955747</td>\n",
       "      <td>0.7426</td>\n",
       "      <td>0.650554</td>\n",
       "      <td>0.742600</td>\n",
       "    </tr>\n",
       "    <tr>\n",
       "      <th>f1-score</th>\n",
       "      <td>0.483755</td>\n",
       "      <td>0.828560</td>\n",
       "      <td>0.7426</td>\n",
       "      <td>0.656157</td>\n",
       "      <td>0.708154</td>\n",
       "    </tr>\n",
       "    <tr>\n",
       "      <th>support</th>\n",
       "      <td>1746.000000</td>\n",
       "      <td>3254.000000</td>\n",
       "      <td>0.7426</td>\n",
       "      <td>5000.000000</td>\n",
       "      <td>5000.000000</td>\n",
       "    </tr>\n",
       "  </tbody>\n",
       "</table>\n",
       "</div>"
      ],
      "text/plain": [
       "                   cat          dog  accuracy    macro avg  weighted avg\n",
       "precision     0.807229     0.731249    0.7426     0.769239      0.757781\n",
       "recall        0.345361     0.955747    0.7426     0.650554      0.742600\n",
       "f1-score      0.483755     0.828560    0.7426     0.656157      0.708154\n",
       "support    1746.000000  3254.000000    0.7426  5000.000000   5000.000000"
      ]
     },
     "execution_count": 57,
     "metadata": {},
     "output_type": "execute_result"
    }
   ],
   "source": [
    "print(\"model4\")\n",
    "pd.DataFrame(classification_report(df.actual, df.model4,\n",
    "                                   labels = ['cat', 'dog'],\n",
    "                                   output_dict=True))"
   ]
  },
  {
   "cell_type": "markdown",
   "id": "15d59998-3897-4b3a-a2e9-cdab8dd46fbe",
   "metadata": {},
   "source": [
    "#### Takeaway:\n",
    "\n",
    " **a. In terms of accuracy, how do the various models compare to the baseline model? Are any of the models better than the baseline?**\n",
    "\n",
    "- After evaluating accuracy metrics for all the models we can find that model 1 and model 4 did better than the baseline. As for model 2 and model 3 they had a lower accuracy versu their baseline.**\n",
    "\n",
    " **b. Suppose you are working on a team that solely deals with dog pictures. Which of these models would you recommend?**\n",
    "\n",
    "- for Phase I | dog team, Recall evaluation metric would fit for tagging the photos of the pets. The Recall is 0.96 which tells us model 4 is the model we should recommend.\n",
    "\n",
    "- for Phase II | dog team, Precision evaluation metric would fit for going through the second round of review to see how many times it was correct. The Precision is 0.89 which tells us we should recommend model 2 for this phase.\n",
    " \n",
    " **c. Suppose you are working on a team that solely deals with cat pictures. Which of these models would you recommend?**\n",
    "\n",
    "- for phase I | cat team, the best model would be model 2 with a Recall evaluation metric of 0.89\n",
    "\n",
    "- for phase II | cat team, the best model would be model 4 with a Precision evaluation metric og 0.81"
   ]
  },
  {
   "cell_type": "markdown",
   "id": "3cb449c7-ca28-4afd-8dd2-c1301709a33f",
   "metadata": {},
   "source": [
    "---\n",
    "<div class=\"alert alert-success\">\n",
    "    \n",
    "5. **Follow the links below to read the documentation about each function, then apply those functions to the data from the previous problem.**<br>\n",
    "\n",
    "**sklearn.metrics.accuracy_score**<br>\n",
    "**sklearn.metrics.precision_score**<br>\n",
    "**sklearn.metrics.recall_score**<br>\n",
    "**sklearn.metrics.classification_report**\n",
    "</div>"
   ]
  },
  {
   "cell_type": "code",
   "execution_count": 62,
   "id": "4cea0435-7b8a-42ef-9c43-35bebbe8f91e",
   "metadata": {},
   "outputs": [
    {
     "data": {
      "text/plain": [
       "0.8074"
      ]
     },
     "execution_count": 62,
     "metadata": {},
     "output_type": "execute_result"
    }
   ],
   "source": [
    "accuracy_score(df.actual, df.model1, normalize=True, sample_weight=None)"
   ]
  },
  {
   "cell_type": "code",
   "execution_count": 74,
   "id": "f7a59e1d-19b2-4d79-96b2-00cbe037ee20",
   "metadata": {},
   "outputs": [
    {
     "data": {
      "text/plain": [
       "0.8900238338440586"
      ]
     },
     "execution_count": 74,
     "metadata": {},
     "output_type": "execute_result"
    }
   ],
   "source": [
    "precision_score(df.actual, df.model1, labels=None, pos_label='dog', average='binary', sample_weight=None, zero_division='warn')"
   ]
  },
  {
   "cell_type": "code",
   "execution_count": 73,
   "id": "5e2c3354-8c77-4dfb-b45b-a9d0fbc96066",
   "metadata": {},
   "outputs": [
    {
     "data": {
      "text/plain": [
       "0.8150057273768614"
      ]
     },
     "execution_count": 73,
     "metadata": {},
     "output_type": "execute_result"
    }
   ],
   "source": [
    "recall_score(df.actual, df.model1, labels=None, pos_label='cat', average='binary', sample_weight=None, zero_division='warn')"
   ]
  },
  {
   "cell_type": "code",
   "execution_count": 76,
   "id": "87e4b755-f786-4d23-8886-1c28890ed302",
   "metadata": {},
   "outputs": [
    {
     "name": "stdout",
     "output_type": "stream",
     "text": [
      "model4\n"
     ]
    },
    {
     "data": {
      "text/html": [
       "<div>\n",
       "<style scoped>\n",
       "    .dataframe tbody tr th:only-of-type {\n",
       "        vertical-align: middle;\n",
       "    }\n",
       "\n",
       "    .dataframe tbody tr th {\n",
       "        vertical-align: top;\n",
       "    }\n",
       "\n",
       "    .dataframe thead th {\n",
       "        text-align: right;\n",
       "    }\n",
       "</style>\n",
       "<table border=\"1\" class=\"dataframe\">\n",
       "  <thead>\n",
       "    <tr style=\"text-align: right;\">\n",
       "      <th></th>\n",
       "      <th>precision</th>\n",
       "      <th>recall</th>\n",
       "      <th>f1-score</th>\n",
       "      <th>support</th>\n",
       "    </tr>\n",
       "  </thead>\n",
       "  <tbody>\n",
       "    <tr>\n",
       "      <th>cat</th>\n",
       "      <td>0.689772</td>\n",
       "      <td>0.815006</td>\n",
       "      <td>0.747178</td>\n",
       "      <td>1746.0000</td>\n",
       "    </tr>\n",
       "    <tr>\n",
       "      <th>dog</th>\n",
       "      <td>0.890024</td>\n",
       "      <td>0.803319</td>\n",
       "      <td>0.844452</td>\n",
       "      <td>3254.0000</td>\n",
       "    </tr>\n",
       "    <tr>\n",
       "      <th>accuracy</th>\n",
       "      <td>0.807400</td>\n",
       "      <td>0.807400</td>\n",
       "      <td>0.807400</td>\n",
       "      <td>0.8074</td>\n",
       "    </tr>\n",
       "    <tr>\n",
       "      <th>macro avg</th>\n",
       "      <td>0.789898</td>\n",
       "      <td>0.809162</td>\n",
       "      <td>0.795815</td>\n",
       "      <td>5000.0000</td>\n",
       "    </tr>\n",
       "    <tr>\n",
       "      <th>weighted avg</th>\n",
       "      <td>0.820096</td>\n",
       "      <td>0.807400</td>\n",
       "      <td>0.810484</td>\n",
       "      <td>5000.0000</td>\n",
       "    </tr>\n",
       "  </tbody>\n",
       "</table>\n",
       "</div>"
      ],
      "text/plain": [
       "              precision    recall  f1-score    support\n",
       "cat            0.689772  0.815006  0.747178  1746.0000\n",
       "dog            0.890024  0.803319  0.844452  3254.0000\n",
       "accuracy       0.807400  0.807400  0.807400     0.8074\n",
       "macro avg      0.789898  0.809162  0.795815  5000.0000\n",
       "weighted avg   0.820096  0.807400  0.810484  5000.0000"
      ]
     },
     "execution_count": 76,
     "metadata": {},
     "output_type": "execute_result"
    }
   ],
   "source": [
    "print(\"model4\")\n",
    "pd.DataFrame(classification_report(df.actual, df.model1, labels = ['cat', 'dog'],output_dict=True)).T"
   ]
  }
 ],
 "metadata": {
  "kernelspec": {
   "display_name": "Python 3 (ipykernel)",
   "language": "python",
   "name": "python3"
  },
  "language_info": {
   "codemirror_mode": {
    "name": "ipython",
    "version": 3
   },
   "file_extension": ".py",
   "mimetype": "text/x-python",
   "name": "python",
   "nbconvert_exporter": "python",
   "pygments_lexer": "ipython3",
   "version": "3.10.9"
  }
 },
 "nbformat": 4,
 "nbformat_minor": 5
}
