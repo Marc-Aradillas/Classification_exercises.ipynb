{
 "cells": [
  {
   "cell_type": "markdown",
   "id": "5980e7c9-6a40-428e-ad95-353c828732d1",
   "metadata": {},
   "source": [
    "# K-Nearest Neighbors notes"
   ]
  },
  {
   "cell_type": "markdown",
   "id": "ab9c59dd-b9de-4c61-98d5-a38456f128dc",
   "metadata": {},
   "source": [
    "### What is KNN?\n",
    "\n",
    "Supervised Algorithm\n",
    "\n",
    "Makes predictions based on how close a new data point is to known data points.\n",
    "\n",
    "Considered a lazy algorithm in that it does not attempt to construct a general internal model, but simply stores instances of the training data. Classification is computed from a simple majority vote of the k nearest neighbours of each point.\n",
    "\n",
    "Predictions are made for a new data point by searching through the entire training set for the K most similar instances (the neighbors) and summarizing the output variable for those K instances. For regression problems, this might be the mean output variable. For classification problems this might be the mode (or most common) class value.\n",
    "\n",
    "It is important to define a metric to measure how similar data instances are. Euclidean distance can be used if attributes are all on the same scale (or you convert them to the same scale)."
   ]
  },
  {
   "cell_type": "markdown",
   "id": "309edb9a-31ca-46de-a28e-be4ec1105a93",
   "metadata": {},
   "source": [
    "<img src=\"https://cambridgecoding.files.wordpress.com/2016/01/knn2.jpg\" style=\"height:500px\" />"
   ]
  },
  {
   "cell_type": "markdown",
   "id": "f0dd7744-4221-4fe9-92b9-cc213650ab20",
   "metadata": {},
   "source": [
    "- Pros\n",
    "\n",
    "    Simple to implement\n",
    "    \n",
    "    Robust to noisy training data\n",
    "    \n",
    "    Effective if training data is large\n",
    "    \n",
    "    Performs calculations \"just in time\", i.e. when a prediction is needed (as opposed to ahead of time)\n",
    "    \n",
    "    Training instances can be updated and curated over time to keep predictions accurate.<br><br>\n",
    "\n",
    "\n",
    "\n",
    "\n",
    "- Cons\n",
    "\n",
    "    Need to determine the value of K\n",
    "    \n",
    "    The computation cost is high as it needs to compute the distance of each instance to all the training samples...you need to hang on to your entire training dataset.\n",
    "    \n",
    "    Distance can break down in very high dimensions, negatively affecting the performance. This is know as the \"Curse of dimensionality\". To alleviate, only use those input variables that are most relevant to predicting the output variable."
   ]
  },
  {
   "cell_type": "code",
   "execution_count": 3,
   "id": "ef1bae4c-2944-4b2c-9a01-05006738d532",
   "metadata": {},
   "outputs": [
    {
     "data": {
      "text/html": [
       "<div>\n",
       "<style scoped>\n",
       "    .dataframe tbody tr th:only-of-type {\n",
       "        vertical-align: middle;\n",
       "    }\n",
       "\n",
       "    .dataframe tbody tr th {\n",
       "        vertical-align: top;\n",
       "    }\n",
       "\n",
       "    .dataframe thead th {\n",
       "        text-align: right;\n",
       "    }\n",
       "</style>\n",
       "<table border=\"1\" class=\"dataframe\">\n",
       "  <thead>\n",
       "    <tr style=\"text-align: right;\">\n",
       "      <th></th>\n",
       "      <th>sepal_length</th>\n",
       "      <th>sepal_width</th>\n",
       "      <th>petal_length</th>\n",
       "      <th>petal_width</th>\n",
       "      <th>species</th>\n",
       "    </tr>\n",
       "  </thead>\n",
       "  <tbody>\n",
       "    <tr>\n",
       "      <th>1</th>\n",
       "      <td>5.1</td>\n",
       "      <td>3.5</td>\n",
       "      <td>1.4</td>\n",
       "      <td>0.2</td>\n",
       "      <td>setosa</td>\n",
       "    </tr>\n",
       "    <tr>\n",
       "      <th>2</th>\n",
       "      <td>4.9</td>\n",
       "      <td>3.0</td>\n",
       "      <td>1.4</td>\n",
       "      <td>0.2</td>\n",
       "      <td>setosa</td>\n",
       "    </tr>\n",
       "    <tr>\n",
       "      <th>3</th>\n",
       "      <td>4.7</td>\n",
       "      <td>3.2</td>\n",
       "      <td>1.3</td>\n",
       "      <td>0.2</td>\n",
       "      <td>setosa</td>\n",
       "    </tr>\n",
       "    <tr>\n",
       "      <th>4</th>\n",
       "      <td>4.6</td>\n",
       "      <td>3.1</td>\n",
       "      <td>1.5</td>\n",
       "      <td>0.2</td>\n",
       "      <td>setosa</td>\n",
       "    </tr>\n",
       "    <tr>\n",
       "      <th>5</th>\n",
       "      <td>5.0</td>\n",
       "      <td>3.6</td>\n",
       "      <td>1.4</td>\n",
       "      <td>0.2</td>\n",
       "      <td>setosa</td>\n",
       "    </tr>\n",
       "  </tbody>\n",
       "</table>\n",
       "</div>"
      ],
      "text/plain": [
       "   sepal_length  sepal_width  petal_length  petal_width species\n",
       "1           5.1          3.5           1.4          0.2  setosa\n",
       "2           4.9          3.0           1.4          0.2  setosa\n",
       "3           4.7          3.2           1.3          0.2  setosa\n",
       "4           4.6          3.1           1.5          0.2  setosa\n",
       "5           5.0          3.6           1.4          0.2  setosa"
      ]
     },
     "execution_count": 3,
     "metadata": {},
     "output_type": "execute_result"
    }
   ],
   "source": [
    "# ignore warnings\n",
    "import warnings\n",
    "warnings.filterwarnings(\"ignore\")\n",
    "\n",
    "import pandas as pd\n",
    "import numpy as np\n",
    "\n",
    "%matplotlib inline\n",
    "import matplotlib.pyplot as plt\n",
    "import seaborn as sns\n",
    "\n",
    "from sklearn.model_selection import train_test_split\n",
    "from sklearn.neighbors import KNeighborsClassifier\n",
    "from sklearn.metrics import classification_report\n",
    "from sklearn.metrics import confusion_matrix\n",
    "\n",
    "from pydataset import data\n",
    "\n",
    "# read Iris data from pydatset\n",
    "df = data('iris')\n",
    "\n",
    "# convert column names to lowercase, replace '.' in column names with '_'\n",
    "df.columns = [col.lower().replace('.', '_') for col in df]\n",
    "\n",
    "df.head()"
   ]
  },
  {
   "cell_type": "markdown",
   "id": "5008dc14-9cb5-4aa5-97ff-3ae5a2f50a24",
   "metadata": {},
   "source": [
    "### Train Validate Test\n",
    "\n",
    "**Now we'll do our train/validate/test split:**\n",
    "\n",
    "We'll do exploration and train our model on the train data\n",
    "\n",
    "We tune our model on validate, since it will be out-of-sample until we use it.\n",
    "\n",
    "And keep the test nice and safe and separate, for our final out-of-sample dataset, to see how well our tuned model performs on new data."
   ]
  },
  {
   "cell_type": "code",
   "execution_count": 4,
   "id": "4e3ccfbd-5f33-4f5a-b5ba-cb59d58285ef",
   "metadata": {},
   "outputs": [],
   "source": [
    "from sklearn.model_selection import train_test_split\n",
    "\n",
    "def train_validate_test_split(df, target, seed=123):\n",
    "    '''\n",
    "    This function takes in a dataframe, the name of the target variable\n",
    "    (for stratification purposes), and an integer for a setting a seed\n",
    "    and splits the data into train, validate and test. \n",
    "    Test is 20% of the original dataset, validate is .30*.80= 24% of the \n",
    "    original dataset, and train is .70*.80= 56% of the original dataset. \n",
    "    The function returns, in this order, train, validate and test dataframes. \n",
    "    '''\n",
    "    train_validate, test = train_test_split(df, test_size=0.2, \n",
    "                                            random_state=seed, \n",
    "                                            stratify=df[target])\n",
    "    train, validate = train_test_split(train_validate, test_size=0.3, \n",
    "                                       random_state=seed,\n",
    "                                       stratify=train_validate[target])\n",
    "    return train, validate, test"
   ]
  },
  {
   "cell_type": "code",
   "execution_count": 5,
   "id": "fb591bfe-3f77-47e2-a83e-bcaf89cf607c",
   "metadata": {},
   "outputs": [],
   "source": [
    "# split into train, validate, test\n",
    "train, validate, test = train_validate_test_split(df, target='species', seed=123)\n",
    "\n",
    "# create X & y version of train, where y is a series with just the target variable and X are all the features. \n",
    "\n",
    "X_train = train.drop(columns=['species'])\n",
    "y_train = train.species\n",
    "\n",
    "X_validate = validate.drop(columns=['species'])\n",
    "y_validate = validate.species\n",
    "\n",
    "X_test = test.drop(columns=['species'])\n",
    "y_test = test.species"
   ]
  },
  {
   "cell_type": "markdown",
   "id": "06603b6c-2a59-48ca-9fbf-26c5ce0e612b",
   "metadata": {},
   "source": [
    "## Train Model\n",
    "\n",
    "### Create KNN Object"
   ]
  },
  {
   "cell_type": "code",
   "execution_count": 6,
   "id": "0c6a2190-55aa-4c07-8b66-475154b5e776",
   "metadata": {},
   "outputs": [],
   "source": [
    "# weights = ['uniform', 'distance']\n",
    "knn = KNeighborsClassifier(n_neighbors=5, weights='uniform')"
   ]
  },
  {
   "cell_type": "markdown",
   "id": "7b5495e9-faef-4940-910a-d862dfba218b",
   "metadata": {},
   "source": [
    "## Fit the model\n",
    "\n",
    "### Fit the model to the training data."
   ]
  },
  {
   "cell_type": "code",
   "execution_count": 7,
   "id": "e507d7da-c099-4b8b-aa4e-2d18f382d620",
   "metadata": {},
   "outputs": [
    {
     "data": {
      "text/html": [
       "<style>#sk-container-id-1 {color: black;background-color: white;}#sk-container-id-1 pre{padding: 0;}#sk-container-id-1 div.sk-toggleable {background-color: white;}#sk-container-id-1 label.sk-toggleable__label {cursor: pointer;display: block;width: 100%;margin-bottom: 0;padding: 0.3em;box-sizing: border-box;text-align: center;}#sk-container-id-1 label.sk-toggleable__label-arrow:before {content: \"▸\";float: left;margin-right: 0.25em;color: #696969;}#sk-container-id-1 label.sk-toggleable__label-arrow:hover:before {color: black;}#sk-container-id-1 div.sk-estimator:hover label.sk-toggleable__label-arrow:before {color: black;}#sk-container-id-1 div.sk-toggleable__content {max-height: 0;max-width: 0;overflow: hidden;text-align: left;background-color: #f0f8ff;}#sk-container-id-1 div.sk-toggleable__content pre {margin: 0.2em;color: black;border-radius: 0.25em;background-color: #f0f8ff;}#sk-container-id-1 input.sk-toggleable__control:checked~div.sk-toggleable__content {max-height: 200px;max-width: 100%;overflow: auto;}#sk-container-id-1 input.sk-toggleable__control:checked~label.sk-toggleable__label-arrow:before {content: \"▾\";}#sk-container-id-1 div.sk-estimator input.sk-toggleable__control:checked~label.sk-toggleable__label {background-color: #d4ebff;}#sk-container-id-1 div.sk-label input.sk-toggleable__control:checked~label.sk-toggleable__label {background-color: #d4ebff;}#sk-container-id-1 input.sk-hidden--visually {border: 0;clip: rect(1px 1px 1px 1px);clip: rect(1px, 1px, 1px, 1px);height: 1px;margin: -1px;overflow: hidden;padding: 0;position: absolute;width: 1px;}#sk-container-id-1 div.sk-estimator {font-family: monospace;background-color: #f0f8ff;border: 1px dotted black;border-radius: 0.25em;box-sizing: border-box;margin-bottom: 0.5em;}#sk-container-id-1 div.sk-estimator:hover {background-color: #d4ebff;}#sk-container-id-1 div.sk-parallel-item::after {content: \"\";width: 100%;border-bottom: 1px solid gray;flex-grow: 1;}#sk-container-id-1 div.sk-label:hover label.sk-toggleable__label {background-color: #d4ebff;}#sk-container-id-1 div.sk-serial::before {content: \"\";position: absolute;border-left: 1px solid gray;box-sizing: border-box;top: 0;bottom: 0;left: 50%;z-index: 0;}#sk-container-id-1 div.sk-serial {display: flex;flex-direction: column;align-items: center;background-color: white;padding-right: 0.2em;padding-left: 0.2em;position: relative;}#sk-container-id-1 div.sk-item {position: relative;z-index: 1;}#sk-container-id-1 div.sk-parallel {display: flex;align-items: stretch;justify-content: center;background-color: white;position: relative;}#sk-container-id-1 div.sk-item::before, #sk-container-id-1 div.sk-parallel-item::before {content: \"\";position: absolute;border-left: 1px solid gray;box-sizing: border-box;top: 0;bottom: 0;left: 50%;z-index: -1;}#sk-container-id-1 div.sk-parallel-item {display: flex;flex-direction: column;z-index: 1;position: relative;background-color: white;}#sk-container-id-1 div.sk-parallel-item:first-child::after {align-self: flex-end;width: 50%;}#sk-container-id-1 div.sk-parallel-item:last-child::after {align-self: flex-start;width: 50%;}#sk-container-id-1 div.sk-parallel-item:only-child::after {width: 0;}#sk-container-id-1 div.sk-dashed-wrapped {border: 1px dashed gray;margin: 0 0.4em 0.5em 0.4em;box-sizing: border-box;padding-bottom: 0.4em;background-color: white;}#sk-container-id-1 div.sk-label label {font-family: monospace;font-weight: bold;display: inline-block;line-height: 1.2em;}#sk-container-id-1 div.sk-label-container {text-align: center;}#sk-container-id-1 div.sk-container {/* jupyter's `normalize.less` sets `[hidden] { display: none; }` but bootstrap.min.css set `[hidden] { display: none !important; }` so we also need the `!important` here to be able to override the default hidden behavior on the sphinx rendered scikit-learn.org. See: https://github.com/scikit-learn/scikit-learn/issues/21755 */display: inline-block !important;position: relative;}#sk-container-id-1 div.sk-text-repr-fallback {display: none;}</style><div id=\"sk-container-id-1\" class=\"sk-top-container\"><div class=\"sk-text-repr-fallback\"><pre>KNeighborsClassifier()</pre><b>In a Jupyter environment, please rerun this cell to show the HTML representation or trust the notebook. <br />On GitHub, the HTML representation is unable to render, please try loading this page with nbviewer.org.</b></div><div class=\"sk-container\" hidden><div class=\"sk-item\"><div class=\"sk-estimator sk-toggleable\"><input class=\"sk-toggleable__control sk-hidden--visually\" id=\"sk-estimator-id-1\" type=\"checkbox\" checked><label for=\"sk-estimator-id-1\" class=\"sk-toggleable__label sk-toggleable__label-arrow\">KNeighborsClassifier</label><div class=\"sk-toggleable__content\"><pre>KNeighborsClassifier()</pre></div></div></div></div></div>"
      ],
      "text/plain": [
       "KNeighborsClassifier()"
      ]
     },
     "execution_count": 7,
     "metadata": {},
     "output_type": "execute_result"
    }
   ],
   "source": [
    "knn.fit(X_train, y_train)"
   ]
  },
  {
   "cell_type": "markdown",
   "id": "a8cbb443-7aea-4d1d-a0c0-941e56ce78de",
   "metadata": {},
   "source": [
    "## Make Predictions\n",
    "\n",
    "### Classify each flower by its estimated species."
   ]
  },
  {
   "cell_type": "code",
   "execution_count": 8,
   "id": "c79274be-f366-4c5f-bc06-5156da6ae181",
   "metadata": {},
   "outputs": [],
   "source": [
    "y_pred = knn.predict(X_train)"
   ]
  },
  {
   "cell_type": "markdown",
   "id": "6f2a8d31-3f0f-40e8-85db-d1e1b00e2d2a",
   "metadata": {},
   "source": [
    "## Estimate Probability\n",
    "\n",
    "### Estimate the probability of each species, using the training data."
   ]
  },
  {
   "cell_type": "code",
   "execution_count": 9,
   "id": "94e729cd-eeaa-42aa-9443-05e2a67f2917",
   "metadata": {},
   "outputs": [
    {
     "name": "stdout",
     "output_type": "stream",
     "text": [
      "Accuracy of KNN classifier on training set: 0.99\n"
     ]
    }
   ],
   "source": [
    "print('Accuracy of KNN classifier on training set: {:.2f}'\n",
    "     .format(knn.score(X_train, y_train)))"
   ]
  },
  {
   "cell_type": "markdown",
   "id": "e25dc744-f24c-41b5-85b0-6abf4795ac41",
   "metadata": {},
   "source": [
    "### Create a confusion matrix"
   ]
  },
  {
   "cell_type": "code",
   "execution_count": 10,
   "id": "3d3ff61d-46e6-44bf-af66-54c834da19d1",
   "metadata": {},
   "outputs": [
    {
     "name": "stdout",
     "output_type": "stream",
     "text": [
      "[[28  0  0]\n",
      " [ 0 27  1]\n",
      " [ 0  0 28]]\n"
     ]
    }
   ],
   "source": [
    "print(confusion_matrix(y_train, y_pred))"
   ]
  },
  {
   "cell_type": "markdown",
   "id": "8eebcc30-fb3f-46bf-8f16-3653422df348",
   "metadata": {},
   "source": [
    "### Create a classificaiton report\n",
    "\n",
    "Precision: \n",
    "T\n",
    "P\n",
    "/\n",
    "(\n",
    "T\n",
    "P\n",
    "+\n",
    "F\n",
    "P\n",
    ")\n",
    "\n",
    "Recall: \n",
    "T\n",
    "P\n",
    "/\n",
    "(\n",
    "T\n",
    "P\n",
    "+\n",
    "F\n",
    "N\n",
    ")\n",
    "\n",
    "F1-Score: A measure of accuracy. The harmonic mean of precision & recall. The harmonic mean is the reciprocal of the arithmetic mean of the reciprocals.\n",
    "\n",
    "F1 \n",
    "∈\n",
    "[\n",
    "0\n",
    ",\n",
    "1\n",
    "]\n",
    "\n",
    "F1-score = harmonic mean = \n",
    "2\n",
    "/\n",
    "(\n",
    "1\n",
    "/\n",
    "p\n",
    "r\n",
    "e\n",
    "c\n",
    "i\n",
    "s\n",
    "i\n",
    "o\n",
    "n\n",
    ")\n",
    "+\n",
    "(\n",
    "1\n",
    "/\n",
    "r\n",
    "e\n",
    "c\n",
    "a\n",
    "l\n",
    "l\n",
    ")\n",
    "\n",
    "Support: number of occurrences of each class.\n",
    "\n",
    "\n"
   ]
  },
  {
   "cell_type": "code",
   "execution_count": 11,
   "id": "9411138d-ccc1-4186-941a-45f538a6fb6e",
   "metadata": {
    "scrolled": true
   },
   "outputs": [
    {
     "name": "stdout",
     "output_type": "stream",
     "text": [
      "              precision    recall  f1-score   support\n",
      "\n",
      "      setosa       1.00      1.00      1.00        28\n",
      "  versicolor       1.00      0.96      0.98        28\n",
      "   virginica       0.97      1.00      0.98        28\n",
      "\n",
      "    accuracy                           0.99        84\n",
      "   macro avg       0.99      0.99      0.99        84\n",
      "weighted avg       0.99      0.99      0.99        84\n",
      "\n"
     ]
    }
   ],
   "source": [
    "print(classification_report(y_train, y_pred))"
   ]
  },
  {
   "cell_type": "code",
   "execution_count": null,
   "id": "56c499ec-848c-4316-ab32-9d1187a0d252",
   "metadata": {},
   "outputs": [],
   "source": []
  },
  {
   "cell_type": "markdown",
   "id": "49b6a290-147e-4895-ba0d-bd5a74cd3d32",
   "metadata": {},
   "source": [
    "Let's look at how this works manually and through simple visual classification. We start with 4 labeled samples here."
   ]
  },
  {
   "cell_type": "code",
   "execution_count": 13,
   "id": "2882b431-7a3d-47a7-8df0-8a2b99aa79e8",
   "metadata": {},
   "outputs": [
    {
     "data": {
      "text/html": [
       "<div>\n",
       "<style scoped>\n",
       "    .dataframe tbody tr th:only-of-type {\n",
       "        vertical-align: middle;\n",
       "    }\n",
       "\n",
       "    .dataframe tbody tr th {\n",
       "        vertical-align: top;\n",
       "    }\n",
       "\n",
       "    .dataframe thead th {\n",
       "        text-align: right;\n",
       "    }\n",
       "</style>\n",
       "<table border=\"1\" class=\"dataframe\">\n",
       "  <thead>\n",
       "    <tr style=\"text-align: right;\">\n",
       "      <th></th>\n",
       "      <th>a</th>\n",
       "      <th>b</th>\n",
       "      <th>c</th>\n",
       "      <th>d</th>\n",
       "      <th>target</th>\n",
       "    </tr>\n",
       "  </thead>\n",
       "  <tbody>\n",
       "    <tr>\n",
       "      <th>0</th>\n",
       "      <td>5.7</td>\n",
       "      <td>2.6</td>\n",
       "      <td>3.5</td>\n",
       "      <td>1.0</td>\n",
       "      <td>versicolor</td>\n",
       "    </tr>\n",
       "    <tr>\n",
       "      <th>1</th>\n",
       "      <td>5.5</td>\n",
       "      <td>3.5</td>\n",
       "      <td>1.3</td>\n",
       "      <td>0.2</td>\n",
       "      <td>setosa</td>\n",
       "    </tr>\n",
       "    <tr>\n",
       "      <th>2</th>\n",
       "      <td>6.3</td>\n",
       "      <td>2.8</td>\n",
       "      <td>5.1</td>\n",
       "      <td>1.5</td>\n",
       "      <td>virginica</td>\n",
       "    </tr>\n",
       "  </tbody>\n",
       "</table>\n",
       "</div>"
      ],
      "text/plain": [
       "     a    b    c    d      target\n",
       "0  5.7  2.6  3.5  1.0  versicolor\n",
       "1  5.5  3.5  1.3  0.2      setosa\n",
       "2  6.3  2.8  5.1  1.5   virginica"
      ]
     },
     "execution_count": 13,
     "metadata": {},
     "output_type": "execute_result"
    }
   ],
   "source": [
    "# first_nearest_neighbor\n",
    "import pandas as pd\n",
    "samples = pd.DataFrame({'a': [5.7, 5.5, 6.3], \n",
    "                        'b': [2.6, 3.5, 2.8], \n",
    "                        'c': [3.5, 1.3, 5.1], \n",
    "                        'd': [1.0, 0.2, 1.5], \n",
    "                        'target': ['versicolor', 'setosa', 'virginica']\n",
    "                       })\n",
    "\n",
    "\n",
    "samples"
   ]
  },
  {
   "cell_type": "markdown",
   "id": "2641d0b5-c537-4755-911b-47d2874d64ae",
   "metadata": {},
   "source": [
    "We then add 3 new unlabeled observations. For each observation, we look to the labeled samples to see which one it is closer to, in order to find the \"1st-Nearest Neighbor\"."
   ]
  },
  {
   "cell_type": "code",
   "execution_count": 14,
   "id": "25f5da3e-0cd8-4939-b00c-03ece798b70c",
   "metadata": {},
   "outputs": [
    {
     "data": {
      "text/html": [
       "<div>\n",
       "<style scoped>\n",
       "    .dataframe tbody tr th:only-of-type {\n",
       "        vertical-align: middle;\n",
       "    }\n",
       "\n",
       "    .dataframe tbody tr th {\n",
       "        vertical-align: top;\n",
       "    }\n",
       "\n",
       "    .dataframe thead th {\n",
       "        text-align: right;\n",
       "    }\n",
       "</style>\n",
       "<table border=\"1\" class=\"dataframe\">\n",
       "  <thead>\n",
       "    <tr style=\"text-align: right;\">\n",
       "      <th></th>\n",
       "      <th>a</th>\n",
       "      <th>b</th>\n",
       "      <th>c</th>\n",
       "      <th>d</th>\n",
       "    </tr>\n",
       "  </thead>\n",
       "  <tbody>\n",
       "    <tr>\n",
       "      <th>0</th>\n",
       "      <td>6.30</td>\n",
       "      <td>2.80</td>\n",
       "      <td>5.10</td>\n",
       "      <td>1.40</td>\n",
       "    </tr>\n",
       "    <tr>\n",
       "      <th>1</th>\n",
       "      <td>6.25</td>\n",
       "      <td>2.77</td>\n",
       "      <td>5.09</td>\n",
       "      <td>1.35</td>\n",
       "    </tr>\n",
       "    <tr>\n",
       "      <th>2</th>\n",
       "      <td>5.50</td>\n",
       "      <td>3.50</td>\n",
       "      <td>1.29</td>\n",
       "      <td>0.30</td>\n",
       "    </tr>\n",
       "  </tbody>\n",
       "</table>\n",
       "</div>"
      ],
      "text/plain": [
       "      a     b     c     d\n",
       "0  6.30  2.80  5.10  1.40\n",
       "1  6.25  2.77  5.09  1.35\n",
       "2  5.50  3.50  1.29  0.30"
      ]
     },
     "execution_count": 14,
     "metadata": {},
     "output_type": "execute_result"
    }
   ],
   "source": [
    "new_obs = pd.DataFrame([[6.3, 2.8, 5.1, 1.4], \n",
    "                       [6.25, 2.77, 5.09, 1.35], \n",
    "                       [5.5, 3.5, 1.29, 0.3]], \n",
    "                        columns = ['a', 'b', 'c', 'd'])\n",
    "\n",
    "new_obs"
   ]
  },
  {
   "cell_type": "markdown",
   "id": "590c4a52-839d-4da5-a009-146095932250",
   "metadata": {},
   "source": [
    "It is pretty clear which samples each new observation corresponds to. So we add those predictions."
   ]
  },
  {
   "cell_type": "code",
   "execution_count": 15,
   "id": "b407bf7c-5ba3-4c63-8d85-1de2188462a9",
   "metadata": {
    "scrolled": true
   },
   "outputs": [
    {
     "data": {
      "text/html": [
       "<div>\n",
       "<style scoped>\n",
       "    .dataframe tbody tr th:only-of-type {\n",
       "        vertical-align: middle;\n",
       "    }\n",
       "\n",
       "    .dataframe tbody tr th {\n",
       "        vertical-align: top;\n",
       "    }\n",
       "\n",
       "    .dataframe thead th {\n",
       "        text-align: right;\n",
       "    }\n",
       "</style>\n",
       "<table border=\"1\" class=\"dataframe\">\n",
       "  <thead>\n",
       "    <tr style=\"text-align: right;\">\n",
       "      <th></th>\n",
       "      <th>a</th>\n",
       "      <th>b</th>\n",
       "      <th>c</th>\n",
       "      <th>d</th>\n",
       "      <th>pred_target</th>\n",
       "    </tr>\n",
       "  </thead>\n",
       "  <tbody>\n",
       "    <tr>\n",
       "      <th>0</th>\n",
       "      <td>6.30</td>\n",
       "      <td>2.80</td>\n",
       "      <td>5.10</td>\n",
       "      <td>1.40</td>\n",
       "      <td>virginica</td>\n",
       "    </tr>\n",
       "    <tr>\n",
       "      <th>1</th>\n",
       "      <td>6.25</td>\n",
       "      <td>2.77</td>\n",
       "      <td>5.09</td>\n",
       "      <td>1.35</td>\n",
       "      <td>virginica</td>\n",
       "    </tr>\n",
       "    <tr>\n",
       "      <th>2</th>\n",
       "      <td>5.50</td>\n",
       "      <td>3.50</td>\n",
       "      <td>1.29</td>\n",
       "      <td>0.30</td>\n",
       "      <td>setosa</td>\n",
       "    </tr>\n",
       "  </tbody>\n",
       "</table>\n",
       "</div>"
      ],
      "text/plain": [
       "      a     b     c     d pred_target\n",
       "0  6.30  2.80  5.10  1.40   virginica\n",
       "1  6.25  2.77  5.09  1.35   virginica\n",
       "2  5.50  3.50  1.29  0.30      setosa"
      ]
     },
     "execution_count": 15,
     "metadata": {},
     "output_type": "execute_result"
    }
   ],
   "source": [
    "pred_target = pd.DataFrame(['virginica', 'virginica', 'setosa'], columns=['pred_target'])\n",
    "pd.concat([new_obs, pred_target], axis=1)"
   ]
  },
  {
   "cell_type": "markdown",
   "id": "9c775954-b507-4414-abe5-2f3eeed630da",
   "metadata": {},
   "source": [
    "This is what K-Nearest Neighbors is doing for us. Except it's using the distance formula to actually compute the distance and find the K sample/labeled observations with the shortest or minimum distances. Of those K samples, which species is most common? i.e. what is the mode of those neighbors?"
   ]
  },
  {
   "cell_type": "markdown",
   "id": "f900582c-c373-4e52-9006-ebfe7d85d47e",
   "metadata": {},
   "source": [
    "## Validate Model\n",
    "### Evaluate on Out-of-Sample data\n",
    "\n",
    "### Compute the accuracy of the model when run on the validate dataset."
   ]
  },
  {
   "cell_type": "code",
   "execution_count": 16,
   "id": "d9e6d0c5-aa62-4aa0-b86a-d2c77cb27181",
   "metadata": {},
   "outputs": [
    {
     "name": "stdout",
     "output_type": "stream",
     "text": [
      "Accuracy of KNN classifier on test set: 0.97\n"
     ]
    }
   ],
   "source": [
    "print('Accuracy of KNN classifier on test set: {:.2f}'\n",
    "     .format(knn.score(X_validate, y_validate)))"
   ]
  },
  {
   "cell_type": "markdown",
   "id": "8c277336-df55-4f35-8a94-a67e971e6684",
   "metadata": {},
   "source": [
    "## Visualize Model"
   ]
  },
  {
   "cell_type": "code",
   "execution_count": 17,
   "id": "46c95468-4ec1-4937-82ce-2a2e78407d72",
   "metadata": {},
   "outputs": [
    {
     "data": {
      "image/png": "[encoded data removed]",
      "text/plain": [
       "<Figure size 640x480 with 1 Axes>"
      ]
     },
     "metadata": {},
     "output_type": "display_data"
    }
   ],
   "source": [
    "import matplotlib.pyplot as plt\n",
    "k_range = range(1, 20)\n",
    "scores = []\n",
    "for k in k_range:\n",
    "    knn = KNeighborsClassifier(n_neighbors = k)\n",
    "    knn.fit(X_train, y_train)\n",
    "    scores.append(knn.score(X_test, y_test))\n",
    "plt.figure()\n",
    "plt.xlabel('k')\n",
    "plt.ylabel('accuracy')\n",
    "plt.scatter(k_range, scores)\n",
    "plt.xticks([0,5,10,15,20])\n",
    "plt.show()"
   ]
  },
  {
   "cell_type": "code",
   "execution_count": null,
   "id": "e159102f-bb04-4d1d-9480-73a59bfc54ae",
   "metadata": {},
   "outputs": [],
   "source": []
  }
 ],
 "metadata": {
  "kernelspec": {
   "display_name": "Python 3 (ipykernel)",
   "language": "python",
   "name": "python3"
  },
  "language_info": {
   "codemirror_mode": {
    "name": "ipython",
    "version": 3
   },
   "file_extension": ".py",
   "mimetype": "text/x-python",
   "name": "python",
   "nbconvert_exporter": "python",
   "pygments_lexer": "ipython3",
   "version": "3.10.9"
  }
 },
 "nbformat": 4,
 "nbformat_minor": 5
}
