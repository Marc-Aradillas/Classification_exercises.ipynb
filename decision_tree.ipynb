{
 "cells": [
  {
   "cell_type": "markdown",
   "id": "8dd0f737-f52e-4026-8348-d32bc0879f39",
   "metadata": {},
   "source": [
    "# Decision Tree Exercise"
   ]
  },
  {
   "cell_type": "markdown",
   "id": "fd2094f1-3fb0-4a0e-b391-ccdd0ade4cf2",
   "metadata": {},
   "source": [
    "**1. What is your baseline prediction? What is your baseline accuracy? remember: your baseline prediction for a classification problem is predicting the most prevelant class in the training dataset (the mode). When you make those predictions, what is your accuracy? This is your baseline accuracy.**\n",
    "\n",
    "**2. Fit the decision tree classifier to your training sample and transform (i.e. make predictions on the training sample)**\n",
    "\n",
    "**3. Evaluate your in-sample results using the model score, confusion matrix, and classification report.**\n",
    "\n",
    "**4. Compute: Accuracy, true positive rate, false positive rate, true negative rate, false negative rate, precision, recall, f1-score, and support.**\n",
    "\n",
    "**5. Run through steps 2-4 using a different max_depth value.**\n",
    "\n",
    "**6. Which model performs better on your in-sample data?**\n",
    "\n",
    "**7. Which model performs best on your out-of-sample data, the validate set?**"
   ]
  },
  {
   "cell_type": "markdown",
   "id": "407bc970-e01a-4b22-b1b7-95def07ef3d2",
   "metadata": {},
   "source": [
    "------------------------------------------------------------------------------------------------------------------------------------------------------------------------------"
   ]
  },
  {
   "cell_type": "markdown",
   "id": "266a977c-33d1-47ea-a76c-6c66e4abae3c",
   "metadata": {},
   "source": [
    "**1. Work through these same exercises using the Telco dataset.**\n",
    "   \n",
    "**2. Experiment with this model on other datasets with a higher number of output classes.**"
   ]
  }
 ],
 "metadata": {
  "kernelspec": {
   "display_name": "Python 3 (ipykernel)",
   "language": "python",
   "name": "python3"
  },
  "language_info": {
   "codemirror_mode": {
    "name": "ipython",
    "version": 3
   },
   "file_extension": ".py",
   "mimetype": "text/x-python",
   "name": "python",
   "nbconvert_exporter": "python",
   "pygments_lexer": "ipython3",
   "version": "3.10.9"
  }
 },
 "nbformat": 4,
 "nbformat_minor": 5
}
