{
 "cells": [
  {
   "cell_type": "markdown",
   "id": "8dd0f737-f52e-4026-8348-d32bc0879f39",
   "metadata": {},
   "source": [
    "# Decision Tree Exercise\n",
    "\n",
    "- **Using the titanic data, in your classification-exercises repository, create a notebook, decision_tree.ipynb where you will do the following:**\n"
   ]
  },
  {
   "cell_type": "code",
   "execution_count": 1,
   "id": "bcd990da-841f-4263-b038-e813a8e4541e",
   "metadata": {},
   "outputs": [
    {
     "name": "stdout",
     "output_type": "stream",
     "text": [
      "Found your sauce my bro\n",
      "Found your sauce my bro\n",
      "Found your sauce my bro\n"
     ]
    }
   ],
   "source": [
    "import pandas as pd\n",
    "import numpy as np\n",
    "import matplotlib.pyplot as plt\n",
    "\n",
    "from sklearn.tree import DecisionTreeClassifier\n",
    "from sklearn.tree import DecisionTreeClassifier, plot_tree\n",
    "from sklearn.metrics import classification_report\n",
    "from sklearn.metrics import confusion_matrix\n",
    "from prepare import titanic_pipeline, telco_pipeline"
   ]
  },
  {
   "cell_type": "markdown",
   "id": "dba55895-6e76-493e-9eec-7621f7a36c32",
   "metadata": {},
   "source": [
    "**1. What is your baseline prediction? What is your baseline accuracy?** *remember: your baseline prediction for a classification problem is predicting the most prevelant class in the training dataset (the mode). When you make those predictions, what is your accuracy? This is your baseline accuracy.*"
   ]
  },
  {
   "cell_type": "code",
   "execution_count": 2,
   "id": "6f5f22e6-1248-4cbf-bf3f-5fda967b7c0d",
   "metadata": {},
   "outputs": [
    {
     "name": "stdout",
     "output_type": "stream",
     "text": [
      "Found your sauce my bro\n"
     ]
    }
   ],
   "source": [
    "train, val, test = titanic_pipeline()"
   ]
  },
  {
   "cell_type": "code",
   "execution_count": 3,
   "id": "8ff0b638-f894-4fa3-bde4-3c182773eeb1",
   "metadata": {},
   "outputs": [
    {
     "data": {
      "text/html": [
       "<div>\n",
       "<style scoped>\n",
       "    .dataframe tbody tr th:only-of-type {\n",
       "        vertical-align: middle;\n",
       "    }\n",
       "\n",
       "    .dataframe tbody tr th {\n",
       "        vertical-align: top;\n",
       "    }\n",
       "\n",
       "    .dataframe thead th {\n",
       "        text-align: right;\n",
       "    }\n",
       "</style>\n",
       "<table border=\"1\" class=\"dataframe\">\n",
       "  <thead>\n",
       "    <tr style=\"text-align: right;\">\n",
       "      <th></th>\n",
       "      <th>survived</th>\n",
       "      <th>sex</th>\n",
       "      <th>age</th>\n",
       "      <th>sibsp</th>\n",
       "      <th>parch</th>\n",
       "      <th>fare</th>\n",
       "      <th>class</th>\n",
       "      <th>embark_town</th>\n",
       "      <th>alone</th>\n",
       "    </tr>\n",
       "  </thead>\n",
       "  <tbody>\n",
       "    <tr>\n",
       "      <th>748</th>\n",
       "      <td>0</td>\n",
       "      <td>male</td>\n",
       "      <td>19.0</td>\n",
       "      <td>1</td>\n",
       "      <td>0</td>\n",
       "      <td>53.1000</td>\n",
       "      <td>First</td>\n",
       "      <td>Southampton</td>\n",
       "      <td>0</td>\n",
       "    </tr>\n",
       "    <tr>\n",
       "      <th>45</th>\n",
       "      <td>0</td>\n",
       "      <td>male</td>\n",
       "      <td>29.0</td>\n",
       "      <td>0</td>\n",
       "      <td>0</td>\n",
       "      <td>8.0500</td>\n",
       "      <td>Third</td>\n",
       "      <td>Southampton</td>\n",
       "      <td>1</td>\n",
       "    </tr>\n",
       "    <tr>\n",
       "      <th>28</th>\n",
       "      <td>1</td>\n",
       "      <td>female</td>\n",
       "      <td>29.0</td>\n",
       "      <td>0</td>\n",
       "      <td>0</td>\n",
       "      <td>7.8792</td>\n",
       "      <td>Third</td>\n",
       "      <td>Queenstown</td>\n",
       "      <td>1</td>\n",
       "    </tr>\n",
       "    <tr>\n",
       "      <th>633</th>\n",
       "      <td>0</td>\n",
       "      <td>male</td>\n",
       "      <td>29.0</td>\n",
       "      <td>0</td>\n",
       "      <td>0</td>\n",
       "      <td>0.0000</td>\n",
       "      <td>First</td>\n",
       "      <td>Southampton</td>\n",
       "      <td>1</td>\n",
       "    </tr>\n",
       "    <tr>\n",
       "      <th>403</th>\n",
       "      <td>0</td>\n",
       "      <td>male</td>\n",
       "      <td>28.0</td>\n",
       "      <td>1</td>\n",
       "      <td>0</td>\n",
       "      <td>15.8500</td>\n",
       "      <td>Third</td>\n",
       "      <td>Southampton</td>\n",
       "      <td>0</td>\n",
       "    </tr>\n",
       "  </tbody>\n",
       "</table>\n",
       "</div>"
      ],
      "text/plain": [
       "     survived     sex   age  sibsp  parch     fare  class  embark_town  alone\n",
       "748         0    male  19.0      1      0  53.1000  First  Southampton      0\n",
       "45          0    male  29.0      0      0   8.0500  Third  Southampton      1\n",
       "28          1  female  29.0      0      0   7.8792  Third   Queenstown      1\n",
       "633         0    male  29.0      0      0   0.0000  First  Southampton      1\n",
       "403         0    male  28.0      1      0  15.8500  Third  Southampton      0"
      ]
     },
     "execution_count": 3,
     "metadata": {},
     "output_type": "execute_result"
    }
   ],
   "source": [
    "train.head()"
   ]
  },
  {
   "cell_type": "code",
   "execution_count": 4,
   "id": "b0d5c247-b64c-4810-978d-5fd44fa7bfab",
   "metadata": {},
   "outputs": [
    {
     "data": {
      "text/plain": [
       "(623, 9)"
      ]
     },
     "execution_count": 4,
     "metadata": {},
     "output_type": "execute_result"
    }
   ],
   "source": [
    "train.shape"
   ]
  },
  {
   "cell_type": "code",
   "execution_count": 5,
   "id": "b7297c3e-2f7b-410e-bb8e-5c1c5d9632fa",
   "metadata": {},
   "outputs": [
    {
     "data": {
      "text/plain": [
       "(134, 9)"
      ]
     },
     "execution_count": 5,
     "metadata": {},
     "output_type": "execute_result"
    }
   ],
   "source": [
    "val.shape"
   ]
  },
  {
   "cell_type": "code",
   "execution_count": 6,
   "id": "e602bddf-e5b2-48d3-9a21-5cc96e55b504",
   "metadata": {},
   "outputs": [],
   "source": [
    "# train = pd.get_dummies(train, columns = ['sex', 'class', 'embark_town'])\n",
    "# train\n",
    "\n",
    "# test = pd.get_dummies(test, columns = ['sex'], drop_first = True)\n",
    "# test = pd.get_dummies(test, columns = ['class', 'embark_town'])\n",
    "# test.head()"
   ]
  },
  {
   "cell_type": "code",
   "execution_count": 7,
   "id": "c9f749d8-2bb9-42b8-9c22-3750a4393aad",
   "metadata": {},
   "outputs": [],
   "source": [
    "def one_hot_encode_columns(dataframes, columns_to_encode):\n",
    "    encoded_dataframes = []\n",
    "    \n",
    "    for df in dataframes:\n",
    "        encoded_df = pd.get_dummies(df, columns=columns_to_encode)\n",
    "        encoded_dataframes.append(encoded_df)\n",
    "    \n",
    "    return encoded_dataframes\n",
    "\n",
    "dataframes_to_encode = [train, val]\n",
    "encoded_dataframes = one_hot_encode_columns(dataframes_to_encode, columns_to_encode=['sex', 'class', 'embark_town'])\n",
    "\n",
    "train, val = encoded_dataframes"
   ]
  },
  {
   "cell_type": "code",
   "execution_count": 8,
   "id": "c6950eb5-6dc2-42c4-b593-7c7926b213e5",
   "metadata": {},
   "outputs": [
    {
     "data": {
      "text/plain": [
       "((623, 14), (134, 14))"
      ]
     },
     "execution_count": 8,
     "metadata": {},
     "output_type": "execute_result"
    }
   ],
   "source": [
    "train.shape, val.shape"
   ]
  },
  {
   "cell_type": "code",
   "execution_count": 9,
   "id": "539ad9ae-55a2-4fff-a06e-57be8885d7ca",
   "metadata": {},
   "outputs": [],
   "source": [
    "X_train = train.drop(columns='survived')\n",
    "y_train = train.survived\n",
    "\n",
    "X_val = val.drop(columns='survived')\n",
    "y_val = val.survived"
   ]
  },
  {
   "cell_type": "code",
   "execution_count": 10,
   "id": "ddbd9671-faa6-49cd-aa93-85e8243ddfef",
   "metadata": {},
   "outputs": [
    {
     "data": {
      "text/plain": [
       "0    0\n",
       "Name: survived, dtype: int64"
      ]
     },
     "execution_count": 10,
     "metadata": {},
     "output_type": "execute_result"
    }
   ],
   "source": [
    "y_train.mode()"
   ]
  },
  {
   "cell_type": "code",
   "execution_count": 11,
   "id": "9cf8bb54-73d8-4bfd-a611-dae9c81809f4",
   "metadata": {},
   "outputs": [
    {
     "data": {
      "text/plain": [
       "748     True\n",
       "45      True\n",
       "28     False\n",
       "633     True\n",
       "403     True\n",
       "       ...  \n",
       "476     True\n",
       "190    False\n",
       "736     True\n",
       "462     True\n",
       "136    False\n",
       "Name: survived, Length: 623, dtype: bool"
      ]
     },
     "execution_count": 11,
     "metadata": {},
     "output_type": "execute_result"
    }
   ],
   "source": [
    "y_train == 0 #baseline"
   ]
  },
  {
   "cell_type": "code",
   "execution_count": 12,
   "id": "c2c311db-fba1-471f-893c-8b29a78fb759",
   "metadata": {},
   "outputs": [
    {
     "data": {
      "text/plain": [
       "0.6163723916532905"
      ]
     },
     "execution_count": 12,
     "metadata": {},
     "output_type": "execute_result"
    }
   ],
   "source": [
    "base_acc = (y_train == 0).mean()\n",
    "base_acc"
   ]
  },
  {
   "cell_type": "markdown",
   "id": "276fbda2-f8bc-4bb1-9287-fd6c3d4ea5fe",
   "metadata": {},
   "source": [
    "**2. Fit the decision tree classifier to your training sample and transform (i.e. make predictions on the training sample)**"
   ]
  },
  {
   "cell_type": "code",
   "execution_count": 13,
   "id": "9dfced59-976e-4642-a7b6-8e9bcd929039",
   "metadata": {},
   "outputs": [
    {
     "data": {
      "text/html": [
       "<style>#sk-container-id-1 {color: black;background-color: white;}#sk-container-id-1 pre{padding: 0;}#sk-container-id-1 div.sk-toggleable {background-color: white;}#sk-container-id-1 label.sk-toggleable__label {cursor: pointer;display: block;width: 100%;margin-bottom: 0;padding: 0.3em;box-sizing: border-box;text-align: center;}#sk-container-id-1 label.sk-toggleable__label-arrow:before {content: \"▸\";float: left;margin-right: 0.25em;color: #696969;}#sk-container-id-1 label.sk-toggleable__label-arrow:hover:before {color: black;}#sk-container-id-1 div.sk-estimator:hover label.sk-toggleable__label-arrow:before {color: black;}#sk-container-id-1 div.sk-toggleable__content {max-height: 0;max-width: 0;overflow: hidden;text-align: left;background-color: #f0f8ff;}#sk-container-id-1 div.sk-toggleable__content pre {margin: 0.2em;color: black;border-radius: 0.25em;background-color: #f0f8ff;}#sk-container-id-1 input.sk-toggleable__control:checked~div.sk-toggleable__content {max-height: 200px;max-width: 100%;overflow: auto;}#sk-container-id-1 input.sk-toggleable__control:checked~label.sk-toggleable__label-arrow:before {content: \"▾\";}#sk-container-id-1 div.sk-estimator input.sk-toggleable__control:checked~label.sk-toggleable__label {background-color: #d4ebff;}#sk-container-id-1 div.sk-label input.sk-toggleable__control:checked~label.sk-toggleable__label {background-color: #d4ebff;}#sk-container-id-1 input.sk-hidden--visually {border: 0;clip: rect(1px 1px 1px 1px);clip: rect(1px, 1px, 1px, 1px);height: 1px;margin: -1px;overflow: hidden;padding: 0;position: absolute;width: 1px;}#sk-container-id-1 div.sk-estimator {font-family: monospace;background-color: #f0f8ff;border: 1px dotted black;border-radius: 0.25em;box-sizing: border-box;margin-bottom: 0.5em;}#sk-container-id-1 div.sk-estimator:hover {background-color: #d4ebff;}#sk-container-id-1 div.sk-parallel-item::after {content: \"\";width: 100%;border-bottom: 1px solid gray;flex-grow: 1;}#sk-container-id-1 div.sk-label:hover label.sk-toggleable__label {background-color: #d4ebff;}#sk-container-id-1 div.sk-serial::before {content: \"\";position: absolute;border-left: 1px solid gray;box-sizing: border-box;top: 0;bottom: 0;left: 50%;z-index: 0;}#sk-container-id-1 div.sk-serial {display: flex;flex-direction: column;align-items: center;background-color: white;padding-right: 0.2em;padding-left: 0.2em;position: relative;}#sk-container-id-1 div.sk-item {position: relative;z-index: 1;}#sk-container-id-1 div.sk-parallel {display: flex;align-items: stretch;justify-content: center;background-color: white;position: relative;}#sk-container-id-1 div.sk-item::before, #sk-container-id-1 div.sk-parallel-item::before {content: \"\";position: absolute;border-left: 1px solid gray;box-sizing: border-box;top: 0;bottom: 0;left: 50%;z-index: -1;}#sk-container-id-1 div.sk-parallel-item {display: flex;flex-direction: column;z-index: 1;position: relative;background-color: white;}#sk-container-id-1 div.sk-parallel-item:first-child::after {align-self: flex-end;width: 50%;}#sk-container-id-1 div.sk-parallel-item:last-child::after {align-self: flex-start;width: 50%;}#sk-container-id-1 div.sk-parallel-item:only-child::after {width: 0;}#sk-container-id-1 div.sk-dashed-wrapped {border: 1px dashed gray;margin: 0 0.4em 0.5em 0.4em;box-sizing: border-box;padding-bottom: 0.4em;background-color: white;}#sk-container-id-1 div.sk-label label {font-family: monospace;font-weight: bold;display: inline-block;line-height: 1.2em;}#sk-container-id-1 div.sk-label-container {text-align: center;}#sk-container-id-1 div.sk-container {/* jupyter's `normalize.less` sets `[hidden] { display: none; }` but bootstrap.min.css set `[hidden] { display: none !important; }` so we also need the `!important` here to be able to override the default hidden behavior on the sphinx rendered scikit-learn.org. See: https://github.com/scikit-learn/scikit-learn/issues/21755 */display: inline-block !important;position: relative;}#sk-container-id-1 div.sk-text-repr-fallback {display: none;}</style><div id=\"sk-container-id-1\" class=\"sk-top-container\"><div class=\"sk-text-repr-fallback\"><pre>DecisionTreeClassifier(max_depth=3, random_state=42)</pre><b>In a Jupyter environment, please rerun this cell to show the HTML representation or trust the notebook. <br />On GitHub, the HTML representation is unable to render, please try loading this page with nbviewer.org.</b></div><div class=\"sk-container\" hidden><div class=\"sk-item\"><div class=\"sk-estimator sk-toggleable\"><input class=\"sk-toggleable__control sk-hidden--visually\" id=\"sk-estimator-id-1\" type=\"checkbox\" checked><label for=\"sk-estimator-id-1\" class=\"sk-toggleable__label sk-toggleable__label-arrow\">DecisionTreeClassifier</label><div class=\"sk-toggleable__content\"><pre>DecisionTreeClassifier(max_depth=3, random_state=42)</pre></div></div></div></div></div>"
      ],
      "text/plain": [
       "DecisionTreeClassifier(max_depth=3, random_state=42)"
      ]
     },
     "execution_count": 13,
     "metadata": {},
     "output_type": "execute_result"
    }
   ],
   "source": [
    "seed = 42\n",
    "\n",
    "clf = DecisionTreeClassifier(max_depth=3, random_state=seed)\n",
    "\n",
    "clf = clf.fit(X_train, y_train)\n",
    "\n",
    "clf"
   ]
  },
  {
   "cell_type": "code",
   "execution_count": 14,
   "id": "92f29416-6bb7-447f-9a6f-220b90fb5513",
   "metadata": {},
   "outputs": [
    {
     "data": {
      "text/plain": [
       "array([0.09522747, 0.01326607, 0.        , 0.05263329, 0.        ,\n",
       "       0.65091629, 0.        , 0.05668045, 0.        , 0.13127644,\n",
       "       0.        , 0.        , 0.        ])"
      ]
     },
     "execution_count": 14,
     "metadata": {},
     "output_type": "execute_result"
    }
   ],
   "source": [
    "clf.feature_importances_"
   ]
  },
  {
   "cell_type": "code",
   "execution_count": 15,
   "id": "dfa1333c-2c6c-4d54-afc2-e697c2326744",
   "metadata": {},
   "outputs": [
    {
     "data": {
      "text/plain": [
       "Index(['age', 'sibsp', 'parch', 'fare', 'alone', 'sex_female', 'sex_male',\n",
       "       'class_First', 'class_Second', 'class_Third', 'embark_town_Cherbourg',\n",
       "       'embark_town_Queenstown', 'embark_town_Southampton'],\n",
       "      dtype='object')"
      ]
     },
     "execution_count": 15,
     "metadata": {},
     "output_type": "execute_result"
    }
   ],
   "source": [
    "X_train.columns"
   ]
  },
  {
   "cell_type": "code",
   "execution_count": 16,
   "id": "6ba4cf42-ecde-4791-94dd-4a822b004d63",
   "metadata": {},
   "outputs": [
    {
     "data": {
      "text/plain": [
       "array([0, 0, 1, 0, 0])"
      ]
     },
     "execution_count": 16,
     "metadata": {},
     "output_type": "execute_result"
    }
   ],
   "source": [
    "# make prediction on train obeservations\n",
    "y_pred = clf.predict(X_train)\n",
    "y_pred[:5]"
   ]
  },
  {
   "cell_type": "code",
   "execution_count": 17,
   "id": "4c7dc000-de7d-46dc-ba24-a8368e08861d",
   "metadata": {},
   "outputs": [
    {
     "data": {
      "text/plain": [
       "array([[0.6375    , 0.3625    ],\n",
       "       [0.88535032, 0.11464968],\n",
       "       [0.21212121, 0.78787879],\n",
       "       [0.6375    , 0.3625    ],\n",
       "       [0.88535032, 0.11464968]])"
      ]
     },
     "execution_count": 17,
     "metadata": {},
     "output_type": "execute_result"
    }
   ],
   "source": [
    "y_pred_proba = clf.predict_proba(X_train)\n",
    "y_pred_proba[:5]"
   ]
  },
  {
   "cell_type": "code",
   "execution_count": 18,
   "id": "38fe68da-e04b-4a24-a1da-f7fcf6e75773",
   "metadata": {},
   "outputs": [
    {
     "data": {
      "text/plain": [
       "array([[0.6375    , 0.3625    ],\n",
       "       [0.88535032, 0.11464968],\n",
       "       [0.88535032, 0.11464968],\n",
       "       [0.6375    , 0.3625    ],\n",
       "       [0.88535032, 0.11464968]])"
      ]
     },
     "execution_count": 18,
     "metadata": {},
     "output_type": "execute_result"
    }
   ],
   "source": [
    "y_pred_proba = clf.predict_proba(X_val)\n",
    "y_pred_proba[:5]"
   ]
  },
  {
   "cell_type": "code",
   "execution_count": 19,
   "id": "099602af-6018-406f-8e4b-9381194afe7e",
   "metadata": {},
   "outputs": [
    {
     "data": {
      "text/plain": [
       "0.8298555377207063"
      ]
     },
     "execution_count": 19,
     "metadata": {},
     "output_type": "execute_result"
    }
   ],
   "source": [
    "clf.score(X_train, y_train)"
   ]
  },
  {
   "cell_type": "code",
   "execution_count": 20,
   "id": "b6023b15-274c-4584-99a9-cafed8c8ac6d",
   "metadata": {},
   "outputs": [
    {
     "data": {
      "text/plain": [
       "0.835820895522388"
      ]
     },
     "execution_count": 20,
     "metadata": {},
     "output_type": "execute_result"
    }
   ],
   "source": [
    "clf.score(X_val, y_val)"
   ]
  },
  {
   "cell_type": "code",
   "execution_count": 21,
   "id": "f24bef85-d95f-478a-b929-07153510d16b",
   "metadata": {},
   "outputs": [],
   "source": [
    "seed = 42\n",
    "train_acc = []\n",
    "val_acc = []\n",
    "depth = []\n",
    "\n",
    "for i in range(2, 6):\n",
    "\n",
    "    clf = DecisionTreeClassifier(max_depth=i, random_state = seed)\n",
    "\n",
    "    clf.fit(X_train, y_train)\n",
    "\n",
    "    depth.append(i)\n",
    "\n",
    "    train_acc.append(clf.score(X_train, y_train))\n",
    "\n",
    "    val_acc.append(clf.score(X_val, y_val))"
   ]
  },
  {
   "cell_type": "code",
   "execution_count": 22,
   "id": "8dcebd3d-3e3a-4946-8619-d5faa9750a7b",
   "metadata": {},
   "outputs": [
    {
     "data": {
      "text/html": [
       "<div>\n",
       "<style scoped>\n",
       "    .dataframe tbody tr th:only-of-type {\n",
       "        vertical-align: middle;\n",
       "    }\n",
       "\n",
       "    .dataframe tbody tr th {\n",
       "        vertical-align: top;\n",
       "    }\n",
       "\n",
       "    .dataframe thead th {\n",
       "        text-align: right;\n",
       "    }\n",
       "</style>\n",
       "<table border=\"1\" class=\"dataframe\">\n",
       "  <thead>\n",
       "    <tr style=\"text-align: right;\">\n",
       "      <th></th>\n",
       "      <th>max_depth</th>\n",
       "      <th>train_acc</th>\n",
       "      <th>val_acc</th>\n",
       "    </tr>\n",
       "  </thead>\n",
       "  <tbody>\n",
       "    <tr>\n",
       "      <th>0</th>\n",
       "      <td>2</td>\n",
       "      <td>0.807384</td>\n",
       "      <td>0.798507</td>\n",
       "    </tr>\n",
       "    <tr>\n",
       "      <th>1</th>\n",
       "      <td>3</td>\n",
       "      <td>0.829856</td>\n",
       "      <td>0.835821</td>\n",
       "    </tr>\n",
       "    <tr>\n",
       "      <th>2</th>\n",
       "      <td>4</td>\n",
       "      <td>0.845907</td>\n",
       "      <td>0.835821</td>\n",
       "    </tr>\n",
       "    <tr>\n",
       "      <th>3</th>\n",
       "      <td>5</td>\n",
       "      <td>0.863563</td>\n",
       "      <td>0.820896</td>\n",
       "    </tr>\n",
       "  </tbody>\n",
       "</table>\n",
       "</div>"
      ],
      "text/plain": [
       "   max_depth  train_acc   val_acc\n",
       "0          2   0.807384  0.798507\n",
       "1          3   0.829856  0.835821\n",
       "2          4   0.845907  0.835821\n",
       "3          5   0.863563  0.820896"
      ]
     },
     "execution_count": 22,
     "metadata": {},
     "output_type": "execute_result"
    }
   ],
   "source": [
    "tree = pd.DataFrame({'max_depth' : depth,\n",
    "                      'train_acc' : train_acc,\n",
    "                      'val_acc' : val_acc})\n",
    "tree"
   ]
  },
  {
   "cell_type": "markdown",
   "id": "56187a3d-80e7-4ae9-9c60-f0ecad9e2f8e",
   "metadata": {},
   "source": [
    "**3. Evaluate your in-sample results using the model score, confusion matrix, and classification report.**"
   ]
  },
  {
   "cell_type": "code",
   "execution_count": 23,
   "id": "0dc7a914-8c93-42f2-bfb2-57e75ece7b72",
   "metadata": {},
   "outputs": [
    {
     "name": "stdout",
     "output_type": "stream",
     "text": [
      "Accuracy of Decision Tree classifier on training set: 0.86\n"
     ]
    }
   ],
   "source": [
    "print('Accuracy of Decision Tree classifier on training set: {:.2f}'\n",
    "      .format(clf.score(X_train, y_train)))"
   ]
  },
  {
   "cell_type": "code",
   "execution_count": 24,
   "id": "7c3cecf4-2997-4875-a44b-58fc7d5e3f48",
   "metadata": {},
   "outputs": [
    {
     "name": "stdout",
     "output_type": "stream",
     "text": [
      "Accuracy of Decision Tree classifier on validation set: 0.82\n"
     ]
    }
   ],
   "source": [
    "print('Accuracy of Decision Tree classifier on validation set: {:.2f}'\n",
    "      .format(clf.score(X_val, y_val)))"
   ]
  },
  {
   "cell_type": "code",
   "execution_count": 25,
   "id": "af7fa147-3a20-4711-833b-59b78dfe1410",
   "metadata": {},
   "outputs": [
    {
     "data": {
      "text/plain": [
       "array([[370,  14],\n",
       "       [ 92, 147]])"
      ]
     },
     "execution_count": 25,
     "metadata": {},
     "output_type": "execute_result"
    }
   ],
   "source": [
    "# confusion matrix\n",
    "confusion_matrix(y_train, y_pred)"
   ]
  },
  {
   "cell_type": "code",
   "execution_count": 26,
   "id": "62454b4e-4503-48d0-8ce4-3720d99a60bd",
   "metadata": {},
   "outputs": [
    {
     "data": {
      "text/plain": [
       "0    384\n",
       "1    239\n",
       "Name: survived, dtype: int64"
      ]
     },
     "execution_count": 26,
     "metadata": {},
     "output_type": "execute_result"
    }
   ],
   "source": [
    "y_train.value_counts()"
   ]
  },
  {
   "cell_type": "code",
   "execution_count": 27,
   "id": "2d348155-b52a-4b04-b8db-6e43308da751",
   "metadata": {},
   "outputs": [
    {
     "name": "stdout",
     "output_type": "stream",
     "text": [
      "              precision    recall  f1-score   support\n",
      "\n",
      "           0       0.80      0.96      0.87       384\n",
      "           1       0.91      0.62      0.73       239\n",
      "\n",
      "    accuracy                           0.83       623\n",
      "   macro avg       0.86      0.79      0.80       623\n",
      "weighted avg       0.84      0.83      0.82       623\n",
      "\n"
     ]
    }
   ],
   "source": [
    "print(classification_report(y_train, y_pred))"
   ]
  },
  {
   "cell_type": "markdown",
   "id": "a1ec6c2b-1e53-4012-80c8-d7254e7ab841",
   "metadata": {},
   "source": [
    "**4. Compute: Accuracy, true positive rate, false positive rate, true negative rate, false negative rate, precision, recall, f1-score, and support.**"
   ]
  },
  {
   "cell_type": "code",
   "execution_count": 28,
   "id": "70ade7cc-25d8-495f-ae01-24d63e5fdad0",
   "metadata": {},
   "outputs": [
    {
     "data": {
      "text/plain": [
       "0.8635634028892456"
      ]
     },
     "execution_count": 28,
     "metadata": {},
     "output_type": "execute_result"
    }
   ],
   "source": [
    "clf.score(X_train, y_train)"
   ]
  },
  {
   "cell_type": "code",
   "execution_count": 29,
   "id": "acc8c315-82a2-4fdf-b725-a1b61b6a9cc3",
   "metadata": {},
   "outputs": [
    {
     "data": {
      "text/plain": [
       "0.8208955223880597"
      ]
     },
     "execution_count": 29,
     "metadata": {},
     "output_type": "execute_result"
    }
   ],
   "source": [
    "clf.score(X_val, y_val)"
   ]
  },
  {
   "cell_type": "code",
   "execution_count": 30,
   "id": "d0a97f76-3734-43ec-99cd-c33953d43cd0",
   "metadata": {
    "scrolled": true
   },
   "outputs": [
    {
     "data": {
      "text/html": [
       "<div>\n",
       "<style scoped>\n",
       "    .dataframe tbody tr th:only-of-type {\n",
       "        vertical-align: middle;\n",
       "    }\n",
       "\n",
       "    .dataframe tbody tr th {\n",
       "        vertical-align: top;\n",
       "    }\n",
       "\n",
       "    .dataframe thead th {\n",
       "        text-align: right;\n",
       "    }\n",
       "</style>\n",
       "<table border=\"1\" class=\"dataframe\">\n",
       "  <thead>\n",
       "    <tr style=\"text-align: right;\">\n",
       "      <th></th>\n",
       "      <th>Died</th>\n",
       "      <th>Survived</th>\n",
       "    </tr>\n",
       "  </thead>\n",
       "  <tbody>\n",
       "    <tr>\n",
       "      <th>Died</th>\n",
       "      <td>370</td>\n",
       "      <td>14</td>\n",
       "    </tr>\n",
       "    <tr>\n",
       "      <th>Survived</th>\n",
       "      <td>92</td>\n",
       "      <td>147</td>\n",
       "    </tr>\n",
       "  </tbody>\n",
       "</table>\n",
       "</div>"
      ],
      "text/plain": [
       "          Died  Survived\n",
       "Died       370        14\n",
       "Survived    92       147"
      ]
     },
     "execution_count": 30,
     "metadata": {},
     "output_type": "execute_result"
    }
   ],
   "source": [
    "y_train = train.survived\n",
    "\n",
    "import pandas as pd\n",
    "\n",
    "labels = sorted(y_train.unique())\n",
    "\n",
    "model = pd.DataFrame(confusion_matrix(y_train, y_pred), index=labels, columns=labels)\n",
    "\n",
    "model.rename(\n",
    "    columns={0: 'Died', 1: 'Survived'}, index={0: 'Died', 1: 'Survived'}, inplace=True,)\n",
    "\n",
    "model"
   ]
  },
  {
   "cell_type": "markdown",
   "id": "89658b51-6fff-498b-9f3e-51b7ff41f0ab",
   "metadata": {},
   "source": [
    "**TP:** 147\n",
    "\n",
    "**FP:** 14\n",
    "\n",
    "**TN:** 370\n",
    "\n",
    "**FN:** 92"
   ]
  },
  {
   "cell_type": "markdown",
   "id": "a37d4a48-69b2-46fa-bce9-bac25ed93e7b",
   "metadata": {},
   "source": [
    "**5. Run through steps 2-4 using a different max_depth value.**"
   ]
  },
  {
   "cell_type": "code",
   "execution_count": 31,
   "id": "9fa1a171-7336-4075-b497-090e083a2864",
   "metadata": {},
   "outputs": [
    {
     "data": {
      "text/html": [
       "<style>#sk-container-id-2 {color: black;background-color: white;}#sk-container-id-2 pre{padding: 0;}#sk-container-id-2 div.sk-toggleable {background-color: white;}#sk-container-id-2 label.sk-toggleable__label {cursor: pointer;display: block;width: 100%;margin-bottom: 0;padding: 0.3em;box-sizing: border-box;text-align: center;}#sk-container-id-2 label.sk-toggleable__label-arrow:before {content: \"▸\";float: left;margin-right: 0.25em;color: #696969;}#sk-container-id-2 label.sk-toggleable__label-arrow:hover:before {color: black;}#sk-container-id-2 div.sk-estimator:hover label.sk-toggleable__label-arrow:before {color: black;}#sk-container-id-2 div.sk-toggleable__content {max-height: 0;max-width: 0;overflow: hidden;text-align: left;background-color: #f0f8ff;}#sk-container-id-2 div.sk-toggleable__content pre {margin: 0.2em;color: black;border-radius: 0.25em;background-color: #f0f8ff;}#sk-container-id-2 input.sk-toggleable__control:checked~div.sk-toggleable__content {max-height: 200px;max-width: 100%;overflow: auto;}#sk-container-id-2 input.sk-toggleable__control:checked~label.sk-toggleable__label-arrow:before {content: \"▾\";}#sk-container-id-2 div.sk-estimator input.sk-toggleable__control:checked~label.sk-toggleable__label {background-color: #d4ebff;}#sk-container-id-2 div.sk-label input.sk-toggleable__control:checked~label.sk-toggleable__label {background-color: #d4ebff;}#sk-container-id-2 input.sk-hidden--visually {border: 0;clip: rect(1px 1px 1px 1px);clip: rect(1px, 1px, 1px, 1px);height: 1px;margin: -1px;overflow: hidden;padding: 0;position: absolute;width: 1px;}#sk-container-id-2 div.sk-estimator {font-family: monospace;background-color: #f0f8ff;border: 1px dotted black;border-radius: 0.25em;box-sizing: border-box;margin-bottom: 0.5em;}#sk-container-id-2 div.sk-estimator:hover {background-color: #d4ebff;}#sk-container-id-2 div.sk-parallel-item::after {content: \"\";width: 100%;border-bottom: 1px solid gray;flex-grow: 1;}#sk-container-id-2 div.sk-label:hover label.sk-toggleable__label {background-color: #d4ebff;}#sk-container-id-2 div.sk-serial::before {content: \"\";position: absolute;border-left: 1px solid gray;box-sizing: border-box;top: 0;bottom: 0;left: 50%;z-index: 0;}#sk-container-id-2 div.sk-serial {display: flex;flex-direction: column;align-items: center;background-color: white;padding-right: 0.2em;padding-left: 0.2em;position: relative;}#sk-container-id-2 div.sk-item {position: relative;z-index: 1;}#sk-container-id-2 div.sk-parallel {display: flex;align-items: stretch;justify-content: center;background-color: white;position: relative;}#sk-container-id-2 div.sk-item::before, #sk-container-id-2 div.sk-parallel-item::before {content: \"\";position: absolute;border-left: 1px solid gray;box-sizing: border-box;top: 0;bottom: 0;left: 50%;z-index: -1;}#sk-container-id-2 div.sk-parallel-item {display: flex;flex-direction: column;z-index: 1;position: relative;background-color: white;}#sk-container-id-2 div.sk-parallel-item:first-child::after {align-self: flex-end;width: 50%;}#sk-container-id-2 div.sk-parallel-item:last-child::after {align-self: flex-start;width: 50%;}#sk-container-id-2 div.sk-parallel-item:only-child::after {width: 0;}#sk-container-id-2 div.sk-dashed-wrapped {border: 1px dashed gray;margin: 0 0.4em 0.5em 0.4em;box-sizing: border-box;padding-bottom: 0.4em;background-color: white;}#sk-container-id-2 div.sk-label label {font-family: monospace;font-weight: bold;display: inline-block;line-height: 1.2em;}#sk-container-id-2 div.sk-label-container {text-align: center;}#sk-container-id-2 div.sk-container {/* jupyter's `normalize.less` sets `[hidden] { display: none; }` but bootstrap.min.css set `[hidden] { display: none !important; }` so we also need the `!important` here to be able to override the default hidden behavior on the sphinx rendered scikit-learn.org. See: https://github.com/scikit-learn/scikit-learn/issues/21755 */display: inline-block !important;position: relative;}#sk-container-id-2 div.sk-text-repr-fallback {display: none;}</style><div id=\"sk-container-id-2\" class=\"sk-top-container\"><div class=\"sk-text-repr-fallback\"><pre>DecisionTreeClassifier(max_depth=9, random_state=42)</pre><b>In a Jupyter environment, please rerun this cell to show the HTML representation or trust the notebook. <br />On GitHub, the HTML representation is unable to render, please try loading this page with nbviewer.org.</b></div><div class=\"sk-container\" hidden><div class=\"sk-item\"><div class=\"sk-estimator sk-toggleable\"><input class=\"sk-toggleable__control sk-hidden--visually\" id=\"sk-estimator-id-2\" type=\"checkbox\" checked><label for=\"sk-estimator-id-2\" class=\"sk-toggleable__label sk-toggleable__label-arrow\">DecisionTreeClassifier</label><div class=\"sk-toggleable__content\"><pre>DecisionTreeClassifier(max_depth=9, random_state=42)</pre></div></div></div></div></div>"
      ],
      "text/plain": [
       "DecisionTreeClassifier(max_depth=9, random_state=42)"
      ]
     },
     "execution_count": 31,
     "metadata": {},
     "output_type": "execute_result"
    }
   ],
   "source": [
    "seed = 42\n",
    "\n",
    "clf = DecisionTreeClassifier(max_depth=9, random_state=seed)\n",
    "\n",
    "clf = clf.fit(X_train, y_train)\n",
    "\n",
    "clf"
   ]
  },
  {
   "cell_type": "code",
   "execution_count": 32,
   "id": "d9db9077-aa51-4adc-85c6-2e5665da3190",
   "metadata": {},
   "outputs": [
    {
     "data": {
      "text/plain": [
       "array([0, 0, 1, 0, 0])"
      ]
     },
     "execution_count": 32,
     "metadata": {},
     "output_type": "execute_result"
    }
   ],
   "source": [
    "# make prediction on train obeservations\n",
    "y_pred = clf.predict(X_train)\n",
    "y_pred[:5]"
   ]
  },
  {
   "cell_type": "code",
   "execution_count": 33,
   "id": "0910a158-265d-4380-af41-34539e7022c5",
   "metadata": {},
   "outputs": [
    {
     "data": {
      "text/plain": [
       "0.9245585874799358"
      ]
     },
     "execution_count": 33,
     "metadata": {},
     "output_type": "execute_result"
    }
   ],
   "source": [
    "clf.score(X_train, y_train)"
   ]
  },
  {
   "cell_type": "code",
   "execution_count": 34,
   "id": "77ba269d-bc75-4df3-a018-a3f4ebf6112c",
   "metadata": {},
   "outputs": [
    {
     "data": {
      "text/plain": [
       "0.8134328358208955"
      ]
     },
     "execution_count": 34,
     "metadata": {},
     "output_type": "execute_result"
    }
   ],
   "source": [
    "clf.score(X_val, y_val)"
   ]
  },
  {
   "cell_type": "code",
   "execution_count": 35,
   "id": "aa100c00-8212-4265-ba69-e54c96302203",
   "metadata": {},
   "outputs": [],
   "source": [
    "seed = 42\n",
    "train_acc = []\n",
    "val_acc = []\n",
    "depth = []\n",
    "\n",
    "for i in range(2, 6):\n",
    "\n",
    "    clf = DecisionTreeClassifier(max_depth=i, random_state = seed)\n",
    "\n",
    "    clf.fit(X_train, y_train)\n",
    "\n",
    "    depth.append(i)\n",
    "\n",
    "    train_acc.append(clf.score(X_train, y_train))\n",
    "\n",
    "    val_acc.append(clf.score(X_val, y_val))"
   ]
  },
  {
   "cell_type": "code",
   "execution_count": 36,
   "id": "6b2d4fd9-4246-4cb9-9084-724adb6a6728",
   "metadata": {},
   "outputs": [
    {
     "name": "stdout",
     "output_type": "stream",
     "text": [
      "Accuracy of Decision Tree classifier on training set: 0.86\n"
     ]
    }
   ],
   "source": [
    "print('Accuracy of Decision Tree classifier on training set: {:.2f}'\n",
    "      .format(clf.score(X_train, y_train)))"
   ]
  },
  {
   "cell_type": "code",
   "execution_count": 37,
   "id": "0dadd8a0-26d5-4f5f-8a35-91a27bee677f",
   "metadata": {},
   "outputs": [
    {
     "name": "stdout",
     "output_type": "stream",
     "text": [
      "Accuracy of Decision Tree classifier on validation set: 0.82\n"
     ]
    }
   ],
   "source": [
    "print('Accuracy of Decision Tree classifier on validation set: {:.2f}'\n",
    "      .format(clf.score(X_val, y_val)))"
   ]
  },
  {
   "cell_type": "code",
   "execution_count": 38,
   "id": "ce6b914c-f5f9-446e-95d1-de74681c1054",
   "metadata": {},
   "outputs": [
    {
     "name": "stdout",
     "output_type": "stream",
     "text": [
      "              precision    recall  f1-score   support\n",
      "\n",
      "           0       0.90      0.99      0.94       384\n",
      "           1       0.98      0.82      0.89       239\n",
      "\n",
      "    accuracy                           0.92       623\n",
      "   macro avg       0.94      0.90      0.92       623\n",
      "weighted avg       0.93      0.92      0.92       623\n",
      "\n"
     ]
    }
   ],
   "source": [
    "print(classification_report(y_train, y_pred))"
   ]
  },
  {
   "cell_type": "code",
   "execution_count": 39,
   "id": "c7ef9f8f-42fb-47e7-a73e-04f68ee79b5a",
   "metadata": {},
   "outputs": [
    {
     "data": {
      "text/html": [
       "<div>\n",
       "<style scoped>\n",
       "    .dataframe tbody tr th:only-of-type {\n",
       "        vertical-align: middle;\n",
       "    }\n",
       "\n",
       "    .dataframe tbody tr th {\n",
       "        vertical-align: top;\n",
       "    }\n",
       "\n",
       "    .dataframe thead th {\n",
       "        text-align: right;\n",
       "    }\n",
       "</style>\n",
       "<table border=\"1\" class=\"dataframe\">\n",
       "  <thead>\n",
       "    <tr style=\"text-align: right;\">\n",
       "      <th></th>\n",
       "      <th>Died</th>\n",
       "      <th>Survived</th>\n",
       "    </tr>\n",
       "  </thead>\n",
       "  <tbody>\n",
       "    <tr>\n",
       "      <th>Died</th>\n",
       "      <td>380</td>\n",
       "      <td>4</td>\n",
       "    </tr>\n",
       "    <tr>\n",
       "      <th>Survived</th>\n",
       "      <td>43</td>\n",
       "      <td>196</td>\n",
       "    </tr>\n",
       "  </tbody>\n",
       "</table>\n",
       "</div>"
      ],
      "text/plain": [
       "          Died  Survived\n",
       "Died       380         4\n",
       "Survived    43       196"
      ]
     },
     "execution_count": 39,
     "metadata": {},
     "output_type": "execute_result"
    }
   ],
   "source": [
    "y_train = train.survived\n",
    "\n",
    "import pandas as pd\n",
    "\n",
    "labels = sorted(y_train.unique())\n",
    "\n",
    "model = pd.DataFrame(confusion_matrix(y_train, y_pred), index=labels, columns=labels)\n",
    "\n",
    "model.rename(\n",
    "    columns={0: 'Died', 1: 'Survived'}, index={0: 'Died', 1: 'Survived'}, inplace=True,)\n",
    "\n",
    "model"
   ]
  },
  {
   "cell_type": "markdown",
   "id": "12504f3f-9a24-4f06-8a0d-79eec4969af8",
   "metadata": {},
   "source": [
    "**6. Which model performs better on your in-sample data?**"
   ]
  },
  {
   "cell_type": "markdown",
   "id": "f4369d01-d9f6-42f7-9807-444032b3cc55",
   "metadata": {},
   "source": [
    "- My second model performed better on my in-sample data."
   ]
  },
  {
   "cell_type": "markdown",
   "id": "9d059993-a504-4218-932f-a19595db4bd7",
   "metadata": {},
   "source": [
    "**7. Which model performs best on your out-of-sample data, the $validate$ set?**"
   ]
  },
  {
   "cell_type": "markdown",
   "id": "0b1b7e80-4f0d-440e-966c-e089bcdbb408",
   "metadata": {},
   "source": [
    "- My first model performed better on my out-of-sample data."
   ]
  },
  {
   "cell_type": "markdown",
   "id": "407bc970-e01a-4b22-b1b7-95def07ef3d2",
   "metadata": {},
   "source": [
    "------------------------------------------------------------------------------------------------------------------------------------------------------------------------------"
   ]
  },
  {
   "cell_type": "markdown",
   "id": "d3489155-a732-44dc-a713-c5b25ee844f3",
   "metadata": {},
   "source": [
    "## **Part 2**"
   ]
  },
  {
   "cell_type": "markdown",
   "id": "8e272b6f-5205-4488-9d61-ffde20594cd0",
   "metadata": {},
   "source": [
    "**1. Work through these same exercises using the Telco dataset.**"
   ]
  },
  {
   "cell_type": "code",
   "execution_count": 40,
   "id": "cbccacbe-39ce-4d61-b870-bff1ddfa6824",
   "metadata": {},
   "outputs": [
    {
     "name": "stdout",
     "output_type": "stream",
     "text": [
      "Found your sauce my bro\n"
     ]
    }
   ],
   "source": [
    "train, val, test = telco_pipeline()"
   ]
  },
  {
   "cell_type": "code",
   "execution_count": 41,
   "id": "0dbfe824-9df3-4b31-acea-2fd0d66c0cd1",
   "metadata": {},
   "outputs": [
    {
     "data": {
      "text/html": [
       "<div>\n",
       "<style scoped>\n",
       "    .dataframe tbody tr th:only-of-type {\n",
       "        vertical-align: middle;\n",
       "    }\n",
       "\n",
       "    .dataframe tbody tr th {\n",
       "        vertical-align: top;\n",
       "    }\n",
       "\n",
       "    .dataframe thead th {\n",
       "        text-align: right;\n",
       "    }\n",
       "</style>\n",
       "<table border=\"1\" class=\"dataframe\">\n",
       "  <thead>\n",
       "    <tr style=\"text-align: right;\">\n",
       "      <th></th>\n",
       "      <th>gender</th>\n",
       "      <th>senior_citizen</th>\n",
       "      <th>partner</th>\n",
       "      <th>dependents</th>\n",
       "      <th>tenure</th>\n",
       "      <th>phone_service</th>\n",
       "      <th>multiple_lines</th>\n",
       "      <th>online_security</th>\n",
       "      <th>online_backup</th>\n",
       "      <th>device_protection</th>\n",
       "      <th>tech_support</th>\n",
       "      <th>streaming_tv</th>\n",
       "      <th>streaming_movies</th>\n",
       "      <th>paperless_billing</th>\n",
       "      <th>monthly_charges</th>\n",
       "      <th>total_charges</th>\n",
       "      <th>churn</th>\n",
       "      <th>internet_service_type</th>\n",
       "      <th>contract_type</th>\n",
       "      <th>payment_type</th>\n",
       "    </tr>\n",
       "  </thead>\n",
       "  <tbody>\n",
       "    <tr>\n",
       "      <th>5609</th>\n",
       "      <td>Male</td>\n",
       "      <td>0</td>\n",
       "      <td>No</td>\n",
       "      <td>No</td>\n",
       "      <td>14</td>\n",
       "      <td>Yes</td>\n",
       "      <td>No</td>\n",
       "      <td>No</td>\n",
       "      <td>No</td>\n",
       "      <td>Yes</td>\n",
       "      <td>No</td>\n",
       "      <td>No</td>\n",
       "      <td>No</td>\n",
       "      <td>No</td>\n",
       "      <td>76.45</td>\n",
       "      <td>1117.55</td>\n",
       "      <td>No</td>\n",
       "      <td>Fiber optic</td>\n",
       "      <td>Month-to-month</td>\n",
       "      <td>Electronic check</td>\n",
       "    </tr>\n",
       "    <tr>\n",
       "      <th>2209</th>\n",
       "      <td>Male</td>\n",
       "      <td>0</td>\n",
       "      <td>No</td>\n",
       "      <td>No</td>\n",
       "      <td>5</td>\n",
       "      <td>Yes</td>\n",
       "      <td>No</td>\n",
       "      <td>No</td>\n",
       "      <td>No</td>\n",
       "      <td>Yes</td>\n",
       "      <td>No</td>\n",
       "      <td>Yes</td>\n",
       "      <td>Yes</td>\n",
       "      <td>Yes</td>\n",
       "      <td>70.00</td>\n",
       "      <td>347.4</td>\n",
       "      <td>Yes</td>\n",
       "      <td>DSL</td>\n",
       "      <td>One year</td>\n",
       "      <td>Mailed check</td>\n",
       "    </tr>\n",
       "    <tr>\n",
       "      <th>6919</th>\n",
       "      <td>Male</td>\n",
       "      <td>0</td>\n",
       "      <td>Yes</td>\n",
       "      <td>No</td>\n",
       "      <td>35</td>\n",
       "      <td>Yes</td>\n",
       "      <td>Yes</td>\n",
       "      <td>No</td>\n",
       "      <td>No</td>\n",
       "      <td>No</td>\n",
       "      <td>No</td>\n",
       "      <td>No</td>\n",
       "      <td>No</td>\n",
       "      <td>Yes</td>\n",
       "      <td>75.20</td>\n",
       "      <td>2576.2</td>\n",
       "      <td>Yes</td>\n",
       "      <td>Fiber optic</td>\n",
       "      <td>Month-to-month</td>\n",
       "      <td>Electronic check</td>\n",
       "    </tr>\n",
       "    <tr>\n",
       "      <th>2284</th>\n",
       "      <td>Male</td>\n",
       "      <td>0</td>\n",
       "      <td>Yes</td>\n",
       "      <td>No</td>\n",
       "      <td>58</td>\n",
       "      <td>Yes</td>\n",
       "      <td>Yes</td>\n",
       "      <td>Yes</td>\n",
       "      <td>Yes</td>\n",
       "      <td>Yes</td>\n",
       "      <td>No</td>\n",
       "      <td>Yes</td>\n",
       "      <td>Yes</td>\n",
       "      <td>Yes</td>\n",
       "      <td>86.10</td>\n",
       "      <td>4890.5</td>\n",
       "      <td>No</td>\n",
       "      <td>DSL</td>\n",
       "      <td>Two year</td>\n",
       "      <td>Electronic check</td>\n",
       "    </tr>\n",
       "    <tr>\n",
       "      <th>845</th>\n",
       "      <td>Female</td>\n",
       "      <td>0</td>\n",
       "      <td>No</td>\n",
       "      <td>No</td>\n",
       "      <td>2</td>\n",
       "      <td>Yes</td>\n",
       "      <td>No</td>\n",
       "      <td>No</td>\n",
       "      <td>Yes</td>\n",
       "      <td>No</td>\n",
       "      <td>No</td>\n",
       "      <td>No</td>\n",
       "      <td>No</td>\n",
       "      <td>Yes</td>\n",
       "      <td>49.60</td>\n",
       "      <td>114.7</td>\n",
       "      <td>Yes</td>\n",
       "      <td>DSL</td>\n",
       "      <td>Month-to-month</td>\n",
       "      <td>Mailed check</td>\n",
       "    </tr>\n",
       "    <tr>\n",
       "      <th>...</th>\n",
       "      <td>...</td>\n",
       "      <td>...</td>\n",
       "      <td>...</td>\n",
       "      <td>...</td>\n",
       "      <td>...</td>\n",
       "      <td>...</td>\n",
       "      <td>...</td>\n",
       "      <td>...</td>\n",
       "      <td>...</td>\n",
       "      <td>...</td>\n",
       "      <td>...</td>\n",
       "      <td>...</td>\n",
       "      <td>...</td>\n",
       "      <td>...</td>\n",
       "      <td>...</td>\n",
       "      <td>...</td>\n",
       "      <td>...</td>\n",
       "      <td>...</td>\n",
       "      <td>...</td>\n",
       "      <td>...</td>\n",
       "    </tr>\n",
       "    <tr>\n",
       "      <th>5544</th>\n",
       "      <td>Male</td>\n",
       "      <td>0</td>\n",
       "      <td>Yes</td>\n",
       "      <td>No</td>\n",
       "      <td>3</td>\n",
       "      <td>Yes</td>\n",
       "      <td>No</td>\n",
       "      <td>No internet service</td>\n",
       "      <td>No internet service</td>\n",
       "      <td>No internet service</td>\n",
       "      <td>No internet service</td>\n",
       "      <td>No internet service</td>\n",
       "      <td>No internet service</td>\n",
       "      <td>No</td>\n",
       "      <td>20.00</td>\n",
       "      <td>49.65</td>\n",
       "      <td>No</td>\n",
       "      <td>None</td>\n",
       "      <td>Month-to-month</td>\n",
       "      <td>Bank transfer (automatic)</td>\n",
       "    </tr>\n",
       "    <tr>\n",
       "      <th>1749</th>\n",
       "      <td>Female</td>\n",
       "      <td>0</td>\n",
       "      <td>Yes</td>\n",
       "      <td>Yes</td>\n",
       "      <td>57</td>\n",
       "      <td>Yes</td>\n",
       "      <td>No</td>\n",
       "      <td>Yes</td>\n",
       "      <td>Yes</td>\n",
       "      <td>No</td>\n",
       "      <td>No</td>\n",
       "      <td>No</td>\n",
       "      <td>No</td>\n",
       "      <td>No</td>\n",
       "      <td>53.45</td>\n",
       "      <td>3053</td>\n",
       "      <td>No</td>\n",
       "      <td>DSL</td>\n",
       "      <td>One year</td>\n",
       "      <td>Electronic check</td>\n",
       "    </tr>\n",
       "    <tr>\n",
       "      <th>3183</th>\n",
       "      <td>Female</td>\n",
       "      <td>0</td>\n",
       "      <td>Yes</td>\n",
       "      <td>No</td>\n",
       "      <td>71</td>\n",
       "      <td>Yes</td>\n",
       "      <td>Yes</td>\n",
       "      <td>No internet service</td>\n",
       "      <td>No internet service</td>\n",
       "      <td>No internet service</td>\n",
       "      <td>No internet service</td>\n",
       "      <td>No internet service</td>\n",
       "      <td>No internet service</td>\n",
       "      <td>Yes</td>\n",
       "      <td>24.65</td>\n",
       "      <td>1710.15</td>\n",
       "      <td>No</td>\n",
       "      <td>None</td>\n",
       "      <td>Two year</td>\n",
       "      <td>Bank transfer (automatic)</td>\n",
       "    </tr>\n",
       "    <tr>\n",
       "      <th>2855</th>\n",
       "      <td>Female</td>\n",
       "      <td>0</td>\n",
       "      <td>Yes</td>\n",
       "      <td>Yes</td>\n",
       "      <td>0</td>\n",
       "      <td>Yes</td>\n",
       "      <td>Yes</td>\n",
       "      <td>No</td>\n",
       "      <td>Yes</td>\n",
       "      <td>Yes</td>\n",
       "      <td>Yes</td>\n",
       "      <td>Yes</td>\n",
       "      <td>No</td>\n",
       "      <td>No</td>\n",
       "      <td>73.35</td>\n",
       "      <td></td>\n",
       "      <td>No</td>\n",
       "      <td>DSL</td>\n",
       "      <td>Two year</td>\n",
       "      <td>Mailed check</td>\n",
       "    </tr>\n",
       "    <tr>\n",
       "      <th>478</th>\n",
       "      <td>Male</td>\n",
       "      <td>0</td>\n",
       "      <td>No</td>\n",
       "      <td>No</td>\n",
       "      <td>4</td>\n",
       "      <td>Yes</td>\n",
       "      <td>Yes</td>\n",
       "      <td>No</td>\n",
       "      <td>No</td>\n",
       "      <td>No</td>\n",
       "      <td>No</td>\n",
       "      <td>No</td>\n",
       "      <td>Yes</td>\n",
       "      <td>Yes</td>\n",
       "      <td>85.65</td>\n",
       "      <td>338.9</td>\n",
       "      <td>Yes</td>\n",
       "      <td>Fiber optic</td>\n",
       "      <td>Month-to-month</td>\n",
       "      <td>Electronic check</td>\n",
       "    </tr>\n",
       "  </tbody>\n",
       "</table>\n",
       "<p>224 rows × 20 columns</p>\n",
       "</div>"
      ],
      "text/plain": [
       "      gender  senior_citizen partner dependents  tenure phone_service  \\\n",
       "5609    Male               0      No         No      14           Yes   \n",
       "2209    Male               0      No         No       5           Yes   \n",
       "6919    Male               0     Yes         No      35           Yes   \n",
       "2284    Male               0     Yes         No      58           Yes   \n",
       "845   Female               0      No         No       2           Yes   \n",
       "...      ...             ...     ...        ...     ...           ...   \n",
       "5544    Male               0     Yes         No       3           Yes   \n",
       "1749  Female               0     Yes        Yes      57           Yes   \n",
       "3183  Female               0     Yes         No      71           Yes   \n",
       "2855  Female               0     Yes        Yes       0           Yes   \n",
       "478     Male               0      No         No       4           Yes   \n",
       "\n",
       "     multiple_lines      online_security        online_backup  \\\n",
       "5609             No                   No                   No   \n",
       "2209             No                   No                   No   \n",
       "6919            Yes                   No                   No   \n",
       "2284            Yes                  Yes                  Yes   \n",
       "845              No                   No                  Yes   \n",
       "...             ...                  ...                  ...   \n",
       "5544             No  No internet service  No internet service   \n",
       "1749             No                  Yes                  Yes   \n",
       "3183            Yes  No internet service  No internet service   \n",
       "2855            Yes                   No                  Yes   \n",
       "478             Yes                   No                   No   \n",
       "\n",
       "        device_protection         tech_support         streaming_tv  \\\n",
       "5609                  Yes                   No                   No   \n",
       "2209                  Yes                   No                  Yes   \n",
       "6919                   No                   No                   No   \n",
       "2284                  Yes                   No                  Yes   \n",
       "845                    No                   No                   No   \n",
       "...                   ...                  ...                  ...   \n",
       "5544  No internet service  No internet service  No internet service   \n",
       "1749                   No                   No                   No   \n",
       "3183  No internet service  No internet service  No internet service   \n",
       "2855                  Yes                  Yes                  Yes   \n",
       "478                    No                   No                   No   \n",
       "\n",
       "         streaming_movies paperless_billing  monthly_charges total_charges  \\\n",
       "5609                   No                No            76.45       1117.55   \n",
       "2209                  Yes               Yes            70.00         347.4   \n",
       "6919                   No               Yes            75.20        2576.2   \n",
       "2284                  Yes               Yes            86.10        4890.5   \n",
       "845                    No               Yes            49.60         114.7   \n",
       "...                   ...               ...              ...           ...   \n",
       "5544  No internet service                No            20.00         49.65   \n",
       "1749                   No                No            53.45          3053   \n",
       "3183  No internet service               Yes            24.65       1710.15   \n",
       "2855                   No                No            73.35                 \n",
       "478                   Yes               Yes            85.65         338.9   \n",
       "\n",
       "     churn internet_service_type   contract_type               payment_type  \n",
       "5609    No           Fiber optic  Month-to-month           Electronic check  \n",
       "2209   Yes                   DSL        One year               Mailed check  \n",
       "6919   Yes           Fiber optic  Month-to-month           Electronic check  \n",
       "2284    No                   DSL        Two year           Electronic check  \n",
       "845    Yes                   DSL  Month-to-month               Mailed check  \n",
       "...    ...                   ...             ...                        ...  \n",
       "5544    No                  None  Month-to-month  Bank transfer (automatic)  \n",
       "1749    No                   DSL        One year           Electronic check  \n",
       "3183    No                  None        Two year  Bank transfer (automatic)  \n",
       "2855    No                   DSL        Two year               Mailed check  \n",
       "478    Yes           Fiber optic  Month-to-month           Electronic check  \n",
       "\n",
       "[224 rows x 20 columns]"
      ]
     },
     "execution_count": 41,
     "metadata": {},
     "output_type": "execute_result"
    }
   ],
   "source": [
    "train.head(224)"
   ]
  },
  {
   "cell_type": "code",
   "execution_count": 42,
   "id": "518ace7b-300c-416e-84a3-4806d7875320",
   "metadata": {},
   "outputs": [],
   "source": [
    "def one_hot_encode_columns(dataframes, columns_to_encode):\n",
    "    encoded_dataframes = []\n",
    "    for df in dataframes:\n",
    "        encoded_df = pd.get_dummies(df, columns=columns_to_encode)\n",
    "        encoded_dataframes.append(encoded_df)\n",
    "    return encoded_dataframes\n",
    "dataframes_to_encode = [train, val]\n",
    "encoded_dataframes = one_hot_encode_columns(dataframes_to_encode, columns_to_encode=['gender', 'partner', 'dependents', 'phone_service', \n",
    "                                                                                     'multiple_lines', 'online_security', 'online_backup', \n",
    "                                                                                     'device_protection', 'tech_support', 'streaming_tv', \n",
    "                                                                                     'streaming_movies', 'paperless_billing', 'churn',\n",
    "                                                                                     'internet_service_type', 'contract_type', 'payment_type'])\n",
    "train, val = encoded_dataframes"
   ]
  },
  {
   "cell_type": "code",
   "execution_count": 43,
   "id": "a0834b7d-c5d4-4e17-bef7-73eb2fbbb66e",
   "metadata": {},
   "outputs": [
    {
     "data": {
      "text/plain": [
       "senior_citizen                            False\n",
       "tenure                                    False\n",
       "monthly_charges                           False\n",
       "total_charges                              True\n",
       "gender_Female                             False\n",
       "gender_Male                               False\n",
       "partner_No                                False\n",
       "partner_Yes                               False\n",
       "dependents_No                             False\n",
       "dependents_Yes                            False\n",
       "phone_service_No                          False\n",
       "phone_service_Yes                         False\n",
       "multiple_lines_No                         False\n",
       "multiple_lines_No phone service           False\n",
       "multiple_lines_Yes                        False\n",
       "online_security_No                        False\n",
       "online_security_No internet service       False\n",
       "online_security_Yes                       False\n",
       "online_backup_No                          False\n",
       "online_backup_No internet service         False\n",
       "online_backup_Yes                         False\n",
       "device_protection_No                      False\n",
       "device_protection_No internet service     False\n",
       "device_protection_Yes                     False\n",
       "tech_support_No                           False\n",
       "tech_support_No internet service          False\n",
       "tech_support_Yes                          False\n",
       "streaming_tv_No                           False\n",
       "streaming_tv_No internet service          False\n",
       "streaming_tv_Yes                          False\n",
       "streaming_movies_No                       False\n",
       "streaming_movies_No internet service      False\n",
       "streaming_movies_Yes                      False\n",
       "paperless_billing_No                      False\n",
       "paperless_billing_Yes                     False\n",
       "churn_No                                  False\n",
       "churn_Yes                                 False\n",
       "internet_service_type_DSL                 False\n",
       "internet_service_type_Fiber optic         False\n",
       "internet_service_type_None                False\n",
       "contract_type_Month-to-month              False\n",
       "contract_type_One year                    False\n",
       "contract_type_Two year                    False\n",
       "payment_type_Bank transfer (automatic)    False\n",
       "payment_type_Credit card (automatic)      False\n",
       "payment_type_Electronic check             False\n",
       "payment_type_Mailed check                 False\n",
       "dtype: bool"
      ]
     },
     "execution_count": 43,
     "metadata": {},
     "output_type": "execute_result"
    }
   ],
   "source": [
    "train.dtypes == 'object'"
   ]
  },
  {
   "cell_type": "code",
   "execution_count": 44,
   "id": "c19ba37f-7e34-4ade-bf92-2f8d690ce008",
   "metadata": {},
   "outputs": [
    {
     "name": "stdout",
     "output_type": "stream",
     "text": [
      "Mean: 2311.096301564722\n",
      "Mean: 2228.7591469194317\n"
     ]
    }
   ],
   "source": [
    "# replace blank values with NaN\n",
    "train['total_charges'] = train['total_charges'].replace(\" \", np.nan)\n",
    "val['total_charges'] = val['total_charges'].replace(\" \", np.nan)\n",
    "\n",
    "# convert column to numeric\n",
    "train['total_charges'] = pd.to_numeric(train['total_charges'], errors='coerce')\n",
    "val['total_charges'] = pd.to_numeric(val['total_charges'], errors='coerce')\n",
    "\n",
    "# calculate mean\n",
    "train_mean_value = train['total_charges'].mean()\n",
    "print(\"Mean:\", train_mean_value)\n",
    "val_mean_value = val['total_charges'].mean()\n",
    "print(\"Mean:\", val_mean_value)\n",
    "\n",
    "# fill mean\n",
    "train['total_charges'].fillna(train_mean_value, inplace=True)\n",
    "val['total_charges'].fillna(val_mean_value, inplace=True)"
   ]
  },
  {
   "cell_type": "code",
   "execution_count": 45,
   "id": "27653e6e-7cc0-4b10-be6d-825ee45446d0",
   "metadata": {},
   "outputs": [
    {
     "data": {
      "text/plain": [
       "['senior_citizen',\n",
       " 'tenure',\n",
       " 'monthly_charges',\n",
       " 'total_charges',\n",
       " 'gender_Female',\n",
       " 'gender_Male',\n",
       " 'partner_No',\n",
       " 'partner_Yes',\n",
       " 'dependents_No',\n",
       " 'dependents_Yes',\n",
       " 'phone_service_No',\n",
       " 'phone_service_Yes',\n",
       " 'multiple_lines_No',\n",
       " 'multiple_lines_No phone service',\n",
       " 'multiple_lines_Yes',\n",
       " 'online_security_No',\n",
       " 'online_security_No internet service',\n",
       " 'online_security_Yes',\n",
       " 'online_backup_No',\n",
       " 'online_backup_No internet service',\n",
       " 'online_backup_Yes',\n",
       " 'device_protection_No',\n",
       " 'device_protection_No internet service',\n",
       " 'device_protection_Yes',\n",
       " 'tech_support_No',\n",
       " 'tech_support_No internet service',\n",
       " 'tech_support_Yes',\n",
       " 'streaming_tv_No',\n",
       " 'streaming_tv_No internet service',\n",
       " 'streaming_tv_Yes',\n",
       " 'streaming_movies_No',\n",
       " 'streaming_movies_No internet service',\n",
       " 'streaming_movies_Yes',\n",
       " 'paperless_billing_No',\n",
       " 'paperless_billing_Yes',\n",
       " 'churn_No',\n",
       " 'churn_Yes',\n",
       " 'internet_service_type_DSL',\n",
       " 'internet_service_type_Fiber optic',\n",
       " 'internet_service_type_None',\n",
       " 'contract_type_Month-to-month',\n",
       " 'contract_type_One year',\n",
       " 'contract_type_Two year',\n",
       " 'payment_type_Bank transfer (automatic)',\n",
       " 'payment_type_Credit card (automatic)',\n",
       " 'payment_type_Electronic check',\n",
       " 'payment_type_Mailed check']"
      ]
     },
     "execution_count": 45,
     "metadata": {},
     "output_type": "execute_result"
    }
   ],
   "source": [
    "train.columns.tolist()"
   ]
  },
  {
   "cell_type": "code",
   "execution_count": 46,
   "id": "2405def5-ad04-4f7c-8e7d-ff4880284392",
   "metadata": {},
   "outputs": [],
   "source": [
    "def drop_cols(dataframes, columns_to_drop):\n",
    "    \n",
    "    for df in dataframes:\n",
    "       \n",
    "        df.drop(columns=columns_to_drop, inplace=True)\n",
    "\n",
    "    \n",
    "    return dataframes\n",
    "\n",
    "\n",
    "dataframes_list = [train, val]  \n",
    "columns_to_remove = ['gender_Female','partner_No',\n",
    " 'dependents_No',\n",
    " 'phone_service_No',\n",
    " 'multiple_lines_No',\n",
    " 'multiple_lines_No phone service',\n",
    " 'online_security_No',\n",
    " 'online_security_No internet service',\n",
    " 'online_backup_No',\n",
    " 'online_backup_No internet service',\n",
    " 'device_protection_No',\n",
    " 'device_protection_No internet service',\n",
    " 'tech_support_No',\n",
    " 'tech_support_No internet service',\n",
    " 'streaming_tv_No',\n",
    " 'streaming_tv_No internet service',\n",
    " 'streaming_movies_No',\n",
    " 'streaming_movies_No internet service',\n",
    " 'paperless_billing_No',\n",
    " 'churn_No', 'internet_service_type_None']  \n",
    "modified_dataframes = drop_cols(dataframes_list, columns_to_remove)"
   ]
  },
  {
   "cell_type": "code",
   "execution_count": 47,
   "id": "11876734-4fe0-431c-8347-79b1a8911192",
   "metadata": {},
   "outputs": [
    {
     "data": {
      "text/plain": [
       "((4930, 26), (1056, 26))"
      ]
     },
     "execution_count": 47,
     "metadata": {},
     "output_type": "execute_result"
    }
   ],
   "source": [
    "train.shape, val.shape"
   ]
  },
  {
   "cell_type": "code",
   "execution_count": 48,
   "id": "04bf69f3-9e1b-4e21-ba77-56fb36349348",
   "metadata": {},
   "outputs": [],
   "source": [
    "train = train.rename(columns={'churn_Yes' : 'churn'})\n",
    "val = val.rename(columns={'churn_Yes' : 'churn'})"
   ]
  },
  {
   "cell_type": "code",
   "execution_count": 49,
   "id": "48add038-8f46-43b5-ab96-839bd31acb3e",
   "metadata": {},
   "outputs": [
    {
     "data": {
      "text/plain": [
       "((4930, 26), (1056, 26))"
      ]
     },
     "execution_count": 49,
     "metadata": {},
     "output_type": "execute_result"
    }
   ],
   "source": [
    "train.shape, val.shape"
   ]
  },
  {
   "cell_type": "code",
   "execution_count": 50,
   "id": "fb3aa8c6-c694-4625-943a-df2a3862d5b2",
   "metadata": {},
   "outputs": [],
   "source": [
    "X_train = train.drop(columns='churn')\n",
    "y_train = train.churn\n",
    "\n",
    "X_val = val.drop(columns='churn')\n",
    "y_val = val.churn"
   ]
  },
  {
   "cell_type": "code",
   "execution_count": 51,
   "id": "4e14b4fa-c6eb-4802-8fd4-e3510fb98542",
   "metadata": {},
   "outputs": [
    {
     "data": {
      "text/plain": [
       "((4930, 26), (1056, 26))"
      ]
     },
     "execution_count": 51,
     "metadata": {},
     "output_type": "execute_result"
    }
   ],
   "source": [
    "train.shape, val.shape"
   ]
  },
  {
   "cell_type": "code",
   "execution_count": 52,
   "id": "4afcddcd-aad1-4856-ba77-2d3548e7ed40",
   "metadata": {},
   "outputs": [
    {
     "data": {
      "text/plain": [
       "0    0\n",
       "Name: churn, dtype: uint8"
      ]
     },
     "execution_count": 52,
     "metadata": {},
     "output_type": "execute_result"
    }
   ],
   "source": [
    "y_train.mode()"
   ]
  },
  {
   "cell_type": "code",
   "execution_count": 53,
   "id": "060c74fc-574c-469b-af21-fdeaa5746ccb",
   "metadata": {},
   "outputs": [
    {
     "data": {
      "text/plain": [
       "5609     True\n",
       "2209    False\n",
       "6919    False\n",
       "2284     True\n",
       "845     False\n",
       "        ...  \n",
       "4312     True\n",
       "1501     True\n",
       "6331     True\n",
       "2739     True\n",
       "5679     True\n",
       "Name: churn, Length: 4930, dtype: bool"
      ]
     },
     "execution_count": 53,
     "metadata": {},
     "output_type": "execute_result"
    }
   ],
   "source": [
    "y_train == 0"
   ]
  },
  {
   "cell_type": "code",
   "execution_count": 54,
   "id": "122bf992-12c0-4ea3-9d01-096fe2f69761",
   "metadata": {},
   "outputs": [
    {
     "data": {
      "text/plain": [
       "0.734685598377282"
      ]
     },
     "execution_count": 54,
     "metadata": {},
     "output_type": "execute_result"
    }
   ],
   "source": [
    "base_acc = (y_train == 0).mean()\n",
    "base_acc"
   ]
  },
  {
   "cell_type": "code",
   "execution_count": 55,
   "id": "ccc2d691-265c-459a-a030-0b2ef3905d48",
   "metadata": {},
   "outputs": [
    {
     "data": {
      "text/plain": [
       "senior_citizen                               2\n",
       "tenure                                      73\n",
       "monthly_charges                           1440\n",
       "total_charges                             4647\n",
       "gender_Male                                  2\n",
       "partner_Yes                                  2\n",
       "dependents_Yes                               2\n",
       "phone_service_Yes                            2\n",
       "multiple_lines_Yes                           2\n",
       "online_security_Yes                          2\n",
       "online_backup_Yes                            2\n",
       "device_protection_Yes                        2\n",
       "tech_support_Yes                             2\n",
       "streaming_tv_Yes                             2\n",
       "streaming_movies_Yes                         2\n",
       "paperless_billing_Yes                        2\n",
       "internet_service_type_DSL                    2\n",
       "internet_service_type_Fiber optic            2\n",
       "contract_type_Month-to-month                 2\n",
       "contract_type_One year                       2\n",
       "contract_type_Two year                       2\n",
       "payment_type_Bank transfer (automatic)       2\n",
       "payment_type_Credit card (automatic)         2\n",
       "payment_type_Electronic check                2\n",
       "payment_type_Mailed check                    2\n",
       "dtype: int64"
      ]
     },
     "execution_count": 55,
     "metadata": {},
     "output_type": "execute_result"
    }
   ],
   "source": [
    "X_train.nunique()"
   ]
  },
  {
   "cell_type": "code",
   "execution_count": 56,
   "id": "118aaef4-a3db-41c8-b199-01b18f2dbb5a",
   "metadata": {},
   "outputs": [
    {
     "data": {
      "text/html": [
       "<style>#sk-container-id-3 {color: black;background-color: white;}#sk-container-id-3 pre{padding: 0;}#sk-container-id-3 div.sk-toggleable {background-color: white;}#sk-container-id-3 label.sk-toggleable__label {cursor: pointer;display: block;width: 100%;margin-bottom: 0;padding: 0.3em;box-sizing: border-box;text-align: center;}#sk-container-id-3 label.sk-toggleable__label-arrow:before {content: \"▸\";float: left;margin-right: 0.25em;color: #696969;}#sk-container-id-3 label.sk-toggleable__label-arrow:hover:before {color: black;}#sk-container-id-3 div.sk-estimator:hover label.sk-toggleable__label-arrow:before {color: black;}#sk-container-id-3 div.sk-toggleable__content {max-height: 0;max-width: 0;overflow: hidden;text-align: left;background-color: #f0f8ff;}#sk-container-id-3 div.sk-toggleable__content pre {margin: 0.2em;color: black;border-radius: 0.25em;background-color: #f0f8ff;}#sk-container-id-3 input.sk-toggleable__control:checked~div.sk-toggleable__content {max-height: 200px;max-width: 100%;overflow: auto;}#sk-container-id-3 input.sk-toggleable__control:checked~label.sk-toggleable__label-arrow:before {content: \"▾\";}#sk-container-id-3 div.sk-estimator input.sk-toggleable__control:checked~label.sk-toggleable__label {background-color: #d4ebff;}#sk-container-id-3 div.sk-label input.sk-toggleable__control:checked~label.sk-toggleable__label {background-color: #d4ebff;}#sk-container-id-3 input.sk-hidden--visually {border: 0;clip: rect(1px 1px 1px 1px);clip: rect(1px, 1px, 1px, 1px);height: 1px;margin: -1px;overflow: hidden;padding: 0;position: absolute;width: 1px;}#sk-container-id-3 div.sk-estimator {font-family: monospace;background-color: #f0f8ff;border: 1px dotted black;border-radius: 0.25em;box-sizing: border-box;margin-bottom: 0.5em;}#sk-container-id-3 div.sk-estimator:hover {background-color: #d4ebff;}#sk-container-id-3 div.sk-parallel-item::after {content: \"\";width: 100%;border-bottom: 1px solid gray;flex-grow: 1;}#sk-container-id-3 div.sk-label:hover label.sk-toggleable__label {background-color: #d4ebff;}#sk-container-id-3 div.sk-serial::before {content: \"\";position: absolute;border-left: 1px solid gray;box-sizing: border-box;top: 0;bottom: 0;left: 50%;z-index: 0;}#sk-container-id-3 div.sk-serial {display: flex;flex-direction: column;align-items: center;background-color: white;padding-right: 0.2em;padding-left: 0.2em;position: relative;}#sk-container-id-3 div.sk-item {position: relative;z-index: 1;}#sk-container-id-3 div.sk-parallel {display: flex;align-items: stretch;justify-content: center;background-color: white;position: relative;}#sk-container-id-3 div.sk-item::before, #sk-container-id-3 div.sk-parallel-item::before {content: \"\";position: absolute;border-left: 1px solid gray;box-sizing: border-box;top: 0;bottom: 0;left: 50%;z-index: -1;}#sk-container-id-3 div.sk-parallel-item {display: flex;flex-direction: column;z-index: 1;position: relative;background-color: white;}#sk-container-id-3 div.sk-parallel-item:first-child::after {align-self: flex-end;width: 50%;}#sk-container-id-3 div.sk-parallel-item:last-child::after {align-self: flex-start;width: 50%;}#sk-container-id-3 div.sk-parallel-item:only-child::after {width: 0;}#sk-container-id-3 div.sk-dashed-wrapped {border: 1px dashed gray;margin: 0 0.4em 0.5em 0.4em;box-sizing: border-box;padding-bottom: 0.4em;background-color: white;}#sk-container-id-3 div.sk-label label {font-family: monospace;font-weight: bold;display: inline-block;line-height: 1.2em;}#sk-container-id-3 div.sk-label-container {text-align: center;}#sk-container-id-3 div.sk-container {/* jupyter's `normalize.less` sets `[hidden] { display: none; }` but bootstrap.min.css set `[hidden] { display: none !important; }` so we also need the `!important` here to be able to override the default hidden behavior on the sphinx rendered scikit-learn.org. See: https://github.com/scikit-learn/scikit-learn/issues/21755 */display: inline-block !important;position: relative;}#sk-container-id-3 div.sk-text-repr-fallback {display: none;}</style><div id=\"sk-container-id-3\" class=\"sk-top-container\"><div class=\"sk-text-repr-fallback\"><pre>DecisionTreeClassifier(max_depth=3, random_state=42)</pre><b>In a Jupyter environment, please rerun this cell to show the HTML representation or trust the notebook. <br />On GitHub, the HTML representation is unable to render, please try loading this page with nbviewer.org.</b></div><div class=\"sk-container\" hidden><div class=\"sk-item\"><div class=\"sk-estimator sk-toggleable\"><input class=\"sk-toggleable__control sk-hidden--visually\" id=\"sk-estimator-id-3\" type=\"checkbox\" checked><label for=\"sk-estimator-id-3\" class=\"sk-toggleable__label sk-toggleable__label-arrow\">DecisionTreeClassifier</label><div class=\"sk-toggleable__content\"><pre>DecisionTreeClassifier(max_depth=3, random_state=42)</pre></div></div></div></div></div>"
      ],
      "text/plain": [
       "DecisionTreeClassifier(max_depth=3, random_state=42)"
      ]
     },
     "execution_count": 56,
     "metadata": {},
     "output_type": "execute_result"
    }
   ],
   "source": [
    "seed = 42\n",
    "\n",
    "clf = DecisionTreeClassifier(max_depth=3, random_state=seed)\n",
    "\n",
    "clf = clf.fit(X_train, y_train)\n",
    "\n",
    "clf"
   ]
  },
  {
   "cell_type": "code",
   "execution_count": 57,
   "id": "20258d2f-f456-4461-aadf-d5f14236ebcb",
   "metadata": {},
   "outputs": [
    {
     "data": {
      "text/plain": [
       "array([1, 0, 0, 0, 0], dtype=uint8)"
      ]
     },
     "execution_count": 57,
     "metadata": {},
     "output_type": "execute_result"
    }
   ],
   "source": [
    "# make prediction on train obeservations\n",
    "y_pred = clf.predict(X_train)\n",
    "y_pred[:5]"
   ]
  },
  {
   "cell_type": "code",
   "execution_count": 58,
   "id": "09760081-c87f-4ad3-ad70-2755754b42a4",
   "metadata": {},
   "outputs": [
    {
     "data": {
      "text/plain": [
       "0.7922920892494929"
      ]
     },
     "execution_count": 58,
     "metadata": {},
     "output_type": "execute_result"
    }
   ],
   "source": [
    "clf.score(X_train, y_train)"
   ]
  },
  {
   "cell_type": "code",
   "execution_count": 59,
   "id": "785dc823-80e4-4e04-904d-a5585db7633f",
   "metadata": {},
   "outputs": [
    {
     "data": {
      "text/plain": [
       "0.7964015151515151"
      ]
     },
     "execution_count": 59,
     "metadata": {},
     "output_type": "execute_result"
    }
   ],
   "source": [
    "clf.score(X_val, y_val)"
   ]
  },
  {
   "cell_type": "code",
   "execution_count": 60,
   "id": "1287d719-c8ad-4270-b38b-42677ba65280",
   "metadata": {},
   "outputs": [],
   "source": [
    "seed = 42\n",
    "train_acc = []\n",
    "val_acc = []\n",
    "depth = []\n",
    "\n",
    "for i in range(2, 23):\n",
    "\n",
    "    clf = DecisionTreeClassifier(max_depth=i, random_state = seed)\n",
    "\n",
    "    clf.fit(X_train, y_train)\n",
    "\n",
    "    depth.append(i)\n",
    "\n",
    "    train_acc.append(clf.score(X_train, y_train))\n",
    "\n",
    "    val_acc.append(clf.score(X_val, y_val))"
   ]
  },
  {
   "cell_type": "code",
   "execution_count": 61,
   "id": "7468b538-3760-4c14-af34-b85a30c9e977",
   "metadata": {
    "scrolled": true
   },
   "outputs": [
    {
     "data": {
      "text/html": [
       "<div>\n",
       "<style scoped>\n",
       "    .dataframe tbody tr th:only-of-type {\n",
       "        vertical-align: middle;\n",
       "    }\n",
       "\n",
       "    .dataframe tbody tr th {\n",
       "        vertical-align: top;\n",
       "    }\n",
       "\n",
       "    .dataframe thead th {\n",
       "        text-align: right;\n",
       "    }\n",
       "</style>\n",
       "<table border=\"1\" class=\"dataframe\">\n",
       "  <thead>\n",
       "    <tr style=\"text-align: right;\">\n",
       "      <th></th>\n",
       "      <th>max_depth</th>\n",
       "      <th>train_acc</th>\n",
       "      <th>val_acc</th>\n",
       "    </tr>\n",
       "  </thead>\n",
       "  <tbody>\n",
       "    <tr>\n",
       "      <th>0</th>\n",
       "      <td>2</td>\n",
       "      <td>0.762475</td>\n",
       "      <td>0.773674</td>\n",
       "    </tr>\n",
       "    <tr>\n",
       "      <th>1</th>\n",
       "      <td>3</td>\n",
       "      <td>0.792292</td>\n",
       "      <td>0.796402</td>\n",
       "    </tr>\n",
       "    <tr>\n",
       "      <th>2</th>\n",
       "      <td>4</td>\n",
       "      <td>0.794929</td>\n",
       "      <td>0.800189</td>\n",
       "    </tr>\n",
       "    <tr>\n",
       "      <th>3</th>\n",
       "      <td>5</td>\n",
       "      <td>0.807505</td>\n",
       "      <td>0.801136</td>\n",
       "    </tr>\n",
       "    <tr>\n",
       "      <th>4</th>\n",
       "      <td>6</td>\n",
       "      <td>0.813185</td>\n",
       "      <td>0.791667</td>\n",
       "    </tr>\n",
       "    <tr>\n",
       "      <th>5</th>\n",
       "      <td>7</td>\n",
       "      <td>0.826369</td>\n",
       "      <td>0.789773</td>\n",
       "    </tr>\n",
       "    <tr>\n",
       "      <th>6</th>\n",
       "      <td>8</td>\n",
       "      <td>0.844625</td>\n",
       "      <td>0.787879</td>\n",
       "    </tr>\n",
       "    <tr>\n",
       "      <th>7</th>\n",
       "      <td>9</td>\n",
       "      <td>0.867343</td>\n",
       "      <td>0.780303</td>\n",
       "    </tr>\n",
       "    <tr>\n",
       "      <th>8</th>\n",
       "      <td>10</td>\n",
       "      <td>0.883976</td>\n",
       "      <td>0.778409</td>\n",
       "    </tr>\n",
       "    <tr>\n",
       "      <th>9</th>\n",
       "      <td>11</td>\n",
       "      <td>0.904868</td>\n",
       "      <td>0.764205</td>\n",
       "    </tr>\n",
       "    <tr>\n",
       "      <th>10</th>\n",
       "      <td>12</td>\n",
       "      <td>0.924138</td>\n",
       "      <td>0.762311</td>\n",
       "    </tr>\n",
       "    <tr>\n",
       "      <th>11</th>\n",
       "      <td>13</td>\n",
       "      <td>0.941176</td>\n",
       "      <td>0.755682</td>\n",
       "    </tr>\n",
       "    <tr>\n",
       "      <th>12</th>\n",
       "      <td>14</td>\n",
       "      <td>0.955984</td>\n",
       "      <td>0.746212</td>\n",
       "    </tr>\n",
       "    <tr>\n",
       "      <th>13</th>\n",
       "      <td>15</td>\n",
       "      <td>0.966937</td>\n",
       "      <td>0.739583</td>\n",
       "    </tr>\n",
       "    <tr>\n",
       "      <th>14</th>\n",
       "      <td>16</td>\n",
       "      <td>0.976876</td>\n",
       "      <td>0.746212</td>\n",
       "    </tr>\n",
       "    <tr>\n",
       "      <th>15</th>\n",
       "      <td>17</td>\n",
       "      <td>0.983367</td>\n",
       "      <td>0.735795</td>\n",
       "    </tr>\n",
       "    <tr>\n",
       "      <th>16</th>\n",
       "      <td>18</td>\n",
       "      <td>0.989047</td>\n",
       "      <td>0.737689</td>\n",
       "    </tr>\n",
       "    <tr>\n",
       "      <th>17</th>\n",
       "      <td>19</td>\n",
       "      <td>0.992089</td>\n",
       "      <td>0.738636</td>\n",
       "    </tr>\n",
       "    <tr>\n",
       "      <th>18</th>\n",
       "      <td>20</td>\n",
       "      <td>0.993915</td>\n",
       "      <td>0.732008</td>\n",
       "    </tr>\n",
       "    <tr>\n",
       "      <th>19</th>\n",
       "      <td>21</td>\n",
       "      <td>0.995132</td>\n",
       "      <td>0.734848</td>\n",
       "    </tr>\n",
       "    <tr>\n",
       "      <th>20</th>\n",
       "      <td>22</td>\n",
       "      <td>0.996146</td>\n",
       "      <td>0.736742</td>\n",
       "    </tr>\n",
       "  </tbody>\n",
       "</table>\n",
       "</div>"
      ],
      "text/plain": [
       "    max_depth  train_acc   val_acc\n",
       "0           2   0.762475  0.773674\n",
       "1           3   0.792292  0.796402\n",
       "2           4   0.794929  0.800189\n",
       "3           5   0.807505  0.801136\n",
       "4           6   0.813185  0.791667\n",
       "5           7   0.826369  0.789773\n",
       "6           8   0.844625  0.787879\n",
       "7           9   0.867343  0.780303\n",
       "8          10   0.883976  0.778409\n",
       "9          11   0.904868  0.764205\n",
       "10         12   0.924138  0.762311\n",
       "11         13   0.941176  0.755682\n",
       "12         14   0.955984  0.746212\n",
       "13         15   0.966937  0.739583\n",
       "14         16   0.976876  0.746212\n",
       "15         17   0.983367  0.735795\n",
       "16         18   0.989047  0.737689\n",
       "17         19   0.992089  0.738636\n",
       "18         20   0.993915  0.732008\n",
       "19         21   0.995132  0.734848\n",
       "20         22   0.996146  0.736742"
      ]
     },
     "execution_count": 61,
     "metadata": {},
     "output_type": "execute_result"
    }
   ],
   "source": [
    "tree = pd.DataFrame({'max_depth' : depth,\n",
    "                      'train_acc' : train_acc,\n",
    "                      'val_acc' : val_acc})\n",
    "tree"
   ]
  },
  {
   "cell_type": "code",
   "execution_count": 62,
   "id": "d5cc87fb-7a67-4713-b138-592bcb9ffa33",
   "metadata": {},
   "outputs": [
    {
     "data": {
      "image/png": "[encoded data removed]",
      "text/plain": [
       "<Figure size 640x480 with 1 Axes>"
      ]
     },
     "metadata": {},
     "output_type": "display_data"
    }
   ],
   "source": [
    "plt.plot(tree.max_depth, tree.train_acc, label = 'Train')\n",
    "plt.plot(tree.max_depth, tree.val_acc, label = 'Validate')\n",
    "plt.ylabel('Accuracy')\n",
    "plt.xlabel('Max depth')\n",
    "plt.title('Accuracy as max depth increases')\n",
    "plt.legend()\n",
    "plt.show()"
   ]
  },
  {
   "cell_type": "code",
   "execution_count": 63,
   "id": "ed54abc5-2a8e-4c88-8993-e037b5cf7847",
   "metadata": {},
   "outputs": [
    {
     "name": "stdout",
     "output_type": "stream",
     "text": [
      "Accuracy of Decision Tree classifier on training set: 1.00\n"
     ]
    }
   ],
   "source": [
    "print('Accuracy of Decision Tree classifier on training set: {:.2f}'\n",
    "      .format(clf.score(X_train, y_train)))"
   ]
  },
  {
   "cell_type": "code",
   "execution_count": 64,
   "id": "eb1d0188-0e4b-4aaa-808a-d7b3e3405242",
   "metadata": {},
   "outputs": [
    {
     "name": "stdout",
     "output_type": "stream",
     "text": [
      "Accuracy of Decision Tree classifier on validation set: 0.74\n"
     ]
    }
   ],
   "source": [
    "print('Accuracy of Decision Tree classifier on validation set: {:.2f}'\n",
    "      .format(clf.score(X_val, y_val)))"
   ]
  },
  {
   "cell_type": "code",
   "execution_count": 65,
   "id": "f608587d-71ce-46e3-a09e-10673d998367",
   "metadata": {},
   "outputs": [
    {
     "data": {
      "text/plain": [
       "array([[3403,  219],\n",
       "       [ 805,  503]])"
      ]
     },
     "execution_count": 65,
     "metadata": {},
     "output_type": "execute_result"
    }
   ],
   "source": [
    "# confusion matrix\n",
    "confusion_matrix(y_train, y_pred)"
   ]
  },
  {
   "cell_type": "code",
   "execution_count": 66,
   "id": "87cb922e-b6e2-4db0-863e-3215d62cfd57",
   "metadata": {},
   "outputs": [
    {
     "data": {
      "text/html": [
       "<div>\n",
       "<style scoped>\n",
       "    .dataframe tbody tr th:only-of-type {\n",
       "        vertical-align: middle;\n",
       "    }\n",
       "\n",
       "    .dataframe tbody tr th {\n",
       "        vertical-align: top;\n",
       "    }\n",
       "\n",
       "    .dataframe thead th {\n",
       "        text-align: right;\n",
       "    }\n",
       "</style>\n",
       "<table border=\"1\" class=\"dataframe\">\n",
       "  <thead>\n",
       "    <tr style=\"text-align: right;\">\n",
       "      <th></th>\n",
       "      <th>Not Churned</th>\n",
       "      <th>Churned</th>\n",
       "    </tr>\n",
       "  </thead>\n",
       "  <tbody>\n",
       "    <tr>\n",
       "      <th>Not Churned</th>\n",
       "      <td>3403</td>\n",
       "      <td>219</td>\n",
       "    </tr>\n",
       "    <tr>\n",
       "      <th>Churned</th>\n",
       "      <td>805</td>\n",
       "      <td>503</td>\n",
       "    </tr>\n",
       "  </tbody>\n",
       "</table>\n",
       "</div>"
      ],
      "text/plain": [
       "             Not Churned  Churned\n",
       "Not Churned         3403      219\n",
       "Churned              805      503"
      ]
     },
     "execution_count": 66,
     "metadata": {},
     "output_type": "execute_result"
    }
   ],
   "source": [
    "y_train = train.churn\n",
    "\n",
    "import pandas as pd\n",
    "\n",
    "labels = sorted(y_train.unique())\n",
    "\n",
    "model = pd.DataFrame(confusion_matrix(y_train, y_pred), index=labels, columns=labels)\n",
    "\n",
    "model.rename(\n",
    "    columns={0: 'Not Churned', 1: 'Churned'}, index={0: 'Not Churned', 1: 'Churned'}, inplace=True,)\n",
    "\n",
    "model"
   ]
  },
  {
   "cell_type": "code",
   "execution_count": 67,
   "id": "446954ee-13fe-4102-bc19-c999de56e933",
   "metadata": {},
   "outputs": [
    {
     "name": "stdout",
     "output_type": "stream",
     "text": [
      "              precision    recall  f1-score   support\n",
      "\n",
      "           0       0.81      0.94      0.87      3622\n",
      "           1       0.70      0.38      0.50      1308\n",
      "\n",
      "    accuracy                           0.79      4930\n",
      "   macro avg       0.75      0.66      0.68      4930\n",
      "weighted avg       0.78      0.79      0.77      4930\n",
      "\n"
     ]
    }
   ],
   "source": [
    "print(classification_report(y_train, y_pred))"
   ]
  },
  {
   "cell_type": "markdown",
   "id": "ff34b6cc-cd60-4bc1-9ed7-91b05a41f14c",
   "metadata": {},
   "source": [
    "- I believe i generalized the data well, but how could i improve the performance maybe i could do some hyperparameter tuning or additional feature engineer more."
   ]
  },
  {
   "cell_type": "markdown",
   "id": "057f99d0-b3cd-4f1c-8ff2-1ddd2e20b012",
   "metadata": {},
   "source": [
    "**2. Experiment with this model on other datasets with a higher number of output classes.**"
   ]
  },
  {
   "cell_type": "markdown",
   "id": "0686d6fd-10b5-40b8-aaae-e3db032a5c94",
   "metadata": {},
   "source": [
    "The question is asking you to take the Decision Tree model that you've created on the telco dataset and test its performance on other datasets that have a higher number of output classes, also known as classes or categories. In the context of classification, \"output classes\" refer to the different categories or labels that the model is trying to predict.\n",
    "\n",
    "Here's what you need to do for the next part of the exercise:\n",
    "\n",
    "Obtain Datasets with More Output Classes: You need to find or generate datasets that have more than two classes for the target variable. For example, if your telco dataset was about churn prediction with classes \"churn\" and \"not churn,\" datasets with more classes could be related to multi-class classification problems, like predicting different types of customer behavior, product preferences, or disease stages.\n",
    "\n",
    "Apply the Model: Take your trained Decision Tree model and apply it to these new datasets with a higher number of output classes. This will involve making predictions on the new datasets using the model you've developed.\n",
    "\n",
    "Evaluate Performance: Once you've applied the model to these new datasets, you should evaluate its performance. This typically involves calculating metrics such as accuracy, precision, recall, F1-score, and others depending on the specific characteristics of the datasets and the problem you're tackling.\n",
    "\n",
    "Interpret Results: Analyze how well your Decision Tree model performs on these multi-class datasets compared to its performance on the original telco dataset. Pay attention to any differences in accuracy and other metrics. This analysis will help you understand how the model generalizes to different types of classification problems.\n",
    "\n",
    "Adjust and Improve: Depending on the results of your experiments, you might need to fine-tune your Decision Tree model or explore other algorithms and techniques that are better suited for multi-class classification."
   ]
  },
  {
   "cell_type": "markdown",
   "id": "61de6b3d-3a3a-4fe4-ab7f-87223c477afa",
   "metadata": {},
   "source": [
    "Obtaining or generating datasets with more output classes based on your existing telco dataset involves creating new target variables (output classes) that have multiple categories. Here's how you can go about it:\n",
    "\n",
    "Identify Relevant Categories: Examine your telco dataset to identify columns that could be used as the basis for creating new target classes. These could be categorical columns that represent different types, categories, or behaviors.\n",
    "\n",
    "Create New Categories: Using the identified columns, create new categories by grouping similar values together. For instance, if you have a \"Service Type\" column with values like \"DSL,\" \"Fiber optic,\" and \"Cable,\" you could group these into categories like \"Broadband\" and \"Cable.\"\n",
    "\n",
    "Assign New Target Variable: Once you've created these new categories, you will have a new categorical column that can serve as your target variable. For example, if you had initially predicted \"Churn\" or \"Not Churn,\" you can now predict the new categories you've created.\n",
    "\n",
    "Preprocess and Encode: Just like you preprocessed your original telco dataset, you will need to preprocess the new dataset by encoding categorical variables, handling missing values, and performing any other necessary transformations.\n",
    "\n",
    "Split into Train and Test Sets: Split your new dataset into training and testing sets, just like you did for your original telco dataset.\n",
    "\n",
    "Train and Evaluate: Train your Decision Tree model on the new dataset, which now has more than two output classes. Then, evaluate its performance using appropriate multi-class classification metrics such as accuracy, precision, recall, and F1-score.\n",
    "\n",
    "Repeat with Different Columns: You can repeat the process using different columns from your original dataset as the basis for creating new target categories. This will allow you to experiment with various multi-class classification scenarios.\n",
    "\n",
    "Keep in mind that this process involves some creativity in defining new categories and determining which columns are suitable for creating multi-class problems. Additionally, it's important to ensure that the new target variable reflects a meaningful categorization that aligns with the goals of your analysis.\n",
    "\n",
    "By following these steps, you'll be able to obtain or generate datasets with more output classes based on your telco dataset, which will give you the opportunity to assess the performance of your Decision Tree model in more complex classification scenarios."
   ]
  }
 ],
 "metadata": {
  "kernelspec": {
   "display_name": "Python 3 (ipykernel)",
   "language": "python",
   "name": "python3"
  },
  "language_info": {
   "codemirror_mode": {
    "name": "ipython",
    "version": 3
   },
   "file_extension": ".py",
   "mimetype": "text/x-python",
   "name": "python",
   "nbconvert_exporter": "python",
   "pygments_lexer": "ipython3",
   "version": "3.10.9"
  }
 },
 "nbformat": 4,
 "nbformat_minor": 5
}
