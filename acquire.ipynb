{
 "cells": [
  {
   "cell_type": "code",
   "execution_count": null,
   "id": "fb84c62b-6039-4e8f-b4d4-5184b10ad529",
   "metadata": {},
   "outputs": [],
   "source": [
    "import pandas as pd\n",
    "import numpy as np\n",
    "import os\n",
    "from env import get_db_url"
   ]
  },
  {
   "cell_type": "code",
   "execution_count": null,
   "id": "d9d04ab6-e86b-4b4a-a015-18c3606ff022",
   "metadata": {},
   "outputs": [],
   "source": []
  }
 ],
 "metadata": {
  "kernelspec": {
   "display_name": "Python 3 (ipykernel)",
   "language": "python",
   "name": "python3"
  },
  "language_info": {
   "codemirror_mode": {
    "name": "ipython",
    "version": 3
   },
   "file_extension": ".py",
   "mimetype": "text/x-python",
   "name": "python",
   "nbconvert_exporter": "python",
   "pygments_lexer": "ipython3",
   "version": "3.10.9"
  }
 },
 "nbformat": 4,
 "nbformat_minor": 5
}
