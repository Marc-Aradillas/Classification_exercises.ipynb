{
 "cells": [
  {
   "cell_type": "code",
   "execution_count": 1,
   "id": "140bbe3b",
   "metadata": {},
   "outputs": [
    {
     "data": {
      "application/javascript": [
       "IPython.notebook.set_autosave_interval(0)"
      ]
     },
     "metadata": {},
     "output_type": "display_data"
    },
    {
     "name": "stdout",
     "output_type": "stream",
     "text": [
      "Autosave disabled\n"
     ]
    }
   ],
   "source": [
    "%autosave 0"
   ]
  },
  {
   "cell_type": "code",
   "execution_count": 2,
   "id": "bd6694f4",
   "metadata": {},
   "outputs": [],
   "source": [
    "import pandas as pd\n",
    "import matplotlib.pyplot as plt\n",
    "import seaborn as sns\n",
    "\n",
    "from scipy import stats\n",
    "from adam_prepare import titanic_pipeline"
   ]
  },
  {
   "cell_type": "code",
   "execution_count": 4,
   "id": "cd926d74",
   "metadata": {},
   "outputs": [
    {
     "data": {
      "text/plain": [
       "((623, 10), (134, 10), (134, 10))"
      ]
     },
     "execution_count": 4,
     "metadata": {},
     "output_type": "execute_result"
    }
   ],
   "source": [
    "train, val, test = titanic_pipeline()\n",
    "train.shape, val.shape, test.shape"
   ]
  },
  {
   "cell_type": "code",
   "execution_count": 5,
   "id": "f1c64ced-96d7-40ad-b713-920c79c9ba87",
   "metadata": {},
   "outputs": [
    {
     "data": {
      "text/html": [
       "<div>\n",
       "<style scoped>\n",
       "    .dataframe tbody tr th:only-of-type {\n",
       "        vertical-align: middle;\n",
       "    }\n",
       "\n",
       "    .dataframe tbody tr th {\n",
       "        vertical-align: top;\n",
       "    }\n",
       "\n",
       "    .dataframe thead th {\n",
       "        text-align: right;\n",
       "    }\n",
       "</style>\n",
       "<table border=\"1\" class=\"dataframe\">\n",
       "  <thead>\n",
       "    <tr style=\"text-align: right;\">\n",
       "      <th></th>\n",
       "      <th>survived</th>\n",
       "      <th>sex</th>\n",
       "      <th>age</th>\n",
       "      <th>sibsp</th>\n",
       "      <th>parch</th>\n",
       "      <th>fare</th>\n",
       "      <th>class</th>\n",
       "      <th>deck</th>\n",
       "      <th>embark_town</th>\n",
       "      <th>alone</th>\n",
       "    </tr>\n",
       "  </thead>\n",
       "  <tbody>\n",
       "    <tr>\n",
       "      <th>748</th>\n",
       "      <td>0</td>\n",
       "      <td>male</td>\n",
       "      <td>19.0</td>\n",
       "      <td>1</td>\n",
       "      <td>0</td>\n",
       "      <td>53.1000</td>\n",
       "      <td>First</td>\n",
       "      <td>D</td>\n",
       "      <td>Southampton</td>\n",
       "      <td>0</td>\n",
       "    </tr>\n",
       "    <tr>\n",
       "      <th>45</th>\n",
       "      <td>0</td>\n",
       "      <td>male</td>\n",
       "      <td>29.0</td>\n",
       "      <td>0</td>\n",
       "      <td>0</td>\n",
       "      <td>8.0500</td>\n",
       "      <td>Third</td>\n",
       "      <td>NaN</td>\n",
       "      <td>Southampton</td>\n",
       "      <td>1</td>\n",
       "    </tr>\n",
       "    <tr>\n",
       "      <th>28</th>\n",
       "      <td>1</td>\n",
       "      <td>female</td>\n",
       "      <td>29.0</td>\n",
       "      <td>0</td>\n",
       "      <td>0</td>\n",
       "      <td>7.8792</td>\n",
       "      <td>Third</td>\n",
       "      <td>NaN</td>\n",
       "      <td>Queenstown</td>\n",
       "      <td>1</td>\n",
       "    </tr>\n",
       "    <tr>\n",
       "      <th>633</th>\n",
       "      <td>0</td>\n",
       "      <td>male</td>\n",
       "      <td>29.0</td>\n",
       "      <td>0</td>\n",
       "      <td>0</td>\n",
       "      <td>0.0000</td>\n",
       "      <td>First</td>\n",
       "      <td>NaN</td>\n",
       "      <td>Southampton</td>\n",
       "      <td>1</td>\n",
       "    </tr>\n",
       "    <tr>\n",
       "      <th>403</th>\n",
       "      <td>0</td>\n",
       "      <td>male</td>\n",
       "      <td>28.0</td>\n",
       "      <td>1</td>\n",
       "      <td>0</td>\n",
       "      <td>15.8500</td>\n",
       "      <td>Third</td>\n",
       "      <td>NaN</td>\n",
       "      <td>Southampton</td>\n",
       "      <td>0</td>\n",
       "    </tr>\n",
       "  </tbody>\n",
       "</table>\n",
       "</div>"
      ],
      "text/plain": [
       "     survived     sex   age  sibsp  parch     fare  class deck  embark_town  \\\n",
       "748         0    male  19.0      1      0  53.1000  First    D  Southampton   \n",
       "45          0    male  29.0      0      0   8.0500  Third  NaN  Southampton   \n",
       "28          1  female  29.0      0      0   7.8792  Third  NaN   Queenstown   \n",
       "633         0    male  29.0      0      0   0.0000  First  NaN  Southampton   \n",
       "403         0    male  28.0      1      0  15.8500  Third  NaN  Southampton   \n",
       "\n",
       "     alone  \n",
       "748      0  \n",
       "45       1  \n",
       "28       1  \n",
       "633      1  \n",
       "403      0  "
      ]
     },
     "execution_count": 5,
     "metadata": {},
     "output_type": "execute_result"
    }
   ],
   "source": [
    "train.head()"
   ]
  },
  {
   "cell_type": "markdown",
   "id": "9919b3d3-02de-4440-a4be-84df9df398d7",
   "metadata": {},
   "source": [
    "## Does age affect survival?"
   ]
  },
  {
   "cell_type": "markdown",
   "id": "2d98c141-c811-4c61-bedd-8494856e76d6",
   "metadata": {},
   "source": [
    "**Null Hypotesis ($H0$):** Age does **NOT** affect survival\n",
    "\n",
    "**Alternative Hypotesis ($Ha$):** Age **DOES** affect survival"
   ]
  },
  {
   "cell_type": "code",
   "execution_count": 14,
   "id": "93dcc20e-70d2-4e91-bb29-13a67daf804d",
   "metadata": {},
   "outputs": [
    {
     "data": {
      "image/png": "[encoded data removed]",
      "text/plain": [
       "<Figure size 640x480 with 1 Axes>"
      ]
     },
     "metadata": {},
     "output_type": "display_data"
    }
   ],
   "source": [
    "sns.histplot(data = train, x = 'age', hue ='survived', alpha=0.4)\n",
    "plt.show()"
   ]
  },
  {
   "cell_type": "markdown",
   "id": "f089c2cf-4f98-4982-8df7-66d4b4e72300",
   "metadata": {},
   "source": [
    "Let's run a two-tailed, two-sample (independent) t-test!"
   ]
  },
  {
   "cell_type": "code",
   "execution_count": 19,
   "id": "fd5d5e9b-a608-4e19-b87f-d17321dc8be7",
   "metadata": {},
   "outputs": [
    {
     "data": {
      "text/plain": [
       "748    19.0\n",
       "45     29.0\n",
       "633    29.0\n",
       "403    28.0\n",
       "695    52.0\n",
       "       ... \n",
       "544    50.0\n",
       "680    29.0\n",
       "476    34.0\n",
       "736    48.0\n",
       "462    47.0\n",
       "Name: age, Length: 384, dtype: float64"
      ]
     },
     "execution_count": 19,
     "metadata": {},
     "output_type": "execute_result"
    }
   ],
   "source": [
    "# we have the distribution of ages for everyone who passed away.\n",
    "train[train.survived == 0].age "
   ]
  },
  {
   "cell_type": "code",
   "execution_count": 22,
   "id": "1b116690-b5ea-4ce7-a704-cddcac0079ba",
   "metadata": {},
   "outputs": [
    {
     "data": {
      "text/plain": [
       "(2.3909581216339655, 0.017101259242307446)"
      ]
     },
     "execution_count": 22,
     "metadata": {},
     "output_type": "execute_result"
    }
   ],
   "source": [
    "t_age, p_age = stats.ttest_ind(train[train.survived == 0].age, train[train.survived == 1].age)\n",
    "t_age, p_age"
   ]
  },
  {
   "cell_type": "code",
   "execution_count": 23,
   "id": "7232ab5c-8669-436f-a4c1-30309b19de76",
   "metadata": {},
   "outputs": [],
   "source": [
    "# we are not going to consider t-value, we are going to evaluate the p-value to continue"
   ]
  },
  {
   "cell_type": "code",
   "execution_count": 51,
   "id": "034f8d39-0578-4fda-b9a5-16294262c8ce",
   "metadata": {},
   "outputs": [],
   "source": [
    "def eval_p(p, a =0.05):\n",
    "\n",
    "    if p < a:\n",
    "\n",
    "        print(f'The result is significant, we reject the null hypothesis with a p-value of {round(p, 2)}.')\n",
    "\n",
    "    else:\n",
    "\n",
    "        print(f'We failed to reject the null hypothesis with a p-value of {round(p, 2)}.')"
   ]
  },
  {
   "cell_type": "code",
   "execution_count": 52,
   "id": "97c29f62-b827-4131-b515-a65be837269a",
   "metadata": {},
   "outputs": [
    {
     "name": "stdout",
     "output_type": "stream",
     "text": [
      "The result is significant, we reject the null hypothesis with a p-value of 0.02.\n"
     ]
    }
   ],
   "source": [
    "eval_p(p_age)"
   ]
  },
  {
   "cell_type": "markdown",
   "id": "453d280d-5f96-4cbc-b66f-c2b060a1cdba",
   "metadata": {},
   "source": [
    "## Takeaway\n",
    "\n",
    "**We can conclude that the age does affect the outcome! Looking at the chart, children five and younger had a great chance to survive in the sinking of the Titanic. It looks like at least half the saying \"Women and children first!\" came true.**"
   ]
  },
  {
   "cell_type": "markdown",
   "id": "c7e53d8e-82a7-4d41-916b-e668e2945ce1",
   "metadata": {},
   "source": [
    "## -----------------------------------------------------------------------"
   ]
  },
  {
   "cell_type": "code",
   "execution_count": 29,
   "id": "16d4b106-f74b-4598-a20e-2893e294668a",
   "metadata": {},
   "outputs": [
    {
     "data": {
      "text/html": [
       "<div>\n",
       "<style scoped>\n",
       "    .dataframe tbody tr th:only-of-type {\n",
       "        vertical-align: middle;\n",
       "    }\n",
       "\n",
       "    .dataframe tbody tr th {\n",
       "        vertical-align: top;\n",
       "    }\n",
       "\n",
       "    .dataframe thead th {\n",
       "        text-align: right;\n",
       "    }\n",
       "</style>\n",
       "<table border=\"1\" class=\"dataframe\">\n",
       "  <thead>\n",
       "    <tr style=\"text-align: right;\">\n",
       "      <th></th>\n",
       "      <th>survived</th>\n",
       "      <th>sex</th>\n",
       "      <th>age</th>\n",
       "      <th>sibsp</th>\n",
       "      <th>parch</th>\n",
       "      <th>fare</th>\n",
       "      <th>class</th>\n",
       "      <th>deck</th>\n",
       "      <th>embark_town</th>\n",
       "      <th>alone</th>\n",
       "    </tr>\n",
       "  </thead>\n",
       "  <tbody>\n",
       "    <tr>\n",
       "      <th>748</th>\n",
       "      <td>0</td>\n",
       "      <td>male</td>\n",
       "      <td>19.0</td>\n",
       "      <td>1</td>\n",
       "      <td>0</td>\n",
       "      <td>53.1000</td>\n",
       "      <td>First</td>\n",
       "      <td>D</td>\n",
       "      <td>Southampton</td>\n",
       "      <td>0</td>\n",
       "    </tr>\n",
       "    <tr>\n",
       "      <th>45</th>\n",
       "      <td>0</td>\n",
       "      <td>male</td>\n",
       "      <td>29.0</td>\n",
       "      <td>0</td>\n",
       "      <td>0</td>\n",
       "      <td>8.0500</td>\n",
       "      <td>Third</td>\n",
       "      <td>NaN</td>\n",
       "      <td>Southampton</td>\n",
       "      <td>1</td>\n",
       "    </tr>\n",
       "    <tr>\n",
       "      <th>28</th>\n",
       "      <td>1</td>\n",
       "      <td>female</td>\n",
       "      <td>29.0</td>\n",
       "      <td>0</td>\n",
       "      <td>0</td>\n",
       "      <td>7.8792</td>\n",
       "      <td>Third</td>\n",
       "      <td>NaN</td>\n",
       "      <td>Queenstown</td>\n",
       "      <td>1</td>\n",
       "    </tr>\n",
       "    <tr>\n",
       "      <th>633</th>\n",
       "      <td>0</td>\n",
       "      <td>male</td>\n",
       "      <td>29.0</td>\n",
       "      <td>0</td>\n",
       "      <td>0</td>\n",
       "      <td>0.0000</td>\n",
       "      <td>First</td>\n",
       "      <td>NaN</td>\n",
       "      <td>Southampton</td>\n",
       "      <td>1</td>\n",
       "    </tr>\n",
       "    <tr>\n",
       "      <th>403</th>\n",
       "      <td>0</td>\n",
       "      <td>male</td>\n",
       "      <td>28.0</td>\n",
       "      <td>1</td>\n",
       "      <td>0</td>\n",
       "      <td>15.8500</td>\n",
       "      <td>Third</td>\n",
       "      <td>NaN</td>\n",
       "      <td>Southampton</td>\n",
       "      <td>0</td>\n",
       "    </tr>\n",
       "  </tbody>\n",
       "</table>\n",
       "</div>"
      ],
      "text/plain": [
       "     survived     sex   age  sibsp  parch     fare  class deck  embark_town  \\\n",
       "748         0    male  19.0      1      0  53.1000  First    D  Southampton   \n",
       "45          0    male  29.0      0      0   8.0500  Third  NaN  Southampton   \n",
       "28          1  female  29.0      0      0   7.8792  Third  NaN   Queenstown   \n",
       "633         0    male  29.0      0      0   0.0000  First  NaN  Southampton   \n",
       "403         0    male  28.0      1      0  15.8500  Third  NaN  Southampton   \n",
       "\n",
       "     alone  \n",
       "748      0  \n",
       "45       1  \n",
       "28       1  \n",
       "633      1  \n",
       "403      0  "
      ]
     },
     "execution_count": 29,
     "metadata": {},
     "output_type": "execute_result"
    }
   ],
   "source": [
    "train.head()"
   ]
  },
  {
   "cell_type": "markdown",
   "id": "ecd52d6f-fc71-45fc-bb85-823256690745",
   "metadata": {},
   "source": [
    "# Did the sex of the passenger affect their chance of survival"
   ]
  },
  {
   "cell_type": "markdown",
   "id": "f503b66a-b7f8-462c-bdf3-72597a5157c8",
   "metadata": {},
   "source": [
    "**Null Hypotesis ($H0$):** The sex of the passenger has no relation to their chance of survival.\n",
    "\n",
    "**Alternative Hypotesis ($Ha$):** The sex of the passenger is related to their chance of survival."
   ]
  },
  {
   "cell_type": "code",
   "execution_count": 34,
   "id": "9281ae61-fd87-4b7a-bbf3-56a2340df5a5",
   "metadata": {
    "scrolled": true
   },
   "outputs": [
    {
     "data": {
      "image/png": "[encoded data removed]",
      "text/plain": [
       "<Figure size 640x480 with 1 Axes>"
      ]
     },
     "metadata": {},
     "output_type": "display_data"
    }
   ],
   "source": [
    "sns.countplot(data = train, x = 'sex', hue = 'survived')\n",
    "plt.show()"
   ]
  },
  {
   "cell_type": "markdown",
   "id": "9660046c-add4-45ce-b615-75af93c6d9bc",
   "metadata": {},
   "source": [
    "### We will run a chi2 test for group membership"
   ]
  },
  {
   "cell_type": "code",
   "execution_count": 40,
   "id": "aede5f1c-9932-411d-a79f-9fc8f82df2b1",
   "metadata": {},
   "outputs": [
    {
     "data": {
      "text/html": [
       "<div>\n",
       "<style scoped>\n",
       "    .dataframe tbody tr th:only-of-type {\n",
       "        vertical-align: middle;\n",
       "    }\n",
       "\n",
       "    .dataframe tbody tr th {\n",
       "        vertical-align: top;\n",
       "    }\n",
       "\n",
       "    .dataframe thead th {\n",
       "        text-align: right;\n",
       "    }\n",
       "</style>\n",
       "<table border=\"1\" class=\"dataframe\">\n",
       "  <thead>\n",
       "    <tr style=\"text-align: right;\">\n",
       "      <th>survived</th>\n",
       "      <th>0</th>\n",
       "      <th>1</th>\n",
       "    </tr>\n",
       "    <tr>\n",
       "      <th>sex</th>\n",
       "      <th></th>\n",
       "      <th></th>\n",
       "    </tr>\n",
       "  </thead>\n",
       "  <tbody>\n",
       "    <tr>\n",
       "      <th>female</th>\n",
       "      <td>54</td>\n",
       "      <td>163</td>\n",
       "    </tr>\n",
       "    <tr>\n",
       "      <th>male</th>\n",
       "      <td>330</td>\n",
       "      <td>76</td>\n",
       "    </tr>\n",
       "  </tbody>\n",
       "</table>\n",
       "</div>"
      ],
      "text/plain": [
       "survived    0    1\n",
       "sex               \n",
       "female     54  163\n",
       "male      330   76"
      ]
     },
     "execution_count": 40,
     "metadata": {},
     "output_type": "execute_result"
    }
   ],
   "source": [
    "ss_ct = pd.crosstab(train.sex, train.survived)\n",
    "ss_ct"
   ]
  },
  {
   "cell_type": "code",
   "execution_count": 44,
   "id": "85de713b-d5cf-44e0-a7aa-95f7942c29f1",
   "metadata": {},
   "outputs": [
    {
     "data": {
      "image/png": "[encoded data removed]",
      "text/plain": [
       "<Figure size 640x480 with 2 Axes>"
      ]
     },
     "metadata": {},
     "output_type": "display_data"
    }
   ],
   "source": [
    "sns.heatmap(ss_ct)\n",
    "plt.show()"
   ]
  },
  {
   "cell_type": "code",
   "execution_count": 53,
   "id": "d9b1cf46-2697-418a-b143-d1e4911bf868",
   "metadata": {},
   "outputs": [
    {
     "name": "stdout",
     "output_type": "stream",
     "text": [
      "The result is significant, we reject the null hypothesis with a p-value of 0.0.\n"
     ]
    }
   ],
   "source": [
    "chi2, p_ss, degf, expected = stats.chi2_contingency(ss_ct)\n",
    "eval_p(p_ss)"
   ]
  },
  {
   "cell_type": "markdown",
   "id": "92a95b9f-715b-4952-80bf-a82e9f03f466",
   "metadata": {},
   "source": [
    "## Takeaway\n",
    "\n",
    "**We conclude that there is a significant relationship between sex and survival! Looking at our countplot, we see that females had a much higher rate of survival. The other half of \"women and children first\" was true for the Titanic**"
   ]
  },
  {
   "cell_type": "markdown",
   "id": "bac7dbea-e350-4686-8e18-5ec16da08e30",
   "metadata": {},
   "source": [
    "## Exploration Summary\n",
    "\n",
    "- I discovered that age affected survival! Children 5 and younger appeared to survive at higher rates than the rest of the passengers.\n",
    "  \n",
    "- I discovered that sex affected survival! The female passengers survived at a much higher rate than the make passengers. Female passengers had a ~75% survival rate and male passengers had a ~20% survival rate."
   ]
  }
 ],
 "metadata": {
  "kernelspec": {
   "display_name": "Python 3 (ipykernel)",
   "language": "python",
   "name": "python3"
  },
  "language_info": {
   "codemirror_mode": {
    "name": "ipython",
    "version": 3
   },
   "file_extension": ".py",
   "mimetype": "text/x-python",
   "name": "python",
   "nbconvert_exporter": "python",
   "pygments_lexer": "ipython3",
   "version": "3.10.12"
  }
 },
 "nbformat": 4,
 "nbformat_minor": 5
}
