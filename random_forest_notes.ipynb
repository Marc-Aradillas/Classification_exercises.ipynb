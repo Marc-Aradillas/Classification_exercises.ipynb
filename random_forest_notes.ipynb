{
 "cells": [
  {
   "cell_type": "markdown",
   "id": "c6cc1e53-4dd7-4e1d-9d01-9449f3f64727",
   "metadata": {},
   "source": [
    "# Random Forest\n",
    "\n",
    "- **What is a Random Forest?**\n",
    "\n",
    "Random Forest is a type Ensemble Machine Learning algorithm called Bootstrap Aggregation or bagging."
   ]
  },
  {
   "cell_type": "markdown",
   "id": "f24da5bb-f889-4f6e-b235-9d917b971669",
   "metadata": {},
   "source": [
    "### How does it work?\n",
    "\n",
    "- **Bootstrapping** is a statistical method for estimating a quantity from a data sample, e.g. mean. You take lots of samples of your data, calculate the mean, then average all of your mean values to give you a better estimation of the true mean value. In bagging, the same approach is used for estimating entire statistical models, such as decision trees. Multiple samples of your training data are taken and models are constructed for each sample set. When you need to make a prediction for new data, each model makes a prediction and the **predictions are averaged** to give a better estimate of the true output value.\n",
    "\n",
    "- Random forest is a tweak on this approach where decision trees are created so that rather than selecting optimal split points, suboptimal splits are made by introducing randomness. The models created for each sample of the data are therefore more different than they otherwise would be, but still accurate in their unique and different ways. Combining their predictions results in a better estimate of the true underlying output value.\n",
    "\n",
    "- In the example below, \"Will I exercise\", \"I\" am a single observation. Each person is an observation. The model takes each observation through the forest and votes on the most frequent class for that observation to get a final prediction."
   ]
  },
  {
   "cell_type": "markdown",
   "id": "4e5a7741-10a2-4b04-bbd3-b3689ce2ae73",
   "metadata": {},
   "source": [
    "- **Pros**\n",
    "  \n",
    "  - Reduction in over-fitting\n",
    "\n",
    "  - More accurate than decision trees in most cases\n",
    "\n",
    "  - Naturally performs feature selection\n",
    "\n",
    "- **Cons**\n",
    "\n",
    "    - Slow real time prediction\n",
    "\n",
    "    - Difficult to implement\n",
    "\n",
    "     - Complex algorithm so difficult to explain\n",
    "\n"
   ]
  },
  {
   "cell_type": "code",
   "execution_count": 2,
   "id": "cf358696-1b63-46af-943d-4672ff6f52e1",
   "metadata": {},
   "outputs": [
    {
     "data": {
      "text/html": [
       "<div>\n",
       "<style scoped>\n",
       "    .dataframe tbody tr th:only-of-type {\n",
       "        vertical-align: middle;\n",
       "    }\n",
       "\n",
       "    .dataframe tbody tr th {\n",
       "        vertical-align: top;\n",
       "    }\n",
       "\n",
       "    .dataframe thead th {\n",
       "        text-align: right;\n",
       "    }\n",
       "</style>\n",
       "<table border=\"1\" class=\"dataframe\">\n",
       "  <thead>\n",
       "    <tr style=\"text-align: right;\">\n",
       "      <th></th>\n",
       "      <th>sepal_length</th>\n",
       "      <th>sepal_width</th>\n",
       "      <th>petal_length</th>\n",
       "      <th>petal_width</th>\n",
       "      <th>species</th>\n",
       "    </tr>\n",
       "  </thead>\n",
       "  <tbody>\n",
       "    <tr>\n",
       "      <th>1</th>\n",
       "      <td>5.1</td>\n",
       "      <td>3.5</td>\n",
       "      <td>1.4</td>\n",
       "      <td>0.2</td>\n",
       "      <td>setosa</td>\n",
       "    </tr>\n",
       "    <tr>\n",
       "      <th>2</th>\n",
       "      <td>4.9</td>\n",
       "      <td>3.0</td>\n",
       "      <td>1.4</td>\n",
       "      <td>0.2</td>\n",
       "      <td>setosa</td>\n",
       "    </tr>\n",
       "    <tr>\n",
       "      <th>3</th>\n",
       "      <td>4.7</td>\n",
       "      <td>3.2</td>\n",
       "      <td>1.3</td>\n",
       "      <td>0.2</td>\n",
       "      <td>setosa</td>\n",
       "    </tr>\n",
       "    <tr>\n",
       "      <th>4</th>\n",
       "      <td>4.6</td>\n",
       "      <td>3.1</td>\n",
       "      <td>1.5</td>\n",
       "      <td>0.2</td>\n",
       "      <td>setosa</td>\n",
       "    </tr>\n",
       "    <tr>\n",
       "      <th>5</th>\n",
       "      <td>5.0</td>\n",
       "      <td>3.6</td>\n",
       "      <td>1.4</td>\n",
       "      <td>0.2</td>\n",
       "      <td>setosa</td>\n",
       "    </tr>\n",
       "  </tbody>\n",
       "</table>\n",
       "</div>"
      ],
      "text/plain": [
       "   sepal_length  sepal_width  petal_length  petal_width species\n",
       "1           5.1          3.5           1.4          0.2  setosa\n",
       "2           4.9          3.0           1.4          0.2  setosa\n",
       "3           4.7          3.2           1.3          0.2  setosa\n",
       "4           4.6          3.1           1.5          0.2  setosa\n",
       "5           5.0          3.6           1.4          0.2  setosa"
      ]
     },
     "execution_count": 2,
     "metadata": {},
     "output_type": "execute_result"
    }
   ],
   "source": [
    "# ignore warnings\n",
    "import warnings\n",
    "warnings.filterwarnings(\"ignore\")\n",
    "\n",
    "import numpy as np\n",
    "\n",
    "from sklearn.model_selection import train_test_split\n",
    "from sklearn.ensemble import RandomForestClassifier\n",
    "from sklearn.metrics import classification_report\n",
    "from sklearn.metrics import confusion_matrix\n",
    "\n",
    "\n",
    "import matplotlib.pyplot as plt\n",
    "%matplotlib inline\n",
    "import seaborn as sns\n",
    "\n",
    "\n",
    "from pydataset import data\n",
    "\n",
    "# read Iris data from pydatset\n",
    "df = data('iris')\n",
    "\n",
    "# convert column names to lowercase, replace '.' in column names with '_'\n",
    "df.columns = [col.lower().replace('.', '_') for col in df]\n",
    "\n",
    "df.head()"
   ]
  },
  {
   "cell_type": "markdown",
   "id": "dd51dcc2-9d8d-4c4d-b19f-b97381aea58b",
   "metadata": {},
   "source": [
    "## Train Validate Test\n",
    "\n",
    "**Now we'll do our train/validate/test split:**\n",
    "\n",
    "- We'll do exploration and train our model on the train data\n",
    "\n",
    "- We tune our model on validate, since it will be out-of-sample until we use it.\n",
    "\n",
    "- And keep the test nice and safe and separate, for our final out-of-sample dataset, to see how well our tuned model performs on new data."
   ]
  },
  {
   "cell_type": "code",
   "execution_count": 3,
   "id": "70bec803-3a37-4f17-bff0-fb933dc15a24",
   "metadata": {},
   "outputs": [],
   "source": [
    "from sklearn.model_selection import train_test_split\n",
    "\n",
    "def train_validate_test_split(df, target, seed=123):\n",
    "    '''\n",
    "    This function takes in a dataframe, the name of the target variable\n",
    "    (for stratification purposes), and an integer for a setting a seed\n",
    "    and splits the data into train, validate and test. \n",
    "    Test is 20% of the original dataset, validate is .30*.80= 24% of the \n",
    "    original dataset, and train is .70*.80= 56% of the original dataset. \n",
    "    The function returns, in this order, train, validate and test dataframes. \n",
    "    '''\n",
    "    train_validate, test = train_test_split(df, test_size=0.2, \n",
    "                                            random_state=seed, \n",
    "                                            stratify=df[target])\n",
    "    train, validate = train_test_split(train_validate, test_size=0.3, \n",
    "                                       random_state=seed,\n",
    "                                       stratify=train_validate[target])\n",
    "    return train, validate, test\n"
   ]
  },
  {
   "cell_type": "code",
   "execution_count": 4,
   "id": "47913532-d24b-4913-9d9b-1bed230b2e1f",
   "metadata": {},
   "outputs": [],
   "source": [
    "# split into train, validate, test\n",
    "train, validate, test = train_validate_test_split(df, target='species', seed=123)\n",
    "\n",
    "# create X & y version of train, where y is a series with just the target variable and X are all the features. \n",
    "\n",
    "X_train = train.drop(columns=['species'])\n",
    "y_train = train.species\n",
    "\n",
    "X_validate = validate.drop(columns=['species'])\n",
    "y_validate = validate.species\n",
    "\n",
    "X_test = test.drop(columns=['species'])\n",
    "y_test = test.species\n"
   ]
  },
  {
   "cell_type": "markdown",
   "id": "0f171b13-4015-47aa-8bf8-30565c567edc",
   "metadata": {},
   "source": [
    "## Train Model\n",
    "\n",
    "**Create the object**\n",
    "\n",
    "Create the Random Forest object with desired hyper-parameters.\n",
    "\n",
    "Model parameters and default values for class sklearn.ensemble.RandomForestClassifier\n",
    "\n",
    "- n_estimators=’warn’\n",
    "- criterion=’gini’\n",
    "- max_depth=None\n",
    "- min_samples_split=2\n",
    "- min_samples_leaf=1\n",
    "- min_weight_fraction_leaf=0.0\n",
    "- max_features=’auto’\n",
    "- max_leaf_nodes=None\n",
    "- min_impurity_decrease=0.0\n",
    "- min_impurity_split=None\n",
    "- bootstrap=True\n",
    "- oob_score=False\n",
    "- n_jobs=None\n",
    "- random_state=None\n",
    "- verbose=0\n",
    "- warm_start=False\n",
    "- class_weight=None\n",
    "\n",
    "All of these can be passed as key word arguments to RandomForestClassifier"
   ]
  },
  {
   "cell_type": "code",
   "execution_count": 5,
   "id": "024dc7ae-32eb-453c-b5cc-8ff1248e227b",
   "metadata": {},
   "outputs": [],
   "source": [
    "rf = RandomForestClassifier(bootstrap=True, \n",
    "                            class_weight=None, \n",
    "                            criterion='gini',\n",
    "                            min_samples_leaf=3,\n",
    "                            n_estimators=100,\n",
    "                            max_depth=3, \n",
    "                            random_state=123)"
   ]
  },
  {
   "cell_type": "markdown",
   "id": "f3615ada-615e-4fa0-866d-d0115c0d37a0",
   "metadata": {},
   "source": [
    "## Fit the model\n",
    "\n",
    "Fit the random forest algorithm to the training data."
   ]
  },
  {
   "cell_type": "code",
   "execution_count": 6,
   "id": "f6e823d5-1676-4f59-a740-63fab144ea51",
   "metadata": {},
   "outputs": [
    {
     "data": {
      "text/html": [
       "<style>#sk-container-id-1 {color: black;background-color: white;}#sk-container-id-1 pre{padding: 0;}#sk-container-id-1 div.sk-toggleable {background-color: white;}#sk-container-id-1 label.sk-toggleable__label {cursor: pointer;display: block;width: 100%;margin-bottom: 0;padding: 0.3em;box-sizing: border-box;text-align: center;}#sk-container-id-1 label.sk-toggleable__label-arrow:before {content: \"▸\";float: left;margin-right: 0.25em;color: #696969;}#sk-container-id-1 label.sk-toggleable__label-arrow:hover:before {color: black;}#sk-container-id-1 div.sk-estimator:hover label.sk-toggleable__label-arrow:before {color: black;}#sk-container-id-1 div.sk-toggleable__content {max-height: 0;max-width: 0;overflow: hidden;text-align: left;background-color: #f0f8ff;}#sk-container-id-1 div.sk-toggleable__content pre {margin: 0.2em;color: black;border-radius: 0.25em;background-color: #f0f8ff;}#sk-container-id-1 input.sk-toggleable__control:checked~div.sk-toggleable__content {max-height: 200px;max-width: 100%;overflow: auto;}#sk-container-id-1 input.sk-toggleable__control:checked~label.sk-toggleable__label-arrow:before {content: \"▾\";}#sk-container-id-1 div.sk-estimator input.sk-toggleable__control:checked~label.sk-toggleable__label {background-color: #d4ebff;}#sk-container-id-1 div.sk-label input.sk-toggleable__control:checked~label.sk-toggleable__label {background-color: #d4ebff;}#sk-container-id-1 input.sk-hidden--visually {border: 0;clip: rect(1px 1px 1px 1px);clip: rect(1px, 1px, 1px, 1px);height: 1px;margin: -1px;overflow: hidden;padding: 0;position: absolute;width: 1px;}#sk-container-id-1 div.sk-estimator {font-family: monospace;background-color: #f0f8ff;border: 1px dotted black;border-radius: 0.25em;box-sizing: border-box;margin-bottom: 0.5em;}#sk-container-id-1 div.sk-estimator:hover {background-color: #d4ebff;}#sk-container-id-1 div.sk-parallel-item::after {content: \"\";width: 100%;border-bottom: 1px solid gray;flex-grow: 1;}#sk-container-id-1 div.sk-label:hover label.sk-toggleable__label {background-color: #d4ebff;}#sk-container-id-1 div.sk-serial::before {content: \"\";position: absolute;border-left: 1px solid gray;box-sizing: border-box;top: 0;bottom: 0;left: 50%;z-index: 0;}#sk-container-id-1 div.sk-serial {display: flex;flex-direction: column;align-items: center;background-color: white;padding-right: 0.2em;padding-left: 0.2em;position: relative;}#sk-container-id-1 div.sk-item {position: relative;z-index: 1;}#sk-container-id-1 div.sk-parallel {display: flex;align-items: stretch;justify-content: center;background-color: white;position: relative;}#sk-container-id-1 div.sk-item::before, #sk-container-id-1 div.sk-parallel-item::before {content: \"\";position: absolute;border-left: 1px solid gray;box-sizing: border-box;top: 0;bottom: 0;left: 50%;z-index: -1;}#sk-container-id-1 div.sk-parallel-item {display: flex;flex-direction: column;z-index: 1;position: relative;background-color: white;}#sk-container-id-1 div.sk-parallel-item:first-child::after {align-self: flex-end;width: 50%;}#sk-container-id-1 div.sk-parallel-item:last-child::after {align-self: flex-start;width: 50%;}#sk-container-id-1 div.sk-parallel-item:only-child::after {width: 0;}#sk-container-id-1 div.sk-dashed-wrapped {border: 1px dashed gray;margin: 0 0.4em 0.5em 0.4em;box-sizing: border-box;padding-bottom: 0.4em;background-color: white;}#sk-container-id-1 div.sk-label label {font-family: monospace;font-weight: bold;display: inline-block;line-height: 1.2em;}#sk-container-id-1 div.sk-label-container {text-align: center;}#sk-container-id-1 div.sk-container {/* jupyter's `normalize.less` sets `[hidden] { display: none; }` but bootstrap.min.css set `[hidden] { display: none !important; }` so we also need the `!important` here to be able to override the default hidden behavior on the sphinx rendered scikit-learn.org. See: https://github.com/scikit-learn/scikit-learn/issues/21755 */display: inline-block !important;position: relative;}#sk-container-id-1 div.sk-text-repr-fallback {display: none;}</style><div id=\"sk-container-id-1\" class=\"sk-top-container\"><div class=\"sk-text-repr-fallback\"><pre>RandomForestClassifier(max_depth=3, min_samples_leaf=3, random_state=123)</pre><b>In a Jupyter environment, please rerun this cell to show the HTML representation or trust the notebook. <br />On GitHub, the HTML representation is unable to render, please try loading this page with nbviewer.org.</b></div><div class=\"sk-container\" hidden><div class=\"sk-item\"><div class=\"sk-estimator sk-toggleable\"><input class=\"sk-toggleable__control sk-hidden--visually\" id=\"sk-estimator-id-1\" type=\"checkbox\" checked><label for=\"sk-estimator-id-1\" class=\"sk-toggleable__label sk-toggleable__label-arrow\">RandomForestClassifier</label><div class=\"sk-toggleable__content\"><pre>RandomForestClassifier(max_depth=3, min_samples_leaf=3, random_state=123)</pre></div></div></div></div></div>"
      ],
      "text/plain": [
       "RandomForestClassifier(max_depth=3, min_samples_leaf=3, random_state=123)"
      ]
     },
     "execution_count": 6,
     "metadata": {},
     "output_type": "execute_result"
    }
   ],
   "source": [
    "rf.fit(X_train, y_train)"
   ]
  },
  {
   "cell_type": "markdown",
   "id": "0dcdd3b6-6732-4ca0-a623-d3a517e69828",
   "metadata": {},
   "source": [
    "## Feature Importance\n",
    "\n",
    "Evaluate importance, or weight, of each feature."
   ]
  },
  {
   "cell_type": "code",
   "execution_count": 7,
   "id": "a456e479-bf2f-455a-94ce-3a9913cced60",
   "metadata": {},
   "outputs": [
    {
     "name": "stdout",
     "output_type": "stream",
     "text": [
      "[0.08209193 0.02845967 0.47781398 0.41163442]\n"
     ]
    }
   ],
   "source": [
    "print(rf.feature_importances_)"
   ]
  },
  {
   "cell_type": "markdown",
   "id": "3c14fa65-de48-457c-bf7c-142e6fc6ff51",
   "metadata": {},
   "source": [
    "## Make Predictions\n",
    "\n",
    "Classify each flower by its estimated species."
   ]
  },
  {
   "cell_type": "code",
   "execution_count": 8,
   "id": "9bc65041-9bba-4c0e-b173-0f85b1d9b7e7",
   "metadata": {},
   "outputs": [],
   "source": [
    "y_pred = rf.predict(X_train)"
   ]
  },
  {
   "cell_type": "markdown",
   "id": "18b41bb6-6974-4dda-b0e1-a5daec06a5b4",
   "metadata": {},
   "source": [
    "## Estimate Probability\n",
    "\n",
    "Estimate the probability of each species, using the training data."
   ]
  },
  {
   "cell_type": "code",
   "execution_count": 9,
   "id": "701ec12f-4d3f-438f-b4d8-4b66349660e6",
   "metadata": {},
   "outputs": [],
   "source": [
    "y_pred_proba = rf.predict_proba(X_train)"
   ]
  },
  {
   "cell_type": "markdown",
   "id": "2b4c5996-08c0-4198-85f0-d13441c085e1",
   "metadata": {},
   "source": [
    "## Evaluate Model\n",
    "\n",
    "Compute the Accuracy"
   ]
  },
  {
   "cell_type": "code",
   "execution_count": 11,
   "id": "ea75adf4-fbee-41e7-ac7c-31dc20189348",
   "metadata": {},
   "outputs": [
    {
     "name": "stdout",
     "output_type": "stream",
     "text": [
      "Accuracy of random forest classifier on training set: 0.98\n"
     ]
    }
   ],
   "source": [
    "print('Accuracy of random forest classifier on training set: {:.2f}'\n",
    "     .format(rf.score(X_train, y_train)))\n"
   ]
  },
  {
   "cell_type": "markdown",
   "id": "1b3482ed-5077-4a02-9eab-73a9295f4fdb",
   "metadata": {},
   "source": [
    "Confusion Marix:"
   ]
  },
  {
   "cell_type": "code",
   "execution_count": 13,
   "id": "b03ec2f3-4888-4066-9c10-c656a0bb3a6c",
   "metadata": {},
   "outputs": [
    {
     "name": "stdout",
     "output_type": "stream",
     "text": [
      "[[28  0  0]\n",
      " [ 0 26  2]\n",
      " [ 0  0 28]]\n"
     ]
    }
   ],
   "source": [
    "print(confusion_matrix(y_train, y_pred))"
   ]
  },
  {
   "cell_type": "markdown",
   "id": "8ad69a5a-8334-4135-92c8-828be45b4da7",
   "metadata": {},
   "source": [
    "Create a classificaiton report\n",
    "\n",
    "Precision: \n",
    "T\n",
    "P \n",
    "/ \n",
    "(\n",
    "T\n",
    "P\n",
    "+\n",
    "F\n",
    "P\n",
    ")\n",
    "\n",
    "Recall: \n",
    "T\n",
    "P\n",
    "/\n",
    "(\n",
    "T\n",
    "P\n",
    "+\n",
    "F\n",
    "N\n",
    ")\n",
    "\n",
    "F1-Score: A measure of accuracy. The harmonic mean of precision & recall. The harmonic mean is the reciprocal of the arithmetic mean of the reciprocals.\n",
    "\n",
    "F1 \n",
    "∈\n",
    "[\n",
    "0\n",
    ",\n",
    "1\n",
    "]\n",
    "\n",
    "F1-score = harmonic mean = \n",
    "2\n",
    "/\n",
    "1\n",
    "p\n",
    "r\n",
    "e\n",
    "c\n",
    "i\n",
    "s\n",
    "i\n",
    "o\n",
    "n\n",
    "+\n",
    "1\n",
    "r\n",
    "e\n",
    "c\n",
    "a\n",
    "l\n",
    "l\n",
    "\n",
    "Support: number of occurrences of each class."
   ]
  },
  {
   "cell_type": "code",
   "execution_count": 14,
   "id": "08bffec5-97a4-4cdf-9deb-57eb04ad7fc4",
   "metadata": {},
   "outputs": [
    {
     "name": "stdout",
     "output_type": "stream",
     "text": [
      "              precision    recall  f1-score   support\n",
      "\n",
      "      setosa       1.00      1.00      1.00        28\n",
      "  versicolor       1.00      0.93      0.96        28\n",
      "   virginica       0.93      1.00      0.97        28\n",
      "\n",
      "    accuracy                           0.98        84\n",
      "   macro avg       0.98      0.98      0.98        84\n",
      "weighted avg       0.98      0.98      0.98        84\n",
      "\n"
     ]
    }
   ],
   "source": [
    "print(classification_report(y_train, y_pred))"
   ]
  },
  {
   "cell_type": "markdown",
   "id": "f467fb02-6360-41b2-be13-3a1a95abcf3a",
   "metadata": {},
   "source": [
    "## Validate Model\n",
    "\n",
    "**Evaluate on Out-of-Sample data**\n",
    "\n",
    "Compute the accuracy of the model when run on the validate dataset."
   ]
  },
  {
   "cell_type": "code",
   "execution_count": 15,
   "id": "1d216036-3748-46b1-82f8-c9af29f89fac",
   "metadata": {},
   "outputs": [
    {
     "name": "stdout",
     "output_type": "stream",
     "text": [
      "Accuracy of random forest classifier on test set: 0.97\n"
     ]
    }
   ],
   "source": [
    "print('Accuracy of random forest classifier on test set: {:.2f}'\n",
    "     .format(rf.score(X_validate, y_validate)))"
   ]
  }
 ],
 "metadata": {
  "kernelspec": {
   "display_name": "Python 3 (ipykernel)",
   "language": "python",
   "name": "python3"
  },
  "language_info": {
   "codemirror_mode": {
    "name": "ipython",
    "version": 3
   },
   "file_extension": ".py",
   "mimetype": "text/x-python",
   "name": "python",
   "nbconvert_exporter": "python",
   "pygments_lexer": "ipython3",
   "version": "3.10.9"
  }
 },
 "nbformat": 4,
 "nbformat_minor": 5
}
